{
 "cells": [
  {
   "cell_type": "markdown",
   "metadata": {},
   "source": [
    "# HW4 : A visit to the movie zoo!\n",
    "\n",
    "![](https://vignette.wikia.nocookie.net/bojackhorseman/images/f/f2/HSACWDTK%3FDTKT%3FLFO%21%21.png/revision/latest?cb=20150720050503)"
   ]
  },
  {
   "cell_type": "markdown",
   "metadata": {},
   "source": [
    "## Task\n",
    "In this homework, your task is to visualize THREE non-typical charts on anything related to your favorite **movie star!**\n",
    "This means you CANNOT use the Big 4 chart types or their close variants (i.e. Pie, Bar, Line and Scatter, Area, etc.)\n",
    "\n",
    "You are free to use any other chart type whether or not they were covered in class!\n",
    "The lecture on Visit To The Zoo is a good place to start to get ideas on what kinds of charts exist.\n",
    "\n",
    "For the data, you are free to use any data source you deem fit.\n",
    "For charting, we will NOT be constraining the technology you use. \n",
    "You are free to produce the charts in any way you would like.\n",
    "\n",
    "You will be judged on\n",
    "* Creativity\n",
    "* Presentation Quality\n",
    "* Data Quality (Did your visualization reveal something interesting?)\n",
    "\n",
    "For extra credit, you can make a fully interactive visualization."
   ]
  },
  {
   "cell_type": "markdown",
   "metadata": {},
   "source": [
    "## Ideas for Data Collection\n",
    "\n",
    "Here, we show an example of how to collect data about Arnold Schwarzenegger!\n",
    "Do note that this is just an example of the kind of data you can collect.\n",
    "You are **NOT** constrained\n",
    "* To the same movie star (you can pick your own!)\n",
    "* To the same *kind* of data\n",
    "* To the same data sources\n",
    "* or to anything else!\n",
    "\n",
    "This assignment gives you the power to do what you like!"
   ]
  },
  {
   "cell_type": "code",
   "execution_count": 32,
   "metadata": {},
   "outputs": [],
   "source": [
    "from imdbpie import ImdbFacade\n",
    "from IPython.core.display import display, HTML\n",
    "from bs4 import BeautifulSoup\n",
    "import urllib.request\n",
    "import re\n",
    "import pandas as pd\n",
    "\n",
    "import seaborn as sns\n",
    "import plotly.express as px\n",
    "import matplotlib as plt\n",
    "\n",
    "import chart_studio\n",
    "import chart_studio.plotly as py\n",
    "import chart_studio.tools as tls"
   ]
  },
  {
   "cell_type": "markdown",
   "metadata": {},
   "source": [
    "#### Get data for Arnold Schwarzenegger"
   ]
  },
  {
   "cell_type": "code",
   "execution_count": null,
   "metadata": {},
   "outputs": [],
   "source": [
    "# Get an instance of IMDb class\n",
    "imdb = ImdbFacade()\n",
    "\n",
    "# Search for Arnold Schwarzenegger\n",
    "people = imdb.search_for_name('Arnold Schwarzenegger')\n",
    "print(people)"
   ]
  },
  {
   "cell_type": "code",
   "execution_count": null,
   "metadata": {},
   "outputs": [],
   "source": [
    "# Fetch information about him\n",
    "arnold = imdb.get_name(people[0].imdb_id)\n",
    "\n",
    "# What information do I have about him?\n",
    "print('\\n'.join([x for x in dir(arnold) if not x.startswith('__')]))"
   ]
  },
  {
   "cell_type": "code",
   "execution_count": null,
   "metadata": {},
   "outputs": [],
   "source": [
    "# How many movies does he have?\n",
    "print(len(arnold.filmography))"
   ]
  },
  {
   "cell_type": "code",
   "execution_count": null,
   "metadata": {},
   "outputs": [],
   "source": [
    "# Let's fetch some more information about a movie\n",
    "movie = imdb.get_title(arnold.filmography[-1])"
   ]
  },
  {
   "cell_type": "code",
   "execution_count": null,
   "metadata": {},
   "outputs": [],
   "source": [
    "# What information can I get about this movie?\n",
    "print('\\n'.join([x for x in dir(movie) if not x.startswith('__')]))"
   ]
  },
  {
   "cell_type": "code",
   "execution_count": null,
   "metadata": {},
   "outputs": [],
   "source": [
    "print(movie.imdb_id)"
   ]
  },
  {
   "cell_type": "code",
   "execution_count": null,
   "metadata": {},
   "outputs": [],
   "source": [
    "html = \"\"\"\n",
    "    <div style=\"background-color:#FFDDDD\">\n",
    "    <h2> Warning! </h2>\n",
    "    <p> This code below is meant to be an example of what you can do. <br>\n",
    "        It is not guaranteed to work always, and will need to be tweaked!\n",
    "    </p>\n",
    "    </div>\n",
    "\"\"\"\n",
    "display(HTML(html))"
   ]
  },
  {
   "cell_type": "markdown",
   "metadata": {},
   "source": [
    "#### Box office numbers"
   ]
  },
  {
   "cell_type": "code",
   "execution_count": null,
   "metadata": {},
   "outputs": [],
   "source": [
    "# Let's experiment with Terminator\n",
    "imdb_id = 'tt0088247'\n",
    "\n",
    "# Fetch the box office numbers\n",
    "base = 'https://www.boxofficemojo.com'\n",
    "url = base + '/title/' + imdb_id  + '/?ref_=bo_tt_gr_1'\n",
    "source = urllib.request.urlopen(url).read()\n",
    "soup = BeautifulSoup(source,'lxml')\n",
    "\n",
    "table = soup('th', text=re.compile(r'Release Group'))[0].parent.parent\n",
    "group = table.findAll('tr', recursive=False)[1].find('a').get('href')\n",
    "url = base + group\n",
    "\n",
    "# Get total earnings domestic and international\n",
    "source = urllib.request.urlopen(url).read()\n",
    "soup = BeautifulSoup(source,'lxml')\n",
    "earnings = soup('h2', text=re.compile(r'Rollout'))[0].parent.parent.findAll('div')\n",
    "domestic = earnings[1].find('span', {'class': 'money'}).get_text()\n",
    "domestic_url = earnings[1].find('a').get('href')\n",
    "international = earnings[2].find('span', {'class': 'money'}).get_text()\n",
    "\n",
    "# Get weekly domestic earnings\n",
    "url = base + domestic_url\n",
    "url = url[:url.rfind('/')] + '/weekly/'\n",
    "source = urllib.request.urlopen(url).read()\n",
    "soup = BeautifulSoup(source,'lxml')\n",
    "table = soup.find('div', {'class':'a-section imdb-scroll-table-inner'}).findAll('tr')\n",
    "weekly = []\n",
    "for tr in table[1:]:\n",
    "    date = tr.findAll('td')[0].get_text()\n",
    "    earning = tr.findAll('td')[2].get_text()\n",
    "    weekly.append((date, earning))\n",
    "\n",
    "# Print the values we've just got!\n",
    "print(\"Total Domestic Earnings: %s\" % domestic)\n",
    "print(\"Total International Earnings: %s\" % international)\n",
    "print(\"Weekly Domestic Earnings:\")\n",
    "for date, earning in weekly:\n",
    "    print(\"\\t%s \\t: %s\" % (date, earning))"
   ]
  },
  {
   "cell_type": "code",
   "execution_count": null,
   "metadata": {},
   "outputs": [],
   "source": [
    "# Search for Johnny Depp\n",
    "people = imdb.search_for_name('Johnny Depp')\n",
    "print(people)"
   ]
  },
  {
   "cell_type": "code",
   "execution_count": null,
   "metadata": {},
   "outputs": [],
   "source": [
    "depp = imdb.get_name(people[0].imdb_id)\n",
    "\n",
    "# What information do I have about him?\n",
    "print('\\n'.join([x for x in dir(depp) if not x.startswith('__')]))"
   ]
  },
  {
   "cell_type": "code",
   "execution_count": null,
   "metadata": {},
   "outputs": [],
   "source": [
    "print(len(depp.filmography))"
   ]
  },
  {
   "cell_type": "code",
   "execution_count": null,
   "metadata": {},
   "outputs": [],
   "source": [
    "movie = imdb.get_title(depp.filmography[-1])"
   ]
  },
  {
   "cell_type": "code",
   "execution_count": null,
   "metadata": {},
   "outputs": [],
   "source": [
    "dic = {}\n",
    "dic['integer'] = imdb.get_title(depp.filmography[-1]).genres\n",
    "dic"
   ]
  },
  {
   "cell_type": "code",
   "execution_count": null,
   "metadata": {},
   "outputs": [],
   "source": [
    "data = []\n",
    "count = 0\n",
    "for i in range(len(depp.filmography)):\n",
    "    count += 1\n",
    "    try:\n",
    "        movie = imdb.get_title(depp.filmography[i])\n",
    "        d = (movie.imdb_id, movie.title, movie.type, movie.year, str(movie.genres)\n",
    "            , movie.rating, movie.rating_count, movie.release_date)\n",
    "        data.append(d)\n",
    "    except:\n",
    "        continue"
   ]
  },
  {
   "cell_type": "code",
   "execution_count": null,
   "metadata": {},
   "outputs": [],
   "source": [
    "films_df = pd.DataFrame(data, columns = ['imdb_id', 'title', 'type', 'year', 'genres','rating', 'rating_count', 'release_date'])"
   ]
  },
  {
   "cell_type": "code",
   "execution_count": null,
   "metadata": {},
   "outputs": [],
   "source": [
    "#films_df.to_csv('johnny_depp_csv')"
   ]
  },
  {
   "cell_type": "code",
   "execution_count": null,
   "metadata": {},
   "outputs": [],
   "source": [
    "films = pd.DataFrame(list(genres.values()))\n",
    "films['keys'] = pd.Series(list(genres.keys()))"
   ]
  },
  {
   "cell_type": "code",
   "execution_count": null,
   "metadata": {},
   "outputs": [],
   "source": [
    "#films.to_csv(path_or_buf  = 'johnny_depp_films')"
   ]
  },
  {
   "cell_type": "code",
   "execution_count": null,
   "metadata": {},
   "outputs": [],
   "source": [
    "imdb.get_title('tt2224471')"
   ]
  },
  {
   "cell_type": "code",
   "execution_count": null,
   "metadata": {},
   "outputs": [],
   "source": [
    "print('\\n'.join([x for x in dir(movie) if not x.startswith('__')]))"
   ]
  },
  {
   "cell_type": "code",
   "execution_count": null,
   "metadata": {},
   "outputs": [],
   "source": [
    "print(movie.imdb_id)"
   ]
  },
  {
   "cell_type": "code",
   "execution_count": 2,
   "metadata": {},
   "outputs": [],
   "source": [
    "#Plotly account info\n",
    "username = 'lmd003' # your username\n",
    "api_key = 'ZdD5zrT748FuJscu6VOb' # your api key - go to profile > settings > regenerate key\n",
    "chart_studio.tools.set_credentials_file(username=username, api_key=api_key)"
   ]
  },
  {
   "cell_type": "code",
   "execution_count": 3,
   "metadata": {},
   "outputs": [
    {
     "data": {
      "text/html": [
       "<div>\n",
       "<style scoped>\n",
       "    .dataframe tbody tr th:only-of-type {\n",
       "        vertical-align: middle;\n",
       "    }\n",
       "\n",
       "    .dataframe tbody tr th {\n",
       "        vertical-align: top;\n",
       "    }\n",
       "\n",
       "    .dataframe thead th {\n",
       "        text-align: right;\n",
       "    }\n",
       "</style>\n",
       "<table border=\"1\" class=\"dataframe\">\n",
       "  <thead>\n",
       "    <tr style=\"text-align: right;\">\n",
       "      <th></th>\n",
       "      <th>imdb_id</th>\n",
       "      <th>title</th>\n",
       "      <th>type</th>\n",
       "      <th>year</th>\n",
       "      <th>genres</th>\n",
       "      <th>rating</th>\n",
       "      <th>rating_count</th>\n",
       "      <th>release_date</th>\n",
       "    </tr>\n",
       "  </thead>\n",
       "  <tbody>\n",
       "    <tr>\n",
       "      <th>0</th>\n",
       "      <td>tt3715848</td>\n",
       "      <td>Fortunately, the Milk</td>\n",
       "      <td>movie</td>\n",
       "      <td>NaN</td>\n",
       "      <td>('animation',)</td>\n",
       "      <td>NaN</td>\n",
       "      <td>0</td>\n",
       "      <td>NaN</td>\n",
       "    </tr>\n",
       "    <tr>\n",
       "      <th>1</th>\n",
       "      <td>tt4123432</td>\n",
       "      <td>Fantastic Beasts and Where to Find Them 3</td>\n",
       "      <td>movie</td>\n",
       "      <td>2021.0</td>\n",
       "      <td>('adventure', 'family', 'fantasy')</td>\n",
       "      <td>NaN</td>\n",
       "      <td>0</td>\n",
       "      <td>2021-11-12</td>\n",
       "    </tr>\n",
       "    <tr>\n",
       "      <th>2</th>\n",
       "      <td>tt9179096</td>\n",
       "      <td>Minamata</td>\n",
       "      <td>movie</td>\n",
       "      <td>2020.0</td>\n",
       "      <td>('drama',)</td>\n",
       "      <td>NaN</td>\n",
       "      <td>0</td>\n",
       "      <td>2020-11-24</td>\n",
       "    </tr>\n",
       "    <tr>\n",
       "      <th>3</th>\n",
       "      <td>tt6149154</td>\n",
       "      <td>Waiting for the Barbarians</td>\n",
       "      <td>movie</td>\n",
       "      <td>2019.0</td>\n",
       "      <td>('drama',)</td>\n",
       "      <td>6.3</td>\n",
       "      <td>254</td>\n",
       "      <td>2019-09-06</td>\n",
       "    </tr>\n",
       "    <tr>\n",
       "      <th>4</th>\n",
       "      <td>tt2677722</td>\n",
       "      <td>City of Lies</td>\n",
       "      <td>movie</td>\n",
       "      <td>2018.0</td>\n",
       "      <td>('biography', 'crime', 'drama', 'mystery', 'th...</td>\n",
       "      <td>6.3</td>\n",
       "      <td>3548</td>\n",
       "      <td>2018-12-08</td>\n",
       "    </tr>\n",
       "  </tbody>\n",
       "</table>\n",
       "</div>"
      ],
      "text/plain": [
       "     imdb_id                                      title   type    year  \\\n",
       "0  tt3715848                      Fortunately, the Milk  movie     NaN   \n",
       "1  tt4123432  Fantastic Beasts and Where to Find Them 3  movie  2021.0   \n",
       "2  tt9179096                                   Minamata  movie  2020.0   \n",
       "3  tt6149154                 Waiting for the Barbarians  movie  2019.0   \n",
       "4  tt2677722                               City of Lies  movie  2018.0   \n",
       "\n",
       "                                              genres  rating  rating_count  \\\n",
       "0                                     ('animation',)     NaN             0   \n",
       "1                 ('adventure', 'family', 'fantasy')     NaN             0   \n",
       "2                                         ('drama',)     NaN             0   \n",
       "3                                         ('drama',)     6.3           254   \n",
       "4  ('biography', 'crime', 'drama', 'mystery', 'th...     6.3          3548   \n",
       "\n",
       "  release_date  \n",
       "0          NaN  \n",
       "1   2021-11-12  \n",
       "2   2020-11-24  \n",
       "3   2019-09-06  \n",
       "4   2018-12-08  "
      ]
     },
     "execution_count": 3,
     "metadata": {},
     "output_type": "execute_result"
    }
   ],
   "source": [
    "actor_df = pd.read_csv('johnny_depp_csv')\n",
    "actor_df = actor_df.drop('Unnamed: 0', axis = 1)\n",
    "actor_df.head()"
   ]
  },
  {
   "cell_type": "code",
   "execution_count": 4,
   "metadata": {},
   "outputs": [],
   "source": [
    "just_movies = actor_df[actor_df.type == 'movie']"
   ]
  },
  {
   "cell_type": "code",
   "execution_count": 5,
   "metadata": {},
   "outputs": [],
   "source": [
    "cats = {}\n",
    "for i in just_movies['genres'].apply(eval).apply(list):\n",
    "    for j in i:\n",
    "        if j in cats:\n",
    "            cats[j] += 1\n",
    "        else:\n",
    "            cats[j] = 0"
   ]
  },
  {
   "cell_type": "code",
   "execution_count": 6,
   "metadata": {},
   "outputs": [
    {
     "data": {
      "text/plain": [
       "{'animation': 4,\n",
       " 'adventure': 25,\n",
       " 'family': 11,\n",
       " 'fantasy': 28,\n",
       " 'drama': 59,\n",
       " 'biography': 18,\n",
       " 'crime': 19,\n",
       " 'mystery': 15,\n",
       " 'thriller': 18,\n",
       " 'comedy': 39,\n",
       " 'romance': 19,\n",
       " 'action': 18,\n",
       " 'horror': 12,\n",
       " 'musical': 6,\n",
       " 'sci-fi': 2,\n",
       " 'war': 4,\n",
       " 'western': 4,\n",
       " 'history': 4,\n",
       " 'music': 10,\n",
       " 'documentary': 39}"
      ]
     },
     "execution_count": 6,
     "metadata": {},
     "output_type": "execute_result"
    }
   ],
   "source": [
    "cats"
   ]
  },
  {
   "cell_type": "code",
   "execution_count": 7,
   "metadata": {},
   "outputs": [
    {
     "name": "stderr",
     "output_type": "stream",
     "text": [
      "/home/lmd003/.local/lib/python3.6/site-packages/ipykernel_launcher.py:3: SettingWithCopyWarning:\n",
      "\n",
      "\n",
      "A value is trying to be set on a copy of a slice from a DataFrame.\n",
      "Try using .loc[row_indexer,col_indexer] = value instead\n",
      "\n",
      "See the caveats in the documentation: http://pandas.pydata.org/pandas-docs/stable/indexing.html#indexing-view-versus-copy\n",
      "\n"
     ]
    }
   ],
   "source": [
    "rats = {}\n",
    "a = just_movies.dropna(subset = ['rating'])\n",
    "a['genres'] = a['genres'].apply(eval).apply(list)\n",
    "for i in range(len(a)):    \n",
    "    for j in a['genres'].iloc[i]:\n",
    "        if j in rats:\n",
    "            rats[j] += a['rating'].iloc[i]\n",
    "        else:\n",
    "            rats[j] = a['rating'].iloc[i]"
   ]
  },
  {
   "cell_type": "code",
   "execution_count": 8,
   "metadata": {},
   "outputs": [],
   "source": [
    "b = pd.DataFrame([rats, cats])\n",
    "c = pd.DataFrame(dict(round(b.loc[0]/b.loc[1], 2)), index = range(len (b))).T.reset_index()\n",
    "c.columns = ['cat', 'AvgRatg', 'trash']\n",
    "c = c.drop('trash', axis = 1)"
   ]
  },
  {
   "cell_type": "code",
   "execution_count": 9,
   "metadata": {},
   "outputs": [
    {
     "data": {
      "text/html": [
       "<div>\n",
       "<style scoped>\n",
       "    .dataframe tbody tr th:only-of-type {\n",
       "        vertical-align: middle;\n",
       "    }\n",
       "\n",
       "    .dataframe tbody tr th {\n",
       "        vertical-align: top;\n",
       "    }\n",
       "\n",
       "    .dataframe thead th {\n",
       "        text-align: right;\n",
       "    }\n",
       "</style>\n",
       "<table border=\"1\" class=\"dataframe\">\n",
       "  <thead>\n",
       "    <tr style=\"text-align: right;\">\n",
       "      <th></th>\n",
       "      <th>type</th>\n",
       "      <th>number</th>\n",
       "      <th>AvgRatg</th>\n",
       "    </tr>\n",
       "  </thead>\n",
       "  <tbody>\n",
       "    <tr>\n",
       "      <th>4</th>\n",
       "      <td>drama</td>\n",
       "      <td>59</td>\n",
       "      <td>5.59</td>\n",
       "    </tr>\n",
       "    <tr>\n",
       "      <th>19</th>\n",
       "      <td>documentary</td>\n",
       "      <td>39</td>\n",
       "      <td>7.13</td>\n",
       "    </tr>\n",
       "    <tr>\n",
       "      <th>9</th>\n",
       "      <td>comedy</td>\n",
       "      <td>39</td>\n",
       "      <td>5.75</td>\n",
       "    </tr>\n",
       "    <tr>\n",
       "      <th>3</th>\n",
       "      <td>fantasy</td>\n",
       "      <td>28</td>\n",
       "      <td>6.19</td>\n",
       "    </tr>\n",
       "    <tr>\n",
       "      <th>1</th>\n",
       "      <td>adventure</td>\n",
       "      <td>25</td>\n",
       "      <td>5.86</td>\n",
       "    </tr>\n",
       "  </tbody>\n",
       "</table>\n",
       "</div>"
      ],
      "text/plain": [
       "           type  number  AvgRatg\n",
       "4         drama      59     5.59\n",
       "19  documentary      39     7.13\n",
       "9        comedy      39     5.75\n",
       "3       fantasy      28     6.19\n",
       "1     adventure      25     5.86"
      ]
     },
     "execution_count": 9,
     "metadata": {},
     "output_type": "execute_result"
    }
   ],
   "source": [
    "df =pd.DataFrame(cats, index = range(len(cats))).T[[0]].reset_index()\n",
    "df.columns = ['type','number']\n",
    "df = df.merge(c, left_on = 'type', right_on = 'cat').drop('cat', axis =1)\n",
    "df = df.sort_values('number', ascending=False)\n",
    "df.head()"
   ]
  },
  {
   "cell_type": "code",
   "execution_count": 40,
   "metadata": {},
   "outputs": [
    {
     "data": {
      "application/vnd.plotly.v1+json": {
       "config": {
        "plotlyServerURL": "https://plot.ly"
       },
       "data": [
        {
         "fill": "toself",
         "hoverlabel": {
          "namelength": 0
         },
         "hovertemplate": "number=%{text}<br>type=%{theta}",
         "legendgroup": "",
         "line": {
          "color": "#636efa",
          "dash": "solid"
         },
         "mode": "lines+markers+text",
         "name": "",
         "r": [
          59,
          39,
          39,
          28,
          25,
          19,
          19,
          59
         ],
         "showlegend": false,
         "subplot": "polar",
         "text": [
          59,
          39,
          39,
          28,
          25,
          19,
          19,
          59
         ],
         "theta": [
          "drama",
          "documentary",
          "comedy",
          "fantasy",
          "adventure",
          "crime",
          "romance",
          "drama"
         ],
         "type": "scatterpolar"
        }
       ],
       "layout": {
        "height": 600,
        "legend": {
         "tracegroupgap": 0
        },
        "polar": {
         "angularaxis": {
          "direction": "clockwise",
          "rotation": 90
         },
         "domain": {
          "x": [
           0,
           1
          ],
          "y": [
           0,
           1
          ]
         }
        },
        "template": {
         "data": {
          "bar": [
           {
            "error_x": {
             "color": "#f2f5fa"
            },
            "error_y": {
             "color": "#f2f5fa"
            },
            "marker": {
             "line": {
              "color": "rgb(17,17,17)",
              "width": 0.5
             }
            },
            "type": "bar"
           }
          ],
          "barpolar": [
           {
            "marker": {
             "line": {
              "color": "rgb(17,17,17)",
              "width": 0.5
             }
            },
            "type": "barpolar"
           }
          ],
          "carpet": [
           {
            "aaxis": {
             "endlinecolor": "#A2B1C6",
             "gridcolor": "#506784",
             "linecolor": "#506784",
             "minorgridcolor": "#506784",
             "startlinecolor": "#A2B1C6"
            },
            "baxis": {
             "endlinecolor": "#A2B1C6",
             "gridcolor": "#506784",
             "linecolor": "#506784",
             "minorgridcolor": "#506784",
             "startlinecolor": "#A2B1C6"
            },
            "type": "carpet"
           }
          ],
          "choropleth": [
           {
            "colorbar": {
             "outlinewidth": 0,
             "ticks": ""
            },
            "type": "choropleth"
           }
          ],
          "contour": [
           {
            "colorbar": {
             "outlinewidth": 0,
             "ticks": ""
            },
            "colorscale": [
             [
              0,
              "#0d0887"
             ],
             [
              0.1111111111111111,
              "#46039f"
             ],
             [
              0.2222222222222222,
              "#7201a8"
             ],
             [
              0.3333333333333333,
              "#9c179e"
             ],
             [
              0.4444444444444444,
              "#bd3786"
             ],
             [
              0.5555555555555556,
              "#d8576b"
             ],
             [
              0.6666666666666666,
              "#ed7953"
             ],
             [
              0.7777777777777778,
              "#fb9f3a"
             ],
             [
              0.8888888888888888,
              "#fdca26"
             ],
             [
              1,
              "#f0f921"
             ]
            ],
            "type": "contour"
           }
          ],
          "contourcarpet": [
           {
            "colorbar": {
             "outlinewidth": 0,
             "ticks": ""
            },
            "type": "contourcarpet"
           }
          ],
          "heatmap": [
           {
            "colorbar": {
             "outlinewidth": 0,
             "ticks": ""
            },
            "colorscale": [
             [
              0,
              "#0d0887"
             ],
             [
              0.1111111111111111,
              "#46039f"
             ],
             [
              0.2222222222222222,
              "#7201a8"
             ],
             [
              0.3333333333333333,
              "#9c179e"
             ],
             [
              0.4444444444444444,
              "#bd3786"
             ],
             [
              0.5555555555555556,
              "#d8576b"
             ],
             [
              0.6666666666666666,
              "#ed7953"
             ],
             [
              0.7777777777777778,
              "#fb9f3a"
             ],
             [
              0.8888888888888888,
              "#fdca26"
             ],
             [
              1,
              "#f0f921"
             ]
            ],
            "type": "heatmap"
           }
          ],
          "heatmapgl": [
           {
            "colorbar": {
             "outlinewidth": 0,
             "ticks": ""
            },
            "colorscale": [
             [
              0,
              "#0d0887"
             ],
             [
              0.1111111111111111,
              "#46039f"
             ],
             [
              0.2222222222222222,
              "#7201a8"
             ],
             [
              0.3333333333333333,
              "#9c179e"
             ],
             [
              0.4444444444444444,
              "#bd3786"
             ],
             [
              0.5555555555555556,
              "#d8576b"
             ],
             [
              0.6666666666666666,
              "#ed7953"
             ],
             [
              0.7777777777777778,
              "#fb9f3a"
             ],
             [
              0.8888888888888888,
              "#fdca26"
             ],
             [
              1,
              "#f0f921"
             ]
            ],
            "type": "heatmapgl"
           }
          ],
          "histogram": [
           {
            "marker": {
             "colorbar": {
              "outlinewidth": 0,
              "ticks": ""
             }
            },
            "type": "histogram"
           }
          ],
          "histogram2d": [
           {
            "colorbar": {
             "outlinewidth": 0,
             "ticks": ""
            },
            "colorscale": [
             [
              0,
              "#0d0887"
             ],
             [
              0.1111111111111111,
              "#46039f"
             ],
             [
              0.2222222222222222,
              "#7201a8"
             ],
             [
              0.3333333333333333,
              "#9c179e"
             ],
             [
              0.4444444444444444,
              "#bd3786"
             ],
             [
              0.5555555555555556,
              "#d8576b"
             ],
             [
              0.6666666666666666,
              "#ed7953"
             ],
             [
              0.7777777777777778,
              "#fb9f3a"
             ],
             [
              0.8888888888888888,
              "#fdca26"
             ],
             [
              1,
              "#f0f921"
             ]
            ],
            "type": "histogram2d"
           }
          ],
          "histogram2dcontour": [
           {
            "colorbar": {
             "outlinewidth": 0,
             "ticks": ""
            },
            "colorscale": [
             [
              0,
              "#0d0887"
             ],
             [
              0.1111111111111111,
              "#46039f"
             ],
             [
              0.2222222222222222,
              "#7201a8"
             ],
             [
              0.3333333333333333,
              "#9c179e"
             ],
             [
              0.4444444444444444,
              "#bd3786"
             ],
             [
              0.5555555555555556,
              "#d8576b"
             ],
             [
              0.6666666666666666,
              "#ed7953"
             ],
             [
              0.7777777777777778,
              "#fb9f3a"
             ],
             [
              0.8888888888888888,
              "#fdca26"
             ],
             [
              1,
              "#f0f921"
             ]
            ],
            "type": "histogram2dcontour"
           }
          ],
          "mesh3d": [
           {
            "colorbar": {
             "outlinewidth": 0,
             "ticks": ""
            },
            "type": "mesh3d"
           }
          ],
          "parcoords": [
           {
            "line": {
             "colorbar": {
              "outlinewidth": 0,
              "ticks": ""
             }
            },
            "type": "parcoords"
           }
          ],
          "pie": [
           {
            "automargin": true,
            "type": "pie"
           }
          ],
          "scatter": [
           {
            "marker": {
             "line": {
              "color": "#283442"
             }
            },
            "type": "scatter"
           }
          ],
          "scatter3d": [
           {
            "line": {
             "colorbar": {
              "outlinewidth": 0,
              "ticks": ""
             }
            },
            "marker": {
             "colorbar": {
              "outlinewidth": 0,
              "ticks": ""
             }
            },
            "type": "scatter3d"
           }
          ],
          "scattercarpet": [
           {
            "marker": {
             "colorbar": {
              "outlinewidth": 0,
              "ticks": ""
             }
            },
            "type": "scattercarpet"
           }
          ],
          "scattergeo": [
           {
            "marker": {
             "colorbar": {
              "outlinewidth": 0,
              "ticks": ""
             }
            },
            "type": "scattergeo"
           }
          ],
          "scattergl": [
           {
            "marker": {
             "line": {
              "color": "#283442"
             }
            },
            "type": "scattergl"
           }
          ],
          "scattermapbox": [
           {
            "marker": {
             "colorbar": {
              "outlinewidth": 0,
              "ticks": ""
             }
            },
            "type": "scattermapbox"
           }
          ],
          "scatterpolar": [
           {
            "marker": {
             "colorbar": {
              "outlinewidth": 0,
              "ticks": ""
             }
            },
            "type": "scatterpolar"
           }
          ],
          "scatterpolargl": [
           {
            "marker": {
             "colorbar": {
              "outlinewidth": 0,
              "ticks": ""
             }
            },
            "type": "scatterpolargl"
           }
          ],
          "scatterternary": [
           {
            "marker": {
             "colorbar": {
              "outlinewidth": 0,
              "ticks": ""
             }
            },
            "type": "scatterternary"
           }
          ],
          "surface": [
           {
            "colorbar": {
             "outlinewidth": 0,
             "ticks": ""
            },
            "colorscale": [
             [
              0,
              "#0d0887"
             ],
             [
              0.1111111111111111,
              "#46039f"
             ],
             [
              0.2222222222222222,
              "#7201a8"
             ],
             [
              0.3333333333333333,
              "#9c179e"
             ],
             [
              0.4444444444444444,
              "#bd3786"
             ],
             [
              0.5555555555555556,
              "#d8576b"
             ],
             [
              0.6666666666666666,
              "#ed7953"
             ],
             [
              0.7777777777777778,
              "#fb9f3a"
             ],
             [
              0.8888888888888888,
              "#fdca26"
             ],
             [
              1,
              "#f0f921"
             ]
            ],
            "type": "surface"
           }
          ],
          "table": [
           {
            "cells": {
             "fill": {
              "color": "#506784"
             },
             "line": {
              "color": "rgb(17,17,17)"
             }
            },
            "header": {
             "fill": {
              "color": "#2a3f5f"
             },
             "line": {
              "color": "rgb(17,17,17)"
             }
            },
            "type": "table"
           }
          ]
         },
         "layout": {
          "annotationdefaults": {
           "arrowcolor": "#f2f5fa",
           "arrowhead": 0,
           "arrowwidth": 1
          },
          "coloraxis": {
           "colorbar": {
            "outlinewidth": 0,
            "ticks": ""
           }
          },
          "colorscale": {
           "diverging": [
            [
             0,
             "#8e0152"
            ],
            [
             0.1,
             "#c51b7d"
            ],
            [
             0.2,
             "#de77ae"
            ],
            [
             0.3,
             "#f1b6da"
            ],
            [
             0.4,
             "#fde0ef"
            ],
            [
             0.5,
             "#f7f7f7"
            ],
            [
             0.6,
             "#e6f5d0"
            ],
            [
             0.7,
             "#b8e186"
            ],
            [
             0.8,
             "#7fbc41"
            ],
            [
             0.9,
             "#4d9221"
            ],
            [
             1,
             "#276419"
            ]
           ],
           "sequential": [
            [
             0,
             "#0d0887"
            ],
            [
             0.1111111111111111,
             "#46039f"
            ],
            [
             0.2222222222222222,
             "#7201a8"
            ],
            [
             0.3333333333333333,
             "#9c179e"
            ],
            [
             0.4444444444444444,
             "#bd3786"
            ],
            [
             0.5555555555555556,
             "#d8576b"
            ],
            [
             0.6666666666666666,
             "#ed7953"
            ],
            [
             0.7777777777777778,
             "#fb9f3a"
            ],
            [
             0.8888888888888888,
             "#fdca26"
            ],
            [
             1,
             "#f0f921"
            ]
           ],
           "sequentialminus": [
            [
             0,
             "#0d0887"
            ],
            [
             0.1111111111111111,
             "#46039f"
            ],
            [
             0.2222222222222222,
             "#7201a8"
            ],
            [
             0.3333333333333333,
             "#9c179e"
            ],
            [
             0.4444444444444444,
             "#bd3786"
            ],
            [
             0.5555555555555556,
             "#d8576b"
            ],
            [
             0.6666666666666666,
             "#ed7953"
            ],
            [
             0.7777777777777778,
             "#fb9f3a"
            ],
            [
             0.8888888888888888,
             "#fdca26"
            ],
            [
             1,
             "#f0f921"
            ]
           ]
          },
          "colorway": [
           "#636efa",
           "#EF553B",
           "#00cc96",
           "#ab63fa",
           "#FFA15A",
           "#19d3f3",
           "#FF6692",
           "#B6E880",
           "#FF97FF",
           "#FECB52"
          ],
          "font": {
           "color": "#f2f5fa"
          },
          "geo": {
           "bgcolor": "rgb(17,17,17)",
           "lakecolor": "rgb(17,17,17)",
           "landcolor": "rgb(17,17,17)",
           "showlakes": true,
           "showland": true,
           "subunitcolor": "#506784"
          },
          "hoverlabel": {
           "align": "left"
          },
          "hovermode": "closest",
          "mapbox": {
           "style": "dark"
          },
          "paper_bgcolor": "rgb(17,17,17)",
          "plot_bgcolor": "rgb(17,17,17)",
          "polar": {
           "angularaxis": {
            "gridcolor": "#506784",
            "linecolor": "#506784",
            "ticks": ""
           },
           "bgcolor": "rgb(17,17,17)",
           "radialaxis": {
            "gridcolor": "#506784",
            "linecolor": "#506784",
            "ticks": ""
           }
          },
          "scene": {
           "xaxis": {
            "backgroundcolor": "rgb(17,17,17)",
            "gridcolor": "#506784",
            "gridwidth": 2,
            "linecolor": "#506784",
            "showbackground": true,
            "ticks": "",
            "zerolinecolor": "#C8D4E3"
           },
           "yaxis": {
            "backgroundcolor": "rgb(17,17,17)",
            "gridcolor": "#506784",
            "gridwidth": 2,
            "linecolor": "#506784",
            "showbackground": true,
            "ticks": "",
            "zerolinecolor": "#C8D4E3"
           },
           "zaxis": {
            "backgroundcolor": "rgb(17,17,17)",
            "gridcolor": "#506784",
            "gridwidth": 2,
            "linecolor": "#506784",
            "showbackground": true,
            "ticks": "",
            "zerolinecolor": "#C8D4E3"
           }
          },
          "shapedefaults": {
           "line": {
            "color": "#f2f5fa"
           }
          },
          "sliderdefaults": {
           "bgcolor": "#C8D4E3",
           "bordercolor": "rgb(17,17,17)",
           "borderwidth": 1,
           "tickwidth": 0
          },
          "ternary": {
           "aaxis": {
            "gridcolor": "#506784",
            "linecolor": "#506784",
            "ticks": ""
           },
           "baxis": {
            "gridcolor": "#506784",
            "linecolor": "#506784",
            "ticks": ""
           },
           "bgcolor": "rgb(17,17,17)",
           "caxis": {
            "gridcolor": "#506784",
            "linecolor": "#506784",
            "ticks": ""
           }
          },
          "title": {
           "x": 0.05
          },
          "updatemenudefaults": {
           "bgcolor": "#506784",
           "borderwidth": 0
          },
          "xaxis": {
           "automargin": true,
           "gridcolor": "#283442",
           "linecolor": "#506784",
           "ticks": "",
           "title": {
            "standoff": 15
           },
           "zerolinecolor": "#283442",
           "zerolinewidth": 2
          },
          "yaxis": {
           "automargin": true,
           "gridcolor": "#283442",
           "linecolor": "#506784",
           "ticks": "",
           "title": {
            "standoff": 15
           },
           "zerolinecolor": "#283442",
           "zerolinewidth": 2
          }
         }
        },
        "title": {
         "text": "Top 7 Genres of movies with Johnny Depp"
        }
       }
      },
      "text/html": [
       "<div>\n",
       "        \n",
       "        \n",
       "            <div id=\"ca7756af-6bf2-494f-a164-83e22b4032d4\" class=\"plotly-graph-div\" style=\"height:600px; width:100%;\"></div>\n",
       "            <script type=\"text/javascript\">\n",
       "                require([\"plotly\"], function(Plotly) {\n",
       "                    window.PLOTLYENV=window.PLOTLYENV || {};\n",
       "                    \n",
       "                if (document.getElementById(\"ca7756af-6bf2-494f-a164-83e22b4032d4\")) {\n",
       "                    Plotly.newPlot(\n",
       "                        'ca7756af-6bf2-494f-a164-83e22b4032d4',\n",
       "                        [{\"fill\": \"toself\", \"hoverlabel\": {\"namelength\": 0}, \"hovertemplate\": \"number=%{text}<br>type=%{theta}\", \"legendgroup\": \"\", \"line\": {\"color\": \"#636efa\", \"dash\": \"solid\"}, \"mode\": \"lines+markers+text\", \"name\": \"\", \"r\": [59, 39, 39, 28, 25, 19, 19, 59], \"showlegend\": false, \"subplot\": \"polar\", \"text\": [59.0, 39.0, 39.0, 28.0, 25.0, 19.0, 19.0, 59.0], \"theta\": [\"drama\", \"documentary\", \"comedy\", \"fantasy\", \"adventure\", \"crime\", \"romance\", \"drama\"], \"type\": \"scatterpolar\"}],\n",
       "                        {\"height\": 600, \"legend\": {\"tracegroupgap\": 0}, \"polar\": {\"angularaxis\": {\"direction\": \"clockwise\", \"rotation\": 90}, \"domain\": {\"x\": [0.0, 1.0], \"y\": [0.0, 1.0]}}, \"template\": {\"data\": {\"bar\": [{\"error_x\": {\"color\": \"#f2f5fa\"}, \"error_y\": {\"color\": \"#f2f5fa\"}, \"marker\": {\"line\": {\"color\": \"rgb(17,17,17)\", \"width\": 0.5}}, \"type\": \"bar\"}], \"barpolar\": [{\"marker\": {\"line\": {\"color\": \"rgb(17,17,17)\", \"width\": 0.5}}, \"type\": \"barpolar\"}], \"carpet\": [{\"aaxis\": {\"endlinecolor\": \"#A2B1C6\", \"gridcolor\": \"#506784\", \"linecolor\": \"#506784\", \"minorgridcolor\": \"#506784\", \"startlinecolor\": \"#A2B1C6\"}, \"baxis\": {\"endlinecolor\": \"#A2B1C6\", \"gridcolor\": \"#506784\", \"linecolor\": \"#506784\", \"minorgridcolor\": \"#506784\", \"startlinecolor\": \"#A2B1C6\"}, \"type\": \"carpet\"}], \"choropleth\": [{\"colorbar\": {\"outlinewidth\": 0, \"ticks\": \"\"}, \"type\": \"choropleth\"}], \"contour\": [{\"colorbar\": {\"outlinewidth\": 0, \"ticks\": \"\"}, \"colorscale\": [[0.0, \"#0d0887\"], [0.1111111111111111, \"#46039f\"], [0.2222222222222222, \"#7201a8\"], [0.3333333333333333, \"#9c179e\"], [0.4444444444444444, \"#bd3786\"], [0.5555555555555556, \"#d8576b\"], [0.6666666666666666, \"#ed7953\"], [0.7777777777777778, \"#fb9f3a\"], [0.8888888888888888, \"#fdca26\"], [1.0, \"#f0f921\"]], \"type\": \"contour\"}], \"contourcarpet\": [{\"colorbar\": {\"outlinewidth\": 0, \"ticks\": \"\"}, \"type\": \"contourcarpet\"}], \"heatmap\": [{\"colorbar\": {\"outlinewidth\": 0, \"ticks\": \"\"}, \"colorscale\": [[0.0, \"#0d0887\"], [0.1111111111111111, \"#46039f\"], [0.2222222222222222, \"#7201a8\"], [0.3333333333333333, \"#9c179e\"], [0.4444444444444444, \"#bd3786\"], [0.5555555555555556, \"#d8576b\"], [0.6666666666666666, \"#ed7953\"], [0.7777777777777778, \"#fb9f3a\"], [0.8888888888888888, \"#fdca26\"], [1.0, \"#f0f921\"]], \"type\": \"heatmap\"}], \"heatmapgl\": [{\"colorbar\": {\"outlinewidth\": 0, \"ticks\": \"\"}, \"colorscale\": [[0.0, \"#0d0887\"], [0.1111111111111111, \"#46039f\"], [0.2222222222222222, \"#7201a8\"], [0.3333333333333333, \"#9c179e\"], [0.4444444444444444, \"#bd3786\"], [0.5555555555555556, \"#d8576b\"], [0.6666666666666666, \"#ed7953\"], [0.7777777777777778, \"#fb9f3a\"], [0.8888888888888888, \"#fdca26\"], [1.0, \"#f0f921\"]], \"type\": \"heatmapgl\"}], \"histogram\": [{\"marker\": {\"colorbar\": {\"outlinewidth\": 0, \"ticks\": \"\"}}, \"type\": \"histogram\"}], \"histogram2d\": [{\"colorbar\": {\"outlinewidth\": 0, \"ticks\": \"\"}, \"colorscale\": [[0.0, \"#0d0887\"], [0.1111111111111111, \"#46039f\"], [0.2222222222222222, \"#7201a8\"], [0.3333333333333333, \"#9c179e\"], [0.4444444444444444, \"#bd3786\"], [0.5555555555555556, \"#d8576b\"], [0.6666666666666666, \"#ed7953\"], [0.7777777777777778, \"#fb9f3a\"], [0.8888888888888888, \"#fdca26\"], [1.0, \"#f0f921\"]], \"type\": \"histogram2d\"}], \"histogram2dcontour\": [{\"colorbar\": {\"outlinewidth\": 0, \"ticks\": \"\"}, \"colorscale\": [[0.0, \"#0d0887\"], [0.1111111111111111, \"#46039f\"], [0.2222222222222222, \"#7201a8\"], [0.3333333333333333, \"#9c179e\"], [0.4444444444444444, \"#bd3786\"], [0.5555555555555556, \"#d8576b\"], [0.6666666666666666, \"#ed7953\"], [0.7777777777777778, \"#fb9f3a\"], [0.8888888888888888, \"#fdca26\"], [1.0, \"#f0f921\"]], \"type\": \"histogram2dcontour\"}], \"mesh3d\": [{\"colorbar\": {\"outlinewidth\": 0, \"ticks\": \"\"}, \"type\": \"mesh3d\"}], \"parcoords\": [{\"line\": {\"colorbar\": {\"outlinewidth\": 0, \"ticks\": \"\"}}, \"type\": \"parcoords\"}], \"pie\": [{\"automargin\": true, \"type\": \"pie\"}], \"scatter\": [{\"marker\": {\"line\": {\"color\": \"#283442\"}}, \"type\": \"scatter\"}], \"scatter3d\": [{\"line\": {\"colorbar\": {\"outlinewidth\": 0, \"ticks\": \"\"}}, \"marker\": {\"colorbar\": {\"outlinewidth\": 0, \"ticks\": \"\"}}, \"type\": \"scatter3d\"}], \"scattercarpet\": [{\"marker\": {\"colorbar\": {\"outlinewidth\": 0, \"ticks\": \"\"}}, \"type\": \"scattercarpet\"}], \"scattergeo\": [{\"marker\": {\"colorbar\": {\"outlinewidth\": 0, \"ticks\": \"\"}}, \"type\": \"scattergeo\"}], \"scattergl\": [{\"marker\": {\"line\": {\"color\": \"#283442\"}}, \"type\": \"scattergl\"}], \"scattermapbox\": [{\"marker\": {\"colorbar\": {\"outlinewidth\": 0, \"ticks\": \"\"}}, \"type\": \"scattermapbox\"}], \"scatterpolar\": [{\"marker\": {\"colorbar\": {\"outlinewidth\": 0, \"ticks\": \"\"}}, \"type\": \"scatterpolar\"}], \"scatterpolargl\": [{\"marker\": {\"colorbar\": {\"outlinewidth\": 0, \"ticks\": \"\"}}, \"type\": \"scatterpolargl\"}], \"scatterternary\": [{\"marker\": {\"colorbar\": {\"outlinewidth\": 0, \"ticks\": \"\"}}, \"type\": \"scatterternary\"}], \"surface\": [{\"colorbar\": {\"outlinewidth\": 0, \"ticks\": \"\"}, \"colorscale\": [[0.0, \"#0d0887\"], [0.1111111111111111, \"#46039f\"], [0.2222222222222222, \"#7201a8\"], [0.3333333333333333, \"#9c179e\"], [0.4444444444444444, \"#bd3786\"], [0.5555555555555556, \"#d8576b\"], [0.6666666666666666, \"#ed7953\"], [0.7777777777777778, \"#fb9f3a\"], [0.8888888888888888, \"#fdca26\"], [1.0, \"#f0f921\"]], \"type\": \"surface\"}], \"table\": [{\"cells\": {\"fill\": {\"color\": \"#506784\"}, \"line\": {\"color\": \"rgb(17,17,17)\"}}, \"header\": {\"fill\": {\"color\": \"#2a3f5f\"}, \"line\": {\"color\": \"rgb(17,17,17)\"}}, \"type\": \"table\"}]}, \"layout\": {\"annotationdefaults\": {\"arrowcolor\": \"#f2f5fa\", \"arrowhead\": 0, \"arrowwidth\": 1}, \"coloraxis\": {\"colorbar\": {\"outlinewidth\": 0, \"ticks\": \"\"}}, \"colorscale\": {\"diverging\": [[0, \"#8e0152\"], [0.1, \"#c51b7d\"], [0.2, \"#de77ae\"], [0.3, \"#f1b6da\"], [0.4, \"#fde0ef\"], [0.5, \"#f7f7f7\"], [0.6, \"#e6f5d0\"], [0.7, \"#b8e186\"], [0.8, \"#7fbc41\"], [0.9, \"#4d9221\"], [1, \"#276419\"]], \"sequential\": [[0.0, \"#0d0887\"], [0.1111111111111111, \"#46039f\"], [0.2222222222222222, \"#7201a8\"], [0.3333333333333333, \"#9c179e\"], [0.4444444444444444, \"#bd3786\"], [0.5555555555555556, \"#d8576b\"], [0.6666666666666666, \"#ed7953\"], [0.7777777777777778, \"#fb9f3a\"], [0.8888888888888888, \"#fdca26\"], [1.0, \"#f0f921\"]], \"sequentialminus\": [[0.0, \"#0d0887\"], [0.1111111111111111, \"#46039f\"], [0.2222222222222222, \"#7201a8\"], [0.3333333333333333, \"#9c179e\"], [0.4444444444444444, \"#bd3786\"], [0.5555555555555556, \"#d8576b\"], [0.6666666666666666, \"#ed7953\"], [0.7777777777777778, \"#fb9f3a\"], [0.8888888888888888, \"#fdca26\"], [1.0, \"#f0f921\"]]}, \"colorway\": [\"#636efa\", \"#EF553B\", \"#00cc96\", \"#ab63fa\", \"#FFA15A\", \"#19d3f3\", \"#FF6692\", \"#B6E880\", \"#FF97FF\", \"#FECB52\"], \"font\": {\"color\": \"#f2f5fa\"}, \"geo\": {\"bgcolor\": \"rgb(17,17,17)\", \"lakecolor\": \"rgb(17,17,17)\", \"landcolor\": \"rgb(17,17,17)\", \"showlakes\": true, \"showland\": true, \"subunitcolor\": \"#506784\"}, \"hoverlabel\": {\"align\": \"left\"}, \"hovermode\": \"closest\", \"mapbox\": {\"style\": \"dark\"}, \"paper_bgcolor\": \"rgb(17,17,17)\", \"plot_bgcolor\": \"rgb(17,17,17)\", \"polar\": {\"angularaxis\": {\"gridcolor\": \"#506784\", \"linecolor\": \"#506784\", \"ticks\": \"\"}, \"bgcolor\": \"rgb(17,17,17)\", \"radialaxis\": {\"gridcolor\": \"#506784\", \"linecolor\": \"#506784\", \"ticks\": \"\"}}, \"scene\": {\"xaxis\": {\"backgroundcolor\": \"rgb(17,17,17)\", \"gridcolor\": \"#506784\", \"gridwidth\": 2, \"linecolor\": \"#506784\", \"showbackground\": true, \"ticks\": \"\", \"zerolinecolor\": \"#C8D4E3\"}, \"yaxis\": {\"backgroundcolor\": \"rgb(17,17,17)\", \"gridcolor\": \"#506784\", \"gridwidth\": 2, \"linecolor\": \"#506784\", \"showbackground\": true, \"ticks\": \"\", \"zerolinecolor\": \"#C8D4E3\"}, \"zaxis\": {\"backgroundcolor\": \"rgb(17,17,17)\", \"gridcolor\": \"#506784\", \"gridwidth\": 2, \"linecolor\": \"#506784\", \"showbackground\": true, \"ticks\": \"\", \"zerolinecolor\": \"#C8D4E3\"}}, \"shapedefaults\": {\"line\": {\"color\": \"#f2f5fa\"}}, \"sliderdefaults\": {\"bgcolor\": \"#C8D4E3\", \"bordercolor\": \"rgb(17,17,17)\", \"borderwidth\": 1, \"tickwidth\": 0}, \"ternary\": {\"aaxis\": {\"gridcolor\": \"#506784\", \"linecolor\": \"#506784\", \"ticks\": \"\"}, \"baxis\": {\"gridcolor\": \"#506784\", \"linecolor\": \"#506784\", \"ticks\": \"\"}, \"bgcolor\": \"rgb(17,17,17)\", \"caxis\": {\"gridcolor\": \"#506784\", \"linecolor\": \"#506784\", \"ticks\": \"\"}}, \"title\": {\"x\": 0.05}, \"updatemenudefaults\": {\"bgcolor\": \"#506784\", \"borderwidth\": 0}, \"xaxis\": {\"automargin\": true, \"gridcolor\": \"#283442\", \"linecolor\": \"#506784\", \"ticks\": \"\", \"title\": {\"standoff\": 15}, \"zerolinecolor\": \"#283442\", \"zerolinewidth\": 2}, \"yaxis\": {\"automargin\": true, \"gridcolor\": \"#283442\", \"linecolor\": \"#506784\", \"ticks\": \"\", \"title\": {\"standoff\": 15}, \"zerolinecolor\": \"#283442\", \"zerolinewidth\": 2}}}, \"title\": {\"text\": \"Top 7 Genres of movies with Johnny Depp\"}},\n",
       "                        {\"responsive\": true}\n",
       "                    ).then(function(){\n",
       "                            \n",
       "var gd = document.getElementById('ca7756af-6bf2-494f-a164-83e22b4032d4');\n",
       "var x = new MutationObserver(function (mutations, observer) {{\n",
       "        var display = window.getComputedStyle(gd).display;\n",
       "        if (!display || display === 'none') {{\n",
       "            console.log([gd, 'removed!']);\n",
       "            Plotly.purge(gd);\n",
       "            observer.disconnect();\n",
       "        }}\n",
       "}});\n",
       "\n",
       "// Listen for the removal of the full notebook cells\n",
       "var notebookContainer = gd.closest('#notebook-container');\n",
       "if (notebookContainer) {{\n",
       "    x.observe(notebookContainer, {childList: true});\n",
       "}}\n",
       "\n",
       "// Listen for the clearing of the current output cell\n",
       "var outputEl = gd.closest('.output');\n",
       "if (outputEl) {{\n",
       "    x.observe(outputEl, {childList: true});\n",
       "}}\n",
       "\n",
       "                        })\n",
       "                };\n",
       "                });\n",
       "            </script>\n",
       "        </div>"
      ]
     },
     "metadata": {},
     "output_type": "display_data"
    }
   ],
   "source": [
    "## figure out how to add rating\n",
    "fig = px.line_polar(df[0:7], r='number', theta='type', line_close=True, template=\"plotly_dark\",\n",
    "                   title = \"Top 7 Genres of movies with Johnny Depp\"\n",
    "                   , text = 'number')\n",
    "fig.update_traces(fill='toself')\n",
    "fig.show()"
   ]
  },
  {
   "cell_type": "code",
   "execution_count": 41,
   "metadata": {},
   "outputs": [
    {
     "data": {
      "text/plain": [
       "'<iframe id=\"igraph\" scrolling=\"no\" style=\"border:none;\" seamless=\"seamless\" src=\"https://plot.ly/~lmd003/3.embed\" height=\"525\" width=\"100%\"></iframe>'"
      ]
     },
     "execution_count": 41,
     "metadata": {},
     "output_type": "execute_result"
    }
   ],
   "source": [
    "#py.plot(fig, filename = 'top_7_categories_dark', auto_open=True)\n",
    "tls.get_embed('https://plot.ly/~lmd003/3/')"
   ]
  },
  {
   "cell_type": "code",
   "execution_count": 12,
   "metadata": {
    "scrolled": true
   },
   "outputs": [
    {
     "data": {
      "application/vnd.plotly.v1+json": {
       "config": {
        "plotlyServerURL": "https://plot.ly"
       },
       "data": [
        {
         "hoverlabel": {
          "namelength": 0
         },
         "hovertemplate": "strength=0-1<br>frequency=%{r}<br>direction=%{theta}",
         "legendgroup": "strength=0-1",
         "marker": {
          "color": "#fdca26"
         },
         "name": "strength=0-1",
         "r": [
          0.5,
          0.6,
          0.5,
          0.4,
          0.4,
          0.3,
          0.4,
          0.4,
          0.6,
          0.4,
          0.5,
          0.6,
          0.6,
          0.5,
          0.4,
          0.1
         ],
         "showlegend": true,
         "subplot": "polar",
         "theta": [
          "N",
          "NNE",
          "NE",
          "ENE",
          "E",
          "ESE",
          "SE",
          "SSE",
          "S",
          "SSW",
          "SW",
          "WSW",
          "W",
          "WNW",
          "NW",
          "NNW"
         ],
         "type": "barpolar"
        },
        {
         "hoverlabel": {
          "namelength": 0
         },
         "hovertemplate": "strength=1-2<br>frequency=%{r}<br>direction=%{theta}",
         "legendgroup": "strength=1-2",
         "marker": {
          "color": "#fb9f3a"
         },
         "name": "strength=1-2",
         "r": [
          1.6,
          1.8,
          1.5,
          1.6,
          1.6,
          1.2,
          1.5,
          1.7,
          2.2,
          2,
          2.3,
          2.4,
          2.3,
          2.6,
          2.3,
          0.8
         ],
         "showlegend": true,
         "subplot": "polar",
         "theta": [
          "N",
          "NNE",
          "NE",
          "ENE",
          "E",
          "ESE",
          "SE",
          "SSE",
          "S",
          "SSW",
          "SW",
          "WSW",
          "W",
          "WNW",
          "NW",
          "NNW"
         ],
         "type": "barpolar"
        },
        {
         "hoverlabel": {
          "namelength": 0
         },
         "hovertemplate": "strength=2-3<br>frequency=%{r}<br>direction=%{theta}",
         "legendgroup": "strength=2-3",
         "marker": {
          "color": "#ed7953"
         },
         "name": "strength=2-3",
         "r": [
          0.9,
          1.3,
          1.6,
          0.9,
          1,
          0.6,
          0.6,
          0.9,
          1.4,
          1.7,
          1.9,
          2.2,
          1.8,
          1.7,
          1.8,
          0.8
         ],
         "showlegend": true,
         "subplot": "polar",
         "theta": [
          "N",
          "NNE",
          "NE",
          "ENE",
          "E",
          "ESE",
          "SE",
          "SSE",
          "S",
          "SSW",
          "SW",
          "WSW",
          "W",
          "WNW",
          "NW",
          "NNW"
         ],
         "type": "barpolar"
        },
        {
         "hoverlabel": {
          "namelength": 0
         },
         "hovertemplate": "strength=3-4<br>frequency=%{r}<br>direction=%{theta}",
         "legendgroup": "strength=3-4",
         "marker": {
          "color": "#d8576b"
         },
         "name": "strength=3-4",
         "r": [
          0.9,
          0.8,
          1.2,
          1,
          0.8,
          0.4,
          0.5,
          0.5,
          0.8,
          0.9,
          1.3,
          1.1,
          1.2,
          1.2,
          1.3,
          1
         ],
         "showlegend": true,
         "subplot": "polar",
         "theta": [
          "N",
          "NNE",
          "NE",
          "ENE",
          "E",
          "ESE",
          "SE",
          "SSE",
          "S",
          "SSW",
          "SW",
          "WSW",
          "W",
          "WNW",
          "NW",
          "NNW"
         ],
         "type": "barpolar"
        },
        {
         "hoverlabel": {
          "namelength": 0
         },
         "hovertemplate": "strength=4-4<br>frequency=%{r}<br>direction=%{theta}",
         "legendgroup": "strength=4-4",
         "marker": {
          "color": "#bd3786"
         },
         "name": "strength=4-4",
         "r": [
          0.4,
          0.5,
          1.2,
          0.5,
          0.4,
          0.2,
          0.4,
          0.4,
          0.7,
          0.6,
          0.7,
          0.8,
          0.9,
          1,
          1,
          0.7
         ],
         "showlegend": true,
         "subplot": "polar",
         "theta": [
          "N",
          "NNE",
          "NE",
          "ENE",
          "E",
          "ESE",
          "SE",
          "SSE",
          "S",
          "SSW",
          "SW",
          "WSW",
          "W",
          "WNW",
          "NW",
          "NNW"
         ],
         "type": "barpolar"
        },
        {
         "hoverlabel": {
          "namelength": 0
         },
         "hovertemplate": "strength=4-5<br>frequency=%{r}<br>direction=%{theta}",
         "legendgroup": "strength=4-5",
         "marker": {
          "color": "#9c179e"
         },
         "name": "strength=4-5",
         "r": [
          0.3,
          0.3,
          0.6,
          0.2,
          0.1,
          0.1,
          0.05,
          0.1,
          0.1,
          0.2,
          0.3,
          0.4,
          0.9,
          0.9,
          0.9,
          0.3
         ],
         "showlegend": true,
         "subplot": "polar",
         "theta": [
          "N",
          "NNE",
          "NE",
          "ENE",
          "E",
          "ESE",
          "SE",
          "SSE",
          "S",
          "SSW",
          "SW",
          "WSW",
          "W",
          "WNW",
          "NW",
          "NNW"
         ],
         "type": "barpolar"
        },
        {
         "hoverlabel": {
          "namelength": 0
         },
         "hovertemplate": "strength=5-6<br>frequency=%{r}<br>direction=%{theta}",
         "legendgroup": "strength=5-6",
         "marker": {
          "color": "#7201a8"
         },
         "name": "strength=5-6",
         "r": [
          0.2,
          0.1,
          0.1,
          0.1,
          0.1,
          0.1,
          0.05,
          0.05,
          0.1,
          0.05,
          0.2,
          0.2,
          0.4,
          0.7,
          0.7,
          0.4
         ],
         "showlegend": true,
         "subplot": "polar",
         "theta": [
          "N",
          "NNE",
          "NE",
          "ENE",
          "E",
          "ESE",
          "SE",
          "SSE",
          "S",
          "SSW",
          "SW",
          "WSW",
          "W",
          "WNW",
          "NW",
          "NNW"
         ],
         "type": "barpolar"
        },
        {
         "hoverlabel": {
          "namelength": 0
         },
         "hovertemplate": "strength=6+<br>frequency=%{r}<br>direction=%{theta}",
         "legendgroup": "strength=6+",
         "marker": {
          "color": "#46039f"
         },
         "name": "strength=6+",
         "r": [
          0.1,
          0.1,
          0.1,
          0.1,
          0.1,
          0.05,
          0.05,
          0.05,
          0.05,
          0.1,
          0.1,
          0.1,
          0.9,
          2.2,
          1.5,
          0.2
         ],
         "showlegend": true,
         "subplot": "polar",
         "theta": [
          "N",
          "NNE",
          "NE",
          "ENE",
          "E",
          "ESE",
          "SE",
          "SSE",
          "S",
          "SSW",
          "SW",
          "WSW",
          "W",
          "WNW",
          "NW",
          "NNW"
         ],
         "type": "barpolar"
        }
       ],
       "layout": {
        "barmode": "relative",
        "height": 600,
        "legend": {
         "tracegroupgap": 0
        },
        "margin": {
         "t": 60
        },
        "polar": {
         "angularaxis": {
          "direction": "clockwise",
          "rotation": 90
         },
         "domain": {
          "x": [
           0,
           1
          ],
          "y": [
           0,
           1
          ]
         }
        },
        "template": {
         "data": {
          "bar": [
           {
            "error_x": {
             "color": "#f2f5fa"
            },
            "error_y": {
             "color": "#f2f5fa"
            },
            "marker": {
             "line": {
              "color": "rgb(17,17,17)",
              "width": 0.5
             }
            },
            "type": "bar"
           }
          ],
          "barpolar": [
           {
            "marker": {
             "line": {
              "color": "rgb(17,17,17)",
              "width": 0.5
             }
            },
            "type": "barpolar"
           }
          ],
          "carpet": [
           {
            "aaxis": {
             "endlinecolor": "#A2B1C6",
             "gridcolor": "#506784",
             "linecolor": "#506784",
             "minorgridcolor": "#506784",
             "startlinecolor": "#A2B1C6"
            },
            "baxis": {
             "endlinecolor": "#A2B1C6",
             "gridcolor": "#506784",
             "linecolor": "#506784",
             "minorgridcolor": "#506784",
             "startlinecolor": "#A2B1C6"
            },
            "type": "carpet"
           }
          ],
          "choropleth": [
           {
            "colorbar": {
             "outlinewidth": 0,
             "ticks": ""
            },
            "type": "choropleth"
           }
          ],
          "contour": [
           {
            "colorbar": {
             "outlinewidth": 0,
             "ticks": ""
            },
            "colorscale": [
             [
              0,
              "#0d0887"
             ],
             [
              0.1111111111111111,
              "#46039f"
             ],
             [
              0.2222222222222222,
              "#7201a8"
             ],
             [
              0.3333333333333333,
              "#9c179e"
             ],
             [
              0.4444444444444444,
              "#bd3786"
             ],
             [
              0.5555555555555556,
              "#d8576b"
             ],
             [
              0.6666666666666666,
              "#ed7953"
             ],
             [
              0.7777777777777778,
              "#fb9f3a"
             ],
             [
              0.8888888888888888,
              "#fdca26"
             ],
             [
              1,
              "#f0f921"
             ]
            ],
            "type": "contour"
           }
          ],
          "contourcarpet": [
           {
            "colorbar": {
             "outlinewidth": 0,
             "ticks": ""
            },
            "type": "contourcarpet"
           }
          ],
          "heatmap": [
           {
            "colorbar": {
             "outlinewidth": 0,
             "ticks": ""
            },
            "colorscale": [
             [
              0,
              "#0d0887"
             ],
             [
              0.1111111111111111,
              "#46039f"
             ],
             [
              0.2222222222222222,
              "#7201a8"
             ],
             [
              0.3333333333333333,
              "#9c179e"
             ],
             [
              0.4444444444444444,
              "#bd3786"
             ],
             [
              0.5555555555555556,
              "#d8576b"
             ],
             [
              0.6666666666666666,
              "#ed7953"
             ],
             [
              0.7777777777777778,
              "#fb9f3a"
             ],
             [
              0.8888888888888888,
              "#fdca26"
             ],
             [
              1,
              "#f0f921"
             ]
            ],
            "type": "heatmap"
           }
          ],
          "heatmapgl": [
           {
            "colorbar": {
             "outlinewidth": 0,
             "ticks": ""
            },
            "colorscale": [
             [
              0,
              "#0d0887"
             ],
             [
              0.1111111111111111,
              "#46039f"
             ],
             [
              0.2222222222222222,
              "#7201a8"
             ],
             [
              0.3333333333333333,
              "#9c179e"
             ],
             [
              0.4444444444444444,
              "#bd3786"
             ],
             [
              0.5555555555555556,
              "#d8576b"
             ],
             [
              0.6666666666666666,
              "#ed7953"
             ],
             [
              0.7777777777777778,
              "#fb9f3a"
             ],
             [
              0.8888888888888888,
              "#fdca26"
             ],
             [
              1,
              "#f0f921"
             ]
            ],
            "type": "heatmapgl"
           }
          ],
          "histogram": [
           {
            "marker": {
             "colorbar": {
              "outlinewidth": 0,
              "ticks": ""
             }
            },
            "type": "histogram"
           }
          ],
          "histogram2d": [
           {
            "colorbar": {
             "outlinewidth": 0,
             "ticks": ""
            },
            "colorscale": [
             [
              0,
              "#0d0887"
             ],
             [
              0.1111111111111111,
              "#46039f"
             ],
             [
              0.2222222222222222,
              "#7201a8"
             ],
             [
              0.3333333333333333,
              "#9c179e"
             ],
             [
              0.4444444444444444,
              "#bd3786"
             ],
             [
              0.5555555555555556,
              "#d8576b"
             ],
             [
              0.6666666666666666,
              "#ed7953"
             ],
             [
              0.7777777777777778,
              "#fb9f3a"
             ],
             [
              0.8888888888888888,
              "#fdca26"
             ],
             [
              1,
              "#f0f921"
             ]
            ],
            "type": "histogram2d"
           }
          ],
          "histogram2dcontour": [
           {
            "colorbar": {
             "outlinewidth": 0,
             "ticks": ""
            },
            "colorscale": [
             [
              0,
              "#0d0887"
             ],
             [
              0.1111111111111111,
              "#46039f"
             ],
             [
              0.2222222222222222,
              "#7201a8"
             ],
             [
              0.3333333333333333,
              "#9c179e"
             ],
             [
              0.4444444444444444,
              "#bd3786"
             ],
             [
              0.5555555555555556,
              "#d8576b"
             ],
             [
              0.6666666666666666,
              "#ed7953"
             ],
             [
              0.7777777777777778,
              "#fb9f3a"
             ],
             [
              0.8888888888888888,
              "#fdca26"
             ],
             [
              1,
              "#f0f921"
             ]
            ],
            "type": "histogram2dcontour"
           }
          ],
          "mesh3d": [
           {
            "colorbar": {
             "outlinewidth": 0,
             "ticks": ""
            },
            "type": "mesh3d"
           }
          ],
          "parcoords": [
           {
            "line": {
             "colorbar": {
              "outlinewidth": 0,
              "ticks": ""
             }
            },
            "type": "parcoords"
           }
          ],
          "pie": [
           {
            "automargin": true,
            "type": "pie"
           }
          ],
          "scatter": [
           {
            "marker": {
             "line": {
              "color": "#283442"
             }
            },
            "type": "scatter"
           }
          ],
          "scatter3d": [
           {
            "line": {
             "colorbar": {
              "outlinewidth": 0,
              "ticks": ""
             }
            },
            "marker": {
             "colorbar": {
              "outlinewidth": 0,
              "ticks": ""
             }
            },
            "type": "scatter3d"
           }
          ],
          "scattercarpet": [
           {
            "marker": {
             "colorbar": {
              "outlinewidth": 0,
              "ticks": ""
             }
            },
            "type": "scattercarpet"
           }
          ],
          "scattergeo": [
           {
            "marker": {
             "colorbar": {
              "outlinewidth": 0,
              "ticks": ""
             }
            },
            "type": "scattergeo"
           }
          ],
          "scattergl": [
           {
            "marker": {
             "line": {
              "color": "#283442"
             }
            },
            "type": "scattergl"
           }
          ],
          "scattermapbox": [
           {
            "marker": {
             "colorbar": {
              "outlinewidth": 0,
              "ticks": ""
             }
            },
            "type": "scattermapbox"
           }
          ],
          "scatterpolar": [
           {
            "marker": {
             "colorbar": {
              "outlinewidth": 0,
              "ticks": ""
             }
            },
            "type": "scatterpolar"
           }
          ],
          "scatterpolargl": [
           {
            "marker": {
             "colorbar": {
              "outlinewidth": 0,
              "ticks": ""
             }
            },
            "type": "scatterpolargl"
           }
          ],
          "scatterternary": [
           {
            "marker": {
             "colorbar": {
              "outlinewidth": 0,
              "ticks": ""
             }
            },
            "type": "scatterternary"
           }
          ],
          "surface": [
           {
            "colorbar": {
             "outlinewidth": 0,
             "ticks": ""
            },
            "colorscale": [
             [
              0,
              "#0d0887"
             ],
             [
              0.1111111111111111,
              "#46039f"
             ],
             [
              0.2222222222222222,
              "#7201a8"
             ],
             [
              0.3333333333333333,
              "#9c179e"
             ],
             [
              0.4444444444444444,
              "#bd3786"
             ],
             [
              0.5555555555555556,
              "#d8576b"
             ],
             [
              0.6666666666666666,
              "#ed7953"
             ],
             [
              0.7777777777777778,
              "#fb9f3a"
             ],
             [
              0.8888888888888888,
              "#fdca26"
             ],
             [
              1,
              "#f0f921"
             ]
            ],
            "type": "surface"
           }
          ],
          "table": [
           {
            "cells": {
             "fill": {
              "color": "#506784"
             },
             "line": {
              "color": "rgb(17,17,17)"
             }
            },
            "header": {
             "fill": {
              "color": "#2a3f5f"
             },
             "line": {
              "color": "rgb(17,17,17)"
             }
            },
            "type": "table"
           }
          ]
         },
         "layout": {
          "annotationdefaults": {
           "arrowcolor": "#f2f5fa",
           "arrowhead": 0,
           "arrowwidth": 1
          },
          "coloraxis": {
           "colorbar": {
            "outlinewidth": 0,
            "ticks": ""
           }
          },
          "colorscale": {
           "diverging": [
            [
             0,
             "#8e0152"
            ],
            [
             0.1,
             "#c51b7d"
            ],
            [
             0.2,
             "#de77ae"
            ],
            [
             0.3,
             "#f1b6da"
            ],
            [
             0.4,
             "#fde0ef"
            ],
            [
             0.5,
             "#f7f7f7"
            ],
            [
             0.6,
             "#e6f5d0"
            ],
            [
             0.7,
             "#b8e186"
            ],
            [
             0.8,
             "#7fbc41"
            ],
            [
             0.9,
             "#4d9221"
            ],
            [
             1,
             "#276419"
            ]
           ],
           "sequential": [
            [
             0,
             "#0d0887"
            ],
            [
             0.1111111111111111,
             "#46039f"
            ],
            [
             0.2222222222222222,
             "#7201a8"
            ],
            [
             0.3333333333333333,
             "#9c179e"
            ],
            [
             0.4444444444444444,
             "#bd3786"
            ],
            [
             0.5555555555555556,
             "#d8576b"
            ],
            [
             0.6666666666666666,
             "#ed7953"
            ],
            [
             0.7777777777777778,
             "#fb9f3a"
            ],
            [
             0.8888888888888888,
             "#fdca26"
            ],
            [
             1,
             "#f0f921"
            ]
           ],
           "sequentialminus": [
            [
             0,
             "#0d0887"
            ],
            [
             0.1111111111111111,
             "#46039f"
            ],
            [
             0.2222222222222222,
             "#7201a8"
            ],
            [
             0.3333333333333333,
             "#9c179e"
            ],
            [
             0.4444444444444444,
             "#bd3786"
            ],
            [
             0.5555555555555556,
             "#d8576b"
            ],
            [
             0.6666666666666666,
             "#ed7953"
            ],
            [
             0.7777777777777778,
             "#fb9f3a"
            ],
            [
             0.8888888888888888,
             "#fdca26"
            ],
            [
             1,
             "#f0f921"
            ]
           ]
          },
          "colorway": [
           "#636efa",
           "#EF553B",
           "#00cc96",
           "#ab63fa",
           "#FFA15A",
           "#19d3f3",
           "#FF6692",
           "#B6E880",
           "#FF97FF",
           "#FECB52"
          ],
          "font": {
           "color": "#f2f5fa"
          },
          "geo": {
           "bgcolor": "rgb(17,17,17)",
           "lakecolor": "rgb(17,17,17)",
           "landcolor": "rgb(17,17,17)",
           "showlakes": true,
           "showland": true,
           "subunitcolor": "#506784"
          },
          "hoverlabel": {
           "align": "left"
          },
          "hovermode": "closest",
          "mapbox": {
           "style": "dark"
          },
          "paper_bgcolor": "rgb(17,17,17)",
          "plot_bgcolor": "rgb(17,17,17)",
          "polar": {
           "angularaxis": {
            "gridcolor": "#506784",
            "linecolor": "#506784",
            "ticks": ""
           },
           "bgcolor": "rgb(17,17,17)",
           "radialaxis": {
            "gridcolor": "#506784",
            "linecolor": "#506784",
            "ticks": ""
           }
          },
          "scene": {
           "xaxis": {
            "backgroundcolor": "rgb(17,17,17)",
            "gridcolor": "#506784",
            "gridwidth": 2,
            "linecolor": "#506784",
            "showbackground": true,
            "ticks": "",
            "zerolinecolor": "#C8D4E3"
           },
           "yaxis": {
            "backgroundcolor": "rgb(17,17,17)",
            "gridcolor": "#506784",
            "gridwidth": 2,
            "linecolor": "#506784",
            "showbackground": true,
            "ticks": "",
            "zerolinecolor": "#C8D4E3"
           },
           "zaxis": {
            "backgroundcolor": "rgb(17,17,17)",
            "gridcolor": "#506784",
            "gridwidth": 2,
            "linecolor": "#506784",
            "showbackground": true,
            "ticks": "",
            "zerolinecolor": "#C8D4E3"
           }
          },
          "shapedefaults": {
           "line": {
            "color": "#f2f5fa"
           }
          },
          "sliderdefaults": {
           "bgcolor": "#C8D4E3",
           "bordercolor": "rgb(17,17,17)",
           "borderwidth": 1,
           "tickwidth": 0
          },
          "ternary": {
           "aaxis": {
            "gridcolor": "#506784",
            "linecolor": "#506784",
            "ticks": ""
           },
           "baxis": {
            "gridcolor": "#506784",
            "linecolor": "#506784",
            "ticks": ""
           },
           "bgcolor": "rgb(17,17,17)",
           "caxis": {
            "gridcolor": "#506784",
            "linecolor": "#506784",
            "ticks": ""
           }
          },
          "title": {
           "x": 0.05
          },
          "updatemenudefaults": {
           "bgcolor": "#506784",
           "borderwidth": 0
          },
          "xaxis": {
           "automargin": true,
           "gridcolor": "#283442",
           "linecolor": "#506784",
           "ticks": "",
           "title": {
            "standoff": 15
           },
           "zerolinecolor": "#283442",
           "zerolinewidth": 2
          },
          "yaxis": {
           "automargin": true,
           "gridcolor": "#283442",
           "linecolor": "#506784",
           "ticks": "",
           "title": {
            "standoff": 15
           },
           "zerolinecolor": "#283442",
           "zerolinewidth": 2
          }
         }
        }
       }
      },
      "text/html": [
       "<div>\n",
       "        \n",
       "        \n",
       "            <div id=\"abaa5b3d-ba57-4b0a-a999-a5dde203f022\" class=\"plotly-graph-div\" style=\"height:600px; width:100%;\"></div>\n",
       "            <script type=\"text/javascript\">\n",
       "                require([\"plotly\"], function(Plotly) {\n",
       "                    window.PLOTLYENV=window.PLOTLYENV || {};\n",
       "                    \n",
       "                if (document.getElementById(\"abaa5b3d-ba57-4b0a-a999-a5dde203f022\")) {\n",
       "                    Plotly.newPlot(\n",
       "                        'abaa5b3d-ba57-4b0a-a999-a5dde203f022',\n",
       "                        [{\"hoverlabel\": {\"namelength\": 0}, \"hovertemplate\": \"strength=0-1<br>frequency=%{r}<br>direction=%{theta}\", \"legendgroup\": \"strength=0-1\", \"marker\": {\"color\": \"#fdca26\"}, \"name\": \"strength=0-1\", \"r\": [0.5, 0.6, 0.5, 0.4, 0.4, 0.3, 0.4, 0.4, 0.6, 0.4, 0.5, 0.6, 0.6, 0.5, 0.4, 0.1], \"showlegend\": true, \"subplot\": \"polar\", \"theta\": [\"N\", \"NNE\", \"NE\", \"ENE\", \"E\", \"ESE\", \"SE\", \"SSE\", \"S\", \"SSW\", \"SW\", \"WSW\", \"W\", \"WNW\", \"NW\", \"NNW\"], \"type\": \"barpolar\"}, {\"hoverlabel\": {\"namelength\": 0}, \"hovertemplate\": \"strength=1-2<br>frequency=%{r}<br>direction=%{theta}\", \"legendgroup\": \"strength=1-2\", \"marker\": {\"color\": \"#fb9f3a\"}, \"name\": \"strength=1-2\", \"r\": [1.6, 1.8, 1.5, 1.6, 1.6, 1.2, 1.5, 1.7, 2.2, 2.0, 2.3, 2.4, 2.3, 2.6, 2.3, 0.8], \"showlegend\": true, \"subplot\": \"polar\", \"theta\": [\"N\", \"NNE\", \"NE\", \"ENE\", \"E\", \"ESE\", \"SE\", \"SSE\", \"S\", \"SSW\", \"SW\", \"WSW\", \"W\", \"WNW\", \"NW\", \"NNW\"], \"type\": \"barpolar\"}, {\"hoverlabel\": {\"namelength\": 0}, \"hovertemplate\": \"strength=2-3<br>frequency=%{r}<br>direction=%{theta}\", \"legendgroup\": \"strength=2-3\", \"marker\": {\"color\": \"#ed7953\"}, \"name\": \"strength=2-3\", \"r\": [0.9, 1.3, 1.6, 0.9, 1.0, 0.6, 0.6, 0.9, 1.4, 1.7, 1.9, 2.2, 1.8, 1.7, 1.8, 0.8], \"showlegend\": true, \"subplot\": \"polar\", \"theta\": [\"N\", \"NNE\", \"NE\", \"ENE\", \"E\", \"ESE\", \"SE\", \"SSE\", \"S\", \"SSW\", \"SW\", \"WSW\", \"W\", \"WNW\", \"NW\", \"NNW\"], \"type\": \"barpolar\"}, {\"hoverlabel\": {\"namelength\": 0}, \"hovertemplate\": \"strength=3-4<br>frequency=%{r}<br>direction=%{theta}\", \"legendgroup\": \"strength=3-4\", \"marker\": {\"color\": \"#d8576b\"}, \"name\": \"strength=3-4\", \"r\": [0.9, 0.8, 1.2, 1.0, 0.8, 0.4, 0.5, 0.5, 0.8, 0.9, 1.3, 1.1, 1.2, 1.2, 1.3, 1.0], \"showlegend\": true, \"subplot\": \"polar\", \"theta\": [\"N\", \"NNE\", \"NE\", \"ENE\", \"E\", \"ESE\", \"SE\", \"SSE\", \"S\", \"SSW\", \"SW\", \"WSW\", \"W\", \"WNW\", \"NW\", \"NNW\"], \"type\": \"barpolar\"}, {\"hoverlabel\": {\"namelength\": 0}, \"hovertemplate\": \"strength=4-4<br>frequency=%{r}<br>direction=%{theta}\", \"legendgroup\": \"strength=4-4\", \"marker\": {\"color\": \"#bd3786\"}, \"name\": \"strength=4-4\", \"r\": [0.4, 0.5, 1.2, 0.5, 0.4, 0.2, 0.4, 0.4, 0.7, 0.6, 0.7, 0.8, 0.9, 1.0, 1.0, 0.7], \"showlegend\": true, \"subplot\": \"polar\", \"theta\": [\"N\", \"NNE\", \"NE\", \"ENE\", \"E\", \"ESE\", \"SE\", \"SSE\", \"S\", \"SSW\", \"SW\", \"WSW\", \"W\", \"WNW\", \"NW\", \"NNW\"], \"type\": \"barpolar\"}, {\"hoverlabel\": {\"namelength\": 0}, \"hovertemplate\": \"strength=4-5<br>frequency=%{r}<br>direction=%{theta}\", \"legendgroup\": \"strength=4-5\", \"marker\": {\"color\": \"#9c179e\"}, \"name\": \"strength=4-5\", \"r\": [0.3, 0.3, 0.6, 0.2, 0.1, 0.1, 0.05, 0.1, 0.1, 0.2, 0.3, 0.4, 0.9, 0.9, 0.9, 0.3], \"showlegend\": true, \"subplot\": \"polar\", \"theta\": [\"N\", \"NNE\", \"NE\", \"ENE\", \"E\", \"ESE\", \"SE\", \"SSE\", \"S\", \"SSW\", \"SW\", \"WSW\", \"W\", \"WNW\", \"NW\", \"NNW\"], \"type\": \"barpolar\"}, {\"hoverlabel\": {\"namelength\": 0}, \"hovertemplate\": \"strength=5-6<br>frequency=%{r}<br>direction=%{theta}\", \"legendgroup\": \"strength=5-6\", \"marker\": {\"color\": \"#7201a8\"}, \"name\": \"strength=5-6\", \"r\": [0.2, 0.1, 0.1, 0.1, 0.1, 0.1, 0.05, 0.05, 0.1, 0.05, 0.2, 0.2, 0.4, 0.7, 0.7, 0.4], \"showlegend\": true, \"subplot\": \"polar\", \"theta\": [\"N\", \"NNE\", \"NE\", \"ENE\", \"E\", \"ESE\", \"SE\", \"SSE\", \"S\", \"SSW\", \"SW\", \"WSW\", \"W\", \"WNW\", \"NW\", \"NNW\"], \"type\": \"barpolar\"}, {\"hoverlabel\": {\"namelength\": 0}, \"hovertemplate\": \"strength=6+<br>frequency=%{r}<br>direction=%{theta}\", \"legendgroup\": \"strength=6+\", \"marker\": {\"color\": \"#46039f\"}, \"name\": \"strength=6+\", \"r\": [0.1, 0.1, 0.1, 0.1, 0.1, 0.05, 0.05, 0.05, 0.05, 0.1, 0.1, 0.1, 0.9, 2.2, 1.5, 0.2], \"showlegend\": true, \"subplot\": \"polar\", \"theta\": [\"N\", \"NNE\", \"NE\", \"ENE\", \"E\", \"ESE\", \"SE\", \"SSE\", \"S\", \"SSW\", \"SW\", \"WSW\", \"W\", \"WNW\", \"NW\", \"NNW\"], \"type\": \"barpolar\"}],\n",
       "                        {\"barmode\": \"relative\", \"height\": 600, \"legend\": {\"tracegroupgap\": 0}, \"margin\": {\"t\": 60}, \"polar\": {\"angularaxis\": {\"direction\": \"clockwise\", \"rotation\": 90}, \"domain\": {\"x\": [0.0, 1.0], \"y\": [0.0, 1.0]}}, \"template\": {\"data\": {\"bar\": [{\"error_x\": {\"color\": \"#f2f5fa\"}, \"error_y\": {\"color\": \"#f2f5fa\"}, \"marker\": {\"line\": {\"color\": \"rgb(17,17,17)\", \"width\": 0.5}}, \"type\": \"bar\"}], \"barpolar\": [{\"marker\": {\"line\": {\"color\": \"rgb(17,17,17)\", \"width\": 0.5}}, \"type\": \"barpolar\"}], \"carpet\": [{\"aaxis\": {\"endlinecolor\": \"#A2B1C6\", \"gridcolor\": \"#506784\", \"linecolor\": \"#506784\", \"minorgridcolor\": \"#506784\", \"startlinecolor\": \"#A2B1C6\"}, \"baxis\": {\"endlinecolor\": \"#A2B1C6\", \"gridcolor\": \"#506784\", \"linecolor\": \"#506784\", \"minorgridcolor\": \"#506784\", \"startlinecolor\": \"#A2B1C6\"}, \"type\": \"carpet\"}], \"choropleth\": [{\"colorbar\": {\"outlinewidth\": 0, \"ticks\": \"\"}, \"type\": \"choropleth\"}], \"contour\": [{\"colorbar\": {\"outlinewidth\": 0, \"ticks\": \"\"}, \"colorscale\": [[0.0, \"#0d0887\"], [0.1111111111111111, \"#46039f\"], [0.2222222222222222, \"#7201a8\"], [0.3333333333333333, \"#9c179e\"], [0.4444444444444444, \"#bd3786\"], [0.5555555555555556, \"#d8576b\"], [0.6666666666666666, \"#ed7953\"], [0.7777777777777778, \"#fb9f3a\"], [0.8888888888888888, \"#fdca26\"], [1.0, \"#f0f921\"]], \"type\": \"contour\"}], \"contourcarpet\": [{\"colorbar\": {\"outlinewidth\": 0, \"ticks\": \"\"}, \"type\": \"contourcarpet\"}], \"heatmap\": [{\"colorbar\": {\"outlinewidth\": 0, \"ticks\": \"\"}, \"colorscale\": [[0.0, \"#0d0887\"], [0.1111111111111111, \"#46039f\"], [0.2222222222222222, \"#7201a8\"], [0.3333333333333333, \"#9c179e\"], [0.4444444444444444, \"#bd3786\"], [0.5555555555555556, \"#d8576b\"], [0.6666666666666666, \"#ed7953\"], [0.7777777777777778, \"#fb9f3a\"], [0.8888888888888888, \"#fdca26\"], [1.0, \"#f0f921\"]], \"type\": \"heatmap\"}], \"heatmapgl\": [{\"colorbar\": {\"outlinewidth\": 0, \"ticks\": \"\"}, \"colorscale\": [[0.0, \"#0d0887\"], [0.1111111111111111, \"#46039f\"], [0.2222222222222222, \"#7201a8\"], [0.3333333333333333, \"#9c179e\"], [0.4444444444444444, \"#bd3786\"], [0.5555555555555556, \"#d8576b\"], [0.6666666666666666, \"#ed7953\"], [0.7777777777777778, \"#fb9f3a\"], [0.8888888888888888, \"#fdca26\"], [1.0, \"#f0f921\"]], \"type\": \"heatmapgl\"}], \"histogram\": [{\"marker\": {\"colorbar\": {\"outlinewidth\": 0, \"ticks\": \"\"}}, \"type\": \"histogram\"}], \"histogram2d\": [{\"colorbar\": {\"outlinewidth\": 0, \"ticks\": \"\"}, \"colorscale\": [[0.0, \"#0d0887\"], [0.1111111111111111, \"#46039f\"], [0.2222222222222222, \"#7201a8\"], [0.3333333333333333, \"#9c179e\"], [0.4444444444444444, \"#bd3786\"], [0.5555555555555556, \"#d8576b\"], [0.6666666666666666, \"#ed7953\"], [0.7777777777777778, \"#fb9f3a\"], [0.8888888888888888, \"#fdca26\"], [1.0, \"#f0f921\"]], \"type\": \"histogram2d\"}], \"histogram2dcontour\": [{\"colorbar\": {\"outlinewidth\": 0, \"ticks\": \"\"}, \"colorscale\": [[0.0, \"#0d0887\"], [0.1111111111111111, \"#46039f\"], [0.2222222222222222, \"#7201a8\"], [0.3333333333333333, \"#9c179e\"], [0.4444444444444444, \"#bd3786\"], [0.5555555555555556, \"#d8576b\"], [0.6666666666666666, \"#ed7953\"], [0.7777777777777778, \"#fb9f3a\"], [0.8888888888888888, \"#fdca26\"], [1.0, \"#f0f921\"]], \"type\": \"histogram2dcontour\"}], \"mesh3d\": [{\"colorbar\": {\"outlinewidth\": 0, \"ticks\": \"\"}, \"type\": \"mesh3d\"}], \"parcoords\": [{\"line\": {\"colorbar\": {\"outlinewidth\": 0, \"ticks\": \"\"}}, \"type\": \"parcoords\"}], \"pie\": [{\"automargin\": true, \"type\": \"pie\"}], \"scatter\": [{\"marker\": {\"line\": {\"color\": \"#283442\"}}, \"type\": \"scatter\"}], \"scatter3d\": [{\"line\": {\"colorbar\": {\"outlinewidth\": 0, \"ticks\": \"\"}}, \"marker\": {\"colorbar\": {\"outlinewidth\": 0, \"ticks\": \"\"}}, \"type\": \"scatter3d\"}], \"scattercarpet\": [{\"marker\": {\"colorbar\": {\"outlinewidth\": 0, \"ticks\": \"\"}}, \"type\": \"scattercarpet\"}], \"scattergeo\": [{\"marker\": {\"colorbar\": {\"outlinewidth\": 0, \"ticks\": \"\"}}, \"type\": \"scattergeo\"}], \"scattergl\": [{\"marker\": {\"line\": {\"color\": \"#283442\"}}, \"type\": \"scattergl\"}], \"scattermapbox\": [{\"marker\": {\"colorbar\": {\"outlinewidth\": 0, \"ticks\": \"\"}}, \"type\": \"scattermapbox\"}], \"scatterpolar\": [{\"marker\": {\"colorbar\": {\"outlinewidth\": 0, \"ticks\": \"\"}}, \"type\": \"scatterpolar\"}], \"scatterpolargl\": [{\"marker\": {\"colorbar\": {\"outlinewidth\": 0, \"ticks\": \"\"}}, \"type\": \"scatterpolargl\"}], \"scatterternary\": [{\"marker\": {\"colorbar\": {\"outlinewidth\": 0, \"ticks\": \"\"}}, \"type\": \"scatterternary\"}], \"surface\": [{\"colorbar\": {\"outlinewidth\": 0, \"ticks\": \"\"}, \"colorscale\": [[0.0, \"#0d0887\"], [0.1111111111111111, \"#46039f\"], [0.2222222222222222, \"#7201a8\"], [0.3333333333333333, \"#9c179e\"], [0.4444444444444444, \"#bd3786\"], [0.5555555555555556, \"#d8576b\"], [0.6666666666666666, \"#ed7953\"], [0.7777777777777778, \"#fb9f3a\"], [0.8888888888888888, \"#fdca26\"], [1.0, \"#f0f921\"]], \"type\": \"surface\"}], \"table\": [{\"cells\": {\"fill\": {\"color\": \"#506784\"}, \"line\": {\"color\": \"rgb(17,17,17)\"}}, \"header\": {\"fill\": {\"color\": \"#2a3f5f\"}, \"line\": {\"color\": \"rgb(17,17,17)\"}}, \"type\": \"table\"}]}, \"layout\": {\"annotationdefaults\": {\"arrowcolor\": \"#f2f5fa\", \"arrowhead\": 0, \"arrowwidth\": 1}, \"coloraxis\": {\"colorbar\": {\"outlinewidth\": 0, \"ticks\": \"\"}}, \"colorscale\": {\"diverging\": [[0, \"#8e0152\"], [0.1, \"#c51b7d\"], [0.2, \"#de77ae\"], [0.3, \"#f1b6da\"], [0.4, \"#fde0ef\"], [0.5, \"#f7f7f7\"], [0.6, \"#e6f5d0\"], [0.7, \"#b8e186\"], [0.8, \"#7fbc41\"], [0.9, \"#4d9221\"], [1, \"#276419\"]], \"sequential\": [[0.0, \"#0d0887\"], [0.1111111111111111, \"#46039f\"], [0.2222222222222222, \"#7201a8\"], [0.3333333333333333, \"#9c179e\"], [0.4444444444444444, \"#bd3786\"], [0.5555555555555556, \"#d8576b\"], [0.6666666666666666, \"#ed7953\"], [0.7777777777777778, \"#fb9f3a\"], [0.8888888888888888, \"#fdca26\"], [1.0, \"#f0f921\"]], \"sequentialminus\": [[0.0, \"#0d0887\"], [0.1111111111111111, \"#46039f\"], [0.2222222222222222, \"#7201a8\"], [0.3333333333333333, \"#9c179e\"], [0.4444444444444444, \"#bd3786\"], [0.5555555555555556, \"#d8576b\"], [0.6666666666666666, \"#ed7953\"], [0.7777777777777778, \"#fb9f3a\"], [0.8888888888888888, \"#fdca26\"], [1.0, \"#f0f921\"]]}, \"colorway\": [\"#636efa\", \"#EF553B\", \"#00cc96\", \"#ab63fa\", \"#FFA15A\", \"#19d3f3\", \"#FF6692\", \"#B6E880\", \"#FF97FF\", \"#FECB52\"], \"font\": {\"color\": \"#f2f5fa\"}, \"geo\": {\"bgcolor\": \"rgb(17,17,17)\", \"lakecolor\": \"rgb(17,17,17)\", \"landcolor\": \"rgb(17,17,17)\", \"showlakes\": true, \"showland\": true, \"subunitcolor\": \"#506784\"}, \"hoverlabel\": {\"align\": \"left\"}, \"hovermode\": \"closest\", \"mapbox\": {\"style\": \"dark\"}, \"paper_bgcolor\": \"rgb(17,17,17)\", \"plot_bgcolor\": \"rgb(17,17,17)\", \"polar\": {\"angularaxis\": {\"gridcolor\": \"#506784\", \"linecolor\": \"#506784\", \"ticks\": \"\"}, \"bgcolor\": \"rgb(17,17,17)\", \"radialaxis\": {\"gridcolor\": \"#506784\", \"linecolor\": \"#506784\", \"ticks\": \"\"}}, \"scene\": {\"xaxis\": {\"backgroundcolor\": \"rgb(17,17,17)\", \"gridcolor\": \"#506784\", \"gridwidth\": 2, \"linecolor\": \"#506784\", \"showbackground\": true, \"ticks\": \"\", \"zerolinecolor\": \"#C8D4E3\"}, \"yaxis\": {\"backgroundcolor\": \"rgb(17,17,17)\", \"gridcolor\": \"#506784\", \"gridwidth\": 2, \"linecolor\": \"#506784\", \"showbackground\": true, \"ticks\": \"\", \"zerolinecolor\": \"#C8D4E3\"}, \"zaxis\": {\"backgroundcolor\": \"rgb(17,17,17)\", \"gridcolor\": \"#506784\", \"gridwidth\": 2, \"linecolor\": \"#506784\", \"showbackground\": true, \"ticks\": \"\", \"zerolinecolor\": \"#C8D4E3\"}}, \"shapedefaults\": {\"line\": {\"color\": \"#f2f5fa\"}}, \"sliderdefaults\": {\"bgcolor\": \"#C8D4E3\", \"bordercolor\": \"rgb(17,17,17)\", \"borderwidth\": 1, \"tickwidth\": 0}, \"ternary\": {\"aaxis\": {\"gridcolor\": \"#506784\", \"linecolor\": \"#506784\", \"ticks\": \"\"}, \"baxis\": {\"gridcolor\": \"#506784\", \"linecolor\": \"#506784\", \"ticks\": \"\"}, \"bgcolor\": \"rgb(17,17,17)\", \"caxis\": {\"gridcolor\": \"#506784\", \"linecolor\": \"#506784\", \"ticks\": \"\"}}, \"title\": {\"x\": 0.05}, \"updatemenudefaults\": {\"bgcolor\": \"#506784\", \"borderwidth\": 0}, \"xaxis\": {\"automargin\": true, \"gridcolor\": \"#283442\", \"linecolor\": \"#506784\", \"ticks\": \"\", \"title\": {\"standoff\": 15}, \"zerolinecolor\": \"#283442\", \"zerolinewidth\": 2}, \"yaxis\": {\"automargin\": true, \"gridcolor\": \"#283442\", \"linecolor\": \"#506784\", \"ticks\": \"\", \"title\": {\"standoff\": 15}, \"zerolinecolor\": \"#283442\", \"zerolinewidth\": 2}}}},\n",
       "                        {\"responsive\": true}\n",
       "                    ).then(function(){\n",
       "                            \n",
       "var gd = document.getElementById('abaa5b3d-ba57-4b0a-a999-a5dde203f022');\n",
       "var x = new MutationObserver(function (mutations, observer) {{\n",
       "        var display = window.getComputedStyle(gd).display;\n",
       "        if (!display || display === 'none') {{\n",
       "            console.log([gd, 'removed!']);\n",
       "            Plotly.purge(gd);\n",
       "            observer.disconnect();\n",
       "        }}\n",
       "}});\n",
       "\n",
       "// Listen for the removal of the full notebook cells\n",
       "var notebookContainer = gd.closest('#notebook-container');\n",
       "if (notebookContainer) {{\n",
       "    x.observe(notebookContainer, {childList: true});\n",
       "}}\n",
       "\n",
       "// Listen for the clearing of the current output cell\n",
       "var outputEl = gd.closest('.output');\n",
       "if (outputEl) {{\n",
       "    x.observe(outputEl, {childList: true});\n",
       "}}\n",
       "\n",
       "                        })\n",
       "                };\n",
       "                });\n",
       "            </script>\n",
       "        </div>"
      ]
     },
     "metadata": {},
     "output_type": "display_data"
    }
   ],
   "source": [
    "wind = px.data.wind()\n",
    "fig = px.bar_polar(wind, r=\"frequency\", theta=\"direction\", color=\"strength\", template=\"plotly_dark\",\n",
    "            color_discrete_sequence= px.colors.sequential.Plasma[-2::-1])\n",
    "fig.show()"
   ]
  },
  {
   "cell_type": "code",
   "execution_count": 43,
   "metadata": {},
   "outputs": [
    {
     "data": {
      "application/vnd.plotly.v1+json": {
       "config": {
        "plotlyServerURL": "https://plot.ly"
       },
       "data": [
        {
         "hoverlabel": {
          "namelength": 0
         },
         "hovertemplate": "AvgRatg=7.13<br>number=%{r}<br>type=%{theta}",
         "legendgroup": "AvgRatg=7.13",
         "marker": {
          "color": "rgb(5,48,97)"
         },
         "name": "AvgRatg=7.13",
         "r": [
          39
         ],
         "showlegend": true,
         "subplot": "polar",
         "theta": [
          "documentary"
         ],
         "type": "barpolar"
        },
        {
         "hoverlabel": {
          "namelength": 0
         },
         "hovertemplate": "AvgRatg=6.4<br>number=%{r}<br>type=%{theta}",
         "legendgroup": "AvgRatg=6.4",
         "marker": {
          "color": "rgb(33,102,172)"
         },
         "name": "AvgRatg=6.4",
         "r": [
          19
         ],
         "showlegend": true,
         "subplot": "polar",
         "theta": [
          "crime"
         ],
         "type": "barpolar"
        },
        {
         "hoverlabel": {
          "namelength": 0
         },
         "hovertemplate": "AvgRatg=6.28<br>number=%{r}<br>type=%{theta}",
         "legendgroup": "AvgRatg=6.28",
         "marker": {
          "color": "rgb(67,147,195)"
         },
         "name": "AvgRatg=6.28",
         "r": [
          19
         ],
         "showlegend": true,
         "subplot": "polar",
         "theta": [
          "romance"
         ],
         "type": "barpolar"
        },
        {
         "hoverlabel": {
          "namelength": 0
         },
         "hovertemplate": "AvgRatg=6.19<br>number=%{r}<br>type=%{theta}",
         "legendgroup": "AvgRatg=6.19",
         "marker": {
          "color": "rgb(146,197,222)"
         },
         "name": "AvgRatg=6.19",
         "r": [
          28
         ],
         "showlegend": true,
         "subplot": "polar",
         "theta": [
          "fantasy"
         ],
         "type": "barpolar"
        },
        {
         "hoverlabel": {
          "namelength": 0
         },
         "hovertemplate": "AvgRatg=5.86<br>number=%{r}<br>type=%{theta}",
         "legendgroup": "AvgRatg=5.86",
         "marker": {
          "color": "rgb(209,229,240)"
         },
         "name": "AvgRatg=5.86",
         "r": [
          25
         ],
         "showlegend": true,
         "subplot": "polar",
         "theta": [
          "adventure"
         ],
         "type": "barpolar"
        },
        {
         "hoverlabel": {
          "namelength": 0
         },
         "hovertemplate": "AvgRatg=5.75<br>number=%{r}<br>type=%{theta}",
         "legendgroup": "AvgRatg=5.75",
         "marker": {
          "color": "rgb(247,247,247)"
         },
         "name": "AvgRatg=5.75",
         "r": [
          39
         ],
         "showlegend": true,
         "subplot": "polar",
         "theta": [
          "comedy"
         ],
         "type": "barpolar"
        },
        {
         "hoverlabel": {
          "namelength": 0
         },
         "hovertemplate": "AvgRatg=5.59<br>number=%{r}<br>type=%{theta}",
         "legendgroup": "AvgRatg=5.59",
         "marker": {
          "color": "rgb(253,219,199)"
         },
         "name": "AvgRatg=5.59",
         "r": [
          59
         ],
         "showlegend": true,
         "subplot": "polar",
         "theta": [
          "drama"
         ],
         "type": "barpolar"
        }
       ],
       "layout": {
        "barmode": "relative",
        "height": 600,
        "legend": {
         "tracegroupgap": 0
        },
        "polar": {
         "angularaxis": {
          "direction": "clockwise",
          "rotation": 90
         },
         "domain": {
          "x": [
           0,
           1
          ],
          "y": [
           0,
           1
          ]
         }
        },
        "template": {
         "data": {
          "bar": [
           {
            "error_x": {
             "color": "#f2f5fa"
            },
            "error_y": {
             "color": "#f2f5fa"
            },
            "marker": {
             "line": {
              "color": "rgb(17,17,17)",
              "width": 0.5
             }
            },
            "type": "bar"
           }
          ],
          "barpolar": [
           {
            "marker": {
             "line": {
              "color": "rgb(17,17,17)",
              "width": 0.5
             }
            },
            "type": "barpolar"
           }
          ],
          "carpet": [
           {
            "aaxis": {
             "endlinecolor": "#A2B1C6",
             "gridcolor": "#506784",
             "linecolor": "#506784",
             "minorgridcolor": "#506784",
             "startlinecolor": "#A2B1C6"
            },
            "baxis": {
             "endlinecolor": "#A2B1C6",
             "gridcolor": "#506784",
             "linecolor": "#506784",
             "minorgridcolor": "#506784",
             "startlinecolor": "#A2B1C6"
            },
            "type": "carpet"
           }
          ],
          "choropleth": [
           {
            "colorbar": {
             "outlinewidth": 0,
             "ticks": ""
            },
            "type": "choropleth"
           }
          ],
          "contour": [
           {
            "colorbar": {
             "outlinewidth": 0,
             "ticks": ""
            },
            "colorscale": [
             [
              0,
              "#0d0887"
             ],
             [
              0.1111111111111111,
              "#46039f"
             ],
             [
              0.2222222222222222,
              "#7201a8"
             ],
             [
              0.3333333333333333,
              "#9c179e"
             ],
             [
              0.4444444444444444,
              "#bd3786"
             ],
             [
              0.5555555555555556,
              "#d8576b"
             ],
             [
              0.6666666666666666,
              "#ed7953"
             ],
             [
              0.7777777777777778,
              "#fb9f3a"
             ],
             [
              0.8888888888888888,
              "#fdca26"
             ],
             [
              1,
              "#f0f921"
             ]
            ],
            "type": "contour"
           }
          ],
          "contourcarpet": [
           {
            "colorbar": {
             "outlinewidth": 0,
             "ticks": ""
            },
            "type": "contourcarpet"
           }
          ],
          "heatmap": [
           {
            "colorbar": {
             "outlinewidth": 0,
             "ticks": ""
            },
            "colorscale": [
             [
              0,
              "#0d0887"
             ],
             [
              0.1111111111111111,
              "#46039f"
             ],
             [
              0.2222222222222222,
              "#7201a8"
             ],
             [
              0.3333333333333333,
              "#9c179e"
             ],
             [
              0.4444444444444444,
              "#bd3786"
             ],
             [
              0.5555555555555556,
              "#d8576b"
             ],
             [
              0.6666666666666666,
              "#ed7953"
             ],
             [
              0.7777777777777778,
              "#fb9f3a"
             ],
             [
              0.8888888888888888,
              "#fdca26"
             ],
             [
              1,
              "#f0f921"
             ]
            ],
            "type": "heatmap"
           }
          ],
          "heatmapgl": [
           {
            "colorbar": {
             "outlinewidth": 0,
             "ticks": ""
            },
            "colorscale": [
             [
              0,
              "#0d0887"
             ],
             [
              0.1111111111111111,
              "#46039f"
             ],
             [
              0.2222222222222222,
              "#7201a8"
             ],
             [
              0.3333333333333333,
              "#9c179e"
             ],
             [
              0.4444444444444444,
              "#bd3786"
             ],
             [
              0.5555555555555556,
              "#d8576b"
             ],
             [
              0.6666666666666666,
              "#ed7953"
             ],
             [
              0.7777777777777778,
              "#fb9f3a"
             ],
             [
              0.8888888888888888,
              "#fdca26"
             ],
             [
              1,
              "#f0f921"
             ]
            ],
            "type": "heatmapgl"
           }
          ],
          "histogram": [
           {
            "marker": {
             "colorbar": {
              "outlinewidth": 0,
              "ticks": ""
             }
            },
            "type": "histogram"
           }
          ],
          "histogram2d": [
           {
            "colorbar": {
             "outlinewidth": 0,
             "ticks": ""
            },
            "colorscale": [
             [
              0,
              "#0d0887"
             ],
             [
              0.1111111111111111,
              "#46039f"
             ],
             [
              0.2222222222222222,
              "#7201a8"
             ],
             [
              0.3333333333333333,
              "#9c179e"
             ],
             [
              0.4444444444444444,
              "#bd3786"
             ],
             [
              0.5555555555555556,
              "#d8576b"
             ],
             [
              0.6666666666666666,
              "#ed7953"
             ],
             [
              0.7777777777777778,
              "#fb9f3a"
             ],
             [
              0.8888888888888888,
              "#fdca26"
             ],
             [
              1,
              "#f0f921"
             ]
            ],
            "type": "histogram2d"
           }
          ],
          "histogram2dcontour": [
           {
            "colorbar": {
             "outlinewidth": 0,
             "ticks": ""
            },
            "colorscale": [
             [
              0,
              "#0d0887"
             ],
             [
              0.1111111111111111,
              "#46039f"
             ],
             [
              0.2222222222222222,
              "#7201a8"
             ],
             [
              0.3333333333333333,
              "#9c179e"
             ],
             [
              0.4444444444444444,
              "#bd3786"
             ],
             [
              0.5555555555555556,
              "#d8576b"
             ],
             [
              0.6666666666666666,
              "#ed7953"
             ],
             [
              0.7777777777777778,
              "#fb9f3a"
             ],
             [
              0.8888888888888888,
              "#fdca26"
             ],
             [
              1,
              "#f0f921"
             ]
            ],
            "type": "histogram2dcontour"
           }
          ],
          "mesh3d": [
           {
            "colorbar": {
             "outlinewidth": 0,
             "ticks": ""
            },
            "type": "mesh3d"
           }
          ],
          "parcoords": [
           {
            "line": {
             "colorbar": {
              "outlinewidth": 0,
              "ticks": ""
             }
            },
            "type": "parcoords"
           }
          ],
          "pie": [
           {
            "automargin": true,
            "type": "pie"
           }
          ],
          "scatter": [
           {
            "marker": {
             "line": {
              "color": "#283442"
             }
            },
            "type": "scatter"
           }
          ],
          "scatter3d": [
           {
            "line": {
             "colorbar": {
              "outlinewidth": 0,
              "ticks": ""
             }
            },
            "marker": {
             "colorbar": {
              "outlinewidth": 0,
              "ticks": ""
             }
            },
            "type": "scatter3d"
           }
          ],
          "scattercarpet": [
           {
            "marker": {
             "colorbar": {
              "outlinewidth": 0,
              "ticks": ""
             }
            },
            "type": "scattercarpet"
           }
          ],
          "scattergeo": [
           {
            "marker": {
             "colorbar": {
              "outlinewidth": 0,
              "ticks": ""
             }
            },
            "type": "scattergeo"
           }
          ],
          "scattergl": [
           {
            "marker": {
             "line": {
              "color": "#283442"
             }
            },
            "type": "scattergl"
           }
          ],
          "scattermapbox": [
           {
            "marker": {
             "colorbar": {
              "outlinewidth": 0,
              "ticks": ""
             }
            },
            "type": "scattermapbox"
           }
          ],
          "scatterpolar": [
           {
            "marker": {
             "colorbar": {
              "outlinewidth": 0,
              "ticks": ""
             }
            },
            "type": "scatterpolar"
           }
          ],
          "scatterpolargl": [
           {
            "marker": {
             "colorbar": {
              "outlinewidth": 0,
              "ticks": ""
             }
            },
            "type": "scatterpolargl"
           }
          ],
          "scatterternary": [
           {
            "marker": {
             "colorbar": {
              "outlinewidth": 0,
              "ticks": ""
             }
            },
            "type": "scatterternary"
           }
          ],
          "surface": [
           {
            "colorbar": {
             "outlinewidth": 0,
             "ticks": ""
            },
            "colorscale": [
             [
              0,
              "#0d0887"
             ],
             [
              0.1111111111111111,
              "#46039f"
             ],
             [
              0.2222222222222222,
              "#7201a8"
             ],
             [
              0.3333333333333333,
              "#9c179e"
             ],
             [
              0.4444444444444444,
              "#bd3786"
             ],
             [
              0.5555555555555556,
              "#d8576b"
             ],
             [
              0.6666666666666666,
              "#ed7953"
             ],
             [
              0.7777777777777778,
              "#fb9f3a"
             ],
             [
              0.8888888888888888,
              "#fdca26"
             ],
             [
              1,
              "#f0f921"
             ]
            ],
            "type": "surface"
           }
          ],
          "table": [
           {
            "cells": {
             "fill": {
              "color": "#506784"
             },
             "line": {
              "color": "rgb(17,17,17)"
             }
            },
            "header": {
             "fill": {
              "color": "#2a3f5f"
             },
             "line": {
              "color": "rgb(17,17,17)"
             }
            },
            "type": "table"
           }
          ]
         },
         "layout": {
          "annotationdefaults": {
           "arrowcolor": "#f2f5fa",
           "arrowhead": 0,
           "arrowwidth": 1
          },
          "coloraxis": {
           "colorbar": {
            "outlinewidth": 0,
            "ticks": ""
           }
          },
          "colorscale": {
           "diverging": [
            [
             0,
             "#8e0152"
            ],
            [
             0.1,
             "#c51b7d"
            ],
            [
             0.2,
             "#de77ae"
            ],
            [
             0.3,
             "#f1b6da"
            ],
            [
             0.4,
             "#fde0ef"
            ],
            [
             0.5,
             "#f7f7f7"
            ],
            [
             0.6,
             "#e6f5d0"
            ],
            [
             0.7,
             "#b8e186"
            ],
            [
             0.8,
             "#7fbc41"
            ],
            [
             0.9,
             "#4d9221"
            ],
            [
             1,
             "#276419"
            ]
           ],
           "sequential": [
            [
             0,
             "#0d0887"
            ],
            [
             0.1111111111111111,
             "#46039f"
            ],
            [
             0.2222222222222222,
             "#7201a8"
            ],
            [
             0.3333333333333333,
             "#9c179e"
            ],
            [
             0.4444444444444444,
             "#bd3786"
            ],
            [
             0.5555555555555556,
             "#d8576b"
            ],
            [
             0.6666666666666666,
             "#ed7953"
            ],
            [
             0.7777777777777778,
             "#fb9f3a"
            ],
            [
             0.8888888888888888,
             "#fdca26"
            ],
            [
             1,
             "#f0f921"
            ]
           ],
           "sequentialminus": [
            [
             0,
             "#0d0887"
            ],
            [
             0.1111111111111111,
             "#46039f"
            ],
            [
             0.2222222222222222,
             "#7201a8"
            ],
            [
             0.3333333333333333,
             "#9c179e"
            ],
            [
             0.4444444444444444,
             "#bd3786"
            ],
            [
             0.5555555555555556,
             "#d8576b"
            ],
            [
             0.6666666666666666,
             "#ed7953"
            ],
            [
             0.7777777777777778,
             "#fb9f3a"
            ],
            [
             0.8888888888888888,
             "#fdca26"
            ],
            [
             1,
             "#f0f921"
            ]
           ]
          },
          "colorway": [
           "#636efa",
           "#EF553B",
           "#00cc96",
           "#ab63fa",
           "#FFA15A",
           "#19d3f3",
           "#FF6692",
           "#B6E880",
           "#FF97FF",
           "#FECB52"
          ],
          "font": {
           "color": "#f2f5fa"
          },
          "geo": {
           "bgcolor": "rgb(17,17,17)",
           "lakecolor": "rgb(17,17,17)",
           "landcolor": "rgb(17,17,17)",
           "showlakes": true,
           "showland": true,
           "subunitcolor": "#506784"
          },
          "hoverlabel": {
           "align": "left"
          },
          "hovermode": "closest",
          "mapbox": {
           "style": "dark"
          },
          "paper_bgcolor": "rgb(17,17,17)",
          "plot_bgcolor": "rgb(17,17,17)",
          "polar": {
           "angularaxis": {
            "gridcolor": "#506784",
            "linecolor": "#506784",
            "ticks": ""
           },
           "bgcolor": "rgb(17,17,17)",
           "radialaxis": {
            "gridcolor": "#506784",
            "linecolor": "#506784",
            "ticks": ""
           }
          },
          "scene": {
           "xaxis": {
            "backgroundcolor": "rgb(17,17,17)",
            "gridcolor": "#506784",
            "gridwidth": 2,
            "linecolor": "#506784",
            "showbackground": true,
            "ticks": "",
            "zerolinecolor": "#C8D4E3"
           },
           "yaxis": {
            "backgroundcolor": "rgb(17,17,17)",
            "gridcolor": "#506784",
            "gridwidth": 2,
            "linecolor": "#506784",
            "showbackground": true,
            "ticks": "",
            "zerolinecolor": "#C8D4E3"
           },
           "zaxis": {
            "backgroundcolor": "rgb(17,17,17)",
            "gridcolor": "#506784",
            "gridwidth": 2,
            "linecolor": "#506784",
            "showbackground": true,
            "ticks": "",
            "zerolinecolor": "#C8D4E3"
           }
          },
          "shapedefaults": {
           "line": {
            "color": "#f2f5fa"
           }
          },
          "sliderdefaults": {
           "bgcolor": "#C8D4E3",
           "bordercolor": "rgb(17,17,17)",
           "borderwidth": 1,
           "tickwidth": 0
          },
          "ternary": {
           "aaxis": {
            "gridcolor": "#506784",
            "linecolor": "#506784",
            "ticks": ""
           },
           "baxis": {
            "gridcolor": "#506784",
            "linecolor": "#506784",
            "ticks": ""
           },
           "bgcolor": "rgb(17,17,17)",
           "caxis": {
            "gridcolor": "#506784",
            "linecolor": "#506784",
            "ticks": ""
           }
          },
          "title": {
           "x": 0.05
          },
          "updatemenudefaults": {
           "bgcolor": "#506784",
           "borderwidth": 0
          },
          "xaxis": {
           "automargin": true,
           "gridcolor": "#283442",
           "linecolor": "#506784",
           "ticks": "",
           "title": {
            "standoff": 15
           },
           "zerolinecolor": "#283442",
           "zerolinewidth": 2
          },
          "yaxis": {
           "automargin": true,
           "gridcolor": "#283442",
           "linecolor": "#506784",
           "ticks": "",
           "title": {
            "standoff": 15
           },
           "zerolinecolor": "#283442",
           "zerolinewidth": 2
          }
         }
        },
        "title": {
         "text": "Top 7 Genres of movies with Johnny Depp"
        }
       }
      },
      "text/html": [
       "<div>\n",
       "        \n",
       "        \n",
       "            <div id=\"41738e4b-ce8a-42b0-90da-af48a3575bba\" class=\"plotly-graph-div\" style=\"height:600px; width:100%;\"></div>\n",
       "            <script type=\"text/javascript\">\n",
       "                require([\"plotly\"], function(Plotly) {\n",
       "                    window.PLOTLYENV=window.PLOTLYENV || {};\n",
       "                    \n",
       "                if (document.getElementById(\"41738e4b-ce8a-42b0-90da-af48a3575bba\")) {\n",
       "                    Plotly.newPlot(\n",
       "                        '41738e4b-ce8a-42b0-90da-af48a3575bba',\n",
       "                        [{\"hoverlabel\": {\"namelength\": 0}, \"hovertemplate\": \"AvgRatg=7.13<br>number=%{r}<br>type=%{theta}\", \"legendgroup\": \"AvgRatg=7.13\", \"marker\": {\"color\": \"rgb(5,48,97)\"}, \"name\": \"AvgRatg=7.13\", \"r\": [39], \"showlegend\": true, \"subplot\": \"polar\", \"theta\": [\"documentary\"], \"type\": \"barpolar\"}, {\"hoverlabel\": {\"namelength\": 0}, \"hovertemplate\": \"AvgRatg=6.4<br>number=%{r}<br>type=%{theta}\", \"legendgroup\": \"AvgRatg=6.4\", \"marker\": {\"color\": \"rgb(33,102,172)\"}, \"name\": \"AvgRatg=6.4\", \"r\": [19], \"showlegend\": true, \"subplot\": \"polar\", \"theta\": [\"crime\"], \"type\": \"barpolar\"}, {\"hoverlabel\": {\"namelength\": 0}, \"hovertemplate\": \"AvgRatg=6.28<br>number=%{r}<br>type=%{theta}\", \"legendgroup\": \"AvgRatg=6.28\", \"marker\": {\"color\": \"rgb(67,147,195)\"}, \"name\": \"AvgRatg=6.28\", \"r\": [19], \"showlegend\": true, \"subplot\": \"polar\", \"theta\": [\"romance\"], \"type\": \"barpolar\"}, {\"hoverlabel\": {\"namelength\": 0}, \"hovertemplate\": \"AvgRatg=6.19<br>number=%{r}<br>type=%{theta}\", \"legendgroup\": \"AvgRatg=6.19\", \"marker\": {\"color\": \"rgb(146,197,222)\"}, \"name\": \"AvgRatg=6.19\", \"r\": [28], \"showlegend\": true, \"subplot\": \"polar\", \"theta\": [\"fantasy\"], \"type\": \"barpolar\"}, {\"hoverlabel\": {\"namelength\": 0}, \"hovertemplate\": \"AvgRatg=5.86<br>number=%{r}<br>type=%{theta}\", \"legendgroup\": \"AvgRatg=5.86\", \"marker\": {\"color\": \"rgb(209,229,240)\"}, \"name\": \"AvgRatg=5.86\", \"r\": [25], \"showlegend\": true, \"subplot\": \"polar\", \"theta\": [\"adventure\"], \"type\": \"barpolar\"}, {\"hoverlabel\": {\"namelength\": 0}, \"hovertemplate\": \"AvgRatg=5.75<br>number=%{r}<br>type=%{theta}\", \"legendgroup\": \"AvgRatg=5.75\", \"marker\": {\"color\": \"rgb(247,247,247)\"}, \"name\": \"AvgRatg=5.75\", \"r\": [39], \"showlegend\": true, \"subplot\": \"polar\", \"theta\": [\"comedy\"], \"type\": \"barpolar\"}, {\"hoverlabel\": {\"namelength\": 0}, \"hovertemplate\": \"AvgRatg=5.59<br>number=%{r}<br>type=%{theta}\", \"legendgroup\": \"AvgRatg=5.59\", \"marker\": {\"color\": \"rgb(253,219,199)\"}, \"name\": \"AvgRatg=5.59\", \"r\": [59], \"showlegend\": true, \"subplot\": \"polar\", \"theta\": [\"drama\"], \"type\": \"barpolar\"}],\n",
       "                        {\"barmode\": \"relative\", \"height\": 600, \"legend\": {\"tracegroupgap\": 0}, \"polar\": {\"angularaxis\": {\"direction\": \"clockwise\", \"rotation\": 90}, \"domain\": {\"x\": [0.0, 1.0], \"y\": [0.0, 1.0]}}, \"template\": {\"data\": {\"bar\": [{\"error_x\": {\"color\": \"#f2f5fa\"}, \"error_y\": {\"color\": \"#f2f5fa\"}, \"marker\": {\"line\": {\"color\": \"rgb(17,17,17)\", \"width\": 0.5}}, \"type\": \"bar\"}], \"barpolar\": [{\"marker\": {\"line\": {\"color\": \"rgb(17,17,17)\", \"width\": 0.5}}, \"type\": \"barpolar\"}], \"carpet\": [{\"aaxis\": {\"endlinecolor\": \"#A2B1C6\", \"gridcolor\": \"#506784\", \"linecolor\": \"#506784\", \"minorgridcolor\": \"#506784\", \"startlinecolor\": \"#A2B1C6\"}, \"baxis\": {\"endlinecolor\": \"#A2B1C6\", \"gridcolor\": \"#506784\", \"linecolor\": \"#506784\", \"minorgridcolor\": \"#506784\", \"startlinecolor\": \"#A2B1C6\"}, \"type\": \"carpet\"}], \"choropleth\": [{\"colorbar\": {\"outlinewidth\": 0, \"ticks\": \"\"}, \"type\": \"choropleth\"}], \"contour\": [{\"colorbar\": {\"outlinewidth\": 0, \"ticks\": \"\"}, \"colorscale\": [[0.0, \"#0d0887\"], [0.1111111111111111, \"#46039f\"], [0.2222222222222222, \"#7201a8\"], [0.3333333333333333, \"#9c179e\"], [0.4444444444444444, \"#bd3786\"], [0.5555555555555556, \"#d8576b\"], [0.6666666666666666, \"#ed7953\"], [0.7777777777777778, \"#fb9f3a\"], [0.8888888888888888, \"#fdca26\"], [1.0, \"#f0f921\"]], \"type\": \"contour\"}], \"contourcarpet\": [{\"colorbar\": {\"outlinewidth\": 0, \"ticks\": \"\"}, \"type\": \"contourcarpet\"}], \"heatmap\": [{\"colorbar\": {\"outlinewidth\": 0, \"ticks\": \"\"}, \"colorscale\": [[0.0, \"#0d0887\"], [0.1111111111111111, \"#46039f\"], [0.2222222222222222, \"#7201a8\"], [0.3333333333333333, \"#9c179e\"], [0.4444444444444444, \"#bd3786\"], [0.5555555555555556, \"#d8576b\"], [0.6666666666666666, \"#ed7953\"], [0.7777777777777778, \"#fb9f3a\"], [0.8888888888888888, \"#fdca26\"], [1.0, \"#f0f921\"]], \"type\": \"heatmap\"}], \"heatmapgl\": [{\"colorbar\": {\"outlinewidth\": 0, \"ticks\": \"\"}, \"colorscale\": [[0.0, \"#0d0887\"], [0.1111111111111111, \"#46039f\"], [0.2222222222222222, \"#7201a8\"], [0.3333333333333333, \"#9c179e\"], [0.4444444444444444, \"#bd3786\"], [0.5555555555555556, \"#d8576b\"], [0.6666666666666666, \"#ed7953\"], [0.7777777777777778, \"#fb9f3a\"], [0.8888888888888888, \"#fdca26\"], [1.0, \"#f0f921\"]], \"type\": \"heatmapgl\"}], \"histogram\": [{\"marker\": {\"colorbar\": {\"outlinewidth\": 0, \"ticks\": \"\"}}, \"type\": \"histogram\"}], \"histogram2d\": [{\"colorbar\": {\"outlinewidth\": 0, \"ticks\": \"\"}, \"colorscale\": [[0.0, \"#0d0887\"], [0.1111111111111111, \"#46039f\"], [0.2222222222222222, \"#7201a8\"], [0.3333333333333333, \"#9c179e\"], [0.4444444444444444, \"#bd3786\"], [0.5555555555555556, \"#d8576b\"], [0.6666666666666666, \"#ed7953\"], [0.7777777777777778, \"#fb9f3a\"], [0.8888888888888888, \"#fdca26\"], [1.0, \"#f0f921\"]], \"type\": \"histogram2d\"}], \"histogram2dcontour\": [{\"colorbar\": {\"outlinewidth\": 0, \"ticks\": \"\"}, \"colorscale\": [[0.0, \"#0d0887\"], [0.1111111111111111, \"#46039f\"], [0.2222222222222222, \"#7201a8\"], [0.3333333333333333, \"#9c179e\"], [0.4444444444444444, \"#bd3786\"], [0.5555555555555556, \"#d8576b\"], [0.6666666666666666, \"#ed7953\"], [0.7777777777777778, \"#fb9f3a\"], [0.8888888888888888, \"#fdca26\"], [1.0, \"#f0f921\"]], \"type\": \"histogram2dcontour\"}], \"mesh3d\": [{\"colorbar\": {\"outlinewidth\": 0, \"ticks\": \"\"}, \"type\": \"mesh3d\"}], \"parcoords\": [{\"line\": {\"colorbar\": {\"outlinewidth\": 0, \"ticks\": \"\"}}, \"type\": \"parcoords\"}], \"pie\": [{\"automargin\": true, \"type\": \"pie\"}], \"scatter\": [{\"marker\": {\"line\": {\"color\": \"#283442\"}}, \"type\": \"scatter\"}], \"scatter3d\": [{\"line\": {\"colorbar\": {\"outlinewidth\": 0, \"ticks\": \"\"}}, \"marker\": {\"colorbar\": {\"outlinewidth\": 0, \"ticks\": \"\"}}, \"type\": \"scatter3d\"}], \"scattercarpet\": [{\"marker\": {\"colorbar\": {\"outlinewidth\": 0, \"ticks\": \"\"}}, \"type\": \"scattercarpet\"}], \"scattergeo\": [{\"marker\": {\"colorbar\": {\"outlinewidth\": 0, \"ticks\": \"\"}}, \"type\": \"scattergeo\"}], \"scattergl\": [{\"marker\": {\"line\": {\"color\": \"#283442\"}}, \"type\": \"scattergl\"}], \"scattermapbox\": [{\"marker\": {\"colorbar\": {\"outlinewidth\": 0, \"ticks\": \"\"}}, \"type\": \"scattermapbox\"}], \"scatterpolar\": [{\"marker\": {\"colorbar\": {\"outlinewidth\": 0, \"ticks\": \"\"}}, \"type\": \"scatterpolar\"}], \"scatterpolargl\": [{\"marker\": {\"colorbar\": {\"outlinewidth\": 0, \"ticks\": \"\"}}, \"type\": \"scatterpolargl\"}], \"scatterternary\": [{\"marker\": {\"colorbar\": {\"outlinewidth\": 0, \"ticks\": \"\"}}, \"type\": \"scatterternary\"}], \"surface\": [{\"colorbar\": {\"outlinewidth\": 0, \"ticks\": \"\"}, \"colorscale\": [[0.0, \"#0d0887\"], [0.1111111111111111, \"#46039f\"], [0.2222222222222222, \"#7201a8\"], [0.3333333333333333, \"#9c179e\"], [0.4444444444444444, \"#bd3786\"], [0.5555555555555556, \"#d8576b\"], [0.6666666666666666, \"#ed7953\"], [0.7777777777777778, \"#fb9f3a\"], [0.8888888888888888, \"#fdca26\"], [1.0, \"#f0f921\"]], \"type\": \"surface\"}], \"table\": [{\"cells\": {\"fill\": {\"color\": \"#506784\"}, \"line\": {\"color\": \"rgb(17,17,17)\"}}, \"header\": {\"fill\": {\"color\": \"#2a3f5f\"}, \"line\": {\"color\": \"rgb(17,17,17)\"}}, \"type\": \"table\"}]}, \"layout\": {\"annotationdefaults\": {\"arrowcolor\": \"#f2f5fa\", \"arrowhead\": 0, \"arrowwidth\": 1}, \"coloraxis\": {\"colorbar\": {\"outlinewidth\": 0, \"ticks\": \"\"}}, \"colorscale\": {\"diverging\": [[0, \"#8e0152\"], [0.1, \"#c51b7d\"], [0.2, \"#de77ae\"], [0.3, \"#f1b6da\"], [0.4, \"#fde0ef\"], [0.5, \"#f7f7f7\"], [0.6, \"#e6f5d0\"], [0.7, \"#b8e186\"], [0.8, \"#7fbc41\"], [0.9, \"#4d9221\"], [1, \"#276419\"]], \"sequential\": [[0.0, \"#0d0887\"], [0.1111111111111111, \"#46039f\"], [0.2222222222222222, \"#7201a8\"], [0.3333333333333333, \"#9c179e\"], [0.4444444444444444, \"#bd3786\"], [0.5555555555555556, \"#d8576b\"], [0.6666666666666666, \"#ed7953\"], [0.7777777777777778, \"#fb9f3a\"], [0.8888888888888888, \"#fdca26\"], [1.0, \"#f0f921\"]], \"sequentialminus\": [[0.0, \"#0d0887\"], [0.1111111111111111, \"#46039f\"], [0.2222222222222222, \"#7201a8\"], [0.3333333333333333, \"#9c179e\"], [0.4444444444444444, \"#bd3786\"], [0.5555555555555556, \"#d8576b\"], [0.6666666666666666, \"#ed7953\"], [0.7777777777777778, \"#fb9f3a\"], [0.8888888888888888, \"#fdca26\"], [1.0, \"#f0f921\"]]}, \"colorway\": [\"#636efa\", \"#EF553B\", \"#00cc96\", \"#ab63fa\", \"#FFA15A\", \"#19d3f3\", \"#FF6692\", \"#B6E880\", \"#FF97FF\", \"#FECB52\"], \"font\": {\"color\": \"#f2f5fa\"}, \"geo\": {\"bgcolor\": \"rgb(17,17,17)\", \"lakecolor\": \"rgb(17,17,17)\", \"landcolor\": \"rgb(17,17,17)\", \"showlakes\": true, \"showland\": true, \"subunitcolor\": \"#506784\"}, \"hoverlabel\": {\"align\": \"left\"}, \"hovermode\": \"closest\", \"mapbox\": {\"style\": \"dark\"}, \"paper_bgcolor\": \"rgb(17,17,17)\", \"plot_bgcolor\": \"rgb(17,17,17)\", \"polar\": {\"angularaxis\": {\"gridcolor\": \"#506784\", \"linecolor\": \"#506784\", \"ticks\": \"\"}, \"bgcolor\": \"rgb(17,17,17)\", \"radialaxis\": {\"gridcolor\": \"#506784\", \"linecolor\": \"#506784\", \"ticks\": \"\"}}, \"scene\": {\"xaxis\": {\"backgroundcolor\": \"rgb(17,17,17)\", \"gridcolor\": \"#506784\", \"gridwidth\": 2, \"linecolor\": \"#506784\", \"showbackground\": true, \"ticks\": \"\", \"zerolinecolor\": \"#C8D4E3\"}, \"yaxis\": {\"backgroundcolor\": \"rgb(17,17,17)\", \"gridcolor\": \"#506784\", \"gridwidth\": 2, \"linecolor\": \"#506784\", \"showbackground\": true, \"ticks\": \"\", \"zerolinecolor\": \"#C8D4E3\"}, \"zaxis\": {\"backgroundcolor\": \"rgb(17,17,17)\", \"gridcolor\": \"#506784\", \"gridwidth\": 2, \"linecolor\": \"#506784\", \"showbackground\": true, \"ticks\": \"\", \"zerolinecolor\": \"#C8D4E3\"}}, \"shapedefaults\": {\"line\": {\"color\": \"#f2f5fa\"}}, \"sliderdefaults\": {\"bgcolor\": \"#C8D4E3\", \"bordercolor\": \"rgb(17,17,17)\", \"borderwidth\": 1, \"tickwidth\": 0}, \"ternary\": {\"aaxis\": {\"gridcolor\": \"#506784\", \"linecolor\": \"#506784\", \"ticks\": \"\"}, \"baxis\": {\"gridcolor\": \"#506784\", \"linecolor\": \"#506784\", \"ticks\": \"\"}, \"bgcolor\": \"rgb(17,17,17)\", \"caxis\": {\"gridcolor\": \"#506784\", \"linecolor\": \"#506784\", \"ticks\": \"\"}}, \"title\": {\"x\": 0.05}, \"updatemenudefaults\": {\"bgcolor\": \"#506784\", \"borderwidth\": 0}, \"xaxis\": {\"automargin\": true, \"gridcolor\": \"#283442\", \"linecolor\": \"#506784\", \"ticks\": \"\", \"title\": {\"standoff\": 15}, \"zerolinecolor\": \"#283442\", \"zerolinewidth\": 2}, \"yaxis\": {\"automargin\": true, \"gridcolor\": \"#283442\", \"linecolor\": \"#506784\", \"ticks\": \"\", \"title\": {\"standoff\": 15}, \"zerolinecolor\": \"#283442\", \"zerolinewidth\": 2}}}, \"title\": {\"text\": \"Top 7 Genres of movies with Johnny Depp\"}},\n",
       "                        {\"responsive\": true}\n",
       "                    ).then(function(){\n",
       "                            \n",
       "var gd = document.getElementById('41738e4b-ce8a-42b0-90da-af48a3575bba');\n",
       "var x = new MutationObserver(function (mutations, observer) {{\n",
       "        var display = window.getComputedStyle(gd).display;\n",
       "        if (!display || display === 'none') {{\n",
       "            console.log([gd, 'removed!']);\n",
       "            Plotly.purge(gd);\n",
       "            observer.disconnect();\n",
       "        }}\n",
       "}});\n",
       "\n",
       "// Listen for the removal of the full notebook cells\n",
       "var notebookContainer = gd.closest('#notebook-container');\n",
       "if (notebookContainer) {{\n",
       "    x.observe(notebookContainer, {childList: true});\n",
       "}}\n",
       "\n",
       "// Listen for the clearing of the current output cell\n",
       "var outputEl = gd.closest('.output');\n",
       "if (outputEl) {{\n",
       "    x.observe(outputEl, {childList: true});\n",
       "}}\n",
       "\n",
       "                        })\n",
       "                };\n",
       "                });\n",
       "            </script>\n",
       "        </div>"
      ]
     },
     "metadata": {},
     "output_type": "display_data"
    }
   ],
   "source": [
    "## figure out how to add rating as strength column (maybe avg?)\n",
    "fig = px.bar_polar(df[0:7].sort_values('AvgRatg', ascending = False), r='number', theta='type', color = 'AvgRatg',\n",
    "                   title = \"Top 7 Genres of movies with Johnny Depp\", template=\"plotly_dark\",\n",
    "                color_discrete_sequence= px.colors.colorbrewer.RdBu[::-1]\n",
    "                   )\n",
    "fig.show()"
   ]
  },
  {
   "cell_type": "code",
   "execution_count": 14,
   "metadata": {},
   "outputs": [
    {
     "data": {
      "text/plain": [
       "'https://plot.ly/~lmd003/3/'"
      ]
     },
     "execution_count": 14,
     "metadata": {},
     "output_type": "execute_result"
    }
   ],
   "source": [
    "#py.plot(fig, filename = 'top_7_movies_with_AvgRtng', auto_open=True)"
   ]
  },
  {
   "cell_type": "code",
   "execution_count": 15,
   "metadata": {},
   "outputs": [
    {
     "data": {
      "text/html": [
       "<div>\n",
       "<style scoped>\n",
       "    .dataframe tbody tr th:only-of-type {\n",
       "        vertical-align: middle;\n",
       "    }\n",
       "\n",
       "    .dataframe tbody tr th {\n",
       "        vertical-align: top;\n",
       "    }\n",
       "\n",
       "    .dataframe thead th {\n",
       "        text-align: right;\n",
       "    }\n",
       "</style>\n",
       "<table border=\"1\" class=\"dataframe\">\n",
       "  <thead>\n",
       "    <tr style=\"text-align: right;\">\n",
       "      <th></th>\n",
       "      <th>imdb_id</th>\n",
       "      <th>title</th>\n",
       "      <th>type</th>\n",
       "      <th>year</th>\n",
       "      <th>genres</th>\n",
       "      <th>rating</th>\n",
       "      <th>rating_count</th>\n",
       "      <th>release_date</th>\n",
       "    </tr>\n",
       "  </thead>\n",
       "  <tbody>\n",
       "    <tr>\n",
       "      <th>12</th>\n",
       "      <td>tt1790809</td>\n",
       "      <td>Pirates of the Caribbean: Dead Men Tell No Tales</td>\n",
       "      <td>movie</td>\n",
       "      <td>2017.0</td>\n",
       "      <td>('action', 'adventure', 'fantasy')</td>\n",
       "      <td>6.6</td>\n",
       "      <td>238145</td>\n",
       "      <td>2017-05-11</td>\n",
       "    </tr>\n",
       "    <tr>\n",
       "      <th>34</th>\n",
       "      <td>tt1298650</td>\n",
       "      <td>Pirates of the Caribbean: On Stranger Tides</td>\n",
       "      <td>movie</td>\n",
       "      <td>2011.0</td>\n",
       "      <td>('action', 'adventure', 'fantasy')</td>\n",
       "      <td>6.6</td>\n",
       "      <td>456261</td>\n",
       "      <td>2011-05-07</td>\n",
       "    </tr>\n",
       "    <tr>\n",
       "      <th>42</th>\n",
       "      <td>tt0449088</td>\n",
       "      <td>Pirates of the Caribbean: At World's End</td>\n",
       "      <td>movie</td>\n",
       "      <td>2007.0</td>\n",
       "      <td>('action', 'adventure', 'fantasy')</td>\n",
       "      <td>7.1</td>\n",
       "      <td>566639</td>\n",
       "      <td>2007-05-19</td>\n",
       "    </tr>\n",
       "    <tr>\n",
       "      <th>43</th>\n",
       "      <td>tt0383574</td>\n",
       "      <td>Pirates of the Caribbean: Dead Man's Chest</td>\n",
       "      <td>movie</td>\n",
       "      <td>2006.0</td>\n",
       "      <td>('action', 'adventure', 'fantasy')</td>\n",
       "      <td>7.3</td>\n",
       "      <td>623741</td>\n",
       "      <td>2006-06-24</td>\n",
       "    </tr>\n",
       "    <tr>\n",
       "      <th>53</th>\n",
       "      <td>tt0325980</td>\n",
       "      <td>Pirates of the Caribbean: The Curse of the Bla...</td>\n",
       "      <td>movie</td>\n",
       "      <td>2003.0</td>\n",
       "      <td>('action', 'adventure', 'fantasy')</td>\n",
       "      <td>8.0</td>\n",
       "      <td>977720</td>\n",
       "      <td>2003-06-28</td>\n",
       "    </tr>\n",
       "    <tr>\n",
       "      <th>504</th>\n",
       "      <td>tt0325980</td>\n",
       "      <td>Pirates of the Caribbean: The Curse of the Bla...</td>\n",
       "      <td>movie</td>\n",
       "      <td>2003.0</td>\n",
       "      <td>('action', 'adventure', 'fantasy')</td>\n",
       "      <td>8.0</td>\n",
       "      <td>977720</td>\n",
       "      <td>2003-06-28</td>\n",
       "    </tr>\n",
       "  </tbody>\n",
       "</table>\n",
       "</div>"
      ],
      "text/plain": [
       "       imdb_id                                              title   type  \\\n",
       "12   tt1790809   Pirates of the Caribbean: Dead Men Tell No Tales  movie   \n",
       "34   tt1298650        Pirates of the Caribbean: On Stranger Tides  movie   \n",
       "42   tt0449088           Pirates of the Caribbean: At World's End  movie   \n",
       "43   tt0383574         Pirates of the Caribbean: Dead Man's Chest  movie   \n",
       "53   tt0325980  Pirates of the Caribbean: The Curse of the Bla...  movie   \n",
       "504  tt0325980  Pirates of the Caribbean: The Curse of the Bla...  movie   \n",
       "\n",
       "       year                              genres  rating  rating_count  \\\n",
       "12   2017.0  ('action', 'adventure', 'fantasy')     6.6        238145   \n",
       "34   2011.0  ('action', 'adventure', 'fantasy')     6.6        456261   \n",
       "42   2007.0  ('action', 'adventure', 'fantasy')     7.1        566639   \n",
       "43   2006.0  ('action', 'adventure', 'fantasy')     7.3        623741   \n",
       "53   2003.0  ('action', 'adventure', 'fantasy')     8.0        977720   \n",
       "504  2003.0  ('action', 'adventure', 'fantasy')     8.0        977720   \n",
       "\n",
       "    release_date  \n",
       "12    2017-05-11  \n",
       "34    2011-05-07  \n",
       "42    2007-05-19  \n",
       "43    2006-06-24  \n",
       "53    2003-06-28  \n",
       "504   2003-06-28  "
      ]
     },
     "execution_count": 15,
     "metadata": {},
     "output_type": "execute_result"
    }
   ],
   "source": [
    "just_movies[just_movies['title'].str.contains('Pirates')]"
   ]
  },
  {
   "cell_type": "code",
   "execution_count": 16,
   "metadata": {},
   "outputs": [
    {
     "data": {
      "text/html": [
       "<div>\n",
       "<style scoped>\n",
       "    .dataframe tbody tr th:only-of-type {\n",
       "        vertical-align: middle;\n",
       "    }\n",
       "\n",
       "    .dataframe tbody tr th {\n",
       "        vertical-align: top;\n",
       "    }\n",
       "\n",
       "    .dataframe thead th {\n",
       "        text-align: right;\n",
       "    }\n",
       "</style>\n",
       "<table border=\"1\" class=\"dataframe\">\n",
       "  <thead>\n",
       "    <tr style=\"text-align: right;\">\n",
       "      <th></th>\n",
       "      <th>Market</th>\n",
       "      <th>Opening</th>\n",
       "      <th>Gross</th>\n",
       "      <th>Year</th>\n",
       "      <th>Movie</th>\n",
       "    </tr>\n",
       "  </thead>\n",
       "  <tbody>\n",
       "    <tr>\n",
       "      <th>0</th>\n",
       "      <td>Domestic</td>\n",
       "      <td>$46,630,690</td>\n",
       "      <td>$305,413,918</td>\n",
       "      <td>2003</td>\n",
       "      <td>2003 - Curse of the black Pearl</td>\n",
       "    </tr>\n",
       "    <tr>\n",
       "      <th>1</th>\n",
       "      <td>Austria</td>\n",
       "      <td>–</td>\n",
       "      <td>$5,323,779</td>\n",
       "      <td>2003</td>\n",
       "      <td>2003 - Curse of the black Pearl</td>\n",
       "    </tr>\n",
       "    <tr>\n",
       "      <th>2</th>\n",
       "      <td>Bulgaria</td>\n",
       "      <td>–</td>\n",
       "      <td>$119,897</td>\n",
       "      <td>2003</td>\n",
       "      <td>2003 - Curse of the black Pearl</td>\n",
       "    </tr>\n",
       "    <tr>\n",
       "      <th>3</th>\n",
       "      <td>Czech Republic</td>\n",
       "      <td>$176,482</td>\n",
       "      <td>$1,166,187</td>\n",
       "      <td>2003</td>\n",
       "      <td>2003 - Curse of the black Pearl</td>\n",
       "    </tr>\n",
       "    <tr>\n",
       "      <th>4</th>\n",
       "      <td>Egypt</td>\n",
       "      <td>–</td>\n",
       "      <td>$216,536</td>\n",
       "      <td>2003</td>\n",
       "      <td>2003 - Curse of the black Pearl</td>\n",
       "    </tr>\n",
       "  </tbody>\n",
       "</table>\n",
       "</div>"
      ],
      "text/plain": [
       "           Market       Opening          Gross  Year  \\\n",
       "0        Domestic  $46,630,690   $305,413,918   2003   \n",
       "1         Austria             –    $5,323,779   2003   \n",
       "2        Bulgaria             –      $119,897   2003   \n",
       "3  Czech Republic     $176,482     $1,166,187   2003   \n",
       "4           Egypt             –      $216,536   2003   \n",
       "\n",
       "                             Movie  \n",
       "0  2003 - Curse of the black Pearl  \n",
       "1  2003 - Curse of the black Pearl  \n",
       "2  2003 - Curse of the black Pearl  \n",
       "3  2003 - Curse of the black Pearl  \n",
       "4  2003 - Curse of the black Pearl  "
      ]
     },
     "execution_count": 16,
     "metadata": {},
     "output_type": "execute_result"
    }
   ],
   "source": [
    "p5 = pd.read_csv('POTC_5.csv').dropna(how = 'all').drop('Release Date', axis = 1)\n",
    "p5['Year'] = 2017\n",
    "p5['Movie'] = '2017 - Dead Men Tell No Tales'\n",
    "p4 = pd.read_csv('POTC_4.csv').dropna(how = 'all').drop('Release Date', axis = 1)\n",
    "p4['Year'] = 2011\n",
    "p4['Movie'] = '2011 - On Stranger Tides'\n",
    "p3 = pd.read_csv('POTC_3.csv').dropna(how = 'all').drop('Release Date', axis = 1)\n",
    "p3['Year'] = 2007\n",
    "p3['Movie'] = '2007 - At Worlds End'\n",
    "p2 = pd.read_csv('POTC_2.csv').dropna(how = 'all').drop('Release Date', axis = 1)\n",
    "p2['Year'] = 2006\n",
    "p2['Movie'] = '2006 - Dead Mans Chest'\n",
    "p1 = pd.read_csv('POTC_1.csv').dropna(how = 'all').drop('Release Date', axis = 1)\n",
    "p1['Year'] = 2003\n",
    "p1['Movie'] = '2003 - Curse of the black Pearl'\n",
    "p1.head()"
   ]
  },
  {
   "cell_type": "code",
   "execution_count": 17,
   "metadata": {},
   "outputs": [
    {
     "data": {
      "text/html": [
       "<div>\n",
       "<style scoped>\n",
       "    .dataframe tbody tr th:only-of-type {\n",
       "        vertical-align: middle;\n",
       "    }\n",
       "\n",
       "    .dataframe tbody tr th {\n",
       "        vertical-align: top;\n",
       "    }\n",
       "\n",
       "    .dataframe thead th {\n",
       "        text-align: right;\n",
       "    }\n",
       "</style>\n",
       "<table border=\"1\" class=\"dataframe\">\n",
       "  <thead>\n",
       "    <tr style=\"text-align: right;\">\n",
       "      <th></th>\n",
       "      <th>Market</th>\n",
       "      <th>Opening_x</th>\n",
       "      <th>Gross_x</th>\n",
       "      <th>Year_x</th>\n",
       "      <th>Movie_x</th>\n",
       "      <th>Opening_y</th>\n",
       "      <th>Gross_y</th>\n",
       "      <th>Year_y</th>\n",
       "      <th>Movie_y</th>\n",
       "      <th>Opening_x</th>\n",
       "      <th>...</th>\n",
       "      <th>Year_x</th>\n",
       "      <th>Movie_x</th>\n",
       "      <th>Opening_y</th>\n",
       "      <th>Gross_y</th>\n",
       "      <th>Year_y</th>\n",
       "      <th>Movie_y</th>\n",
       "      <th>Opening</th>\n",
       "      <th>Gross</th>\n",
       "      <th>Year</th>\n",
       "      <th>Movie</th>\n",
       "    </tr>\n",
       "  </thead>\n",
       "  <tbody>\n",
       "    <tr>\n",
       "      <th>0</th>\n",
       "      <td>Domestic</td>\n",
       "      <td>$62,983,253</td>\n",
       "      <td>$172,558,876</td>\n",
       "      <td>2017.0</td>\n",
       "      <td>2017 - Dead Men Tell No Tales</td>\n",
       "      <td>$90,151,958</td>\n",
       "      <td>$237,710,309</td>\n",
       "      <td>2011.0</td>\n",
       "      <td>2011 - On Stranger Tides</td>\n",
       "      <td>$114,732,820</td>\n",
       "      <td>...</td>\n",
       "      <td>2007.0</td>\n",
       "      <td>2007 - At Worlds End</td>\n",
       "      <td>$135,634,554</td>\n",
       "      <td>$422,614,379</td>\n",
       "      <td>2006.0</td>\n",
       "      <td>2006 - Dead Mans Chest</td>\n",
       "      <td>$46,630,690</td>\n",
       "      <td>$305,413,918</td>\n",
       "      <td>2003.0</td>\n",
       "      <td>2003 - Curse of the black Pearl</td>\n",
       "    </tr>\n",
       "    <tr>\n",
       "      <th>1</th>\n",
       "      <td>Austria</td>\n",
       "      <td>$633,316</td>\n",
       "      <td>$3,717,328</td>\n",
       "      <td>2017.0</td>\n",
       "      <td>2017 - Dead Men Tell No Tales</td>\n",
       "      <td>$2,208,651</td>\n",
       "      <td>$8,019,203</td>\n",
       "      <td>2011.0</td>\n",
       "      <td>2011 - On Stranger Tides</td>\n",
       "      <td>$1,999,236</td>\n",
       "      <td>...</td>\n",
       "      <td>2007.0</td>\n",
       "      <td>2007 - At Worlds End</td>\n",
       "      <td>–</td>\n",
       "      <td>$8,381,848</td>\n",
       "      <td>2006.0</td>\n",
       "      <td>2006 - Dead Mans Chest</td>\n",
       "      <td>–</td>\n",
       "      <td>$5,323,779</td>\n",
       "      <td>2003.0</td>\n",
       "      <td>2003 - Curse of the black Pearl</td>\n",
       "    </tr>\n",
       "    <tr>\n",
       "      <th>2</th>\n",
       "      <td>Belgium</td>\n",
       "      <td>$1,099,321</td>\n",
       "      <td>$5,287,437</td>\n",
       "      <td>2017.0</td>\n",
       "      <td>2017 - Dead Men Tell No Tales</td>\n",
       "      <td>$2,281,293</td>\n",
       "      <td>$8,462,456</td>\n",
       "      <td>2011.0</td>\n",
       "      <td>2011 - On Stranger Tides</td>\n",
       "      <td>$2,838,144</td>\n",
       "      <td>...</td>\n",
       "      <td>2007.0</td>\n",
       "      <td>2007 - At Worlds End</td>\n",
       "      <td>–</td>\n",
       "      <td>$9,810,197</td>\n",
       "      <td>2006.0</td>\n",
       "      <td>2006 - Dead Mans Chest</td>\n",
       "      <td>NaN</td>\n",
       "      <td>NaN</td>\n",
       "      <td>NaN</td>\n",
       "      <td>NaN</td>\n",
       "    </tr>\n",
       "    <tr>\n",
       "      <th>3</th>\n",
       "      <td>Bulgaria</td>\n",
       "      <td>$323,780</td>\n",
       "      <td>$1,143,629</td>\n",
       "      <td>2017.0</td>\n",
       "      <td>2017 - Dead Men Tell No Tales</td>\n",
       "      <td>$438,734</td>\n",
       "      <td>$1,394,133</td>\n",
       "      <td>2011.0</td>\n",
       "      <td>2011 - On Stranger Tides</td>\n",
       "      <td>$219,183</td>\n",
       "      <td>...</td>\n",
       "      <td>2007.0</td>\n",
       "      <td>2007 - At Worlds End</td>\n",
       "      <td>$164,477</td>\n",
       "      <td>$498,300</td>\n",
       "      <td>2006.0</td>\n",
       "      <td>2006 - Dead Mans Chest</td>\n",
       "      <td>–</td>\n",
       "      <td>$119,897</td>\n",
       "      <td>2003.0</td>\n",
       "      <td>2003 - Curse of the black Pearl</td>\n",
       "    </tr>\n",
       "    <tr>\n",
       "      <th>4</th>\n",
       "      <td>Czech Republic</td>\n",
       "      <td>$1,025,058</td>\n",
       "      <td>$3,616,902</td>\n",
       "      <td>2017.0</td>\n",
       "      <td>2017 - Dead Men Tell No Tales</td>\n",
       "      <td>$1,100,843</td>\n",
       "      <td>$3,876,389</td>\n",
       "      <td>2011.0</td>\n",
       "      <td>2011 - On Stranger Tides</td>\n",
       "      <td>$490,836</td>\n",
       "      <td>...</td>\n",
       "      <td>2007.0</td>\n",
       "      <td>2007 - At Worlds End</td>\n",
       "      <td>$629,176</td>\n",
       "      <td>$2,731,967</td>\n",
       "      <td>2006.0</td>\n",
       "      <td>2006 - Dead Mans Chest</td>\n",
       "      <td>$176,482</td>\n",
       "      <td>$1,166,187</td>\n",
       "      <td>2003.0</td>\n",
       "      <td>2003 - Curse of the black Pearl</td>\n",
       "    </tr>\n",
       "  </tbody>\n",
       "</table>\n",
       "<p>5 rows × 21 columns</p>\n",
       "</div>"
      ],
      "text/plain": [
       "           Market     Opening_x        Gross_x  Year_x  \\\n",
       "0        Domestic  $62,983,253   $172,558,876   2017.0   \n",
       "1         Austria     $633,316     $3,717,328   2017.0   \n",
       "2         Belgium   $1,099,321     $5,287,437   2017.0   \n",
       "3        Bulgaria     $323,780     $1,143,629   2017.0   \n",
       "4  Czech Republic   $1,025,058     $3,616,902   2017.0   \n",
       "\n",
       "                         Movie_x     Opening_y        Gross_y  Year_y  \\\n",
       "0  2017 - Dead Men Tell No Tales  $90,151,958   $237,710,309   2011.0   \n",
       "1  2017 - Dead Men Tell No Tales   $2,208,651     $8,019,203   2011.0   \n",
       "2  2017 - Dead Men Tell No Tales   $2,281,293     $8,462,456   2011.0   \n",
       "3  2017 - Dead Men Tell No Tales     $438,734     $1,394,133   2011.0   \n",
       "4  2017 - Dead Men Tell No Tales   $1,100,843     $3,876,389   2011.0   \n",
       "\n",
       "                    Movie_y      Opening_x               ...                 \\\n",
       "0  2011 - On Stranger Tides  $114,732,820                ...                  \n",
       "1  2011 - On Stranger Tides    $1,999,236                ...                  \n",
       "2  2011 - On Stranger Tides    $2,838,144                ...                  \n",
       "3  2011 - On Stranger Tides      $219,183                ...                  \n",
       "4  2011 - On Stranger Tides      $490,836                ...                  \n",
       "\n",
       "   Year_x               Movie_x      Opening_y        Gross_y  Year_y  \\\n",
       "0  2007.0  2007 - At Worlds End  $135,634,554   $422,614,379   2006.0   \n",
       "1  2007.0  2007 - At Worlds End              –    $8,381,848   2006.0   \n",
       "2  2007.0  2007 - At Worlds End              –    $9,810,197   2006.0   \n",
       "3  2007.0  2007 - At Worlds End      $164,477       $498,300   2006.0   \n",
       "4  2007.0  2007 - At Worlds End      $629,176     $2,731,967   2006.0   \n",
       "\n",
       "                  Movie_y       Opening          Gross    Year  \\\n",
       "0  2006 - Dead Mans Chest  $46,630,690   $305,413,918   2003.0   \n",
       "1  2006 - Dead Mans Chest             –    $5,323,779   2003.0   \n",
       "2  2006 - Dead Mans Chest           NaN            NaN     NaN   \n",
       "3  2006 - Dead Mans Chest             –      $119,897   2003.0   \n",
       "4  2006 - Dead Mans Chest     $176,482     $1,166,187   2003.0   \n",
       "\n",
       "                             Movie  \n",
       "0  2003 - Curse of the black Pearl  \n",
       "1  2003 - Curse of the black Pearl  \n",
       "2                              NaN  \n",
       "3  2003 - Curse of the black Pearl  \n",
       "4  2003 - Curse of the black Pearl  \n",
       "\n",
       "[5 rows x 21 columns]"
      ]
     },
     "execution_count": 17,
     "metadata": {},
     "output_type": "execute_result"
    }
   ],
   "source": [
    "m1 = p5.merge(p4, how = 'outer', left_on = 'Market', right_on = 'Market')\n",
    "m2 = m1.merge(p3, how = 'outer', left_on = 'Market', right_on = 'Market')\n",
    "m3 = m2.merge(p2, how = 'outer', left_on = 'Market', right_on = 'Market')\n",
    "m4 = m3.merge(p1, how = 'outer', left_on = 'Market', right_on = 'Market')\n",
    "m4.head()"
   ]
  },
  {
   "cell_type": "code",
   "execution_count": 44,
   "metadata": {},
   "outputs": [
    {
     "data": {
      "text/html": [
       "<div>\n",
       "<style scoped>\n",
       "    .dataframe tbody tr th:only-of-type {\n",
       "        vertical-align: middle;\n",
       "    }\n",
       "\n",
       "    .dataframe tbody tr th {\n",
       "        vertical-align: top;\n",
       "    }\n",
       "\n",
       "    .dataframe thead th {\n",
       "        text-align: right;\n",
       "    }\n",
       "</style>\n",
       "<table border=\"1\" class=\"dataframe\">\n",
       "  <thead>\n",
       "    <tr style=\"text-align: right;\">\n",
       "      <th></th>\n",
       "      <th>Country</th>\n",
       "      <th>iso_alpha</th>\n",
       "    </tr>\n",
       "  </thead>\n",
       "  <tbody>\n",
       "    <tr>\n",
       "      <th>28</th>\n",
       "      <td>Botswana</td>\n",
       "      <td>BWA</td>\n",
       "    </tr>\n",
       "    <tr>\n",
       "      <th>39</th>\n",
       "      <td>Canada</td>\n",
       "      <td>CAN</td>\n",
       "    </tr>\n",
       "    <tr>\n",
       "      <th>76</th>\n",
       "      <td>French Guiana</td>\n",
       "      <td>GUF</td>\n",
       "    </tr>\n",
       "    <tr>\n",
       "      <th>83</th>\n",
       "      <td>Ghana</td>\n",
       "      <td>GHA</td>\n",
       "    </tr>\n",
       "    <tr>\n",
       "      <th>94</th>\n",
       "      <td>Guyana</td>\n",
       "      <td>GUY</td>\n",
       "    </tr>\n",
       "    <tr>\n",
       "      <th>168</th>\n",
       "      <td>Northern Mariana Islands</td>\n",
       "      <td>MNP</td>\n",
       "    </tr>\n",
       "    <tr>\n",
       "      <th>174</th>\n",
       "      <td>Panama</td>\n",
       "      <td>PAN</td>\n",
       "    </tr>\n",
       "  </tbody>\n",
       "</table>\n",
       "</div>"
      ],
      "text/plain": [
       "                      Country iso_alpha\n",
       "28                   Botswana       BWA\n",
       "39                     Canada       CAN\n",
       "76              French Guiana       GUF\n",
       "83                      Ghana       GHA\n",
       "94                     Guyana       GUY\n",
       "168  Northern Mariana Islands       MNP\n",
       "174                    Panama       PAN"
      ]
     },
     "execution_count": 44,
     "metadata": {},
     "output_type": "execute_result"
    }
   ],
   "source": [
    "codes = pd.read_csv('countries_codes_and_coordinates.csv')\n",
    "codes = codes[['Country', 'Alpha-3 code']]\n",
    "codes.columns = ['Country', 'iso_alpha']\n",
    "codes['iso_alpha'] = codes['iso_alpha'].str.replace('\"', '').str.replace(\" \", '')\n",
    "codes[codes['Country'].str.contains('ana')]"
   ]
  },
  {
   "cell_type": "code",
   "execution_count": 48,
   "metadata": {},
   "outputs": [
    {
     "data": {
      "text/html": [
       "<div>\n",
       "<style scoped>\n",
       "    .dataframe tbody tr th:only-of-type {\n",
       "        vertical-align: middle;\n",
       "    }\n",
       "\n",
       "    .dataframe tbody tr th {\n",
       "        vertical-align: top;\n",
       "    }\n",
       "\n",
       "    .dataframe thead th {\n",
       "        text-align: right;\n",
       "    }\n",
       "</style>\n",
       "<table border=\"1\" class=\"dataframe\">\n",
       "  <thead>\n",
       "    <tr style=\"text-align: right;\">\n",
       "      <th></th>\n",
       "      <th>Market</th>\n",
       "      <th>Opening</th>\n",
       "      <th>Gross</th>\n",
       "      <th>Year</th>\n",
       "      <th>Movie</th>\n",
       "      <th>Country</th>\n",
       "      <th>iso_alpha</th>\n",
       "    </tr>\n",
       "  </thead>\n",
       "  <tbody>\n",
       "    <tr>\n",
       "      <th>263</th>\n",
       "      <td>Canada</td>\n",
       "      <td>46630690.0</td>\n",
       "      <td>305413918.0</td>\n",
       "      <td>2003</td>\n",
       "      <td>2003 - Curse of the black Pearl</td>\n",
       "      <td>Canada</td>\n",
       "      <td>CAN</td>\n",
       "    </tr>\n",
       "    <tr>\n",
       "      <th>264</th>\n",
       "      <td>Canada</td>\n",
       "      <td>135634554.0</td>\n",
       "      <td>422614379.0</td>\n",
       "      <td>2006</td>\n",
       "      <td>2006 - Dead Mans Chest</td>\n",
       "      <td>Canada</td>\n",
       "      <td>CAN</td>\n",
       "    </tr>\n",
       "    <tr>\n",
       "      <th>265</th>\n",
       "      <td>Canada</td>\n",
       "      <td>114732820.0</td>\n",
       "      <td>309420425.0</td>\n",
       "      <td>2007</td>\n",
       "      <td>2007 - At Worlds End</td>\n",
       "      <td>Canada</td>\n",
       "      <td>CAN</td>\n",
       "    </tr>\n",
       "    <tr>\n",
       "      <th>266</th>\n",
       "      <td>Canada</td>\n",
       "      <td>90151958.0</td>\n",
       "      <td>237710309.0</td>\n",
       "      <td>2011</td>\n",
       "      <td>2011 - On Stranger Tides</td>\n",
       "      <td>Canada</td>\n",
       "      <td>CAN</td>\n",
       "    </tr>\n",
       "    <tr>\n",
       "      <th>267</th>\n",
       "      <td>Canada</td>\n",
       "      <td>62983253.0</td>\n",
       "      <td>172558876.0</td>\n",
       "      <td>2017</td>\n",
       "      <td>2017 - Dead Men Tell No Tales</td>\n",
       "      <td>Canada</td>\n",
       "      <td>CAN</td>\n",
       "    </tr>\n",
       "  </tbody>\n",
       "</table>\n",
       "</div>"
      ],
      "text/plain": [
       "     Market      Opening        Gross  Year                            Movie  \\\n",
       "263  Canada   46630690.0  305413918.0  2003  2003 - Curse of the black Pearl   \n",
       "264  Canada  135634554.0  422614379.0  2006           2006 - Dead Mans Chest   \n",
       "265  Canada  114732820.0  309420425.0  2007             2007 - At Worlds End   \n",
       "266  Canada   90151958.0  237710309.0  2011         2011 - On Stranger Tides   \n",
       "267  Canada   62983253.0  172558876.0  2017    2017 - Dead Men Tell No Tales   \n",
       "\n",
       "    Country iso_alpha  \n",
       "263  Canada       CAN  \n",
       "264  Canada       CAN  \n",
       "265  Canada       CAN  \n",
       "266  Canada       CAN  \n",
       "267  Canada       CAN  "
      ]
     },
     "execution_count": 48,
     "metadata": {},
     "output_type": "execute_result"
    }
   ],
   "source": [
    "countries = pd.concat([p1, p2, p3, p4,p5]).sort_values([\"Market\", \"Year\"]).reset_index(drop = True)\n",
    "countries['Opening'] = pd.to_numeric(countries['Opening'].str.replace(',', '').str.replace('$', ''), errors='coerce').fillna(0)\n",
    "countries['Gross'] = pd.to_numeric(countries['Gross'].str.replace(',', '').str.replace('$', ''), errors='coerce').fillna(0)\n",
    "countries.Market = countries.Market.str.replace(\"Domestic\", \"United States\")\n",
    "countries.Market = countries.Market.str.replace(\"Russia/CIS\", \"Russia\")\n",
    "countries.Market = countries.Market.str.replace(\"Serbia and Montenegro\", \"Serbia\")\n",
    "countries.Market = countries.Market.str.replace(\"Syria\", \"Syrian Arab Republic\")\n",
    "countries = countries.merge(codes, left_on = 'Market', right_on ='Country',how = \"left\" )\n",
    "countries = countries.append({\"Market\": 'Canada', 'Opening': 46630690.0, 'Gross': 305413918.0,'Year':2003,'Movie': '2003 - Curse of the black Pearl', 'Country':'Canada', 'iso_alpha':'CAN'}, ignore_index=True)\n",
    "countries = countries.append({\"Market\": 'Canada', 'Opening': 135634554.0, 'Gross': 422614379.0,'Year':2006,'Movie': '2006 - Dead Mans Chest', 'Country':'Canada', 'iso_alpha':'CAN'}, ignore_index=True)\n",
    "countries = countries.append({\"Market\": 'Canada', 'Opening': 114732820.0, 'Gross': 309420425.0,'Year':2007,'Movie': '2007 - At Worlds End', 'Country':'Canada', 'iso_alpha':'CAN'}, ignore_index=True)\n",
    "countries = countries.append({\"Market\": 'Canada', 'Opening': 90151958.0, 'Gross': 237710309.0,'Year':2011,'Movie': '2011 - On Stranger Tides', 'Country':'Canada', 'iso_alpha':'CAN'}, ignore_index=True)\n",
    "countries = countries.append({\"Market\": 'Canada', 'Opening': 62983253.0, 'Gross': 172558876.0,'Year':2017,'Movie': '2017 - Dead Men Tell No Tales', 'Country':'Canada', 'iso_alpha':'CAN'}, ignore_index=True)\n",
    "#countries[countries['iso_alpha'] == 'RUS']\n",
    "countries[countries['Market'].str.contains('Can')]\n",
    "\n",
    "\n"
   ]
  },
  {
   "cell_type": "code",
   "execution_count": 49,
   "metadata": {},
   "outputs": [
    {
     "data": {
      "application/vnd.plotly.v1+json": {
       "config": {
        "plotlyServerURL": "https://plot.ly"
       },
       "data": [
        {
         "coloraxis": "coloraxis",
         "geo": "geo",
         "hoverlabel": {
          "namelength": 0
         },
         "hovertemplate": "<b>%{hovertext}</b><br><br>Movie=2003 - Curse of the black Pearl<br>iso_alpha=%{location}<br>Gross=%{z}",
         "hovertext": [
          "Argentina",
          "Australia",
          "Austria",
          "Bulgaria",
          "Chile",
          "China",
          "Czech Republic",
          "United States",
          "Egypt",
          "Finland",
          "France",
          "Germany",
          "Greece",
          "Hong Kong",
          "Hungary",
          "Italy",
          "Japan",
          "Mexico",
          "Netherlands",
          "New Zealand",
          "Norway",
          "Poland",
          "Russia",
          "South Africa",
          "Spain",
          "Taiwan",
          "Turkey",
          "United Kingdom",
          "Canada"
         ],
         "locations": [
          "ARG",
          "AUS",
          "AUT",
          "BGR",
          "CHL",
          "CHN",
          "CZE",
          "USA",
          "EGY",
          "FIN",
          "FRA",
          "DEU",
          "GRC",
          "HKG",
          "HUN",
          "ITA",
          "JPN",
          "MEX",
          "NLD",
          "NZL",
          "NOR",
          "POL",
          "RUS",
          "ZAF",
          "ESP",
          "TWN",
          "TUR",
          "GBR",
          "CAN"
         ],
         "name": "",
         "type": "choropleth",
         "z": [
          2754861,
          18476252,
          5323779,
          119897,
          913747,
          2980000,
          1166187,
          305413918,
          216536,
          2092881,
          22139594,
          44650393,
          3528750,
          1260924,
          494939,
          19028837,
          59861990,
          10985286,
          7181017,
          2773373,
          4492069,
          1640275,
          9060000,
          1575272,
          27158123,
          1827556,
          1420275,
          47801332,
          305413918
         ]
        }
       ],
       "frames": [
        {
         "data": [
          {
           "coloraxis": "coloraxis",
           "geo": "geo",
           "hoverlabel": {
            "namelength": 0
           },
           "hovertemplate": "<b>%{hovertext}</b><br><br>Movie=2003 - Curse of the black Pearl<br>iso_alpha=%{location}<br>Gross=%{z}",
           "hovertext": [
            "Argentina",
            "Australia",
            "Austria",
            "Bulgaria",
            "Chile",
            "China",
            "Czech Republic",
            "United States",
            "Egypt",
            "Finland",
            "France",
            "Germany",
            "Greece",
            "Hong Kong",
            "Hungary",
            "Italy",
            "Japan",
            "Mexico",
            "Netherlands",
            "New Zealand",
            "Norway",
            "Poland",
            "Russia",
            "South Africa",
            "Spain",
            "Taiwan",
            "Turkey",
            "United Kingdom",
            "Canada"
           ],
           "locations": [
            "ARG",
            "AUS",
            "AUT",
            "BGR",
            "CHL",
            "CHN",
            "CZE",
            "USA",
            "EGY",
            "FIN",
            "FRA",
            "DEU",
            "GRC",
            "HKG",
            "HUN",
            "ITA",
            "JPN",
            "MEX",
            "NLD",
            "NZL",
            "NOR",
            "POL",
            "RUS",
            "ZAF",
            "ESP",
            "TWN",
            "TUR",
            "GBR",
            "CAN"
           ],
           "name": "",
           "type": "choropleth",
           "z": [
            2754861,
            18476252,
            5323779,
            119897,
            913747,
            2980000,
            1166187,
            305413918,
            216536,
            2092881,
            22139594,
            44650393,
            3528750,
            1260924,
            494939,
            19028837,
            59861990,
            10985286,
            7181017,
            2773373,
            4492069,
            1640275,
            9060000,
            1575272,
            27158123,
            1827556,
            1420275,
            47801332,
            305413918
           ]
          }
         ],
         "name": "2003 - Curse of the black Pearl"
        },
        {
         "data": [
          {
           "coloraxis": "coloraxis",
           "geo": "geo",
           "hoverlabel": {
            "namelength": 0
           },
           "hovertemplate": "<b>%{hovertext}</b><br><br>Movie=2006 - Dead Mans Chest<br>iso_alpha=%{location}<br>Gross=%{z}",
           "hovertext": [
            "Argentina",
            "Australia",
            "Austria",
            "Belgium",
            "Brazil",
            "Bulgaria",
            "Czech Republic",
            "Denmark",
            "United States",
            "Egypt",
            "Finland",
            "France",
            "Germany",
            "Greece",
            "Hong Kong",
            "Iceland",
            "Indonesia",
            "Italy",
            "Japan",
            "Lebanon",
            "Malaysia",
            "Mexico",
            "Netherlands",
            "New Zealand",
            "Norway",
            "Poland",
            "Portugal",
            "Romania",
            "Russia",
            "Russia",
            "Serbia",
            "Singapore",
            "Slovakia",
            "South Africa",
            "South Korea",
            "Spain",
            "Sweden",
            "Switzerland",
            "Taiwan",
            "Thailand",
            "Turkey",
            "Ukraine",
            "United Arab Emirates",
            "United Kingdom",
            "Canada"
           ],
           "locations": [
            "ARG",
            "AUS",
            "AUT",
            "BEL",
            "BRA",
            "BGR",
            "CZE",
            "DNK",
            "USA",
            "EGY",
            "FIN",
            "FRA",
            "DEU",
            "GRC",
            "HKG",
            "ISL",
            "IDN",
            "ITA",
            "JPN",
            "LBN",
            "MYS",
            "MEX",
            "NLD",
            "NZL",
            "NOR",
            "POL",
            "PRT",
            "ROU",
            "RUS",
            "RUS",
            "SRB",
            "SGP",
            "SVK",
            "ZAF",
            "KOR",
            "ESP",
            "SWE",
            "CHE",
            "TWN",
            "THA",
            "TUR",
            "UKR",
            "ARE",
            "GBR",
            "CAN"
           ],
           "name": "",
           "type": "choropleth",
           "z": [
            4409190,
            28477460,
            8381848,
            9810197,
            10847794,
            498300,
            2731967,
            8621324,
            422614379,
            347134,
            4344625,
            46137427,
            61389002,
            6015200,
            4574736,
            669029,
            1540000,
            25212003,
            84511000,
            168012,
            2940000,
            18700000,
            13220674,
            4598022,
            8406170,
            5037777,
            3401938,
            323034,
            10890000,
            27520000,
            118740,
            2980000,
            644872,
            1733956,
            26600000,
            36609592,
            14228356,
            8298276,
            4544922,
            3630000,
            4677418,
            3124047,
            1700000,
            98668102,
            422614379
           ]
          }
         ],
         "name": "2006 - Dead Mans Chest"
        },
        {
         "data": [
          {
           "coloraxis": "coloraxis",
           "geo": "geo",
           "hoverlabel": {
            "namelength": 0
           },
           "hovertemplate": "<b>%{hovertext}</b><br><br>Movie=2007 - At Worlds End<br>iso_alpha=%{location}<br>Gross=%{z}",
           "hovertext": [
            "Argentina",
            "Australia",
            "Austria",
            "Belgium",
            "Bolivia",
            "Brazil",
            "Bulgaria",
            "Central America",
            "Chile",
            "China",
            "Colombia",
            "Croatia",
            "Czech Republic",
            "Denmark",
            "United States",
            "East Africa",
            "Ecuador",
            "Egypt",
            "Estonia",
            "Finland",
            "France",
            "Germany",
            "Greece",
            "Hong Kong",
            "Hungary",
            "Iceland",
            "India",
            "Indonesia",
            "Israel",
            "Italy",
            "Japan",
            "Latvia",
            "Lebanon",
            "Lithuania",
            "Malaysia",
            "Mexico",
            "Netherlands",
            "New Zealand",
            "Nigeria",
            "Norway",
            "Peru",
            "Philippines",
            "Poland",
            "Portugal",
            "Romania",
            "Russia",
            "Serbia",
            "Singapore",
            "Slovakia",
            "Slovenia",
            "South Africa",
            "South Korea",
            "Spain",
            "Sweden",
            "Switzerland",
            "Taiwan",
            "Thailand",
            "Turkey",
            "Ukraine",
            "United Arab Emirates",
            "United Kingdom",
            "Uruguay",
            "Venezuela",
            "Canada"
           ],
           "locations": [
            "ARG",
            "AUS",
            "AUT",
            "BEL",
            "BOL",
            "BRA",
            "BGR",
            null,
            "CHL",
            "CHN",
            "COL",
            "HRV",
            "CZE",
            "DNK",
            "USA",
            null,
            "ECU",
            "EGY",
            "EST",
            "FIN",
            "FRA",
            "DEU",
            "GRC",
            "HKG",
            "HUN",
            "ISL",
            "IND",
            "IDN",
            "ISR",
            "ITA",
            "JPN",
            "LVA",
            "LBN",
            "LTU",
            "MYS",
            "MEX",
            "NLD",
            "NZL",
            "NGA",
            "NOR",
            "PER",
            "PHL",
            "POL",
            "PRT",
            "ROU",
            "RUS",
            "SRB",
            "SGP",
            "SVK",
            "SVN",
            "ZAF",
            "KOR",
            "ESP",
            "SWE",
            "CHE",
            "TWN",
            "THA",
            "TUR",
            "UKR",
            "ARE",
            "GBR",
            "URY",
            "VEN",
            "CAN"
           ],
           "name": "",
           "type": "choropleth",
           "z": [
            4889474,
            29085288,
            7727830,
            10029123,
            238954,
            15770834,
            544122,
            1100000,
            2772756,
            16970000,
            3034778,
            466984,
            2148858,
            9525999,
            309420425,
            165818,
            1197279,
            357535,
            497320,
            4321409,
            48233187,
            59421928,
            5078196,
            5353051,
            2255796,
            685192,
            5389149,
            2138791,
            1740605,
            22456358,
            91119039,
            463285,
            130304,
            351629,
            3980470,
            24332139,
            13770170,
            4714947,
            55002,
            8012130,
            1421409,
            3379807,
            5707873,
            3063423,
            449942,
            30850884,
            139815,
            3402148,
            545918,
            626747,
            2125665,
            31568003,
            31487539,
            11655071,
            7999532,
            4574302,
            4463110,
            5406093,
            3193670,
            1716451,
            81415664,
            210834,
            3336141,
            309420425
           ]
          }
         ],
         "name": "2007 - At Worlds End"
        },
        {
         "data": [
          {
           "coloraxis": "coloraxis",
           "geo": "geo",
           "hoverlabel": {
            "namelength": 0
           },
           "hovertemplate": "<b>%{hovertext}</b><br><br>Movie=2011 - On Stranger Tides<br>iso_alpha=%{location}<br>Gross=%{z}",
           "hovertext": [
            "Argentina",
            "Australia",
            "Austria",
            "Bahrain",
            "Belgium",
            "Bolivia",
            "Bosnia and Herzegovina",
            "Brazil",
            "Bulgaria",
            "Chile",
            "China",
            "Colombia",
            "Croatia",
            "Czech Republic",
            "Denmark",
            "United States",
            "East Africa",
            "Ecuador",
            "Egypt",
            "Estonia",
            "Ethiopia",
            "Finland",
            "France",
            "Germany",
            "Greece",
            "Hong Kong",
            "Hungary",
            "Iceland",
            "India",
            "Indonesia",
            "Israel",
            "Italy",
            "Japan",
            "Jordan",
            "Kenya",
            "Kuwait",
            "Latvia",
            "Lebanon",
            "Lithuania",
            "Malaysia",
            "Mexico",
            "Netherlands",
            "New Zealand",
            "Nigeria",
            "Norway",
            "Oman",
            "Panama",
            "Paraguay",
            "Peru",
            "Philippines",
            "Poland",
            "Portugal",
            "Qatar",
            "Romania",
            "Russia",
            "Russia",
            "Serbia",
            "Singapore",
            "Slovakia",
            "Slovenia",
            "South Africa",
            "South Korea",
            "Spain",
            "Sweden",
            "Switzerland",
            "Syrian Arab Republic",
            "Taiwan",
            "Thailand",
            "Trinidad & Tobago",
            "Turkey",
            "Ukraine",
            "United Arab Emirates",
            "United Kingdom",
            "Uruguay",
            "Venezuela",
            "Vietnam",
            "Canada"
           ],
           "locations": [
            "ARG",
            "AUS",
            "AUT",
            "BHR",
            "BEL",
            "BOL",
            "BIH",
            "BRA",
            "BGR",
            "CHL",
            "CHN",
            "COL",
            "HRV",
            "CZE",
            "DNK",
            "USA",
            null,
            "ECU",
            "EGY",
            "EST",
            "ETH",
            "FIN",
            "FRA",
            "DEU",
            "GRC",
            "HKG",
            "HUN",
            "ISL",
            "IND",
            "IDN",
            "ISR",
            "ITA",
            "JPN",
            "JOR",
            "KEN",
            "KWT",
            "LVA",
            "LBN",
            "LTU",
            "MYS",
            "MEX",
            "NLD",
            "NZL",
            "NGA",
            "NOR",
            "OMN",
            "PAN",
            "PRY",
            "PER",
            "PHL",
            "POL",
            "PRT",
            "QAT",
            "ROU",
            "RUS",
            "RUS",
            "SRB",
            "SGP",
            "SVK",
            "SVN",
            "ZAF",
            "KOR",
            "ESP",
            "SWE",
            "CHE",
            "SYR",
            "TWN",
            "THA",
            "TTO",
            "TUR",
            "UKR",
            "ARE",
            "GBR",
            "URY",
            "VEN",
            "VNM",
            "CAN"
           ],
           "name": "",
           "type": "choropleth",
           "z": [
            11696923,
            29006640,
            8019203,
            0,
            8462456,
            773723,
            0,
            31142923,
            1394133,
            5234148,
            70000000,
            7104868,
            714462,
            3876389,
            4863641,
            237710309,
            139640,
            2890140,
            768158,
            672162,
            0,
            5149281,
            49217332,
            62438491,
            5218525,
            5847846,
            2665375,
            377174,
            7474354,
            1309600,
            3093916,
            24461143,
            108856481,
            0,
            0,
            0,
            467710,
            475742,
            458820,
            5572226,
            28992018,
            14567517,
            3495300,
            0,
            9943639,
            0,
            0,
            0,
            3152332,
            3584297,
            10110633,
            4232686,
            0,
            2172494,
            0,
            63661754,
            407666,
            4087668,
            759758,
            783632,
            3651559,
            25635913,
            27122003,
            13213495,
            0,
            0,
            8589434,
            3576731,
            0,
            7100793,
            5268571,
            3701640,
            54187325,
            569950,
            6569664,
            1248726,
            237710309
           ]
          }
         ],
         "name": "2011 - On Stranger Tides"
        },
        {
         "data": [
          {
           "coloraxis": "coloraxis",
           "geo": "geo",
           "hoverlabel": {
            "namelength": 0
           },
           "hovertemplate": "<b>%{hovertext}</b><br><br>Movie=2017 - Dead Men Tell No Tales<br>iso_alpha=%{location}<br>Gross=%{z}",
           "hovertext": [
            "Argentina",
            "Australia",
            "Austria",
            "Belgium",
            "Bolivia",
            "Brazil",
            "Bulgaria",
            "Chile",
            "China",
            "Colombia",
            "Czech Republic",
            "Denmark",
            "United States",
            "Finland",
            "France",
            "Germany",
            "Greece",
            "Hong Kong",
            "Hungary",
            "Iceland",
            "India",
            "Indonesia",
            "Italy",
            "Japan",
            "Lithuania",
            "Malaysia",
            "Mexico",
            "Netherlands",
            "New Zealand",
            "Norway",
            "Paraguay",
            "Philippines",
            "Poland",
            "Portugal",
            "Romania",
            "Russia",
            "Singapore",
            "Slovakia",
            "Slovenia",
            "South Africa",
            "South Korea",
            "Spain",
            "Sweden",
            "Switzerland",
            "Taiwan",
            "Thailand",
            "Turkey",
            "Ukraine",
            "United Arab Emirates",
            "United Kingdom",
            "Uruguay",
            "Venezuela",
            "Canada"
           ],
           "locations": [
            "ARG",
            "AUS",
            "AUT",
            "BEL",
            "BOL",
            "BRA",
            "BGR",
            "CHL",
            "CHN",
            "COL",
            "CZE",
            "DNK",
            "USA",
            "FIN",
            "FRA",
            "DEU",
            "GRC",
            "HKG",
            "HUN",
            "ISL",
            "IND",
            "IDN",
            "ITA",
            "JPN",
            "LTU",
            "MYS",
            "MEX",
            "NLD",
            "NZL",
            "NOR",
            "PRY",
            "PHL",
            "POL",
            "PRT",
            "ROU",
            "RUS",
            "SGP",
            "SVK",
            "SVN",
            "ZAF",
            "KOR",
            "ESP",
            "SWE",
            "CHE",
            "TWN",
            "THA",
            "TUR",
            "UKR",
            "ARE",
            "GBR",
            "URY",
            "VEN",
            "CAN"
           ],
           "name": "",
           "type": "choropleth",
           "z": [
            8914657,
            10958563,
            3717328,
            5287437,
            996228,
            16729468,
            1143629,
            4113830,
            172277290,
            4650279,
            3616902,
            3841170,
            172558876,
            4074010,
            28763203,
            31526868,
            2428038,
            4517374,
            1817842,
            309211,
            5651126,
            6115834,
            14503644,
            59765357,
            703324,
            4805222,
            16643576,
            11245195,
            1860300,
            4432108,
            368714,
            3225265,
            7467555,
            2634293,
            2336709,
            37237098,
            2569358,
            651965,
            458117,
            1308267,
            22292910,
            14897137,
            7291991,
            5133561,
            7539415,
            5174206,
            5752585,
            3673723,
            3852600,
            25096446,
            640617,
            546496,
            172558876
           ]
          }
         ],
         "name": "2017 - Dead Men Tell No Tales"
        }
       ],
       "layout": {
        "coloraxis": {
         "colorbar": {
          "title": {
           "text": "Gross"
          }
         },
         "colorscale": [
          [
           0,
           "#0d0887"
          ],
          [
           0.1111111111111111,
           "#46039f"
          ],
          [
           0.2222222222222222,
           "#7201a8"
          ],
          [
           0.3333333333333333,
           "#9c179e"
          ],
          [
           0.4444444444444444,
           "#bd3786"
          ],
          [
           0.5555555555555556,
           "#d8576b"
          ],
          [
           0.6666666666666666,
           "#ed7953"
          ],
          [
           0.7777777777777778,
           "#fb9f3a"
          ],
          [
           0.8888888888888888,
           "#fdca26"
          ],
          [
           1,
           "#f0f921"
          ]
         ]
        },
        "geo": {
         "center": {},
         "domain": {
          "x": [
           0,
           1
          ],
          "y": [
           0,
           1
          ]
         }
        },
        "height": 600,
        "legend": {
         "tracegroupgap": 0
        },
        "sliders": [
         {
          "active": 0,
          "currentvalue": {
           "prefix": "Movie="
          },
          "len": 0.9,
          "pad": {
           "b": 10,
           "t": 60
          },
          "steps": [
           {
            "args": [
             [
              "2003 - Curse of the black Pearl"
             ],
             {
              "frame": {
               "duration": 0,
               "redraw": true
              },
              "fromcurrent": true,
              "mode": "immediate",
              "transition": {
               "duration": 0,
               "easing": "linear"
              }
             }
            ],
            "label": "2003 - Curse of the black Pearl",
            "method": "animate"
           },
           {
            "args": [
             [
              "2006 - Dead Mans Chest"
             ],
             {
              "frame": {
               "duration": 0,
               "redraw": true
              },
              "fromcurrent": true,
              "mode": "immediate",
              "transition": {
               "duration": 0,
               "easing": "linear"
              }
             }
            ],
            "label": "2006 - Dead Mans Chest",
            "method": "animate"
           },
           {
            "args": [
             [
              "2007 - At Worlds End"
             ],
             {
              "frame": {
               "duration": 0,
               "redraw": true
              },
              "fromcurrent": true,
              "mode": "immediate",
              "transition": {
               "duration": 0,
               "easing": "linear"
              }
             }
            ],
            "label": "2007 - At Worlds End",
            "method": "animate"
           },
           {
            "args": [
             [
              "2011 - On Stranger Tides"
             ],
             {
              "frame": {
               "duration": 0,
               "redraw": true
              },
              "fromcurrent": true,
              "mode": "immediate",
              "transition": {
               "duration": 0,
               "easing": "linear"
              }
             }
            ],
            "label": "2011 - On Stranger Tides",
            "method": "animate"
           },
           {
            "args": [
             [
              "2017 - Dead Men Tell No Tales"
             ],
             {
              "frame": {
               "duration": 0,
               "redraw": true
              },
              "fromcurrent": true,
              "mode": "immediate",
              "transition": {
               "duration": 0,
               "easing": "linear"
              }
             }
            ],
            "label": "2017 - Dead Men Tell No Tales",
            "method": "animate"
           }
          ],
          "x": 0.1,
          "xanchor": "left",
          "y": 0,
          "yanchor": "top"
         }
        ],
        "template": {
         "data": {
          "bar": [
           {
            "error_x": {
             "color": "#2a3f5f"
            },
            "error_y": {
             "color": "#2a3f5f"
            },
            "marker": {
             "line": {
              "color": "#E5ECF6",
              "width": 0.5
             }
            },
            "type": "bar"
           }
          ],
          "barpolar": [
           {
            "marker": {
             "line": {
              "color": "#E5ECF6",
              "width": 0.5
             }
            },
            "type": "barpolar"
           }
          ],
          "carpet": [
           {
            "aaxis": {
             "endlinecolor": "#2a3f5f",
             "gridcolor": "white",
             "linecolor": "white",
             "minorgridcolor": "white",
             "startlinecolor": "#2a3f5f"
            },
            "baxis": {
             "endlinecolor": "#2a3f5f",
             "gridcolor": "white",
             "linecolor": "white",
             "minorgridcolor": "white",
             "startlinecolor": "#2a3f5f"
            },
            "type": "carpet"
           }
          ],
          "choropleth": [
           {
            "colorbar": {
             "outlinewidth": 0,
             "ticks": ""
            },
            "type": "choropleth"
           }
          ],
          "contour": [
           {
            "colorbar": {
             "outlinewidth": 0,
             "ticks": ""
            },
            "colorscale": [
             [
              0,
              "#0d0887"
             ],
             [
              0.1111111111111111,
              "#46039f"
             ],
             [
              0.2222222222222222,
              "#7201a8"
             ],
             [
              0.3333333333333333,
              "#9c179e"
             ],
             [
              0.4444444444444444,
              "#bd3786"
             ],
             [
              0.5555555555555556,
              "#d8576b"
             ],
             [
              0.6666666666666666,
              "#ed7953"
             ],
             [
              0.7777777777777778,
              "#fb9f3a"
             ],
             [
              0.8888888888888888,
              "#fdca26"
             ],
             [
              1,
              "#f0f921"
             ]
            ],
            "type": "contour"
           }
          ],
          "contourcarpet": [
           {
            "colorbar": {
             "outlinewidth": 0,
             "ticks": ""
            },
            "type": "contourcarpet"
           }
          ],
          "heatmap": [
           {
            "colorbar": {
             "outlinewidth": 0,
             "ticks": ""
            },
            "colorscale": [
             [
              0,
              "#0d0887"
             ],
             [
              0.1111111111111111,
              "#46039f"
             ],
             [
              0.2222222222222222,
              "#7201a8"
             ],
             [
              0.3333333333333333,
              "#9c179e"
             ],
             [
              0.4444444444444444,
              "#bd3786"
             ],
             [
              0.5555555555555556,
              "#d8576b"
             ],
             [
              0.6666666666666666,
              "#ed7953"
             ],
             [
              0.7777777777777778,
              "#fb9f3a"
             ],
             [
              0.8888888888888888,
              "#fdca26"
             ],
             [
              1,
              "#f0f921"
             ]
            ],
            "type": "heatmap"
           }
          ],
          "heatmapgl": [
           {
            "colorbar": {
             "outlinewidth": 0,
             "ticks": ""
            },
            "colorscale": [
             [
              0,
              "#0d0887"
             ],
             [
              0.1111111111111111,
              "#46039f"
             ],
             [
              0.2222222222222222,
              "#7201a8"
             ],
             [
              0.3333333333333333,
              "#9c179e"
             ],
             [
              0.4444444444444444,
              "#bd3786"
             ],
             [
              0.5555555555555556,
              "#d8576b"
             ],
             [
              0.6666666666666666,
              "#ed7953"
             ],
             [
              0.7777777777777778,
              "#fb9f3a"
             ],
             [
              0.8888888888888888,
              "#fdca26"
             ],
             [
              1,
              "#f0f921"
             ]
            ],
            "type": "heatmapgl"
           }
          ],
          "histogram": [
           {
            "marker": {
             "colorbar": {
              "outlinewidth": 0,
              "ticks": ""
             }
            },
            "type": "histogram"
           }
          ],
          "histogram2d": [
           {
            "colorbar": {
             "outlinewidth": 0,
             "ticks": ""
            },
            "colorscale": [
             [
              0,
              "#0d0887"
             ],
             [
              0.1111111111111111,
              "#46039f"
             ],
             [
              0.2222222222222222,
              "#7201a8"
             ],
             [
              0.3333333333333333,
              "#9c179e"
             ],
             [
              0.4444444444444444,
              "#bd3786"
             ],
             [
              0.5555555555555556,
              "#d8576b"
             ],
             [
              0.6666666666666666,
              "#ed7953"
             ],
             [
              0.7777777777777778,
              "#fb9f3a"
             ],
             [
              0.8888888888888888,
              "#fdca26"
             ],
             [
              1,
              "#f0f921"
             ]
            ],
            "type": "histogram2d"
           }
          ],
          "histogram2dcontour": [
           {
            "colorbar": {
             "outlinewidth": 0,
             "ticks": ""
            },
            "colorscale": [
             [
              0,
              "#0d0887"
             ],
             [
              0.1111111111111111,
              "#46039f"
             ],
             [
              0.2222222222222222,
              "#7201a8"
             ],
             [
              0.3333333333333333,
              "#9c179e"
             ],
             [
              0.4444444444444444,
              "#bd3786"
             ],
             [
              0.5555555555555556,
              "#d8576b"
             ],
             [
              0.6666666666666666,
              "#ed7953"
             ],
             [
              0.7777777777777778,
              "#fb9f3a"
             ],
             [
              0.8888888888888888,
              "#fdca26"
             ],
             [
              1,
              "#f0f921"
             ]
            ],
            "type": "histogram2dcontour"
           }
          ],
          "mesh3d": [
           {
            "colorbar": {
             "outlinewidth": 0,
             "ticks": ""
            },
            "type": "mesh3d"
           }
          ],
          "parcoords": [
           {
            "line": {
             "colorbar": {
              "outlinewidth": 0,
              "ticks": ""
             }
            },
            "type": "parcoords"
           }
          ],
          "pie": [
           {
            "automargin": true,
            "type": "pie"
           }
          ],
          "scatter": [
           {
            "marker": {
             "colorbar": {
              "outlinewidth": 0,
              "ticks": ""
             }
            },
            "type": "scatter"
           }
          ],
          "scatter3d": [
           {
            "line": {
             "colorbar": {
              "outlinewidth": 0,
              "ticks": ""
             }
            },
            "marker": {
             "colorbar": {
              "outlinewidth": 0,
              "ticks": ""
             }
            },
            "type": "scatter3d"
           }
          ],
          "scattercarpet": [
           {
            "marker": {
             "colorbar": {
              "outlinewidth": 0,
              "ticks": ""
             }
            },
            "type": "scattercarpet"
           }
          ],
          "scattergeo": [
           {
            "marker": {
             "colorbar": {
              "outlinewidth": 0,
              "ticks": ""
             }
            },
            "type": "scattergeo"
           }
          ],
          "scattergl": [
           {
            "marker": {
             "colorbar": {
              "outlinewidth": 0,
              "ticks": ""
             }
            },
            "type": "scattergl"
           }
          ],
          "scattermapbox": [
           {
            "marker": {
             "colorbar": {
              "outlinewidth": 0,
              "ticks": ""
             }
            },
            "type": "scattermapbox"
           }
          ],
          "scatterpolar": [
           {
            "marker": {
             "colorbar": {
              "outlinewidth": 0,
              "ticks": ""
             }
            },
            "type": "scatterpolar"
           }
          ],
          "scatterpolargl": [
           {
            "marker": {
             "colorbar": {
              "outlinewidth": 0,
              "ticks": ""
             }
            },
            "type": "scatterpolargl"
           }
          ],
          "scatterternary": [
           {
            "marker": {
             "colorbar": {
              "outlinewidth": 0,
              "ticks": ""
             }
            },
            "type": "scatterternary"
           }
          ],
          "surface": [
           {
            "colorbar": {
             "outlinewidth": 0,
             "ticks": ""
            },
            "colorscale": [
             [
              0,
              "#0d0887"
             ],
             [
              0.1111111111111111,
              "#46039f"
             ],
             [
              0.2222222222222222,
              "#7201a8"
             ],
             [
              0.3333333333333333,
              "#9c179e"
             ],
             [
              0.4444444444444444,
              "#bd3786"
             ],
             [
              0.5555555555555556,
              "#d8576b"
             ],
             [
              0.6666666666666666,
              "#ed7953"
             ],
             [
              0.7777777777777778,
              "#fb9f3a"
             ],
             [
              0.8888888888888888,
              "#fdca26"
             ],
             [
              1,
              "#f0f921"
             ]
            ],
            "type": "surface"
           }
          ],
          "table": [
           {
            "cells": {
             "fill": {
              "color": "#EBF0F8"
             },
             "line": {
              "color": "white"
             }
            },
            "header": {
             "fill": {
              "color": "#C8D4E3"
             },
             "line": {
              "color": "white"
             }
            },
            "type": "table"
           }
          ]
         },
         "layout": {
          "annotationdefaults": {
           "arrowcolor": "#2a3f5f",
           "arrowhead": 0,
           "arrowwidth": 1
          },
          "coloraxis": {
           "colorbar": {
            "outlinewidth": 0,
            "ticks": ""
           }
          },
          "colorscale": {
           "diverging": [
            [
             0,
             "#8e0152"
            ],
            [
             0.1,
             "#c51b7d"
            ],
            [
             0.2,
             "#de77ae"
            ],
            [
             0.3,
             "#f1b6da"
            ],
            [
             0.4,
             "#fde0ef"
            ],
            [
             0.5,
             "#f7f7f7"
            ],
            [
             0.6,
             "#e6f5d0"
            ],
            [
             0.7,
             "#b8e186"
            ],
            [
             0.8,
             "#7fbc41"
            ],
            [
             0.9,
             "#4d9221"
            ],
            [
             1,
             "#276419"
            ]
           ],
           "sequential": [
            [
             0,
             "#0d0887"
            ],
            [
             0.1111111111111111,
             "#46039f"
            ],
            [
             0.2222222222222222,
             "#7201a8"
            ],
            [
             0.3333333333333333,
             "#9c179e"
            ],
            [
             0.4444444444444444,
             "#bd3786"
            ],
            [
             0.5555555555555556,
             "#d8576b"
            ],
            [
             0.6666666666666666,
             "#ed7953"
            ],
            [
             0.7777777777777778,
             "#fb9f3a"
            ],
            [
             0.8888888888888888,
             "#fdca26"
            ],
            [
             1,
             "#f0f921"
            ]
           ],
           "sequentialminus": [
            [
             0,
             "#0d0887"
            ],
            [
             0.1111111111111111,
             "#46039f"
            ],
            [
             0.2222222222222222,
             "#7201a8"
            ],
            [
             0.3333333333333333,
             "#9c179e"
            ],
            [
             0.4444444444444444,
             "#bd3786"
            ],
            [
             0.5555555555555556,
             "#d8576b"
            ],
            [
             0.6666666666666666,
             "#ed7953"
            ],
            [
             0.7777777777777778,
             "#fb9f3a"
            ],
            [
             0.8888888888888888,
             "#fdca26"
            ],
            [
             1,
             "#f0f921"
            ]
           ]
          },
          "colorway": [
           "#636efa",
           "#EF553B",
           "#00cc96",
           "#ab63fa",
           "#FFA15A",
           "#19d3f3",
           "#FF6692",
           "#B6E880",
           "#FF97FF",
           "#FECB52"
          ],
          "font": {
           "color": "#2a3f5f"
          },
          "geo": {
           "bgcolor": "white",
           "lakecolor": "white",
           "landcolor": "#E5ECF6",
           "showlakes": true,
           "showland": true,
           "subunitcolor": "white"
          },
          "hoverlabel": {
           "align": "left"
          },
          "hovermode": "closest",
          "mapbox": {
           "style": "light"
          },
          "paper_bgcolor": "white",
          "plot_bgcolor": "#E5ECF6",
          "polar": {
           "angularaxis": {
            "gridcolor": "white",
            "linecolor": "white",
            "ticks": ""
           },
           "bgcolor": "#E5ECF6",
           "radialaxis": {
            "gridcolor": "white",
            "linecolor": "white",
            "ticks": ""
           }
          },
          "scene": {
           "xaxis": {
            "backgroundcolor": "#E5ECF6",
            "gridcolor": "white",
            "gridwidth": 2,
            "linecolor": "white",
            "showbackground": true,
            "ticks": "",
            "zerolinecolor": "white"
           },
           "yaxis": {
            "backgroundcolor": "#E5ECF6",
            "gridcolor": "white",
            "gridwidth": 2,
            "linecolor": "white",
            "showbackground": true,
            "ticks": "",
            "zerolinecolor": "white"
           },
           "zaxis": {
            "backgroundcolor": "#E5ECF6",
            "gridcolor": "white",
            "gridwidth": 2,
            "linecolor": "white",
            "showbackground": true,
            "ticks": "",
            "zerolinecolor": "white"
           }
          },
          "shapedefaults": {
           "line": {
            "color": "#2a3f5f"
           }
          },
          "ternary": {
           "aaxis": {
            "gridcolor": "white",
            "linecolor": "white",
            "ticks": ""
           },
           "baxis": {
            "gridcolor": "white",
            "linecolor": "white",
            "ticks": ""
           },
           "bgcolor": "#E5ECF6",
           "caxis": {
            "gridcolor": "white",
            "linecolor": "white",
            "ticks": ""
           }
          },
          "title": {
           "x": 0.05
          },
          "xaxis": {
           "automargin": true,
           "gridcolor": "white",
           "linecolor": "white",
           "ticks": "",
           "title": {
            "standoff": 15
           },
           "zerolinecolor": "white",
           "zerolinewidth": 2
          },
          "yaxis": {
           "automargin": true,
           "gridcolor": "white",
           "linecolor": "white",
           "ticks": "",
           "title": {
            "standoff": 15
           },
           "zerolinecolor": "white",
           "zerolinewidth": 2
          }
         }
        },
        "title": {
         "text": "Johnny Depp's Pirates of the Caribbean Movies - Gross Revenue by Country"
        },
        "updatemenus": [
         {
          "buttons": [
           {
            "args": [
             null,
             {
              "frame": {
               "duration": 500,
               "redraw": true
              },
              "fromcurrent": true,
              "mode": "immediate",
              "transition": {
               "duration": 500,
               "easing": "linear"
              }
             }
            ],
            "label": "&#9654;",
            "method": "animate"
           },
           {
            "args": [
             [
              null
             ],
             {
              "frame": {
               "duration": 0,
               "redraw": true
              },
              "fromcurrent": true,
              "mode": "immediate",
              "transition": {
               "duration": 0,
               "easing": "linear"
              }
             }
            ],
            "label": "&#9724;",
            "method": "animate"
           }
          ],
          "direction": "left",
          "pad": {
           "r": 10,
           "t": 70
          },
          "showactive": false,
          "type": "buttons",
          "x": 0.1,
          "xanchor": "right",
          "y": 0,
          "yanchor": "top"
         }
        ]
       }
      },
      "text/html": [
       "<div>\n",
       "        \n",
       "        \n",
       "            <div id=\"e4eab50b-2074-4583-9657-28bc431e8073\" class=\"plotly-graph-div\" style=\"height:600px; width:100%;\"></div>\n",
       "            <script type=\"text/javascript\">\n",
       "                require([\"plotly\"], function(Plotly) {\n",
       "                    window.PLOTLYENV=window.PLOTLYENV || {};\n",
       "                    \n",
       "                if (document.getElementById(\"e4eab50b-2074-4583-9657-28bc431e8073\")) {\n",
       "                    Plotly.newPlot(\n",
       "                        'e4eab50b-2074-4583-9657-28bc431e8073',\n",
       "                        [{\"coloraxis\": \"coloraxis\", \"geo\": \"geo\", \"hoverlabel\": {\"namelength\": 0}, \"hovertemplate\": \"<b>%{hovertext}</b><br><br>Movie=2003 - Curse of the black Pearl<br>iso_alpha=%{location}<br>Gross=%{z}\", \"hovertext\": [\"Argentina\", \"Australia\", \"Austria\", \"Bulgaria\", \"Chile\", \"China\", \"Czech Republic\", \"United States\", \"Egypt\", \"Finland\", \"France\", \"Germany\", \"Greece\", \"Hong Kong\", \"Hungary\", \"Italy\", \"Japan\", \"Mexico\", \"Netherlands\", \"New Zealand\", \"Norway\", \"Poland\", \"Russia\", \"South Africa\", \"Spain\", \"Taiwan\", \"Turkey\", \"United Kingdom\", \"Canada\"], \"locations\": [\"ARG\", \"AUS\", \"AUT\", \"BGR\", \"CHL\", \"CHN\", \"CZE\", \"USA\", \"EGY\", \"FIN\", \"FRA\", \"DEU\", \"GRC\", \"HKG\", \"HUN\", \"ITA\", \"JPN\", \"MEX\", \"NLD\", \"NZL\", \"NOR\", \"POL\", \"RUS\", \"ZAF\", \"ESP\", \"TWN\", \"TUR\", \"GBR\", \"CAN\"], \"name\": \"\", \"type\": \"choropleth\", \"z\": [2754861.0, 18476252.0, 5323779.0, 119897.0, 913747.0, 2980000.0, 1166187.0, 305413918.0, 216536.0, 2092881.0, 22139594.0, 44650393.0, 3528750.0, 1260924.0, 494939.0, 19028837.0, 59861990.0, 10985286.0, 7181017.0, 2773373.0, 4492069.0, 1640275.0, 9060000.0, 1575272.0, 27158123.0, 1827556.0, 1420275.0, 47801332.0, 305413918.0]}],\n",
       "                        {\"coloraxis\": {\"colorbar\": {\"title\": {\"text\": \"Gross\"}}, \"colorscale\": [[0.0, \"#0d0887\"], [0.1111111111111111, \"#46039f\"], [0.2222222222222222, \"#7201a8\"], [0.3333333333333333, \"#9c179e\"], [0.4444444444444444, \"#bd3786\"], [0.5555555555555556, \"#d8576b\"], [0.6666666666666666, \"#ed7953\"], [0.7777777777777778, \"#fb9f3a\"], [0.8888888888888888, \"#fdca26\"], [1.0, \"#f0f921\"]]}, \"geo\": {\"center\": {}, \"domain\": {\"x\": [0.0, 1.0], \"y\": [0.0, 1.0]}}, \"height\": 600, \"legend\": {\"tracegroupgap\": 0}, \"sliders\": [{\"active\": 0, \"currentvalue\": {\"prefix\": \"Movie=\"}, \"len\": 0.9, \"pad\": {\"b\": 10, \"t\": 60}, \"steps\": [{\"args\": [[\"2003 - Curse of the black Pearl\"], {\"frame\": {\"duration\": 0, \"redraw\": true}, \"fromcurrent\": true, \"mode\": \"immediate\", \"transition\": {\"duration\": 0, \"easing\": \"linear\"}}], \"label\": \"2003 - Curse of the black Pearl\", \"method\": \"animate\"}, {\"args\": [[\"2006 - Dead Mans Chest\"], {\"frame\": {\"duration\": 0, \"redraw\": true}, \"fromcurrent\": true, \"mode\": \"immediate\", \"transition\": {\"duration\": 0, \"easing\": \"linear\"}}], \"label\": \"2006 - Dead Mans Chest\", \"method\": \"animate\"}, {\"args\": [[\"2007 - At Worlds End\"], {\"frame\": {\"duration\": 0, \"redraw\": true}, \"fromcurrent\": true, \"mode\": \"immediate\", \"transition\": {\"duration\": 0, \"easing\": \"linear\"}}], \"label\": \"2007 - At Worlds End\", \"method\": \"animate\"}, {\"args\": [[\"2011 - On Stranger Tides\"], {\"frame\": {\"duration\": 0, \"redraw\": true}, \"fromcurrent\": true, \"mode\": \"immediate\", \"transition\": {\"duration\": 0, \"easing\": \"linear\"}}], \"label\": \"2011 - On Stranger Tides\", \"method\": \"animate\"}, {\"args\": [[\"2017 - Dead Men Tell No Tales\"], {\"frame\": {\"duration\": 0, \"redraw\": true}, \"fromcurrent\": true, \"mode\": \"immediate\", \"transition\": {\"duration\": 0, \"easing\": \"linear\"}}], \"label\": \"2017 - Dead Men Tell No Tales\", \"method\": \"animate\"}], \"x\": 0.1, \"xanchor\": \"left\", \"y\": 0, \"yanchor\": \"top\"}], \"template\": {\"data\": {\"bar\": [{\"error_x\": {\"color\": \"#2a3f5f\"}, \"error_y\": {\"color\": \"#2a3f5f\"}, \"marker\": {\"line\": {\"color\": \"#E5ECF6\", \"width\": 0.5}}, \"type\": \"bar\"}], \"barpolar\": [{\"marker\": {\"line\": {\"color\": \"#E5ECF6\", \"width\": 0.5}}, \"type\": \"barpolar\"}], \"carpet\": [{\"aaxis\": {\"endlinecolor\": \"#2a3f5f\", \"gridcolor\": \"white\", \"linecolor\": \"white\", \"minorgridcolor\": \"white\", \"startlinecolor\": \"#2a3f5f\"}, \"baxis\": {\"endlinecolor\": \"#2a3f5f\", \"gridcolor\": \"white\", \"linecolor\": \"white\", \"minorgridcolor\": \"white\", \"startlinecolor\": \"#2a3f5f\"}, \"type\": \"carpet\"}], \"choropleth\": [{\"colorbar\": {\"outlinewidth\": 0, \"ticks\": \"\"}, \"type\": \"choropleth\"}], \"contour\": [{\"colorbar\": {\"outlinewidth\": 0, \"ticks\": \"\"}, \"colorscale\": [[0.0, \"#0d0887\"], [0.1111111111111111, \"#46039f\"], [0.2222222222222222, \"#7201a8\"], [0.3333333333333333, \"#9c179e\"], [0.4444444444444444, \"#bd3786\"], [0.5555555555555556, \"#d8576b\"], [0.6666666666666666, \"#ed7953\"], [0.7777777777777778, \"#fb9f3a\"], [0.8888888888888888, \"#fdca26\"], [1.0, \"#f0f921\"]], \"type\": \"contour\"}], \"contourcarpet\": [{\"colorbar\": {\"outlinewidth\": 0, \"ticks\": \"\"}, \"type\": \"contourcarpet\"}], \"heatmap\": [{\"colorbar\": {\"outlinewidth\": 0, \"ticks\": \"\"}, \"colorscale\": [[0.0, \"#0d0887\"], [0.1111111111111111, \"#46039f\"], [0.2222222222222222, \"#7201a8\"], [0.3333333333333333, \"#9c179e\"], [0.4444444444444444, \"#bd3786\"], [0.5555555555555556, \"#d8576b\"], [0.6666666666666666, \"#ed7953\"], [0.7777777777777778, \"#fb9f3a\"], [0.8888888888888888, \"#fdca26\"], [1.0, \"#f0f921\"]], \"type\": \"heatmap\"}], \"heatmapgl\": [{\"colorbar\": {\"outlinewidth\": 0, \"ticks\": \"\"}, \"colorscale\": [[0.0, \"#0d0887\"], [0.1111111111111111, \"#46039f\"], [0.2222222222222222, \"#7201a8\"], [0.3333333333333333, \"#9c179e\"], [0.4444444444444444, \"#bd3786\"], [0.5555555555555556, \"#d8576b\"], [0.6666666666666666, \"#ed7953\"], [0.7777777777777778, \"#fb9f3a\"], [0.8888888888888888, \"#fdca26\"], [1.0, \"#f0f921\"]], \"type\": \"heatmapgl\"}], \"histogram\": [{\"marker\": {\"colorbar\": {\"outlinewidth\": 0, \"ticks\": \"\"}}, \"type\": \"histogram\"}], \"histogram2d\": [{\"colorbar\": {\"outlinewidth\": 0, \"ticks\": \"\"}, \"colorscale\": [[0.0, \"#0d0887\"], [0.1111111111111111, \"#46039f\"], [0.2222222222222222, \"#7201a8\"], [0.3333333333333333, \"#9c179e\"], [0.4444444444444444, \"#bd3786\"], [0.5555555555555556, \"#d8576b\"], [0.6666666666666666, \"#ed7953\"], [0.7777777777777778, \"#fb9f3a\"], [0.8888888888888888, \"#fdca26\"], [1.0, \"#f0f921\"]], \"type\": \"histogram2d\"}], \"histogram2dcontour\": [{\"colorbar\": {\"outlinewidth\": 0, \"ticks\": \"\"}, \"colorscale\": [[0.0, \"#0d0887\"], [0.1111111111111111, \"#46039f\"], [0.2222222222222222, \"#7201a8\"], [0.3333333333333333, \"#9c179e\"], [0.4444444444444444, \"#bd3786\"], [0.5555555555555556, \"#d8576b\"], [0.6666666666666666, \"#ed7953\"], [0.7777777777777778, \"#fb9f3a\"], [0.8888888888888888, \"#fdca26\"], [1.0, \"#f0f921\"]], \"type\": \"histogram2dcontour\"}], \"mesh3d\": [{\"colorbar\": {\"outlinewidth\": 0, \"ticks\": \"\"}, \"type\": \"mesh3d\"}], \"parcoords\": [{\"line\": {\"colorbar\": {\"outlinewidth\": 0, \"ticks\": \"\"}}, \"type\": \"parcoords\"}], \"pie\": [{\"automargin\": true, \"type\": \"pie\"}], \"scatter\": [{\"marker\": {\"colorbar\": {\"outlinewidth\": 0, \"ticks\": \"\"}}, \"type\": \"scatter\"}], \"scatter3d\": [{\"line\": {\"colorbar\": {\"outlinewidth\": 0, \"ticks\": \"\"}}, \"marker\": {\"colorbar\": {\"outlinewidth\": 0, \"ticks\": \"\"}}, \"type\": \"scatter3d\"}], \"scattercarpet\": [{\"marker\": {\"colorbar\": {\"outlinewidth\": 0, \"ticks\": \"\"}}, \"type\": \"scattercarpet\"}], \"scattergeo\": [{\"marker\": {\"colorbar\": {\"outlinewidth\": 0, \"ticks\": \"\"}}, \"type\": \"scattergeo\"}], \"scattergl\": [{\"marker\": {\"colorbar\": {\"outlinewidth\": 0, \"ticks\": \"\"}}, \"type\": \"scattergl\"}], \"scattermapbox\": [{\"marker\": {\"colorbar\": {\"outlinewidth\": 0, \"ticks\": \"\"}}, \"type\": \"scattermapbox\"}], \"scatterpolar\": [{\"marker\": {\"colorbar\": {\"outlinewidth\": 0, \"ticks\": \"\"}}, \"type\": \"scatterpolar\"}], \"scatterpolargl\": [{\"marker\": {\"colorbar\": {\"outlinewidth\": 0, \"ticks\": \"\"}}, \"type\": \"scatterpolargl\"}], \"scatterternary\": [{\"marker\": {\"colorbar\": {\"outlinewidth\": 0, \"ticks\": \"\"}}, \"type\": \"scatterternary\"}], \"surface\": [{\"colorbar\": {\"outlinewidth\": 0, \"ticks\": \"\"}, \"colorscale\": [[0.0, \"#0d0887\"], [0.1111111111111111, \"#46039f\"], [0.2222222222222222, \"#7201a8\"], [0.3333333333333333, \"#9c179e\"], [0.4444444444444444, \"#bd3786\"], [0.5555555555555556, \"#d8576b\"], [0.6666666666666666, \"#ed7953\"], [0.7777777777777778, \"#fb9f3a\"], [0.8888888888888888, \"#fdca26\"], [1.0, \"#f0f921\"]], \"type\": \"surface\"}], \"table\": [{\"cells\": {\"fill\": {\"color\": \"#EBF0F8\"}, \"line\": {\"color\": \"white\"}}, \"header\": {\"fill\": {\"color\": \"#C8D4E3\"}, \"line\": {\"color\": \"white\"}}, \"type\": \"table\"}]}, \"layout\": {\"annotationdefaults\": {\"arrowcolor\": \"#2a3f5f\", \"arrowhead\": 0, \"arrowwidth\": 1}, \"coloraxis\": {\"colorbar\": {\"outlinewidth\": 0, \"ticks\": \"\"}}, \"colorscale\": {\"diverging\": [[0, \"#8e0152\"], [0.1, \"#c51b7d\"], [0.2, \"#de77ae\"], [0.3, \"#f1b6da\"], [0.4, \"#fde0ef\"], [0.5, \"#f7f7f7\"], [0.6, \"#e6f5d0\"], [0.7, \"#b8e186\"], [0.8, \"#7fbc41\"], [0.9, \"#4d9221\"], [1, \"#276419\"]], \"sequential\": [[0.0, \"#0d0887\"], [0.1111111111111111, \"#46039f\"], [0.2222222222222222, \"#7201a8\"], [0.3333333333333333, \"#9c179e\"], [0.4444444444444444, \"#bd3786\"], [0.5555555555555556, \"#d8576b\"], [0.6666666666666666, \"#ed7953\"], [0.7777777777777778, \"#fb9f3a\"], [0.8888888888888888, \"#fdca26\"], [1.0, \"#f0f921\"]], \"sequentialminus\": [[0.0, \"#0d0887\"], [0.1111111111111111, \"#46039f\"], [0.2222222222222222, \"#7201a8\"], [0.3333333333333333, \"#9c179e\"], [0.4444444444444444, \"#bd3786\"], [0.5555555555555556, \"#d8576b\"], [0.6666666666666666, \"#ed7953\"], [0.7777777777777778, \"#fb9f3a\"], [0.8888888888888888, \"#fdca26\"], [1.0, \"#f0f921\"]]}, \"colorway\": [\"#636efa\", \"#EF553B\", \"#00cc96\", \"#ab63fa\", \"#FFA15A\", \"#19d3f3\", \"#FF6692\", \"#B6E880\", \"#FF97FF\", \"#FECB52\"], \"font\": {\"color\": \"#2a3f5f\"}, \"geo\": {\"bgcolor\": \"white\", \"lakecolor\": \"white\", \"landcolor\": \"#E5ECF6\", \"showlakes\": true, \"showland\": true, \"subunitcolor\": \"white\"}, \"hoverlabel\": {\"align\": \"left\"}, \"hovermode\": \"closest\", \"mapbox\": {\"style\": \"light\"}, \"paper_bgcolor\": \"white\", \"plot_bgcolor\": \"#E5ECF6\", \"polar\": {\"angularaxis\": {\"gridcolor\": \"white\", \"linecolor\": \"white\", \"ticks\": \"\"}, \"bgcolor\": \"#E5ECF6\", \"radialaxis\": {\"gridcolor\": \"white\", \"linecolor\": \"white\", \"ticks\": \"\"}}, \"scene\": {\"xaxis\": {\"backgroundcolor\": \"#E5ECF6\", \"gridcolor\": \"white\", \"gridwidth\": 2, \"linecolor\": \"white\", \"showbackground\": true, \"ticks\": \"\", \"zerolinecolor\": \"white\"}, \"yaxis\": {\"backgroundcolor\": \"#E5ECF6\", \"gridcolor\": \"white\", \"gridwidth\": 2, \"linecolor\": \"white\", \"showbackground\": true, \"ticks\": \"\", \"zerolinecolor\": \"white\"}, \"zaxis\": {\"backgroundcolor\": \"#E5ECF6\", \"gridcolor\": \"white\", \"gridwidth\": 2, \"linecolor\": \"white\", \"showbackground\": true, \"ticks\": \"\", \"zerolinecolor\": \"white\"}}, \"shapedefaults\": {\"line\": {\"color\": \"#2a3f5f\"}}, \"ternary\": {\"aaxis\": {\"gridcolor\": \"white\", \"linecolor\": \"white\", \"ticks\": \"\"}, \"baxis\": {\"gridcolor\": \"white\", \"linecolor\": \"white\", \"ticks\": \"\"}, \"bgcolor\": \"#E5ECF6\", \"caxis\": {\"gridcolor\": \"white\", \"linecolor\": \"white\", \"ticks\": \"\"}}, \"title\": {\"x\": 0.05}, \"xaxis\": {\"automargin\": true, \"gridcolor\": \"white\", \"linecolor\": \"white\", \"ticks\": \"\", \"title\": {\"standoff\": 15}, \"zerolinecolor\": \"white\", \"zerolinewidth\": 2}, \"yaxis\": {\"automargin\": true, \"gridcolor\": \"white\", \"linecolor\": \"white\", \"ticks\": \"\", \"title\": {\"standoff\": 15}, \"zerolinecolor\": \"white\", \"zerolinewidth\": 2}}}, \"title\": {\"text\": \"Johnny Depp's Pirates of the Caribbean Movies - Gross Revenue by Country\"}, \"updatemenus\": [{\"buttons\": [{\"args\": [null, {\"frame\": {\"duration\": 500, \"redraw\": true}, \"fromcurrent\": true, \"mode\": \"immediate\", \"transition\": {\"duration\": 500, \"easing\": \"linear\"}}], \"label\": \"&#9654;\", \"method\": \"animate\"}, {\"args\": [[null], {\"frame\": {\"duration\": 0, \"redraw\": true}, \"fromcurrent\": true, \"mode\": \"immediate\", \"transition\": {\"duration\": 0, \"easing\": \"linear\"}}], \"label\": \"&#9724;\", \"method\": \"animate\"}], \"direction\": \"left\", \"pad\": {\"r\": 10, \"t\": 70}, \"showactive\": false, \"type\": \"buttons\", \"x\": 0.1, \"xanchor\": \"right\", \"y\": 0, \"yanchor\": \"top\"}]},\n",
       "                        {\"responsive\": true}\n",
       "                    ).then(function(){\n",
       "                            Plotly.addFrames('e4eab50b-2074-4583-9657-28bc431e8073', [{\"data\": [{\"coloraxis\": \"coloraxis\", \"geo\": \"geo\", \"hoverlabel\": {\"namelength\": 0}, \"hovertemplate\": \"<b>%{hovertext}</b><br><br>Movie=2003 - Curse of the black Pearl<br>iso_alpha=%{location}<br>Gross=%{z}\", \"hovertext\": [\"Argentina\", \"Australia\", \"Austria\", \"Bulgaria\", \"Chile\", \"China\", \"Czech Republic\", \"United States\", \"Egypt\", \"Finland\", \"France\", \"Germany\", \"Greece\", \"Hong Kong\", \"Hungary\", \"Italy\", \"Japan\", \"Mexico\", \"Netherlands\", \"New Zealand\", \"Norway\", \"Poland\", \"Russia\", \"South Africa\", \"Spain\", \"Taiwan\", \"Turkey\", \"United Kingdom\", \"Canada\"], \"locations\": [\"ARG\", \"AUS\", \"AUT\", \"BGR\", \"CHL\", \"CHN\", \"CZE\", \"USA\", \"EGY\", \"FIN\", \"FRA\", \"DEU\", \"GRC\", \"HKG\", \"HUN\", \"ITA\", \"JPN\", \"MEX\", \"NLD\", \"NZL\", \"NOR\", \"POL\", \"RUS\", \"ZAF\", \"ESP\", \"TWN\", \"TUR\", \"GBR\", \"CAN\"], \"name\": \"\", \"z\": [2754861.0, 18476252.0, 5323779.0, 119897.0, 913747.0, 2980000.0, 1166187.0, 305413918.0, 216536.0, 2092881.0, 22139594.0, 44650393.0, 3528750.0, 1260924.0, 494939.0, 19028837.0, 59861990.0, 10985286.0, 7181017.0, 2773373.0, 4492069.0, 1640275.0, 9060000.0, 1575272.0, 27158123.0, 1827556.0, 1420275.0, 47801332.0, 305413918.0], \"type\": \"choropleth\"}], \"name\": \"2003 - Curse of the black Pearl\"}, {\"data\": [{\"coloraxis\": \"coloraxis\", \"geo\": \"geo\", \"hoverlabel\": {\"namelength\": 0}, \"hovertemplate\": \"<b>%{hovertext}</b><br><br>Movie=2006 - Dead Mans Chest<br>iso_alpha=%{location}<br>Gross=%{z}\", \"hovertext\": [\"Argentina\", \"Australia\", \"Austria\", \"Belgium\", \"Brazil\", \"Bulgaria\", \"Czech Republic\", \"Denmark\", \"United States\", \"Egypt\", \"Finland\", \"France\", \"Germany\", \"Greece\", \"Hong Kong\", \"Iceland\", \"Indonesia\", \"Italy\", \"Japan\", \"Lebanon\", \"Malaysia\", \"Mexico\", \"Netherlands\", \"New Zealand\", \"Norway\", \"Poland\", \"Portugal\", \"Romania\", \"Russia\", \"Russia\", \"Serbia\", \"Singapore\", \"Slovakia\", \"South Africa\", \"South Korea\", \"Spain\", \"Sweden\", \"Switzerland\", \"Taiwan\", \"Thailand\", \"Turkey\", \"Ukraine\", \"United Arab Emirates\", \"United Kingdom\", \"Canada\"], \"locations\": [\"ARG\", \"AUS\", \"AUT\", \"BEL\", \"BRA\", \"BGR\", \"CZE\", \"DNK\", \"USA\", \"EGY\", \"FIN\", \"FRA\", \"DEU\", \"GRC\", \"HKG\", \"ISL\", \"IDN\", \"ITA\", \"JPN\", \"LBN\", \"MYS\", \"MEX\", \"NLD\", \"NZL\", \"NOR\", \"POL\", \"PRT\", \"ROU\", \"RUS\", \"RUS\", \"SRB\", \"SGP\", \"SVK\", \"ZAF\", \"KOR\", \"ESP\", \"SWE\", \"CHE\", \"TWN\", \"THA\", \"TUR\", \"UKR\", \"ARE\", \"GBR\", \"CAN\"], \"name\": \"\", \"z\": [4409190.0, 28477460.0, 8381848.0, 9810197.0, 10847794.0, 498300.0, 2731967.0, 8621324.0, 422614379.0, 347134.0, 4344625.0, 46137427.0, 61389002.0, 6015200.0, 4574736.0, 669029.0, 1540000.0, 25212003.0, 84511000.0, 168012.0, 2940000.0, 18700000.0, 13220674.0, 4598022.0, 8406170.0, 5037777.0, 3401938.0, 323034.0, 10890000.0, 27520000.0, 118740.0, 2980000.0, 644872.0, 1733956.0, 26600000.0, 36609592.0, 14228356.0, 8298276.0, 4544922.0, 3630000.0, 4677418.0, 3124047.0, 1700000.0, 98668102.0, 422614379.0], \"type\": \"choropleth\"}], \"name\": \"2006 - Dead Mans Chest\"}, {\"data\": [{\"coloraxis\": \"coloraxis\", \"geo\": \"geo\", \"hoverlabel\": {\"namelength\": 0}, \"hovertemplate\": \"<b>%{hovertext}</b><br><br>Movie=2007 - At Worlds End<br>iso_alpha=%{location}<br>Gross=%{z}\", \"hovertext\": [\"Argentina\", \"Australia\", \"Austria\", \"Belgium\", \"Bolivia\", \"Brazil\", \"Bulgaria\", \"Central America\", \"Chile\", \"China\", \"Colombia\", \"Croatia\", \"Czech Republic\", \"Denmark\", \"United States\", \"East Africa\", \"Ecuador\", \"Egypt\", \"Estonia\", \"Finland\", \"France\", \"Germany\", \"Greece\", \"Hong Kong\", \"Hungary\", \"Iceland\", \"India\", \"Indonesia\", \"Israel\", \"Italy\", \"Japan\", \"Latvia\", \"Lebanon\", \"Lithuania\", \"Malaysia\", \"Mexico\", \"Netherlands\", \"New Zealand\", \"Nigeria\", \"Norway\", \"Peru\", \"Philippines\", \"Poland\", \"Portugal\", \"Romania\", \"Russia\", \"Serbia\", \"Singapore\", \"Slovakia\", \"Slovenia\", \"South Africa\", \"South Korea\", \"Spain\", \"Sweden\", \"Switzerland\", \"Taiwan\", \"Thailand\", \"Turkey\", \"Ukraine\", \"United Arab Emirates\", \"United Kingdom\", \"Uruguay\", \"Venezuela\", \"Canada\"], \"locations\": [\"ARG\", \"AUS\", \"AUT\", \"BEL\", \"BOL\", \"BRA\", \"BGR\", null, \"CHL\", \"CHN\", \"COL\", \"HRV\", \"CZE\", \"DNK\", \"USA\", null, \"ECU\", \"EGY\", \"EST\", \"FIN\", \"FRA\", \"DEU\", \"GRC\", \"HKG\", \"HUN\", \"ISL\", \"IND\", \"IDN\", \"ISR\", \"ITA\", \"JPN\", \"LVA\", \"LBN\", \"LTU\", \"MYS\", \"MEX\", \"NLD\", \"NZL\", \"NGA\", \"NOR\", \"PER\", \"PHL\", \"POL\", \"PRT\", \"ROU\", \"RUS\", \"SRB\", \"SGP\", \"SVK\", \"SVN\", \"ZAF\", \"KOR\", \"ESP\", \"SWE\", \"CHE\", \"TWN\", \"THA\", \"TUR\", \"UKR\", \"ARE\", \"GBR\", \"URY\", \"VEN\", \"CAN\"], \"name\": \"\", \"z\": [4889474.0, 29085288.0, 7727830.0, 10029123.0, 238954.0, 15770834.0, 544122.0, 1100000.0, 2772756.0, 16970000.0, 3034778.0, 466984.0, 2148858.0, 9525999.0, 309420425.0, 165818.0, 1197279.0, 357535.0, 497320.0, 4321409.0, 48233187.0, 59421928.0, 5078196.0, 5353051.0, 2255796.0, 685192.0, 5389149.0, 2138791.0, 1740605.0, 22456358.0, 91119039.0, 463285.0, 130304.0, 351629.0, 3980470.0, 24332139.0, 13770170.0, 4714947.0, 55002.0, 8012130.0, 1421409.0, 3379807.0, 5707873.0, 3063423.0, 449942.0, 30850884.0, 139815.0, 3402148.0, 545918.0, 626747.0, 2125665.0, 31568003.0, 31487539.0, 11655071.0, 7999532.0, 4574302.0, 4463110.0, 5406093.0, 3193670.0, 1716451.0, 81415664.0, 210834.0, 3336141.0, 309420425.0], \"type\": \"choropleth\"}], \"name\": \"2007 - At Worlds End\"}, {\"data\": [{\"coloraxis\": \"coloraxis\", \"geo\": \"geo\", \"hoverlabel\": {\"namelength\": 0}, \"hovertemplate\": \"<b>%{hovertext}</b><br><br>Movie=2011 - On Stranger Tides<br>iso_alpha=%{location}<br>Gross=%{z}\", \"hovertext\": [\"Argentina\", \"Australia\", \"Austria\", \"Bahrain\", \"Belgium\", \"Bolivia\", \"Bosnia and Herzegovina\", \"Brazil\", \"Bulgaria\", \"Chile\", \"China\", \"Colombia\", \"Croatia\", \"Czech Republic\", \"Denmark\", \"United States\", \"East Africa\", \"Ecuador\", \"Egypt\", \"Estonia\", \"Ethiopia\", \"Finland\", \"France\", \"Germany\", \"Greece\", \"Hong Kong\", \"Hungary\", \"Iceland\", \"India\", \"Indonesia\", \"Israel\", \"Italy\", \"Japan\", \"Jordan\", \"Kenya\", \"Kuwait\", \"Latvia\", \"Lebanon\", \"Lithuania\", \"Malaysia\", \"Mexico\", \"Netherlands\", \"New Zealand\", \"Nigeria\", \"Norway\", \"Oman\", \"Panama\", \"Paraguay\", \"Peru\", \"Philippines\", \"Poland\", \"Portugal\", \"Qatar\", \"Romania\", \"Russia\", \"Russia\", \"Serbia\", \"Singapore\", \"Slovakia\", \"Slovenia\", \"South Africa\", \"South Korea\", \"Spain\", \"Sweden\", \"Switzerland\", \"Syrian Arab Republic\", \"Taiwan\", \"Thailand\", \"Trinidad & Tobago\", \"Turkey\", \"Ukraine\", \"United Arab Emirates\", \"United Kingdom\", \"Uruguay\", \"Venezuela\", \"Vietnam\", \"Canada\"], \"locations\": [\"ARG\", \"AUS\", \"AUT\", \"BHR\", \"BEL\", \"BOL\", \"BIH\", \"BRA\", \"BGR\", \"CHL\", \"CHN\", \"COL\", \"HRV\", \"CZE\", \"DNK\", \"USA\", null, \"ECU\", \"EGY\", \"EST\", \"ETH\", \"FIN\", \"FRA\", \"DEU\", \"GRC\", \"HKG\", \"HUN\", \"ISL\", \"IND\", \"IDN\", \"ISR\", \"ITA\", \"JPN\", \"JOR\", \"KEN\", \"KWT\", \"LVA\", \"LBN\", \"LTU\", \"MYS\", \"MEX\", \"NLD\", \"NZL\", \"NGA\", \"NOR\", \"OMN\", \"PAN\", \"PRY\", \"PER\", \"PHL\", \"POL\", \"PRT\", \"QAT\", \"ROU\", \"RUS\", \"RUS\", \"SRB\", \"SGP\", \"SVK\", \"SVN\", \"ZAF\", \"KOR\", \"ESP\", \"SWE\", \"CHE\", \"SYR\", \"TWN\", \"THA\", \"TTO\", \"TUR\", \"UKR\", \"ARE\", \"GBR\", \"URY\", \"VEN\", \"VNM\", \"CAN\"], \"name\": \"\", \"z\": [11696923.0, 29006640.0, 8019203.0, 0.0, 8462456.0, 773723.0, 0.0, 31142923.0, 1394133.0, 5234148.0, 70000000.0, 7104868.0, 714462.0, 3876389.0, 4863641.0, 237710309.0, 139640.0, 2890140.0, 768158.0, 672162.0, 0.0, 5149281.0, 49217332.0, 62438491.0, 5218525.0, 5847846.0, 2665375.0, 377174.0, 7474354.0, 1309600.0, 3093916.0, 24461143.0, 108856481.0, 0.0, 0.0, 0.0, 467710.0, 475742.0, 458820.0, 5572226.0, 28992018.0, 14567517.0, 3495300.0, 0.0, 9943639.0, 0.0, 0.0, 0.0, 3152332.0, 3584297.0, 10110633.0, 4232686.0, 0.0, 2172494.0, 0.0, 63661754.0, 407666.0, 4087668.0, 759758.0, 783632.0, 3651559.0, 25635913.0, 27122003.0, 13213495.0, 0.0, 0.0, 8589434.0, 3576731.0, 0.0, 7100793.0, 5268571.0, 3701640.0, 54187325.0, 569950.0, 6569664.0, 1248726.0, 237710309.0], \"type\": \"choropleth\"}], \"name\": \"2011 - On Stranger Tides\"}, {\"data\": [{\"coloraxis\": \"coloraxis\", \"geo\": \"geo\", \"hoverlabel\": {\"namelength\": 0}, \"hovertemplate\": \"<b>%{hovertext}</b><br><br>Movie=2017 - Dead Men Tell No Tales<br>iso_alpha=%{location}<br>Gross=%{z}\", \"hovertext\": [\"Argentina\", \"Australia\", \"Austria\", \"Belgium\", \"Bolivia\", \"Brazil\", \"Bulgaria\", \"Chile\", \"China\", \"Colombia\", \"Czech Republic\", \"Denmark\", \"United States\", \"Finland\", \"France\", \"Germany\", \"Greece\", \"Hong Kong\", \"Hungary\", \"Iceland\", \"India\", \"Indonesia\", \"Italy\", \"Japan\", \"Lithuania\", \"Malaysia\", \"Mexico\", \"Netherlands\", \"New Zealand\", \"Norway\", \"Paraguay\", \"Philippines\", \"Poland\", \"Portugal\", \"Romania\", \"Russia\", \"Singapore\", \"Slovakia\", \"Slovenia\", \"South Africa\", \"South Korea\", \"Spain\", \"Sweden\", \"Switzerland\", \"Taiwan\", \"Thailand\", \"Turkey\", \"Ukraine\", \"United Arab Emirates\", \"United Kingdom\", \"Uruguay\", \"Venezuela\", \"Canada\"], \"locations\": [\"ARG\", \"AUS\", \"AUT\", \"BEL\", \"BOL\", \"BRA\", \"BGR\", \"CHL\", \"CHN\", \"COL\", \"CZE\", \"DNK\", \"USA\", \"FIN\", \"FRA\", \"DEU\", \"GRC\", \"HKG\", \"HUN\", \"ISL\", \"IND\", \"IDN\", \"ITA\", \"JPN\", \"LTU\", \"MYS\", \"MEX\", \"NLD\", \"NZL\", \"NOR\", \"PRY\", \"PHL\", \"POL\", \"PRT\", \"ROU\", \"RUS\", \"SGP\", \"SVK\", \"SVN\", \"ZAF\", \"KOR\", \"ESP\", \"SWE\", \"CHE\", \"TWN\", \"THA\", \"TUR\", \"UKR\", \"ARE\", \"GBR\", \"URY\", \"VEN\", \"CAN\"], \"name\": \"\", \"z\": [8914657.0, 10958563.0, 3717328.0, 5287437.0, 996228.0, 16729468.0, 1143629.0, 4113830.0, 172277290.0, 4650279.0, 3616902.0, 3841170.0, 172558876.0, 4074010.0, 28763203.0, 31526868.0, 2428038.0, 4517374.0, 1817842.0, 309211.0, 5651126.0, 6115834.0, 14503644.0, 59765357.0, 703324.0, 4805222.0, 16643576.0, 11245195.0, 1860300.0, 4432108.0, 368714.0, 3225265.0, 7467555.0, 2634293.0, 2336709.0, 37237098.0, 2569358.0, 651965.0, 458117.0, 1308267.0, 22292910.0, 14897137.0, 7291991.0, 5133561.0, 7539415.0, 5174206.0, 5752585.0, 3673723.0, 3852600.0, 25096446.0, 640617.0, 546496.0, 172558876.0], \"type\": \"choropleth\"}], \"name\": \"2017 - Dead Men Tell No Tales\"}]);\n",
       "                        }).then(function(){\n",
       "                            \n",
       "var gd = document.getElementById('e4eab50b-2074-4583-9657-28bc431e8073');\n",
       "var x = new MutationObserver(function (mutations, observer) {{\n",
       "        var display = window.getComputedStyle(gd).display;\n",
       "        if (!display || display === 'none') {{\n",
       "            console.log([gd, 'removed!']);\n",
       "            Plotly.purge(gd);\n",
       "            observer.disconnect();\n",
       "        }}\n",
       "}});\n",
       "\n",
       "// Listen for the removal of the full notebook cells\n",
       "var notebookContainer = gd.closest('#notebook-container');\n",
       "if (notebookContainer) {{\n",
       "    x.observe(notebookContainer, {childList: true});\n",
       "}}\n",
       "\n",
       "// Listen for the clearing of the current output cell\n",
       "var outputEl = gd.closest('.output');\n",
       "if (outputEl) {{\n",
       "    x.observe(outputEl, {childList: true});\n",
       "}}\n",
       "\n",
       "                        })\n",
       "                };\n",
       "                });\n",
       "            </script>\n",
       "        </div>"
      ]
     },
     "metadata": {},
     "output_type": "display_data"
    }
   ],
   "source": [
    "fig = px.choropleth(countries, locations=\"iso_alpha\", color=\"Gross\", hover_name=\"Market\", animation_frame=\"Movie\",\n",
    "                   title = \"Johnny Depp's Pirates of the Caribbean Movies - Gross Revenue by Country\")\n",
    "fig.show()"
   ]
  },
  {
   "cell_type": "code",
   "execution_count": 50,
   "metadata": {},
   "outputs": [
    {
     "data": {
      "text/plain": [
       "'https://plot.ly/~lmd003/5/'"
      ]
     },
     "execution_count": 50,
     "metadata": {},
     "output_type": "execute_result"
    }
   ],
   "source": [
    "#py.plot(fig, filename = 'POTC_Gross_by_Country', auto_open=True)"
   ]
  },
  {
   "cell_type": "code",
   "execution_count": 22,
   "metadata": {},
   "outputs": [
    {
     "data": {
      "text/html": [
       "<div>\n",
       "<style scoped>\n",
       "    .dataframe tbody tr th:only-of-type {\n",
       "        vertical-align: middle;\n",
       "    }\n",
       "\n",
       "    .dataframe tbody tr th {\n",
       "        vertical-align: top;\n",
       "    }\n",
       "\n",
       "    .dataframe thead th {\n",
       "        text-align: right;\n",
       "    }\n",
       "</style>\n",
       "<table border=\"1\" class=\"dataframe\">\n",
       "  <thead>\n",
       "    <tr style=\"text-align: right;\">\n",
       "      <th></th>\n",
       "      <th>imdb_id</th>\n",
       "      <th>title</th>\n",
       "      <th>type</th>\n",
       "      <th>year</th>\n",
       "      <th>genres</th>\n",
       "      <th>rating</th>\n",
       "      <th>rating_count</th>\n",
       "      <th>release_date</th>\n",
       "    </tr>\n",
       "  </thead>\n",
       "  <tbody>\n",
       "    <tr>\n",
       "      <th>1</th>\n",
       "      <td>tt4123432</td>\n",
       "      <td>Fantastic Beasts and Where to Find Them 3</td>\n",
       "      <td>movie</td>\n",
       "      <td>2021.0</td>\n",
       "      <td>('adventure', 'family', 'fantasy')</td>\n",
       "      <td>NaN</td>\n",
       "      <td>0</td>\n",
       "      <td>2021-11-12</td>\n",
       "    </tr>\n",
       "    <tr>\n",
       "      <th>2</th>\n",
       "      <td>tt9179096</td>\n",
       "      <td>Minamata</td>\n",
       "      <td>movie</td>\n",
       "      <td>2020.0</td>\n",
       "      <td>('drama',)</td>\n",
       "      <td>NaN</td>\n",
       "      <td>0</td>\n",
       "      <td>2020-11-24</td>\n",
       "    </tr>\n",
       "    <tr>\n",
       "      <th>3</th>\n",
       "      <td>tt6149154</td>\n",
       "      <td>Waiting for the Barbarians</td>\n",
       "      <td>movie</td>\n",
       "      <td>2019.0</td>\n",
       "      <td>('drama',)</td>\n",
       "      <td>6.3</td>\n",
       "      <td>254</td>\n",
       "      <td>2019-09-06</td>\n",
       "    </tr>\n",
       "    <tr>\n",
       "      <th>4</th>\n",
       "      <td>tt2677722</td>\n",
       "      <td>City of Lies</td>\n",
       "      <td>movie</td>\n",
       "      <td>2018.0</td>\n",
       "      <td>('biography', 'crime', 'drama', 'mystery', 'th...</td>\n",
       "      <td>6.3</td>\n",
       "      <td>3548</td>\n",
       "      <td>2018-12-08</td>\n",
       "    </tr>\n",
       "    <tr>\n",
       "      <th>5</th>\n",
       "      <td>tt4123430</td>\n",
       "      <td>Fantastic Beasts: The Crimes of Grindelwald</td>\n",
       "      <td>movie</td>\n",
       "      <td>2018.0</td>\n",
       "      <td>('adventure', 'family', 'fantasy')</td>\n",
       "      <td>6.6</td>\n",
       "      <td>186066</td>\n",
       "      <td>2018-11-08</td>\n",
       "    </tr>\n",
       "    <tr>\n",
       "      <th>6</th>\n",
       "      <td>tt6865690</td>\n",
       "      <td>The Professor</td>\n",
       "      <td>movie</td>\n",
       "      <td>2018.0</td>\n",
       "      <td>('comedy', 'drama')</td>\n",
       "      <td>6.7</td>\n",
       "      <td>13667</td>\n",
       "      <td>2018-10-05</td>\n",
       "    </tr>\n",
       "    <tr>\n",
       "      <th>7</th>\n",
       "      <td>tt1273221</td>\n",
       "      <td>London Fields</td>\n",
       "      <td>movie</td>\n",
       "      <td>2018.0</td>\n",
       "      <td>('crime', 'mystery', 'thriller')</td>\n",
       "      <td>4.3</td>\n",
       "      <td>3950</td>\n",
       "      <td>2018-09-20</td>\n",
       "    </tr>\n",
       "    <tr>\n",
       "      <th>8</th>\n",
       "      <td>tt8925680</td>\n",
       "      <td>Dior: Sauvage - Legend of the Magic Hour</td>\n",
       "      <td>video</td>\n",
       "      <td>2018.0</td>\n",
       "      <td>('short',)</td>\n",
       "      <td>7.4</td>\n",
       "      <td>173</td>\n",
       "      <td>2018-06-04</td>\n",
       "    </tr>\n",
       "    <tr>\n",
       "      <th>9</th>\n",
       "      <td>tt2296777</td>\n",
       "      <td>Sherlock Gnomes</td>\n",
       "      <td>movie</td>\n",
       "      <td>2018.0</td>\n",
       "      <td>('animation', 'adventure', 'comedy', 'family',...</td>\n",
       "      <td>5.1</td>\n",
       "      <td>8746</td>\n",
       "      <td>2018-03-15</td>\n",
       "    </tr>\n",
       "    <tr>\n",
       "      <th>10</th>\n",
       "      <td>tt3402236</td>\n",
       "      <td>Murder on the Orient Express</td>\n",
       "      <td>movie</td>\n",
       "      <td>2017.0</td>\n",
       "      <td>('crime', 'drama', 'mystery')</td>\n",
       "      <td>6.5</td>\n",
       "      <td>186700</td>\n",
       "      <td>2017-11-03</td>\n",
       "    </tr>\n",
       "    <tr>\n",
       "      <th>11</th>\n",
       "      <td>tt7492974</td>\n",
       "      <td>Marilyn Manson: Say10</td>\n",
       "      <td>video</td>\n",
       "      <td>2017.0</td>\n",
       "      <td>('short', 'music')</td>\n",
       "      <td>7.3</td>\n",
       "      <td>267</td>\n",
       "      <td>2017-10-09</td>\n",
       "    </tr>\n",
       "    <tr>\n",
       "      <th>12</th>\n",
       "      <td>tt1790809</td>\n",
       "      <td>Pirates of the Caribbean: Dead Men Tell No Tales</td>\n",
       "      <td>movie</td>\n",
       "      <td>2017.0</td>\n",
       "      <td>('action', 'adventure', 'fantasy')</td>\n",
       "      <td>6.6</td>\n",
       "      <td>238145</td>\n",
       "      <td>2017-05-11</td>\n",
       "    </tr>\n",
       "    <tr>\n",
       "      <th>13</th>\n",
       "      <td>tt6244528</td>\n",
       "      <td>The Black Ghiandola</td>\n",
       "      <td>short</td>\n",
       "      <td>2017.0</td>\n",
       "      <td>('short', 'horror')</td>\n",
       "      <td>5.2</td>\n",
       "      <td>228</td>\n",
       "      <td>2017-04-22</td>\n",
       "    </tr>\n",
       "    <tr>\n",
       "      <th>14</th>\n",
       "      <td>tt3183660</td>\n",
       "      <td>Fantastic Beasts and Where to Find Them</td>\n",
       "      <td>movie</td>\n",
       "      <td>2016.0</td>\n",
       "      <td>('adventure', 'family', 'fantasy')</td>\n",
       "      <td>7.3</td>\n",
       "      <td>378139</td>\n",
       "      <td>2016-11-08</td>\n",
       "    </tr>\n",
       "    <tr>\n",
       "      <th>15</th>\n",
       "      <td>tt2567026</td>\n",
       "      <td>Alice Through the Looking Glass</td>\n",
       "      <td>movie</td>\n",
       "      <td>2016.0</td>\n",
       "      <td>('adventure', 'family', 'fantasy')</td>\n",
       "      <td>6.2</td>\n",
       "      <td>83208</td>\n",
       "      <td>2016-05-10</td>\n",
       "    </tr>\n",
       "    <tr>\n",
       "      <th>16</th>\n",
       "      <td>tt5456120</td>\n",
       "      <td>Donald Trump's The Art of the Deal: The Movie</td>\n",
       "      <td>tvmovie</td>\n",
       "      <td>2016.0</td>\n",
       "      <td>('comedy',)</td>\n",
       "      <td>5.9</td>\n",
       "      <td>3580</td>\n",
       "      <td>2016-02-10</td>\n",
       "    </tr>\n",
       "    <tr>\n",
       "      <th>17</th>\n",
       "      <td>tt3838992</td>\n",
       "      <td>Yoga Hosers</td>\n",
       "      <td>movie</td>\n",
       "      <td>2016.0</td>\n",
       "      <td>('action', 'comedy', 'fantasy', 'horror', 'thr...</td>\n",
       "      <td>4.3</td>\n",
       "      <td>10953</td>\n",
       "      <td>2016-01-24</td>\n",
       "    </tr>\n",
       "    <tr>\n",
       "      <th>18</th>\n",
       "      <td>tt1355683</td>\n",
       "      <td>Black Mass</td>\n",
       "      <td>movie</td>\n",
       "      <td>2015.0</td>\n",
       "      <td>('biography', 'crime', 'drama')</td>\n",
       "      <td>6.9</td>\n",
       "      <td>158924</td>\n",
       "      <td>2015-09-04</td>\n",
       "    </tr>\n",
       "    <tr>\n",
       "      <th>19</th>\n",
       "      <td>tt8925618</td>\n",
       "      <td>Dior: Sauvage</td>\n",
       "      <td>video</td>\n",
       "      <td>2015.0</td>\n",
       "      <td>('short',)</td>\n",
       "      <td>7.2</td>\n",
       "      <td>325</td>\n",
       "      <td>2015-09-01</td>\n",
       "    </tr>\n",
       "    <tr>\n",
       "      <th>20</th>\n",
       "      <td>tt3045616</td>\n",
       "      <td>Mortdecai</td>\n",
       "      <td>movie</td>\n",
       "      <td>2015.0</td>\n",
       "      <td>('action', 'comedy', 'crime', 'mystery', 'roma...</td>\n",
       "      <td>5.5</td>\n",
       "      <td>62783</td>\n",
       "      <td>2015-01-21</td>\n",
       "    </tr>\n",
       "    <tr>\n",
       "      <th>21</th>\n",
       "      <td>tt2180411</td>\n",
       "      <td>Into the Woods</td>\n",
       "      <td>movie</td>\n",
       "      <td>2014.0</td>\n",
       "      <td>('adventure', 'comedy', 'drama', 'fantasy', 'm...</td>\n",
       "      <td>5.9</td>\n",
       "      <td>125803</td>\n",
       "      <td>2014-12-08</td>\n",
       "    </tr>\n",
       "    <tr>\n",
       "      <th>22</th>\n",
       "      <td>tt3099498</td>\n",
       "      <td>Tusk</td>\n",
       "      <td>movie</td>\n",
       "      <td>2014.0</td>\n",
       "      <td>('comedy', 'drama', 'horror')</td>\n",
       "      <td>5.3</td>\n",
       "      <td>42417</td>\n",
       "      <td>2014-09-06</td>\n",
       "    </tr>\n",
       "    <tr>\n",
       "      <th>23</th>\n",
       "      <td>tt2209764</td>\n",
       "      <td>Transcendence</td>\n",
       "      <td>movie</td>\n",
       "      <td>2014.0</td>\n",
       "      <td>('drama', 'sci-fi', 'thriller')</td>\n",
       "      <td>6.3</td>\n",
       "      <td>207746</td>\n",
       "      <td>2014-04-10</td>\n",
       "    </tr>\n",
       "    <tr>\n",
       "      <th>24</th>\n",
       "      <td>tt1885299</td>\n",
       "      <td>Lucky Them</td>\n",
       "      <td>movie</td>\n",
       "      <td>2013.0</td>\n",
       "      <td>('drama',)</td>\n",
       "      <td>6.1</td>\n",
       "      <td>2891</td>\n",
       "      <td>2013-09-06</td>\n",
       "    </tr>\n",
       "    <tr>\n",
       "      <th>25</th>\n",
       "      <td>tt1210819</td>\n",
       "      <td>The Lone Ranger</td>\n",
       "      <td>movie</td>\n",
       "      <td>2013.0</td>\n",
       "      <td>('action', 'adventure', 'comedy', 'thriller', ...</td>\n",
       "      <td>6.4</td>\n",
       "      <td>212010</td>\n",
       "      <td>2013-06-22</td>\n",
       "    </tr>\n",
       "    <tr>\n",
       "      <th>26</th>\n",
       "      <td>tt0182576</td>\n",
       "      <td>Family Guy</td>\n",
       "      <td>tvseries</td>\n",
       "      <td>1999.0</td>\n",
       "      <td>('animation', 'comedy')</td>\n",
       "      <td>8.1</td>\n",
       "      <td>289446</td>\n",
       "      <td>1999-01-31</td>\n",
       "    </tr>\n",
       "    <tr>\n",
       "      <th>27</th>\n",
       "      <td>tt2168874</td>\n",
       "      <td>Paul McCartney: My Valentine</td>\n",
       "      <td>video</td>\n",
       "      <td>2012.0</td>\n",
       "      <td>('short', 'music')</td>\n",
       "      <td>8.1</td>\n",
       "      <td>1026</td>\n",
       "      <td>2012-11-24</td>\n",
       "    </tr>\n",
       "    <tr>\n",
       "      <th>28</th>\n",
       "      <td>tt1077368</td>\n",
       "      <td>Dark Shadows</td>\n",
       "      <td>movie</td>\n",
       "      <td>2012.0</td>\n",
       "      <td>('comedy', 'fantasy', 'horror')</td>\n",
       "      <td>6.2</td>\n",
       "      <td>235009</td>\n",
       "      <td>2012-05-09</td>\n",
       "    </tr>\n",
       "    <tr>\n",
       "      <th>29</th>\n",
       "      <td>tt1232829</td>\n",
       "      <td>21 Jump Street</td>\n",
       "      <td>movie</td>\n",
       "      <td>2012.0</td>\n",
       "      <td>('action', 'comedy', 'crime')</td>\n",
       "      <td>7.2</td>\n",
       "      <td>486639</td>\n",
       "      <td>2012-03-12</td>\n",
       "    </tr>\n",
       "    <tr>\n",
       "      <th>30</th>\n",
       "      <td>tt1641247</td>\n",
       "      <td>Life's Too Short</td>\n",
       "      <td>tvseries</td>\n",
       "      <td>2011.0</td>\n",
       "      <td>('comedy',)</td>\n",
       "      <td>7.5</td>\n",
       "      <td>13670</td>\n",
       "      <td>2011-11-24</td>\n",
       "    </tr>\n",
       "    <tr>\n",
       "      <th>...</th>\n",
       "      <td>...</td>\n",
       "      <td>...</td>\n",
       "      <td>...</td>\n",
       "      <td>...</td>\n",
       "      <td>...</td>\n",
       "      <td>...</td>\n",
       "      <td>...</td>\n",
       "      <td>...</td>\n",
       "    </tr>\n",
       "    <tr>\n",
       "      <th>490</th>\n",
       "      <td>tt0308514</td>\n",
       "      <td>Lost in La Mancha</td>\n",
       "      <td>movie</td>\n",
       "      <td>2002.0</td>\n",
       "      <td>('documentary',)</td>\n",
       "      <td>7.4</td>\n",
       "      <td>10804</td>\n",
       "      <td>2002-02-11</td>\n",
       "    </tr>\n",
       "    <tr>\n",
       "      <th>491</th>\n",
       "      <td>tt0988042</td>\n",
       "      <td>One Taste Is Never Enough... The Pleasures of ...</td>\n",
       "      <td>tvmovie</td>\n",
       "      <td>2000.0</td>\n",
       "      <td>('documentary',)</td>\n",
       "      <td>7.7</td>\n",
       "      <td>25</td>\n",
       "      <td>2000-11-24</td>\n",
       "    </tr>\n",
       "    <tr>\n",
       "      <th>492</th>\n",
       "      <td>tt0119565</td>\n",
       "      <td>L.A. Without a Map</td>\n",
       "      <td>movie</td>\n",
       "      <td>1998.0</td>\n",
       "      <td>('comedy', 'drama', 'romance')</td>\n",
       "      <td>6.2</td>\n",
       "      <td>2008</td>\n",
       "      <td>1998-09-11</td>\n",
       "    </tr>\n",
       "    <tr>\n",
       "      <th>493</th>\n",
       "      <td>tt7002460</td>\n",
       "      <td>Glastonbury 2017</td>\n",
       "      <td>tvminiseries</td>\n",
       "      <td>2017.0</td>\n",
       "      <td>('music',)</td>\n",
       "      <td>7.4</td>\n",
       "      <td>17</td>\n",
       "      <td>2017-06-23</td>\n",
       "    </tr>\n",
       "    <tr>\n",
       "      <th>494</th>\n",
       "      <td>tt3498954</td>\n",
       "      <td>Everything Wrong with...</td>\n",
       "      <td>tvseries</td>\n",
       "      <td>2012.0</td>\n",
       "      <td>('comedy',)</td>\n",
       "      <td>7.0</td>\n",
       "      <td>2305</td>\n",
       "      <td>2012-12-11</td>\n",
       "    </tr>\n",
       "    <tr>\n",
       "      <th>495</th>\n",
       "      <td>tt2180411</td>\n",
       "      <td>Into the Woods</td>\n",
       "      <td>movie</td>\n",
       "      <td>2014.0</td>\n",
       "      <td>('adventure', 'comedy', 'drama', 'fantasy', 'm...</td>\n",
       "      <td>5.9</td>\n",
       "      <td>125803</td>\n",
       "      <td>2014-12-08</td>\n",
       "    </tr>\n",
       "    <tr>\n",
       "      <th>496</th>\n",
       "      <td>tt1210819</td>\n",
       "      <td>The Lone Ranger</td>\n",
       "      <td>movie</td>\n",
       "      <td>2013.0</td>\n",
       "      <td>('action', 'adventure', 'comedy', 'thriller', ...</td>\n",
       "      <td>6.4</td>\n",
       "      <td>212010</td>\n",
       "      <td>2013-06-22</td>\n",
       "    </tr>\n",
       "    <tr>\n",
       "      <th>497</th>\n",
       "      <td>tt2402919</td>\n",
       "      <td>2012 MTV Movie Awards</td>\n",
       "      <td>tvspecial</td>\n",
       "      <td>2012.0</td>\n",
       "      <td>('music',)</td>\n",
       "      <td>4.8</td>\n",
       "      <td>265</td>\n",
       "      <td>2012-06-03</td>\n",
       "    </tr>\n",
       "    <tr>\n",
       "      <th>498</th>\n",
       "      <td>tt1077368</td>\n",
       "      <td>Dark Shadows</td>\n",
       "      <td>movie</td>\n",
       "      <td>2012.0</td>\n",
       "      <td>('comedy', 'fantasy', 'horror')</td>\n",
       "      <td>6.2</td>\n",
       "      <td>235009</td>\n",
       "      <td>2012-05-09</td>\n",
       "    </tr>\n",
       "    <tr>\n",
       "      <th>499</th>\n",
       "      <td>tt2130321</td>\n",
       "      <td>West of Memphis</td>\n",
       "      <td>movie</td>\n",
       "      <td>2012.0</td>\n",
       "      <td>('documentary', 'crime')</td>\n",
       "      <td>7.9</td>\n",
       "      <td>9417</td>\n",
       "      <td>2012-01-21</td>\n",
       "    </tr>\n",
       "    <tr>\n",
       "      <th>500</th>\n",
       "      <td>tt0376136</td>\n",
       "      <td>The Rum Diary</td>\n",
       "      <td>movie</td>\n",
       "      <td>2011.0</td>\n",
       "      <td>('comedy', 'drama')</td>\n",
       "      <td>6.2</td>\n",
       "      <td>95679</td>\n",
       "      <td>2011-10-13</td>\n",
       "    </tr>\n",
       "    <tr>\n",
       "      <th>501</th>\n",
       "      <td>tt1635327</td>\n",
       "      <td>The Nostalgia Critic</td>\n",
       "      <td>tvseries</td>\n",
       "      <td>2007.0</td>\n",
       "      <td>('comedy',)</td>\n",
       "      <td>7.8</td>\n",
       "      <td>8644</td>\n",
       "      <td>2007-07-24</td>\n",
       "    </tr>\n",
       "    <tr>\n",
       "      <th>502</th>\n",
       "      <td>tt0408236</td>\n",
       "      <td>Sweeney Todd: The Demon Barber of Fleet Street</td>\n",
       "      <td>movie</td>\n",
       "      <td>2007.0</td>\n",
       "      <td>('drama', 'horror', 'musical', 'thriller')</td>\n",
       "      <td>7.3</td>\n",
       "      <td>327943</td>\n",
       "      <td>2007-12-03</td>\n",
       "    </tr>\n",
       "    <tr>\n",
       "      <th>503</th>\n",
       "      <td>tt0285823</td>\n",
       "      <td>Once Upon a Time in Mexico</td>\n",
       "      <td>movie</td>\n",
       "      <td>2003.0</td>\n",
       "      <td>('action', 'crime', 'thriller')</td>\n",
       "      <td>6.4</td>\n",
       "      <td>147587</td>\n",
       "      <td>2003-08-27</td>\n",
       "    </tr>\n",
       "    <tr>\n",
       "      <th>504</th>\n",
       "      <td>tt0325980</td>\n",
       "      <td>Pirates of the Caribbean: The Curse of the Bla...</td>\n",
       "      <td>movie</td>\n",
       "      <td>2003.0</td>\n",
       "      <td>('action', 'adventure', 'fantasy')</td>\n",
       "      <td>8.0</td>\n",
       "      <td>977720</td>\n",
       "      <td>2003-06-28</td>\n",
       "    </tr>\n",
       "    <tr>\n",
       "      <th>505</th>\n",
       "      <td>tt0241303</td>\n",
       "      <td>Chocolat</td>\n",
       "      <td>movie</td>\n",
       "      <td>2000.0</td>\n",
       "      <td>('drama', 'romance')</td>\n",
       "      <td>7.2</td>\n",
       "      <td>170573</td>\n",
       "      <td>2000-12-15</td>\n",
       "    </tr>\n",
       "    <tr>\n",
       "      <th>506</th>\n",
       "      <td>tt1595655</td>\n",
       "      <td>Untitled Keith Richards Documentary</td>\n",
       "      <td>movie</td>\n",
       "      <td>2016.0</td>\n",
       "      <td>('documentary',)</td>\n",
       "      <td>5.0</td>\n",
       "      <td>8</td>\n",
       "      <td>2016-11-24</td>\n",
       "    </tr>\n",
       "    <tr>\n",
       "      <th>507</th>\n",
       "      <td>tt8045334</td>\n",
       "      <td>Unloveable</td>\n",
       "      <td>movie</td>\n",
       "      <td>2009.0</td>\n",
       "      <td>('drama',)</td>\n",
       "      <td>6.1</td>\n",
       "      <td>8</td>\n",
       "      <td>2009-11-30</td>\n",
       "    </tr>\n",
       "    <tr>\n",
       "      <th>508</th>\n",
       "      <td>tt8416526</td>\n",
       "      <td>Vanessa Paradis: L'Incendie</td>\n",
       "      <td>video</td>\n",
       "      <td>2008.0</td>\n",
       "      <td>('short', 'music')</td>\n",
       "      <td>6.1</td>\n",
       "      <td>7</td>\n",
       "      <td>2008-03-24</td>\n",
       "    </tr>\n",
       "    <tr>\n",
       "      <th>509</th>\n",
       "      <td>tt8408070</td>\n",
       "      <td>Vanessa Paradis: Pourtant</td>\n",
       "      <td>video</td>\n",
       "      <td>2001.0</td>\n",
       "      <td>('short', 'music')</td>\n",
       "      <td>7.4</td>\n",
       "      <td>5</td>\n",
       "      <td>2001-03-24</td>\n",
       "    </tr>\n",
       "    <tr>\n",
       "      <th>510</th>\n",
       "      <td>tt8408056</td>\n",
       "      <td>Vanessa Paradis: Que fait la vie?</td>\n",
       "      <td>video</td>\n",
       "      <td>2001.0</td>\n",
       "      <td>('short', 'music')</td>\n",
       "      <td>NaN</td>\n",
       "      <td>0</td>\n",
       "      <td>2001-03-24</td>\n",
       "    </tr>\n",
       "    <tr>\n",
       "      <th>511</th>\n",
       "      <td>tt0118768</td>\n",
       "      <td>The Brave</td>\n",
       "      <td>movie</td>\n",
       "      <td>1997.0</td>\n",
       "      <td>('drama',)</td>\n",
       "      <td>6.3</td>\n",
       "      <td>8789</td>\n",
       "      <td>1997-05-10</td>\n",
       "    </tr>\n",
       "    <tr>\n",
       "      <th>512</th>\n",
       "      <td>tt8403886</td>\n",
       "      <td>Shane MacGowand and the Popes: That Woman's Go...</td>\n",
       "      <td>video</td>\n",
       "      <td>1994.0</td>\n",
       "      <td>('short', 'music')</td>\n",
       "      <td>5.4</td>\n",
       "      <td>15</td>\n",
       "      <td>1994-11-24</td>\n",
       "    </tr>\n",
       "    <tr>\n",
       "      <th>513</th>\n",
       "      <td>tt8391658</td>\n",
       "      <td>Banter</td>\n",
       "      <td>short</td>\n",
       "      <td>1994.0</td>\n",
       "      <td>('short',)</td>\n",
       "      <td>NaN</td>\n",
       "      <td>0</td>\n",
       "      <td>1994-02-22</td>\n",
       "    </tr>\n",
       "    <tr>\n",
       "      <th>514</th>\n",
       "      <td>tt0811090</td>\n",
       "      <td>Stuff</td>\n",
       "      <td>tvshort</td>\n",
       "      <td>1993.0</td>\n",
       "      <td>('short', 'music')</td>\n",
       "      <td>7.2</td>\n",
       "      <td>287</td>\n",
       "      <td>1993-11-24</td>\n",
       "    </tr>\n",
       "    <tr>\n",
       "      <th>515</th>\n",
       "      <td>tt8391510</td>\n",
       "      <td>Every Cake, Neil</td>\n",
       "      <td>short</td>\n",
       "      <td>1988.0</td>\n",
       "      <td>('short',)</td>\n",
       "      <td>NaN</td>\n",
       "      <td>0</td>\n",
       "      <td>1988-11-24</td>\n",
       "    </tr>\n",
       "    <tr>\n",
       "      <th>516</th>\n",
       "      <td>tt3685922</td>\n",
       "      <td>Lost Songs: The Basement Tapes Continued</td>\n",
       "      <td>movie</td>\n",
       "      <td>2014.0</td>\n",
       "      <td>('documentary',)</td>\n",
       "      <td>7.8</td>\n",
       "      <td>247</td>\n",
       "      <td>2014-11-21</td>\n",
       "    </tr>\n",
       "    <tr>\n",
       "      <th>517</th>\n",
       "      <td>tt8045334</td>\n",
       "      <td>Unloveable</td>\n",
       "      <td>movie</td>\n",
       "      <td>2009.0</td>\n",
       "      <td>('drama',)</td>\n",
       "      <td>6.1</td>\n",
       "      <td>8</td>\n",
       "      <td>2009-11-30</td>\n",
       "    </tr>\n",
       "    <tr>\n",
       "      <th>518</th>\n",
       "      <td>tt0118768</td>\n",
       "      <td>The Brave</td>\n",
       "      <td>movie</td>\n",
       "      <td>1997.0</td>\n",
       "      <td>('drama',)</td>\n",
       "      <td>6.3</td>\n",
       "      <td>8789</td>\n",
       "      <td>1997-05-10</td>\n",
       "    </tr>\n",
       "    <tr>\n",
       "      <th>519</th>\n",
       "      <td>tt8391510</td>\n",
       "      <td>Every Cake, Neil</td>\n",
       "      <td>short</td>\n",
       "      <td>1988.0</td>\n",
       "      <td>('short',)</td>\n",
       "      <td>NaN</td>\n",
       "      <td>0</td>\n",
       "      <td>1988-11-24</td>\n",
       "    </tr>\n",
       "  </tbody>\n",
       "</table>\n",
       "<p>486 rows × 8 columns</p>\n",
       "</div>"
      ],
      "text/plain": [
       "       imdb_id                                              title  \\\n",
       "1    tt4123432          Fantastic Beasts and Where to Find Them 3   \n",
       "2    tt9179096                                           Minamata   \n",
       "3    tt6149154                         Waiting for the Barbarians   \n",
       "4    tt2677722                                       City of Lies   \n",
       "5    tt4123430        Fantastic Beasts: The Crimes of Grindelwald   \n",
       "6    tt6865690                                      The Professor   \n",
       "7    tt1273221                                      London Fields   \n",
       "8    tt8925680           Dior: Sauvage - Legend of the Magic Hour   \n",
       "9    tt2296777                                    Sherlock Gnomes   \n",
       "10   tt3402236                       Murder on the Orient Express   \n",
       "11   tt7492974                              Marilyn Manson: Say10   \n",
       "12   tt1790809   Pirates of the Caribbean: Dead Men Tell No Tales   \n",
       "13   tt6244528                                The Black Ghiandola   \n",
       "14   tt3183660            Fantastic Beasts and Where to Find Them   \n",
       "15   tt2567026                    Alice Through the Looking Glass   \n",
       "16   tt5456120      Donald Trump's The Art of the Deal: The Movie   \n",
       "17   tt3838992                                        Yoga Hosers   \n",
       "18   tt1355683                                         Black Mass   \n",
       "19   tt8925618                                      Dior: Sauvage   \n",
       "20   tt3045616                                          Mortdecai   \n",
       "21   tt2180411                                     Into the Woods   \n",
       "22   tt3099498                                               Tusk   \n",
       "23   tt2209764                                      Transcendence   \n",
       "24   tt1885299                                         Lucky Them   \n",
       "25   tt1210819                                    The Lone Ranger   \n",
       "26   tt0182576                                         Family Guy   \n",
       "27   tt2168874                       Paul McCartney: My Valentine   \n",
       "28   tt1077368                                       Dark Shadows   \n",
       "29   tt1232829                                     21 Jump Street   \n",
       "30   tt1641247                                   Life's Too Short   \n",
       "..         ...                                                ...   \n",
       "490  tt0308514                                  Lost in La Mancha   \n",
       "491  tt0988042  One Taste Is Never Enough... The Pleasures of ...   \n",
       "492  tt0119565                                 L.A. Without a Map   \n",
       "493  tt7002460                                   Glastonbury 2017   \n",
       "494  tt3498954                           Everything Wrong with...   \n",
       "495  tt2180411                                     Into the Woods   \n",
       "496  tt1210819                                    The Lone Ranger   \n",
       "497  tt2402919                              2012 MTV Movie Awards   \n",
       "498  tt1077368                                       Dark Shadows   \n",
       "499  tt2130321                                    West of Memphis   \n",
       "500  tt0376136                                      The Rum Diary   \n",
       "501  tt1635327                               The Nostalgia Critic   \n",
       "502  tt0408236     Sweeney Todd: The Demon Barber of Fleet Street   \n",
       "503  tt0285823                         Once Upon a Time in Mexico   \n",
       "504  tt0325980  Pirates of the Caribbean: The Curse of the Bla...   \n",
       "505  tt0241303                                           Chocolat   \n",
       "506  tt1595655                Untitled Keith Richards Documentary   \n",
       "507  tt8045334                                         Unloveable   \n",
       "508  tt8416526                        Vanessa Paradis: L'Incendie   \n",
       "509  tt8408070                          Vanessa Paradis: Pourtant   \n",
       "510  tt8408056                  Vanessa Paradis: Que fait la vie?   \n",
       "511  tt0118768                                          The Brave   \n",
       "512  tt8403886  Shane MacGowand and the Popes: That Woman's Go...   \n",
       "513  tt8391658                                             Banter   \n",
       "514  tt0811090                                              Stuff   \n",
       "515  tt8391510                                   Every Cake, Neil   \n",
       "516  tt3685922           Lost Songs: The Basement Tapes Continued   \n",
       "517  tt8045334                                         Unloveable   \n",
       "518  tt0118768                                          The Brave   \n",
       "519  tt8391510                                   Every Cake, Neil   \n",
       "\n",
       "             type    year                                             genres  \\\n",
       "1           movie  2021.0                 ('adventure', 'family', 'fantasy')   \n",
       "2           movie  2020.0                                         ('drama',)   \n",
       "3           movie  2019.0                                         ('drama',)   \n",
       "4           movie  2018.0  ('biography', 'crime', 'drama', 'mystery', 'th...   \n",
       "5           movie  2018.0                 ('adventure', 'family', 'fantasy')   \n",
       "6           movie  2018.0                                ('comedy', 'drama')   \n",
       "7           movie  2018.0                   ('crime', 'mystery', 'thriller')   \n",
       "8           video  2018.0                                         ('short',)   \n",
       "9           movie  2018.0  ('animation', 'adventure', 'comedy', 'family',...   \n",
       "10          movie  2017.0                      ('crime', 'drama', 'mystery')   \n",
       "11          video  2017.0                                 ('short', 'music')   \n",
       "12          movie  2017.0                 ('action', 'adventure', 'fantasy')   \n",
       "13          short  2017.0                                ('short', 'horror')   \n",
       "14          movie  2016.0                 ('adventure', 'family', 'fantasy')   \n",
       "15          movie  2016.0                 ('adventure', 'family', 'fantasy')   \n",
       "16        tvmovie  2016.0                                        ('comedy',)   \n",
       "17          movie  2016.0  ('action', 'comedy', 'fantasy', 'horror', 'thr...   \n",
       "18          movie  2015.0                    ('biography', 'crime', 'drama')   \n",
       "19          video  2015.0                                         ('short',)   \n",
       "20          movie  2015.0  ('action', 'comedy', 'crime', 'mystery', 'roma...   \n",
       "21          movie  2014.0  ('adventure', 'comedy', 'drama', 'fantasy', 'm...   \n",
       "22          movie  2014.0                      ('comedy', 'drama', 'horror')   \n",
       "23          movie  2014.0                    ('drama', 'sci-fi', 'thriller')   \n",
       "24          movie  2013.0                                         ('drama',)   \n",
       "25          movie  2013.0  ('action', 'adventure', 'comedy', 'thriller', ...   \n",
       "26       tvseries  1999.0                            ('animation', 'comedy')   \n",
       "27          video  2012.0                                 ('short', 'music')   \n",
       "28          movie  2012.0                    ('comedy', 'fantasy', 'horror')   \n",
       "29          movie  2012.0                      ('action', 'comedy', 'crime')   \n",
       "30       tvseries  2011.0                                        ('comedy',)   \n",
       "..            ...     ...                                                ...   \n",
       "490         movie  2002.0                                   ('documentary',)   \n",
       "491       tvmovie  2000.0                                   ('documentary',)   \n",
       "492         movie  1998.0                     ('comedy', 'drama', 'romance')   \n",
       "493  tvminiseries  2017.0                                         ('music',)   \n",
       "494      tvseries  2012.0                                        ('comedy',)   \n",
       "495         movie  2014.0  ('adventure', 'comedy', 'drama', 'fantasy', 'm...   \n",
       "496         movie  2013.0  ('action', 'adventure', 'comedy', 'thriller', ...   \n",
       "497     tvspecial  2012.0                                         ('music',)   \n",
       "498         movie  2012.0                    ('comedy', 'fantasy', 'horror')   \n",
       "499         movie  2012.0                           ('documentary', 'crime')   \n",
       "500         movie  2011.0                                ('comedy', 'drama')   \n",
       "501      tvseries  2007.0                                        ('comedy',)   \n",
       "502         movie  2007.0         ('drama', 'horror', 'musical', 'thriller')   \n",
       "503         movie  2003.0                    ('action', 'crime', 'thriller')   \n",
       "504         movie  2003.0                 ('action', 'adventure', 'fantasy')   \n",
       "505         movie  2000.0                               ('drama', 'romance')   \n",
       "506         movie  2016.0                                   ('documentary',)   \n",
       "507         movie  2009.0                                         ('drama',)   \n",
       "508         video  2008.0                                 ('short', 'music')   \n",
       "509         video  2001.0                                 ('short', 'music')   \n",
       "510         video  2001.0                                 ('short', 'music')   \n",
       "511         movie  1997.0                                         ('drama',)   \n",
       "512         video  1994.0                                 ('short', 'music')   \n",
       "513         short  1994.0                                         ('short',)   \n",
       "514       tvshort  1993.0                                 ('short', 'music')   \n",
       "515         short  1988.0                                         ('short',)   \n",
       "516         movie  2014.0                                   ('documentary',)   \n",
       "517         movie  2009.0                                         ('drama',)   \n",
       "518         movie  1997.0                                         ('drama',)   \n",
       "519         short  1988.0                                         ('short',)   \n",
       "\n",
       "     rating  rating_count release_date  \n",
       "1       NaN             0   2021-11-12  \n",
       "2       NaN             0   2020-11-24  \n",
       "3       6.3           254   2019-09-06  \n",
       "4       6.3          3548   2018-12-08  \n",
       "5       6.6        186066   2018-11-08  \n",
       "6       6.7         13667   2018-10-05  \n",
       "7       4.3          3950   2018-09-20  \n",
       "8       7.4           173   2018-06-04  \n",
       "9       5.1          8746   2018-03-15  \n",
       "10      6.5        186700   2017-11-03  \n",
       "11      7.3           267   2017-10-09  \n",
       "12      6.6        238145   2017-05-11  \n",
       "13      5.2           228   2017-04-22  \n",
       "14      7.3        378139   2016-11-08  \n",
       "15      6.2         83208   2016-05-10  \n",
       "16      5.9          3580   2016-02-10  \n",
       "17      4.3         10953   2016-01-24  \n",
       "18      6.9        158924   2015-09-04  \n",
       "19      7.2           325   2015-09-01  \n",
       "20      5.5         62783   2015-01-21  \n",
       "21      5.9        125803   2014-12-08  \n",
       "22      5.3         42417   2014-09-06  \n",
       "23      6.3        207746   2014-04-10  \n",
       "24      6.1          2891   2013-09-06  \n",
       "25      6.4        212010   2013-06-22  \n",
       "26      8.1        289446   1999-01-31  \n",
       "27      8.1          1026   2012-11-24  \n",
       "28      6.2        235009   2012-05-09  \n",
       "29      7.2        486639   2012-03-12  \n",
       "30      7.5         13670   2011-11-24  \n",
       "..      ...           ...          ...  \n",
       "490     7.4         10804   2002-02-11  \n",
       "491     7.7            25   2000-11-24  \n",
       "492     6.2          2008   1998-09-11  \n",
       "493     7.4            17   2017-06-23  \n",
       "494     7.0          2305   2012-12-11  \n",
       "495     5.9        125803   2014-12-08  \n",
       "496     6.4        212010   2013-06-22  \n",
       "497     4.8           265   2012-06-03  \n",
       "498     6.2        235009   2012-05-09  \n",
       "499     7.9          9417   2012-01-21  \n",
       "500     6.2         95679   2011-10-13  \n",
       "501     7.8          8644   2007-07-24  \n",
       "502     7.3        327943   2007-12-03  \n",
       "503     6.4        147587   2003-08-27  \n",
       "504     8.0        977720   2003-06-28  \n",
       "505     7.2        170573   2000-12-15  \n",
       "506     5.0             8   2016-11-24  \n",
       "507     6.1             8   2009-11-30  \n",
       "508     6.1             7   2008-03-24  \n",
       "509     7.4             5   2001-03-24  \n",
       "510     NaN             0   2001-03-24  \n",
       "511     6.3          8789   1997-05-10  \n",
       "512     5.4            15   1994-11-24  \n",
       "513     NaN             0   1994-02-22  \n",
       "514     7.2           287   1993-11-24  \n",
       "515     NaN             0   1988-11-24  \n",
       "516     7.8           247   2014-11-21  \n",
       "517     6.1             8   2009-11-30  \n",
       "518     6.3          8789   1997-05-10  \n",
       "519     NaN             0   1988-11-24  \n",
       "\n",
       "[486 rows x 8 columns]"
      ]
     },
     "metadata": {},
     "output_type": "display_data"
    }
   ],
   "source": [
    "display(actor_df[actor_df['year'] > 1980])\n",
    "actor_df = actor_df[actor_df['year'] > 1980]"
   ]
  },
  {
   "cell_type": "code",
   "execution_count": 23,
   "metadata": {},
   "outputs": [
    {
     "data": {
      "application/vnd.plotly.v1+json": {
       "config": {
        "plotlyServerURL": "https://plot.ly"
       },
       "data": [
        {
         "hoverlabel": {
          "namelength": 0
         },
         "hovertemplate": "<b>%{hovertext}</b><br><br>type=movie<br>year=%{x}<br>rating=%{y}<br>rating_count=%{marker.size}",
         "hovertext": [
          "Fantastic Beasts and Where to Find Them 3",
          "Minamata",
          "Waiting for the Barbarians",
          "City of Lies",
          "Fantastic Beasts: The Crimes of Grindelwald",
          "The Professor",
          "London Fields",
          "Sherlock Gnomes",
          "Murder on the Orient Express",
          "Pirates of the Caribbean: Dead Men Tell No Tales",
          "Fantastic Beasts and Where to Find Them",
          "Alice Through the Looking Glass",
          "Yoga Hosers",
          "Black Mass",
          "Mortdecai",
          "Into the Woods",
          "Tusk",
          "Transcendence",
          "Lucky Them",
          "The Lone Ranger",
          "Dark Shadows",
          "21 Jump Street",
          "Jack and Jill",
          "The Rum Diary",
          "Pirates of the Caribbean: On Stranger Tides",
          "Rango",
          "The Tourist",
          "Alice in Wonderland",
          "Public Enemies",
          "The Imaginarium of Doctor Parnassus",
          "Sweeney Todd: The Demon Barber of Fleet Street",
          "Pirates of the Caribbean: At World's End",
          "Pirates of the Caribbean: Dead Man's Chest",
          "Corpse Bride",
          "Charlie and the Chocolate Factory",
          "The Libertine",
          "Finding Neverland",
          "Ils se marièrent et eurent beaucoup d'enfants",
          "Secret Window",
          "Once Upon a Time in Mexico",
          "Pirates of the Caribbean: The Curse of the Black Pearl",
          "From Hell",
          "Blow",
          "Chocolat",
          "Before Night Falls",
          "The Man Who Cried",
          "Sleepy Hollow",
          "The Astronaut's Wife",
          "The Ninth Gate",
          "Fear and Loathing in Las Vegas",
          "The Brave",
          "Donnie Brasco",
          "Nick of Time",
          "Dead Man",
          "Don Juan DeMarco",
          "Ed Wood",
          "What's Eating Gilbert Grape",
          "Benny & Joon",
          "Arizona Dream",
          "Freddy's Dead: The Final Nightmare",
          "Edward Scissorhands",
          "Cry-Baby",
          "Platoon",
          "Private Resort",
          "A Nightmare on Elm Street",
          "Cashed Out Casino",
          "The Nightmare",
          "Final Cut: Hölgyeim és uraim",
          "Paradise Lost 3: Purgatory",
          "Pearl Jam Twenty",
          "Spisok korabley",
          "An Island's Legacy: Preparing for TT",
          "Going to Pieces: The Rise and Fall of the Slasher Film",
          "Inventing Grace, Touching Glory",
          "If I Should Fall from Grace: The Shane MacGowan Story",
          "Brothers in Arms",
          "Rolling Stone: Stories from the Edge",
          "Hope and Healing Award Concert",
          "Lost Songs: The Basement Tapes Continued",
          "Don't Say No Until I Finish Talking: The Story of Richard D. Zanuck",
          "For No Good Reason",
          "Close Up",
          "Radioman",
          "Sunset Strip",
          "West of Memphis",
          "In Search of Ted Demme",
          "The Doors: When You're Strange",
          "Marc Forster - Der Weg zu 007",
          "Rock and a Hard Place: Another Night at the Agora",
          "Gonzo: The Life and Work of Dr. Hunter S. Thompson",
          "Tom Petty and the Heartbreakers: Runnin' Down a Dream",
          "Joe Strummer: The Future Is Unwritten",
          "Buy the Ticket, Take the Ride: Hunter S. Thompson on Film",
          "When the Road Bends... Tales of a Gypsy Caravan",
          "Charlie: The Life and Art of Charles Chaplin",
          "Breakfast with Hunter",
          "All the Love You Cannes!",
          "Lost in La Mancha",
          "The Source: The Story of the Beats and the Beat Generation",
          "L.A. Without a Map",
          "Cannes Man",
          "Minamata",
          "Mortdecai",
          "LaDonna Harris: Indian 101",
          "The Lone Ranger",
          "Dark Shadows",
          "The Rum Diary",
          "Hugo",
          "7 Days,7 Girls",
          "Don't Say No Until I Finish Talking: The Story of Richard D. Zanuck",
          "On the Road",
          "Paradise Lost 3: Purgatory",
          "Stuntmen",
          "Lost in La Mancha",
          "L.A. Without a Map",
          "Into the Woods",
          "The Lone Ranger",
          "Dark Shadows",
          "West of Memphis",
          "The Rum Diary",
          "Sweeney Todd: The Demon Barber of Fleet Street",
          "Once Upon a Time in Mexico",
          "Pirates of the Caribbean: The Curse of the Black Pearl",
          "Chocolat",
          "Untitled Keith Richards Documentary",
          "Unloveable",
          "The Brave",
          "Lost Songs: The Basement Tapes Continued",
          "Unloveable",
          "The Brave"
         ],
         "legendgroup": "type=movie",
         "marker": {
          "color": "#636efa",
          "size": [
           0,
           0,
           254,
           3548,
           186066,
           13667,
           3950,
           8746,
           186700,
           238145,
           378139,
           83208,
           10953,
           158924,
           62783,
           125803,
           42417,
           207746,
           2891,
           212010,
           235009,
           486639,
           73219,
           95679,
           456261,
           220867,
           210746,
           365160,
           265561,
           140089,
           327943,
           566639,
           623741,
           228493,
           398416,
           33864,
           192589,
           4559,
           173025,
           147587,
           977720,
           141239,
           228076,
           170573,
           23066,
           13706,
           312116,
           51141,
           156179,
           246572,
           8789,
           259382,
           37312,
           85368,
           46272,
           159421,
           201411,
           52360,
           39111,
           38761,
           422889,
           51716,
           359040,
           7201,
           191588,
           9,
           6163,
           2107,
           8571,
           7376,
           8,
           0,
           3178,
           16,
           315,
           100,
           414,
           0,
           247,
           96,
           1341,
           13,
           205,
           612,
           9417,
           43,
           8761,
           11,
           28,
           7215,
           1625,
           3542,
           983,
           435,
           1274,
           633,
           302,
           10804,
           729,
           2008,
           415,
           0,
           62783,
           19,
           212010,
           235009,
           95679,
           289275,
           0,
           96,
           38332,
           8571,
           617,
           10804,
           2008,
           125803,
           212010,
           235009,
           9417,
           95679,
           327943,
           147587,
           977720,
           170573,
           8,
           8,
           8789,
           247,
           8,
           8789
          ],
          "sizemode": "area",
          "sizeref": 271.5888888888889,
          "symbol": "circle"
         },
         "mode": "markers",
         "name": "type=movie",
         "showlegend": true,
         "type": "scatter",
         "x": [
          2021,
          2020,
          2019,
          2018,
          2018,
          2018,
          2018,
          2018,
          2017,
          2017,
          2016,
          2016,
          2016,
          2015,
          2015,
          2014,
          2014,
          2014,
          2013,
          2013,
          2012,
          2012,
          2011,
          2011,
          2011,
          2011,
          2010,
          2010,
          2009,
          2009,
          2007,
          2007,
          2006,
          2005,
          2005,
          2004,
          2004,
          2004,
          2004,
          2003,
          2003,
          2001,
          2001,
          2000,
          2000,
          2000,
          1999,
          1999,
          1999,
          1998,
          1997,
          1997,
          1995,
          1995,
          1994,
          1994,
          1993,
          1993,
          1993,
          1991,
          1990,
          1990,
          1986,
          1985,
          1984,
          2017,
          2015,
          2012,
          2011,
          2011,
          2008,
          2007,
          2006,
          2003,
          2001,
          2018,
          2017,
          2016,
          2014,
          2013,
          2012,
          2012,
          2012,
          2012,
          2012,
          2010,
          2009,
          2008,
          2008,
          2008,
          2007,
          2007,
          2006,
          2006,
          2003,
          2003,
          2002,
          2002,
          1999,
          1998,
          1997,
          2020,
          2015,
          2014,
          2013,
          2012,
          2011,
          2011,
          2017,
          2013,
          2012,
          2011,
          2009,
          2002,
          1998,
          2014,
          2013,
          2012,
          2012,
          2011,
          2007,
          2003,
          2003,
          2000,
          2016,
          2009,
          1997,
          2014,
          2009,
          1997
         ],
         "xaxis": "x",
         "y": [
          null,
          null,
          6.3,
          6.3,
          6.6,
          6.7,
          4.3,
          5.1,
          6.5,
          6.6,
          7.3,
          6.2,
          4.3,
          6.9,
          5.5,
          5.9,
          5.3,
          6.3,
          6.1,
          6.4,
          6.2,
          7.2,
          3.3,
          6.2,
          6.6,
          7.2,
          6,
          6.4,
          7,
          6.8,
          7.3,
          7.1,
          7.3,
          7.3,
          6.6,
          6.3,
          7.7,
          6.5,
          6.6,
          6.4,
          8,
          6.8,
          7.6,
          7.2,
          7.2,
          6.2,
          7.3,
          5.4,
          6.7,
          7.6,
          6.3,
          7.7,
          6.3,
          7.6,
          6.7,
          7.8,
          7.8,
          7.2,
          7.4,
          4.9,
          7.9,
          6.5,
          8.1,
          5.3,
          7.5,
          6.4,
          5.8,
          8.1,
          8.1,
          8.3,
          5.8,
          null,
          7.3,
          7.2,
          7.4,
          7.2,
          7.4,
          null,
          7.8,
          7,
          7,
          6.1,
          6.9,
          6.8,
          7.9,
          6.6,
          7.7,
          7.7,
          8.7,
          7.7,
          8.6,
          7.6,
          7.3,
          7.7,
          8,
          7.7,
          6.5,
          7.4,
          7.4,
          6.2,
          5.2,
          null,
          5.5,
          7.8,
          6.4,
          6.2,
          6.2,
          7.5,
          null,
          7,
          6.1,
          8.1,
          5.2,
          7.4,
          6.2,
          5.9,
          6.4,
          6.2,
          7.9,
          6.2,
          7.3,
          6.4,
          8,
          7.2,
          5,
          6.1,
          6.3,
          7.8,
          6.1,
          6.3
         ],
         "yaxis": "y"
        },
        {
         "hoverlabel": {
          "namelength": 0
         },
         "hovertemplate": "<b>%{hovertext}</b><br><br>type=video<br>year=%{x}<br>rating=%{y}<br>rating_count=%{marker.size}",
         "hovertext": [
          "Dior: Sauvage - Legend of the Magic Hour",
          "Marilyn Manson: Say10",
          "Dior: Sauvage",
          "Paul McCartney: My Valentine",
          "Shane MacGowand and the Popes: That Woman's Got Me Brinking",
          "The Lemmonheads: It's a Shame About Ray",
          "Tom Petty and the Heartbreakers: Into the Great Wide Open",
          "D'Astrain No Cinema - Christmas Special",
          "Hell's Club Part 2. Another Night",
          "Never Sleep Again: The Elm Street Legacy",
          "Pie Plates Over Hollywood",
          "Making Bela",
          "Donnie Brasco: Out of the Shadows",
          "Neil Young: Dead Man",
          "Tom Petty and the Heartbreakers: Playback",
          "Dead Men Tell More Tales: The Making of a New Adventure",
          "Johnny Depp: Becoming Whitey Bulger",
          "Black Mass: Deepest Cover, Darkest Crime",
          "Paul McCartney: Early Days",
          "Transcendence: Guarding the Threat",
          "Transcendence: A Singular Vision",
          "What Is 'Transcendence'?",
          "The Lone Ranger: Becoming a Cowboy",
          "Riding the Rails of 'The Lone Ranger'",
          "Paul McCartney: Queenie Eye",
          "Johnny Vs. Geoffrey",
          "Legends of on Stranger Tides",
          "Tourist Destination: Travel the Canals of Venice",
          "The Tourist: Action in Venice",
          "The Tourist: A Gala Affair",
          "The Tourist: Canal Chats",
          "Alice in Wonderland: Finding Alice",
          "Alice in Wonderland: The Mad Hatter",
          "Public Enemies: Blu-ray Picture in Picture",
          "Public Enemies: Blu-ray Historical Interactive Timeline",
          "The Last of the Legendary Outlaws",
          "On Dillinger's Trail",
          "Michael Mann: Making 'Public Enemies'",
          "Larger Than Life Adversaries",
          "Criminal Technology",
          "The Tale of the Many Jacks",
          "Keith and the Captain: On Set with Johnny and the Rock Legend",
          "Bloopers of the Caribbean",
          "Johnny Cash: God's Gonna Cut You Down",
          "Making Puppets Tick",
          "Voices from the Underworld",
          "Tim Burton: Dark vs. Light",
          "Inside Dead Man's Chest",
          "Pirates on Location: Cannibal Island & Tortuga Bar Brawl",
          "Fly on the Set: The Bone Cage",
          "Dead Man Tell New Tales: Re-Imagineering the Attraction",
          "Creating the Kraken",
          "Captain Jack: From Head to Toe",
          "According to Plan: The Making of 'Pirates of the Caribbean: Dead Man's Chest'",
          "Bloopers of the Caribbean",
          "Capturing 'The Libertine'",
          "The Animators: The Breath of Life",
          "Inside the Two Worlds of 'The Corpse Bride'",
          "Charlie and the Chocolate Factory: Different Faces, Different Flavors",
          "Charlie and the Chocolate Factory: Designer Chocolate",
          "Attack of the Squirrels!",
          "Becoming Oompa-Loompa",
          "It Came from... Baltimore!!",
          "'Finding Neverland': The Making of",
          "The Magic of 'Finding Neverland'",
          "Finding Neverland: On the Red Carpet",
          "The Lost Disc: The Monkey's Name Is Jack",
          "The Lost Disc: Becoming Barbossa",
          "The Lost Disc: Becoming Captain Jack",
          "Spirit of the Ride",
          "Secret Window: From Book to Film",
          "Secret Window: A Look Through It",
          "The Good, the Bad & the Bloody: Inside KNB EFX",
          "The Anti-Hero's Journey",
          "Diary of a Producer",
          "Diary of a Pirate",
          "An Epic at Sea: The Making of 'Pirates of the Caribbean: The Curse of the Black Pearl'",
          "Blooper Reel",
          "Hunter Goes to Hollywood",
          "Jack the Ripper: 6 Degrees of Separation",
          "A Tour of the Inferno: Revisiting 'Platoon'",
          "Sleepy Hollow: Behind the Legend",
          "The Stars of 'Star Wars': Interviews from the Cast",
          "Spotlight on Location: Fear and Loathing in Las Vegas",
          "The Making of 'Donnie Brasco'",
          "The Smokin' Mojo Filters: Come Together",
          "The Sunset Jam",
          "Funny Show Part Two: The Video - Movie",
          "Taste of Flesh",
          "Vanessa Paradis: L'Incendie",
          "Vanessa Paradis: Pourtant",
          "Vanessa Paradis: Que fait la vie?",
          "Shane MacGowand and the Popes: That Woman's Got Me Brinking"
         ],
         "legendgroup": "type=video",
         "marker": {
          "color": "#EF553B",
          "size": [
           173,
           267,
           325,
           1026,
           15,
           15,
           154,
           74,
           12,
           3839,
           40,
           36,
           28,
           29,
           155,
           5,
           7,
           14,
           54,
           0,
           11,
           0,
           0,
           0,
           120,
           0,
           0,
           0,
           0,
           0,
           0,
           12,
           38,
           14,
           11,
           15,
           14,
           14,
           23,
           15,
           5,
           5,
           383,
           114,
           14,
           24,
           27,
           0,
           0,
           0,
           6,
           6,
           5,
           7,
           363,
           15,
           20,
           177,
           46,
           59,
           37,
           37,
           59,
           48,
           59,
           75,
           0,
           0,
           0,
           19,
           137,
           141,
           67,
           62,
           19,
           90,
           227,
           184,
           93,
           0,
           159,
           235,
           187,
           37,
           0,
           0,
           0,
           13,
           41,
           7,
           5,
           0,
           15
          ],
          "sizemode": "area",
          "sizeref": 271.5888888888889,
          "symbol": "circle"
         },
         "mode": "markers",
         "name": "type=video",
         "showlegend": true,
         "type": "scatter",
         "x": [
          2018,
          2017,
          2015,
          2012,
          1994,
          1993,
          1991,
          2018,
          2017,
          2010,
          2002,
          2002,
          2000,
          1996,
          1995,
          2017,
          2016,
          2016,
          2014,
          2014,
          2014,
          2014,
          2013,
          2013,
          2013,
          2011,
          2011,
          2011,
          2011,
          2011,
          2011,
          2010,
          2010,
          2009,
          2009,
          2009,
          2009,
          2009,
          2009,
          2009,
          2007,
          2007,
          2007,
          2006,
          2006,
          2006,
          2006,
          2006,
          2006,
          2006,
          2006,
          2006,
          2006,
          2006,
          2006,
          2006,
          2006,
          2006,
          2005,
          2005,
          2005,
          2005,
          2005,
          2005,
          2005,
          2005,
          2004,
          2004,
          2004,
          2004,
          2004,
          2004,
          2004,
          2004,
          2003,
          2003,
          2003,
          2003,
          2003,
          2002,
          2001,
          2000,
          1999,
          1998,
          1997,
          1995,
          2017,
          2012,
          2008,
          2008,
          2001,
          2001,
          1994
         ],
         "xaxis": "x",
         "y": [
          7.4,
          7.3,
          7.2,
          8.1,
          5.4,
          4.9,
          7.5,
          9.2,
          7.4,
          8.7,
          5.2,
          7.2,
          7.1,
          7.6,
          8.5,
          7,
          7.1,
          6.4,
          8.4,
          null,
          6.4,
          null,
          null,
          null,
          6.3,
          null,
          null,
          null,
          null,
          null,
          null,
          7.2,
          7.6,
          7.6,
          8.1,
          7.9,
          8,
          8.1,
          6.8,
          7.4,
          7.4,
          7.2,
          7.8,
          7.9,
          6.8,
          6.9,
          6,
          null,
          null,
          null,
          8.2,
          7.8,
          8,
          8.1,
          8,
          6.5,
          5.9,
          7.2,
          8.3,
          8.1,
          7.4,
          6.8,
          7.2,
          7.8,
          7.3,
          7.3,
          null,
          null,
          null,
          6.8,
          6.4,
          6.4,
          6.4,
          5.9,
          7.8,
          8.4,
          7.6,
          7.5,
          6.9,
          null,
          7.3,
          7.3,
          6.1,
          7.3,
          null,
          null,
          null,
          7.8,
          3.5,
          6.1,
          7.4,
          null,
          5.4
         ],
         "yaxis": "y"
        },
        {
         "hoverlabel": {
          "namelength": 0
         },
         "hovertemplate": "<b>%{hovertext}</b><br><br>type=short<br>year=%{x}<br>rating=%{y}<br>rating_count=%{marker.size}",
         "hovertext": [
          "The Black Ghiandola",
          "Divine Rapture",
          "R.P.G. II",
          "R.P.G.",
          "Dummies",
          "Six Sides of Katharine Hepburn",
          "Pirates of the Caribbean: Tales of the Code: Wedlocked",
          "Marilyn Manson: Kill4Me",
          "CINEMAsuisse: Marc Forster",
          "Real Creatures of Dirt",
          "Unite for Japan",
          "Deep Sea",
          "Lowell Blues: The Words of Jack Kerouac",
          "The Making of 'Cry Baby'",
          "Before Breakfast",
          "Banter",
          "Every Cake, Neil",
          "Every Cake, Neil"
         ],
         "legendgroup": "type=short",
         "marker": {
          "color": "#00cc96",
          "size": [
           228,
           26,
           45,
           53,
           55,
           0,
           492,
           33,
           0,
           0,
           25,
           1601,
           20,
           0,
           39,
           0,
           0,
           0
          ],
          "sizemode": "area",
          "sizeref": 271.5888888888889,
          "symbol": "circle"
         },
         "mode": "markers",
         "name": "type=short",
         "showlegend": true,
         "type": "scatter",
         "x": [
          2017,
          1995,
          1988,
          1986,
          1985,
          2018,
          2011,
          2017,
          2012,
          2011,
          2011,
          2006,
          2000,
          1990,
          2010,
          1994,
          1988,
          1988
         ],
         "xaxis": "x",
         "y": [
          5.2,
          7.1,
          7.1,
          7,
          7.3,
          null,
          6.3,
          7.6,
          null,
          null,
          6.8,
          7.6,
          8.1,
          null,
          6.7,
          null,
          null,
          null
         ],
         "yaxis": "y"
        },
        {
         "hoverlabel": {
          "namelength": 0
         },
         "hovertemplate": "<b>%{hovertext}</b><br><br>type=tvmovie<br>year=%{x}<br>rating=%{y}<br>rating_count=%{marker.size}",
         "hovertext": [
          "Donald Trump's The Art of the Deal: The Movie",
          "Slow Burn",
          "Johnny Depp - Das Jahr der Entscheidung",
          "The 90s: Ten Years That Changed the World",
          "Johnny Depp - Idol, Rebell und Superstar",
          "Gilles Jacob, l'arpenteur de la croisette",
          "España, plató de cine",
          "Oscar, que empiece el espectáculo",
          "50 Greatest Comedy Catchphrases",
          "Cómo conseguir un papel en Hollywood",
          "101 Sexiest Celebrity Bodies",
          "101 Most Starlicious Makeovers",
          "50 Steamiest Southern Stars",
          "50 Greatest Teen Idols",
          "David Blaine: Beyond Magic",
          "Tales of the Wild",
          "The American Cinematheque Tribute to Jerry Bruckheimer",
          "The Lone Ranger: Unmasked",
          "The Making of Life's Too Short",
          "Pirates of the Caribbean: At World's End Movie Special",
          "Brando",
          "Forbes Celebrity 100: Who Made Bank?",
          "Pirates of the Caribbean: Secrets of Dead Man's Chest",
          "The Wonderful World of Roald Dahl",
          "10 Most Excellent Things: Charlie and the Chocolate Factory",
          "Marc Forster - Von Davos nach Hollywood",
          "Just the Facts",
          "The Buried Secret of M. Night Shyamalan",
          "One Taste Is Never Enough... The Pleasures of 'Chocolat'",
          "Where It's At: The Rolling Stone State of the Union",
          "Help! War Child",
          "Idols",
          "In the Director's Chair: The Man Who Invented Edward Scissorhands",
          "Captain Jokes Parrot's Disaster of the Caribbean",
          "One Taste Is Never Enough... The Pleasures of 'Chocolat'"
         ],
         "legendgroup": "type=tvmovie",
         "marker": {
          "color": "#ab63fa",
          "size": [
           3580,
           515,
           0,
           15,
           0,
           20,
           5,
           36,
           22,
           33,
           104,
           16,
           25,
           21,
           279,
           0,
           0,
           18,
           27,
           26,
           568,
           65,
           192,
           31,
           28,
           0,
           8,
           791,
           25,
           60,
           0,
           54,
           25,
           12,
           25
          ],
          "sizemode": "area",
          "sizeref": 271.5888888888889,
          "symbol": "circle"
         },
         "mode": "markers",
         "name": "type=tvmovie",
         "showlegend": true,
         "type": "scatter",
         "x": [
          2016,
          1986,
          2016,
          2015,
          2012,
          2010,
          2009,
          2008,
          2008,
          2007,
          2005,
          2005,
          2005,
          2003,
          2016,
          2016,
          2013,
          2013,
          2011,
          2007,
          2007,
          2006,
          2006,
          2005,
          2005,
          2005,
          2004,
          2004,
          2000,
          1998,
          1995,
          1991,
          1990,
          2017,
          2000
         ],
         "xaxis": "x",
         "y": [
          5.9,
          5,
          null,
          7.9,
          null,
          5.5,
          2,
          6.8,
          5.6,
          6.9,
          7.3,
          6.3,
          7,
          5.7,
          7.3,
          null,
          null,
          6.7,
          6.6,
          7.3,
          8.2,
          4.2,
          7.7,
          7.7,
          8.1,
          null,
          7.4,
          5.1,
          7.7,
          8,
          null,
          5.8,
          6.8,
          4.7,
          7.7
         ],
         "yaxis": "y"
        },
        {
         "hoverlabel": {
          "namelength": 0
         },
         "hovertemplate": "<b>%{hovertext}</b><br><br>type=tvseries<br>year=%{x}<br>rating=%{y}<br>rating_count=%{marker.size}",
         "hovertext": [
          "Family Guy",
          "Life's Too Short",
          "SpongeBob SquarePants",
          "King of the Hill",
          "The Fast Show",
          "The Vicar of Dibley",
          "21 Jump Street",
          "Hotel",
          "Lady Blue",
          "Entertainment Tonight",
          "Inside Edition",
          "Groeten uit 19XX",
          "Ok! TV",
          "The Graham Norton Show",
          "Extra",
          "Good Morning Britain",
          "ITV Lunchtime News",
          "The Insider",
          "Non mais t'as vu ce que t'écoutes",
          "Unknown Movies",
          "The Drunken Peasants",
          "Welcome to the Basement",
          "The Wright Stuff",
          "Taff",
          "Tie Gang",
          "That's Life!! Kilorenzos Smith in Talks...",
          "The Nostalgia Critic",
          "Montreux Comedy",
          "Movie Guide",
          "Too Young to Die",
          "Today",
          "Cinemassacre's Monster Madness",
          "5 Second Movies",
          "Live from Studio Five",
          "Troldspejlet",
          "Gomorron",
          "Biography",
          "Los 10 magníficos",
          "E! True Hollywood Story",
          "The O'Reilly Factor",
          "MythBusters",
          "Krügers Woche",
          "Planet Voice",
          "20 heures le journal",
          "Corazón de...",
          "Love Chain",
          "El Magacine",
          "Cinema mil",
          "Celebrities Uncensored",
          "The Directors",
          "Entertainment Tonight",
          "Ok! TV",
          "Good Morning Britain",
          "The Graham Norton Show",
          "Extra",
          "The Insider",
          "Ellen: The Ellen DeGeneres Show",
          "Jimmy Kimmel Live!",
          "Access Hollywood",
          "E! Live from the Red Carpet",
          "Overhaulin'",
          "Rock in Rio",
          "BBC News 8pm Summary",
          "Made in Hollywood",
          "Up Close with Carrie Keagan",
          "Late Show with David Letterman",
          "E! News",
          "Vivir de cine",
          "Taff",
          "Daybreak",
          "Celebrity Style Story",
          "Charlie Rose",
          "In Context",
          "Janela Indiscreta",
          "48 Hours: Hard Evidence",
          "20 heures le journal",
          "Le grand journal de Canal+",
          "Cinema 3",
          "Attack of the Show!",
          "Breakfast",
          "The Oprah Winfrey Show",
          "True Crime with Aphrodite Jones",
          "The 7PM Project",
          "ES.TV HD",
          "CMT Insider",
          "Close Up",
          "Go' aften Danmark",
          "GMTV",
          "Friday Night with Jonathan Ross",
          "Xposé",
          "Punkt 12",
          "HBO First Look",
          "20 to 1",
          "This American Life",
          "This Morning",
          "Extérieur jour",
          "Broadway Beat",
          "HypaSpace",
          "Space Top 10 Countdown",
          "E! True Hollywood Story",
          "At the Movies",
          "Corazón de...",
          "Planet Voice",
          "El Magacine",
          "Getaway",
          "Rove Live",
          "Ahora",
          "The Tonight Show with Jay Leno",
          "Phua Chu Kang",
          "Comme au cinéma",
          "Richard & Judy",
          "On-Air with Ryan Seacrest",
          "God kveld Norge",
          "4Pop",
          "The Brendan Leonard Show",
          "Cartaz Cultural",
          "Bravo Profiles",
          "Secrets of Superstar Fitness",
          "Inside the Actors Studio",
          "Star Boulevard",
          "+ de cinéma",
          "The Rosie O'Donnell Show",
          "Mundo VIP",
          "Club Disney",
          "Ciné6",
          "Gran premio internazionale della TV",
          "Showbiz Today",
          "The Maury Povich Show",
          "Troldspejlet",
          "CBS This Morning",
          "Top Secret",
          "That's Life!! Kilorenzos Smith in Talks...",
          "Norte a sur: Una ruta, 5 experiencias",
          "Everything Wrong with...",
          "The Nostalgia Critic"
         ],
         "legendgroup": "type=tvseries",
         "marker": {
          "color": "#FFA15A",
          "size": [
           289446,
           13670,
           76340,
           42924,
           3754,
           10362,
           10066,
           1114,
           213,
           1786,
           393,
           0,
           87,
           9089,
           522,
           229,
           38,
           385,
           6,
           25,
           281,
           101,
           274,
           199,
           0,
           7,
           8644,
           0,
           34,
           183,
           125,
           1687,
           151,
           141,
           317,
           284,
           1524,
           6,
           768,
           3887,
           49085,
           30,
           43,
           37,
           110,
           8,
           32,
           62,
           99,
           166,
           1786,
           87,
           229,
           9089,
           522,
           385,
           14108,
           12897,
           505,
           95,
           1276,
           51,
           11,
           259,
           145,
           12214,
           375,
           21,
           199,
           165,
           36,
           850,
           10,
           157,
           90,
           37,
           240,
           134,
           2157,
           279,
           4459,
           393,
           528,
           30,
           47,
           39,
           87,
           231,
           2380,
           160,
           45,
           340,
           267,
           572,
           442,
           0,
           8,
           97,
           46,
           768,
           201,
           110,
           43,
           32,
           70,
           677,
           7,
           9774,
           64,
           27,
           347,
           109,
           113,
           42,
           151,
           75,
           22,
           14,
           4701,
           9,
           22,
           1163,
           47,
           26,
           0,
           29,
           50,
           1774,
           317,
           53,
           21,
           7,
           0,
           2305,
           8644
          ],
          "sizemode": "area",
          "sizeref": 271.5888888888889,
          "symbol": "circle"
         },
         "mode": "markers",
         "name": "type=tvseries",
         "showlegend": true,
         "type": "scatter",
         "x": [
          1999,
          2011,
          1999,
          1997,
          1994,
          1994,
          1987,
          1983,
          1985,
          1981,
          1988,
          2018,
          2013,
          2007,
          1994,
          2014,
          1988,
          2004,
          2011,
          2013,
          2014,
          2012,
          2000,
          1997,
          2013,
          2010,
          2007,
          2009,
          2013,
          2012,
          1982,
          2007,
          2007,
          2009,
          1989,
          1992,
          1987,
          2008,
          1996,
          1996,
          2003,
          2007,
          2004,
          1981,
          1997,
          2003,
          1996,
          2005,
          2003,
          1997,
          1981,
          2013,
          2014,
          2007,
          1994,
          2004,
          2003,
          2003,
          1996,
          1995,
          2004,
          1985,
          2007,
          2005,
          2007,
          1993,
          1991,
          2012,
          1997,
          2010,
          2012,
          1991,
          2005,
          2010,
          2005,
          1981,
          2004,
          1984,
          2005,
          2000,
          1986,
          2010,
          2009,
          2009,
          2004,
          2011,
          2002,
          1993,
          2001,
          2007,
          1992,
          1992,
          2005,
          2007,
          1988,
          2007,
          1990,
          2002,
          2006,
          1996,
          2004,
          1997,
          2004,
          1996,
          1992,
          2000,
          2000,
          1992,
          1996,
          1998,
          2001,
          2004,
          1997,
          2003,
          2003,
          2003,
          1998,
          2002,
          1994,
          2002,
          2001,
          1996,
          1996,
          1989,
          1987,
          1984,
          1984,
          1991,
          1989,
          1987,
          1999,
          2010,
          2010,
          2012,
          2007
         ],
         "xaxis": "x",
         "y": [
          8.1,
          7.5,
          8.1,
          7.3,
          8.1,
          7.9,
          7.2,
          6.3,
          6.3,
          3.6,
          3.9,
          null,
          5,
          8.4,
          3.5,
          3.5,
          4.7,
          2.6,
          6.8,
          6.9,
          6.8,
          8.2,
          4.4,
          2.6,
          null,
          6.6,
          7.8,
          null,
          7.6,
          7.1,
          4.1,
          8.9,
          6.8,
          2.6,
          8.9,
          4.2,
          7.7,
          8.8,
          6.6,
          3.5,
          8.3,
          4,
          5.5,
          5.1,
          3.7,
          6.2,
          4.4,
          7.2,
          4.9,
          7.3,
          3.6,
          5,
          3.5,
          8.4,
          3.5,
          2.6,
          7.1,
          6.7,
          3.2,
          4.2,
          6.8,
          7.5,
          6.1,
          4.3,
          4.3,
          6.8,
          4.4,
          4.9,
          2.6,
          3.1,
          4,
          7.5,
          8,
          5.8,
          7.5,
          5.1,
          5.7,
          5.9,
          7.7,
          5.3,
          5.1,
          6.7,
          5,
          3,
          5.7,
          7.2,
          4.3,
          3.9,
          7.3,
          3,
          3.6,
          6,
          6,
          8.3,
          4.9,
          null,
          5.8,
          5.4,
          4.5,
          6.6,
          8,
          3.7,
          5.5,
          4.4,
          6,
          6.5,
          6.6,
          5.2,
          7.7,
          4.8,
          4,
          2.4,
          3.5,
          5.3,
          8.2,
          6.8,
          6.4,
          5.3,
          8.6,
          6.8,
          6.6,
          3.8,
          4,
          6.3,
          null,
          6.6,
          4.7,
          4.2,
          8.9,
          5,
          8.6,
          6.6,
          null,
          7,
          7.8
         ],
         "yaxis": "y"
        },
        {
         "hoverlabel": {
          "namelength": 0
         },
         "hovertemplate": "<b>%{hovertext}</b><br><br>type=videogame<br>year=%{x}<br>rating=%{y}<br>rating_count=%{marker.size}",
         "hovertext": [
          "Lego Pirates of the Caribbean: The Video Game",
          "Pirates of the Caribbean: The Legend of Jack Sparrow",
          "Charlie and the Chocolate Factory"
         ],
         "legendgroup": "type=videogame",
         "marker": {
          "color": "#19d3f3",
          "size": [
           1214,
           10479,
           610
          ],
          "sizemode": "area",
          "sizeref": 271.5888888888889,
          "symbol": "circle"
         },
         "mode": "markers",
         "name": "type=videogame",
         "showlegend": true,
         "type": "scatter",
         "x": [
          2011,
          2006,
          2005
         ],
         "xaxis": "x",
         "y": [
          7.7,
          7.8,
          6.5
         ],
         "yaxis": "y"
        },
        {
         "hoverlabel": {
          "namelength": 0
         },
         "hovertemplate": "<b>%{hovertext}</b><br><br>type=tvminiseries<br>year=%{x}<br>rating=%{y}<br>rating_count=%{marker.size}",
         "hovertext": [
          "L'IA et Mathieu",
          "Le Fossoyeur de Films",
          "101 Juiciest Hollywood Hookups",
          "The 100 Hottest Hotties",
          "Music Behind the Scenes",
          "Glastonbury 2017",
          "United States of Poetry",
          "Glastonbury 2017"
         ],
         "legendgroup": "type=tvminiseries",
         "marker": {
          "color": "#FF6692",
          "size": [
           0,
           21,
           27,
           21,
           25,
           17,
           31,
           17
          ],
          "sizemode": "area",
          "sizeref": 271.5888888888889,
          "symbol": "circle"
         },
         "mode": "markers",
         "name": "type=tvminiseries",
         "showlegend": true,
         "type": "scatter",
         "x": [
          2015,
          2012,
          2005,
          2005,
          2001,
          2017,
          1995,
          2017
         ],
         "xaxis": "x",
         "y": [
          null,
          8.2,
          7.7,
          8.2,
          7.2,
          7.4,
          8.3,
          7.4
         ],
         "yaxis": "y"
        },
        {
         "hoverlabel": {
          "namelength": 0
         },
         "hovertemplate": "<b>%{hovertext}</b><br><br>type=tvspecial<br>year=%{x}<br>rating=%{y}<br>rating_count=%{marker.size}",
         "hovertext": [
          "1st AACTA Awards",
          "Horâ wo 666 bai tanoshiku miru hô'hô",
          "Race to the Red Carpet",
          "101 Biggest Celebrity Oops",
          "Classic Rock Awards",
          "The 42nd Annual People's Choice Awards",
          "LiveXLive Presents Rock in Rio",
          "Hollywood Film Awards",
          "Don Rickles: One Night Only",
          "2014 MTV Movie Awards",
          "The Night That Changed America: A Grammy Salute to the Beatles",
          "71st Golden Globe Awards",
          "AMC Lone Ranger Q & A",
          "The 55th Annual Grammy Awards",
          "2012 MTV Movie Awards",
          "Golden Gods Awards",
          "Nickelodeon Kids' Choice Awards 2012",
          "The 69th Annual Golden Globe Awards",
          "Pirates of the Caribbean: On Stranger Tides 35mm 3D Special",
          "Nickelodeon's Kids Choice Awards 2011",
          "The 68th Annual Golden Globe Awards",
          "The 37th Annual People's Choice Awards",
          "Channel 4's Comedy Gala",
          "The 36th Annual People's Choice Awards",
          "Scream Awards 2009",
          "The 66th Annual Golden Globe Awards",
          "National Movie Awards",
          "2008 MTV Movie Awards",
          "The 80th Annual Academy Awards",
          "Golden Globes Announcement Special",
          "The 33rd Annual People's Choice Awards",
          "The Teen Choice Awards 2006",
          "The 63rd Annual Golden Globe Awards",
          "The 32nd Annual People's Choice Awards",
          "3rd Irish Film and Television Awards",
          "Nickelodeon Kids' Choice Awards '05",
          "The 77th Annual Academy Awards",
          "11th Annual Screen Actors Guild Awards",
          "The 62nd Annual Golden Globe Awards",
          "Tsunami Aid: A Concert of Hope",
          "The 31st Annual People's Choice Awards",
          "Happy Birthday, Peter Pan",
          "2004 MTV Movie Awards",
          "The 76th Annual Academy Awards",
          "10th Annual Screen Actors Guild Awards",
          "The 61st Annual Golden Globe Awards",
          "The 2002 World Music Awards",
          "In Bad Taste",
          "1999 MTV Video Music Awards",
          "Comic Relief: The Record Breaker",
          "Town Meeting with Diane Sawyer: Celebrities vs. the Press",
          "Sinatra: 80 Years My Way",
          "The 52nd Annual Golden Globe Awards",
          "The 66th Annual Academy Awards",
          "The 48th Annual Golden Globe Awards",
          "The 1990 Annual ShoWest Awards",
          "The 41st Annual Primetime Emmy Awards",
          "Doug Stanhope: The Comedians' Comedian's Comedians",
          "2012 MTV Movie Awards"
         ],
         "legendgroup": "type=tvspecial",
         "marker": {
          "color": "#B6E880",
          "size": [
           20,
           0,
           12,
           363,
           0,
           30,
           0,
           51,
           139,
           283,
           155,
           861,
           0,
           184,
           265,
           6,
           182,
           618,
           39,
           111,
           682,
           52,
           28,
           60,
           61,
           1076,
           6,
           390,
           1427,
           0,
           56,
           139,
           153,
           123,
           43,
           99,
           1083,
           89,
           351,
           128,
           331,
           67,
           360,
           1173,
           62,
           284,
           9,
           115,
           169,
           30,
           63,
           84,
           26,
           300,
           19,
           0,
           15,
           55,
           265
          ],
          "sizemode": "area",
          "sizeref": 271.5888888888889,
          "symbol": "circle"
         },
         "mode": "markers",
         "name": "type=tvspecial",
         "showlegend": true,
         "type": "scatter",
         "x": [
          2012,
          2007,
          2005,
          2004,
          2017,
          2016,
          2015,
          2014,
          2014,
          2014,
          2014,
          2014,
          2013,
          2013,
          2012,
          2012,
          2012,
          2012,
          2011,
          2011,
          2011,
          2011,
          2010,
          2010,
          2009,
          2009,
          2008,
          2008,
          2008,
          2008,
          2007,
          2006,
          2006,
          2006,
          2005,
          2005,
          2005,
          2005,
          2005,
          2005,
          2005,
          2005,
          2004,
          2004,
          2004,
          2004,
          2002,
          2000,
          1999,
          1999,
          1997,
          1995,
          1995,
          1994,
          1991,
          1990,
          1989,
          2017,
          2012
         ],
         "xaxis": "x",
         "y": [
          7.7,
          null,
          7.1,
          4.1,
          null,
          7,
          null,
          4.6,
          8.3,
          5.7,
          8.5,
          7.2,
          null,
          6.3,
          4.8,
          7,
          7.1,
          7.1,
          7.7,
          6.3,
          7.4,
          6.9,
          6.1,
          6.8,
          6.4,
          7.6,
          5.8,
          5.9,
          6.9,
          null,
          6.6,
          3,
          6.4,
          4.8,
          7.1,
          5.3,
          6.2,
          6.3,
          6,
          6.3,
          3.2,
          8.1,
          4.4,
          6.8,
          6.7,
          6.2,
          8,
          7.5,
          6.1,
          6.4,
          4,
          7.8,
          6.7,
          6.2,
          7.4,
          null,
          6,
          6.5,
          4.8
         ],
         "yaxis": "y"
        },
        {
         "hoverlabel": {
          "namelength": 0
         },
         "hovertemplate": "<b>%{hovertext}</b><br><br>type=tvshort<br>year=%{x}<br>rating=%{y}<br>rating_count=%{marker.size}",
         "hovertext": [
          "Histoires de festival",
          "A Journey Behind the Scenes of 'Pirates of the Caribbean: At World's End'",
          "A View from Hell",
          "The Rooneys",
          "Stuff"
         ],
         "legendgroup": "type=tvshort",
         "marker": {
          "color": "#FF97FF",
          "size": [
           9,
           124,
           52,
           15,
           287
          ],
          "sizemode": "area",
          "sizeref": 271.5888888888889,
          "symbol": "circle"
         },
         "mode": "markers",
         "name": "type=tvshort",
         "showlegend": true,
         "type": "scatter",
         "x": [
          2002,
          2007,
          2001,
          2010,
          1993
         ],
         "xaxis": "x",
         "y": [
          4,
          7.9,
          6.4,
          7.6,
          7.2
         ],
         "yaxis": "y"
        }
       ],
       "layout": {
        "height": 600,
        "legend": {
         "itemsizing": "constant",
         "tracegroupgap": 0
        },
        "template": {
         "data": {
          "bar": [
           {
            "error_x": {
             "color": "#2a3f5f"
            },
            "error_y": {
             "color": "#2a3f5f"
            },
            "marker": {
             "line": {
              "color": "#E5ECF6",
              "width": 0.5
             }
            },
            "type": "bar"
           }
          ],
          "barpolar": [
           {
            "marker": {
             "line": {
              "color": "#E5ECF6",
              "width": 0.5
             }
            },
            "type": "barpolar"
           }
          ],
          "carpet": [
           {
            "aaxis": {
             "endlinecolor": "#2a3f5f",
             "gridcolor": "white",
             "linecolor": "white",
             "minorgridcolor": "white",
             "startlinecolor": "#2a3f5f"
            },
            "baxis": {
             "endlinecolor": "#2a3f5f",
             "gridcolor": "white",
             "linecolor": "white",
             "minorgridcolor": "white",
             "startlinecolor": "#2a3f5f"
            },
            "type": "carpet"
           }
          ],
          "choropleth": [
           {
            "colorbar": {
             "outlinewidth": 0,
             "ticks": ""
            },
            "type": "choropleth"
           }
          ],
          "contour": [
           {
            "colorbar": {
             "outlinewidth": 0,
             "ticks": ""
            },
            "colorscale": [
             [
              0,
              "#0d0887"
             ],
             [
              0.1111111111111111,
              "#46039f"
             ],
             [
              0.2222222222222222,
              "#7201a8"
             ],
             [
              0.3333333333333333,
              "#9c179e"
             ],
             [
              0.4444444444444444,
              "#bd3786"
             ],
             [
              0.5555555555555556,
              "#d8576b"
             ],
             [
              0.6666666666666666,
              "#ed7953"
             ],
             [
              0.7777777777777778,
              "#fb9f3a"
             ],
             [
              0.8888888888888888,
              "#fdca26"
             ],
             [
              1,
              "#f0f921"
             ]
            ],
            "type": "contour"
           }
          ],
          "contourcarpet": [
           {
            "colorbar": {
             "outlinewidth": 0,
             "ticks": ""
            },
            "type": "contourcarpet"
           }
          ],
          "heatmap": [
           {
            "colorbar": {
             "outlinewidth": 0,
             "ticks": ""
            },
            "colorscale": [
             [
              0,
              "#0d0887"
             ],
             [
              0.1111111111111111,
              "#46039f"
             ],
             [
              0.2222222222222222,
              "#7201a8"
             ],
             [
              0.3333333333333333,
              "#9c179e"
             ],
             [
              0.4444444444444444,
              "#bd3786"
             ],
             [
              0.5555555555555556,
              "#d8576b"
             ],
             [
              0.6666666666666666,
              "#ed7953"
             ],
             [
              0.7777777777777778,
              "#fb9f3a"
             ],
             [
              0.8888888888888888,
              "#fdca26"
             ],
             [
              1,
              "#f0f921"
             ]
            ],
            "type": "heatmap"
           }
          ],
          "heatmapgl": [
           {
            "colorbar": {
             "outlinewidth": 0,
             "ticks": ""
            },
            "colorscale": [
             [
              0,
              "#0d0887"
             ],
             [
              0.1111111111111111,
              "#46039f"
             ],
             [
              0.2222222222222222,
              "#7201a8"
             ],
             [
              0.3333333333333333,
              "#9c179e"
             ],
             [
              0.4444444444444444,
              "#bd3786"
             ],
             [
              0.5555555555555556,
              "#d8576b"
             ],
             [
              0.6666666666666666,
              "#ed7953"
             ],
             [
              0.7777777777777778,
              "#fb9f3a"
             ],
             [
              0.8888888888888888,
              "#fdca26"
             ],
             [
              1,
              "#f0f921"
             ]
            ],
            "type": "heatmapgl"
           }
          ],
          "histogram": [
           {
            "marker": {
             "colorbar": {
              "outlinewidth": 0,
              "ticks": ""
             }
            },
            "type": "histogram"
           }
          ],
          "histogram2d": [
           {
            "colorbar": {
             "outlinewidth": 0,
             "ticks": ""
            },
            "colorscale": [
             [
              0,
              "#0d0887"
             ],
             [
              0.1111111111111111,
              "#46039f"
             ],
             [
              0.2222222222222222,
              "#7201a8"
             ],
             [
              0.3333333333333333,
              "#9c179e"
             ],
             [
              0.4444444444444444,
              "#bd3786"
             ],
             [
              0.5555555555555556,
              "#d8576b"
             ],
             [
              0.6666666666666666,
              "#ed7953"
             ],
             [
              0.7777777777777778,
              "#fb9f3a"
             ],
             [
              0.8888888888888888,
              "#fdca26"
             ],
             [
              1,
              "#f0f921"
             ]
            ],
            "type": "histogram2d"
           }
          ],
          "histogram2dcontour": [
           {
            "colorbar": {
             "outlinewidth": 0,
             "ticks": ""
            },
            "colorscale": [
             [
              0,
              "#0d0887"
             ],
             [
              0.1111111111111111,
              "#46039f"
             ],
             [
              0.2222222222222222,
              "#7201a8"
             ],
             [
              0.3333333333333333,
              "#9c179e"
             ],
             [
              0.4444444444444444,
              "#bd3786"
             ],
             [
              0.5555555555555556,
              "#d8576b"
             ],
             [
              0.6666666666666666,
              "#ed7953"
             ],
             [
              0.7777777777777778,
              "#fb9f3a"
             ],
             [
              0.8888888888888888,
              "#fdca26"
             ],
             [
              1,
              "#f0f921"
             ]
            ],
            "type": "histogram2dcontour"
           }
          ],
          "mesh3d": [
           {
            "colorbar": {
             "outlinewidth": 0,
             "ticks": ""
            },
            "type": "mesh3d"
           }
          ],
          "parcoords": [
           {
            "line": {
             "colorbar": {
              "outlinewidth": 0,
              "ticks": ""
             }
            },
            "type": "parcoords"
           }
          ],
          "pie": [
           {
            "automargin": true,
            "type": "pie"
           }
          ],
          "scatter": [
           {
            "marker": {
             "colorbar": {
              "outlinewidth": 0,
              "ticks": ""
             }
            },
            "type": "scatter"
           }
          ],
          "scatter3d": [
           {
            "line": {
             "colorbar": {
              "outlinewidth": 0,
              "ticks": ""
             }
            },
            "marker": {
             "colorbar": {
              "outlinewidth": 0,
              "ticks": ""
             }
            },
            "type": "scatter3d"
           }
          ],
          "scattercarpet": [
           {
            "marker": {
             "colorbar": {
              "outlinewidth": 0,
              "ticks": ""
             }
            },
            "type": "scattercarpet"
           }
          ],
          "scattergeo": [
           {
            "marker": {
             "colorbar": {
              "outlinewidth": 0,
              "ticks": ""
             }
            },
            "type": "scattergeo"
           }
          ],
          "scattergl": [
           {
            "marker": {
             "colorbar": {
              "outlinewidth": 0,
              "ticks": ""
             }
            },
            "type": "scattergl"
           }
          ],
          "scattermapbox": [
           {
            "marker": {
             "colorbar": {
              "outlinewidth": 0,
              "ticks": ""
             }
            },
            "type": "scattermapbox"
           }
          ],
          "scatterpolar": [
           {
            "marker": {
             "colorbar": {
              "outlinewidth": 0,
              "ticks": ""
             }
            },
            "type": "scatterpolar"
           }
          ],
          "scatterpolargl": [
           {
            "marker": {
             "colorbar": {
              "outlinewidth": 0,
              "ticks": ""
             }
            },
            "type": "scatterpolargl"
           }
          ],
          "scatterternary": [
           {
            "marker": {
             "colorbar": {
              "outlinewidth": 0,
              "ticks": ""
             }
            },
            "type": "scatterternary"
           }
          ],
          "surface": [
           {
            "colorbar": {
             "outlinewidth": 0,
             "ticks": ""
            },
            "colorscale": [
             [
              0,
              "#0d0887"
             ],
             [
              0.1111111111111111,
              "#46039f"
             ],
             [
              0.2222222222222222,
              "#7201a8"
             ],
             [
              0.3333333333333333,
              "#9c179e"
             ],
             [
              0.4444444444444444,
              "#bd3786"
             ],
             [
              0.5555555555555556,
              "#d8576b"
             ],
             [
              0.6666666666666666,
              "#ed7953"
             ],
             [
              0.7777777777777778,
              "#fb9f3a"
             ],
             [
              0.8888888888888888,
              "#fdca26"
             ],
             [
              1,
              "#f0f921"
             ]
            ],
            "type": "surface"
           }
          ],
          "table": [
           {
            "cells": {
             "fill": {
              "color": "#EBF0F8"
             },
             "line": {
              "color": "white"
             }
            },
            "header": {
             "fill": {
              "color": "#C8D4E3"
             },
             "line": {
              "color": "white"
             }
            },
            "type": "table"
           }
          ]
         },
         "layout": {
          "annotationdefaults": {
           "arrowcolor": "#2a3f5f",
           "arrowhead": 0,
           "arrowwidth": 1
          },
          "coloraxis": {
           "colorbar": {
            "outlinewidth": 0,
            "ticks": ""
           }
          },
          "colorscale": {
           "diverging": [
            [
             0,
             "#8e0152"
            ],
            [
             0.1,
             "#c51b7d"
            ],
            [
             0.2,
             "#de77ae"
            ],
            [
             0.3,
             "#f1b6da"
            ],
            [
             0.4,
             "#fde0ef"
            ],
            [
             0.5,
             "#f7f7f7"
            ],
            [
             0.6,
             "#e6f5d0"
            ],
            [
             0.7,
             "#b8e186"
            ],
            [
             0.8,
             "#7fbc41"
            ],
            [
             0.9,
             "#4d9221"
            ],
            [
             1,
             "#276419"
            ]
           ],
           "sequential": [
            [
             0,
             "#0d0887"
            ],
            [
             0.1111111111111111,
             "#46039f"
            ],
            [
             0.2222222222222222,
             "#7201a8"
            ],
            [
             0.3333333333333333,
             "#9c179e"
            ],
            [
             0.4444444444444444,
             "#bd3786"
            ],
            [
             0.5555555555555556,
             "#d8576b"
            ],
            [
             0.6666666666666666,
             "#ed7953"
            ],
            [
             0.7777777777777778,
             "#fb9f3a"
            ],
            [
             0.8888888888888888,
             "#fdca26"
            ],
            [
             1,
             "#f0f921"
            ]
           ],
           "sequentialminus": [
            [
             0,
             "#0d0887"
            ],
            [
             0.1111111111111111,
             "#46039f"
            ],
            [
             0.2222222222222222,
             "#7201a8"
            ],
            [
             0.3333333333333333,
             "#9c179e"
            ],
            [
             0.4444444444444444,
             "#bd3786"
            ],
            [
             0.5555555555555556,
             "#d8576b"
            ],
            [
             0.6666666666666666,
             "#ed7953"
            ],
            [
             0.7777777777777778,
             "#fb9f3a"
            ],
            [
             0.8888888888888888,
             "#fdca26"
            ],
            [
             1,
             "#f0f921"
            ]
           ]
          },
          "colorway": [
           "#636efa",
           "#EF553B",
           "#00cc96",
           "#ab63fa",
           "#FFA15A",
           "#19d3f3",
           "#FF6692",
           "#B6E880",
           "#FF97FF",
           "#FECB52"
          ],
          "font": {
           "color": "#2a3f5f"
          },
          "geo": {
           "bgcolor": "white",
           "lakecolor": "white",
           "landcolor": "#E5ECF6",
           "showlakes": true,
           "showland": true,
           "subunitcolor": "white"
          },
          "hoverlabel": {
           "align": "left"
          },
          "hovermode": "closest",
          "mapbox": {
           "style": "light"
          },
          "paper_bgcolor": "white",
          "plot_bgcolor": "#E5ECF6",
          "polar": {
           "angularaxis": {
            "gridcolor": "white",
            "linecolor": "white",
            "ticks": ""
           },
           "bgcolor": "#E5ECF6",
           "radialaxis": {
            "gridcolor": "white",
            "linecolor": "white",
            "ticks": ""
           }
          },
          "scene": {
           "xaxis": {
            "backgroundcolor": "#E5ECF6",
            "gridcolor": "white",
            "gridwidth": 2,
            "linecolor": "white",
            "showbackground": true,
            "ticks": "",
            "zerolinecolor": "white"
           },
           "yaxis": {
            "backgroundcolor": "#E5ECF6",
            "gridcolor": "white",
            "gridwidth": 2,
            "linecolor": "white",
            "showbackground": true,
            "ticks": "",
            "zerolinecolor": "white"
           },
           "zaxis": {
            "backgroundcolor": "#E5ECF6",
            "gridcolor": "white",
            "gridwidth": 2,
            "linecolor": "white",
            "showbackground": true,
            "ticks": "",
            "zerolinecolor": "white"
           }
          },
          "shapedefaults": {
           "line": {
            "color": "#2a3f5f"
           }
          },
          "ternary": {
           "aaxis": {
            "gridcolor": "white",
            "linecolor": "white",
            "ticks": ""
           },
           "baxis": {
            "gridcolor": "white",
            "linecolor": "white",
            "ticks": ""
           },
           "bgcolor": "#E5ECF6",
           "caxis": {
            "gridcolor": "white",
            "linecolor": "white",
            "ticks": ""
           }
          },
          "title": {
           "x": 0.05
          },
          "xaxis": {
           "automargin": true,
           "gridcolor": "white",
           "linecolor": "white",
           "ticks": "",
           "title": {
            "standoff": 15
           },
           "zerolinecolor": "white",
           "zerolinewidth": 2
          },
          "yaxis": {
           "automargin": true,
           "gridcolor": "white",
           "linecolor": "white",
           "ticks": "",
           "title": {
            "standoff": 15
           },
           "zerolinecolor": "white",
           "zerolinewidth": 2
          }
         }
        },
        "title": {
         "text": "Timeline of Depp's Filmogrophy based on their rating"
        },
        "xaxis": {
         "anchor": "y",
         "domain": [
          0,
          1
         ],
         "title": {
          "text": "year"
         },
         "type": "log"
        },
        "yaxis": {
         "anchor": "x",
         "domain": [
          0,
          1
         ],
         "title": {
          "text": "rating"
         }
        }
       }
      },
      "text/html": [
       "<div>\n",
       "        \n",
       "        \n",
       "            <div id=\"52e003af-0f3e-4853-8d89-b57086d0851d\" class=\"plotly-graph-div\" style=\"height:600px; width:100%;\"></div>\n",
       "            <script type=\"text/javascript\">\n",
       "                require([\"plotly\"], function(Plotly) {\n",
       "                    window.PLOTLYENV=window.PLOTLYENV || {};\n",
       "                    \n",
       "                if (document.getElementById(\"52e003af-0f3e-4853-8d89-b57086d0851d\")) {\n",
       "                    Plotly.newPlot(\n",
       "                        '52e003af-0f3e-4853-8d89-b57086d0851d',\n",
       "                        [{\"hoverlabel\": {\"namelength\": 0}, \"hovertemplate\": \"<b>%{hovertext}</b><br><br>type=movie<br>year=%{x}<br>rating=%{y}<br>rating_count=%{marker.size}\", \"hovertext\": [\"Fantastic Beasts and Where to Find Them 3\", \"Minamata\", \"Waiting for the Barbarians\", \"City of Lies\", \"Fantastic Beasts: The Crimes of Grindelwald\", \"The Professor\", \"London Fields\", \"Sherlock Gnomes\", \"Murder on the Orient Express\", \"Pirates of the Caribbean: Dead Men Tell No Tales\", \"Fantastic Beasts and Where to Find Them\", \"Alice Through the Looking Glass\", \"Yoga Hosers\", \"Black Mass\", \"Mortdecai\", \"Into the Woods\", \"Tusk\", \"Transcendence\", \"Lucky Them\", \"The Lone Ranger\", \"Dark Shadows\", \"21 Jump Street\", \"Jack and Jill\", \"The Rum Diary\", \"Pirates of the Caribbean: On Stranger Tides\", \"Rango\", \"The Tourist\", \"Alice in Wonderland\", \"Public Enemies\", \"The Imaginarium of Doctor Parnassus\", \"Sweeney Todd: The Demon Barber of Fleet Street\", \"Pirates of the Caribbean: At World's End\", \"Pirates of the Caribbean: Dead Man's Chest\", \"Corpse Bride\", \"Charlie and the Chocolate Factory\", \"The Libertine\", \"Finding Neverland\", \"Ils se mari\\u00e8rent et eurent beaucoup d'enfants\", \"Secret Window\", \"Once Upon a Time in Mexico\", \"Pirates of the Caribbean: The Curse of the Black Pearl\", \"From Hell\", \"Blow\", \"Chocolat\", \"Before Night Falls\", \"The Man Who Cried\", \"Sleepy Hollow\", \"The Astronaut's Wife\", \"The Ninth Gate\", \"Fear and Loathing in Las Vegas\", \"The Brave\", \"Donnie Brasco\", \"Nick of Time\", \"Dead Man\", \"Don Juan DeMarco\", \"Ed Wood\", \"What's Eating Gilbert Grape\", \"Benny & Joon\", \"Arizona Dream\", \"Freddy's Dead: The Final Nightmare\", \"Edward Scissorhands\", \"Cry-Baby\", \"Platoon\", \"Private Resort\", \"A Nightmare on Elm Street\", \"Cashed Out Casino\", \"The Nightmare\", \"Final Cut: H\\u00f6lgyeim \\u00e9s uraim\", \"Paradise Lost 3: Purgatory\", \"Pearl Jam Twenty\", \"Spisok korabley\", \"An Island's Legacy: Preparing for TT\", \"Going to Pieces: The Rise and Fall of the Slasher Film\", \"Inventing Grace, Touching Glory\", \"If I Should Fall from Grace: The Shane MacGowan Story\", \"Brothers in Arms\", \"Rolling Stone: Stories from the Edge\", \"Hope and Healing Award Concert\", \"Lost Songs: The Basement Tapes Continued\", \"Don't Say No Until I Finish Talking: The Story of Richard D. Zanuck\", \"For No Good Reason\", \"Close Up\", \"Radioman\", \"Sunset Strip\", \"West of Memphis\", \"In Search of Ted Demme\", \"The Doors: When You're Strange\", \"Marc Forster - Der Weg zu 007\", \"Rock and a Hard Place: Another Night at the Agora\", \"Gonzo: The Life and Work of Dr. Hunter S. Thompson\", \"Tom Petty and the Heartbreakers: Runnin' Down a Dream\", \"Joe Strummer: The Future Is Unwritten\", \"Buy the Ticket, Take the Ride: Hunter S. Thompson on Film\", \"When the Road Bends... Tales of a Gypsy Caravan\", \"Charlie: The Life and Art of Charles Chaplin\", \"Breakfast with Hunter\", \"All the Love You Cannes!\", \"Lost in La Mancha\", \"The Source: The Story of the Beats and the Beat Generation\", \"L.A. Without a Map\", \"Cannes Man\", \"Minamata\", \"Mortdecai\", \"LaDonna Harris: Indian 101\", \"The Lone Ranger\", \"Dark Shadows\", \"The Rum Diary\", \"Hugo\", \"7 Days,7 Girls\", \"Don't Say No Until I Finish Talking: The Story of Richard D. Zanuck\", \"On the Road\", \"Paradise Lost 3: Purgatory\", \"Stuntmen\", \"Lost in La Mancha\", \"L.A. Without a Map\", \"Into the Woods\", \"The Lone Ranger\", \"Dark Shadows\", \"West of Memphis\", \"The Rum Diary\", \"Sweeney Todd: The Demon Barber of Fleet Street\", \"Once Upon a Time in Mexico\", \"Pirates of the Caribbean: The Curse of the Black Pearl\", \"Chocolat\", \"Untitled Keith Richards Documentary\", \"Unloveable\", \"The Brave\", \"Lost Songs: The Basement Tapes Continued\", \"Unloveable\", \"The Brave\"], \"legendgroup\": \"type=movie\", \"marker\": {\"color\": \"#636efa\", \"size\": [0, 0, 254, 3548, 186066, 13667, 3950, 8746, 186700, 238145, 378139, 83208, 10953, 158924, 62783, 125803, 42417, 207746, 2891, 212010, 235009, 486639, 73219, 95679, 456261, 220867, 210746, 365160, 265561, 140089, 327943, 566639, 623741, 228493, 398416, 33864, 192589, 4559, 173025, 147587, 977720, 141239, 228076, 170573, 23066, 13706, 312116, 51141, 156179, 246572, 8789, 259382, 37312, 85368, 46272, 159421, 201411, 52360, 39111, 38761, 422889, 51716, 359040, 7201, 191588, 9, 6163, 2107, 8571, 7376, 8, 0, 3178, 16, 315, 100, 414, 0, 247, 96, 1341, 13, 205, 612, 9417, 43, 8761, 11, 28, 7215, 1625, 3542, 983, 435, 1274, 633, 302, 10804, 729, 2008, 415, 0, 62783, 19, 212010, 235009, 95679, 289275, 0, 96, 38332, 8571, 617, 10804, 2008, 125803, 212010, 235009, 9417, 95679, 327943, 147587, 977720, 170573, 8, 8, 8789, 247, 8, 8789], \"sizemode\": \"area\", \"sizeref\": 271.5888888888889, \"symbol\": \"circle\"}, \"mode\": \"markers\", \"name\": \"type=movie\", \"showlegend\": true, \"type\": \"scatter\", \"x\": [2021.0, 2020.0, 2019.0, 2018.0, 2018.0, 2018.0, 2018.0, 2018.0, 2017.0, 2017.0, 2016.0, 2016.0, 2016.0, 2015.0, 2015.0, 2014.0, 2014.0, 2014.0, 2013.0, 2013.0, 2012.0, 2012.0, 2011.0, 2011.0, 2011.0, 2011.0, 2010.0, 2010.0, 2009.0, 2009.0, 2007.0, 2007.0, 2006.0, 2005.0, 2005.0, 2004.0, 2004.0, 2004.0, 2004.0, 2003.0, 2003.0, 2001.0, 2001.0, 2000.0, 2000.0, 2000.0, 1999.0, 1999.0, 1999.0, 1998.0, 1997.0, 1997.0, 1995.0, 1995.0, 1994.0, 1994.0, 1993.0, 1993.0, 1993.0, 1991.0, 1990.0, 1990.0, 1986.0, 1985.0, 1984.0, 2017.0, 2015.0, 2012.0, 2011.0, 2011.0, 2008.0, 2007.0, 2006.0, 2003.0, 2001.0, 2018.0, 2017.0, 2016.0, 2014.0, 2013.0, 2012.0, 2012.0, 2012.0, 2012.0, 2012.0, 2010.0, 2009.0, 2008.0, 2008.0, 2008.0, 2007.0, 2007.0, 2006.0, 2006.0, 2003.0, 2003.0, 2002.0, 2002.0, 1999.0, 1998.0, 1997.0, 2020.0, 2015.0, 2014.0, 2013.0, 2012.0, 2011.0, 2011.0, 2017.0, 2013.0, 2012.0, 2011.0, 2009.0, 2002.0, 1998.0, 2014.0, 2013.0, 2012.0, 2012.0, 2011.0, 2007.0, 2003.0, 2003.0, 2000.0, 2016.0, 2009.0, 1997.0, 2014.0, 2009.0, 1997.0], \"xaxis\": \"x\", \"y\": [null, null, 6.3, 6.3, 6.6, 6.7, 4.3, 5.1, 6.5, 6.6, 7.3, 6.2, 4.3, 6.9, 5.5, 5.9, 5.3, 6.3, 6.1, 6.4, 6.2, 7.2, 3.3, 6.2, 6.6, 7.2, 6.0, 6.4, 7.0, 6.8, 7.3, 7.1, 7.3, 7.3, 6.6, 6.3, 7.7, 6.5, 6.6, 6.4, 8.0, 6.8, 7.6, 7.2, 7.2, 6.2, 7.3, 5.4, 6.7, 7.6, 6.3, 7.7, 6.3, 7.6, 6.7, 7.8, 7.8, 7.2, 7.4, 4.9, 7.9, 6.5, 8.1, 5.3, 7.5, 6.4, 5.8, 8.1, 8.1, 8.3, 5.8, null, 7.3, 7.2, 7.4, 7.2, 7.4, null, 7.8, 7.0, 7.0, 6.1, 6.9, 6.8, 7.9, 6.6, 7.7, 7.7, 8.7, 7.7, 8.6, 7.6, 7.3, 7.7, 8.0, 7.7, 6.5, 7.4, 7.4, 6.2, 5.2, null, 5.5, 7.8, 6.4, 6.2, 6.2, 7.5, null, 7.0, 6.1, 8.1, 5.2, 7.4, 6.2, 5.9, 6.4, 6.2, 7.9, 6.2, 7.3, 6.4, 8.0, 7.2, 5.0, 6.1, 6.3, 7.8, 6.1, 6.3], \"yaxis\": \"y\"}, {\"hoverlabel\": {\"namelength\": 0}, \"hovertemplate\": \"<b>%{hovertext}</b><br><br>type=video<br>year=%{x}<br>rating=%{y}<br>rating_count=%{marker.size}\", \"hovertext\": [\"Dior: Sauvage - Legend of the Magic Hour\", \"Marilyn Manson: Say10\", \"Dior: Sauvage\", \"Paul McCartney: My Valentine\", \"Shane MacGowand and the Popes: That Woman's Got Me Brinking\", \"The Lemmonheads: It's a Shame About Ray\", \"Tom Petty and the Heartbreakers: Into the Great Wide Open\", \"D'Astrain No Cinema - Christmas Special\", \"Hell's Club Part 2. Another Night\", \"Never Sleep Again: The Elm Street Legacy\", \"Pie Plates Over Hollywood\", \"Making Bela\", \"Donnie Brasco: Out of the Shadows\", \"Neil Young: Dead Man\", \"Tom Petty and the Heartbreakers: Playback\", \"Dead Men Tell More Tales: The Making of a New Adventure\", \"Johnny Depp: Becoming Whitey Bulger\", \"Black Mass: Deepest Cover, Darkest Crime\", \"Paul McCartney: Early Days\", \"Transcendence: Guarding the Threat\", \"Transcendence: A Singular Vision\", \"What Is 'Transcendence'?\", \"The Lone Ranger: Becoming a Cowboy\", \"Riding the Rails of 'The Lone Ranger'\", \"Paul McCartney: Queenie Eye\", \"Johnny Vs. Geoffrey\", \"Legends of on Stranger Tides\", \"Tourist Destination: Travel the Canals of Venice\", \"The Tourist: Action in Venice\", \"The Tourist: A Gala Affair\", \"The Tourist: Canal Chats\", \"Alice in Wonderland: Finding Alice\", \"Alice in Wonderland: The Mad Hatter\", \"Public Enemies: Blu-ray Picture in Picture\", \"Public Enemies: Blu-ray Historical Interactive Timeline\", \"The Last of the Legendary Outlaws\", \"On Dillinger's Trail\", \"Michael Mann: Making 'Public Enemies'\", \"Larger Than Life Adversaries\", \"Criminal Technology\", \"The Tale of the Many Jacks\", \"Keith and the Captain: On Set with Johnny and the Rock Legend\", \"Bloopers of the Caribbean\", \"Johnny Cash: God's Gonna Cut You Down\", \"Making Puppets Tick\", \"Voices from the Underworld\", \"Tim Burton: Dark vs. Light\", \"Inside Dead Man's Chest\", \"Pirates on Location: Cannibal Island & Tortuga Bar Brawl\", \"Fly on the Set: The Bone Cage\", \"Dead Man Tell New Tales: Re-Imagineering the Attraction\", \"Creating the Kraken\", \"Captain Jack: From Head to Toe\", \"According to Plan: The Making of 'Pirates of the Caribbean: Dead Man's Chest'\", \"Bloopers of the Caribbean\", \"Capturing 'The Libertine'\", \"The Animators: The Breath of Life\", \"Inside the Two Worlds of 'The Corpse Bride'\", \"Charlie and the Chocolate Factory: Different Faces, Different Flavors\", \"Charlie and the Chocolate Factory: Designer Chocolate\", \"Attack of the Squirrels!\", \"Becoming Oompa-Loompa\", \"It Came from... Baltimore!!\", \"'Finding Neverland': The Making of\", \"The Magic of 'Finding Neverland'\", \"Finding Neverland: On the Red Carpet\", \"The Lost Disc: The Monkey's Name Is Jack\", \"The Lost Disc: Becoming Barbossa\", \"The Lost Disc: Becoming Captain Jack\", \"Spirit of the Ride\", \"Secret Window: From Book to Film\", \"Secret Window: A Look Through It\", \"The Good, the Bad & the Bloody: Inside KNB EFX\", \"The Anti-Hero's Journey\", \"Diary of a Producer\", \"Diary of a Pirate\", \"An Epic at Sea: The Making of 'Pirates of the Caribbean: The Curse of the Black Pearl'\", \"Blooper Reel\", \"Hunter Goes to Hollywood\", \"Jack the Ripper: 6 Degrees of Separation\", \"A Tour of the Inferno: Revisiting 'Platoon'\", \"Sleepy Hollow: Behind the Legend\", \"The Stars of 'Star Wars': Interviews from the Cast\", \"Spotlight on Location: Fear and Loathing in Las Vegas\", \"The Making of 'Donnie Brasco'\", \"The Smokin' Mojo Filters: Come Together\", \"The Sunset Jam\", \"Funny Show Part Two: The Video - Movie\", \"Taste of Flesh\", \"Vanessa Paradis: L'Incendie\", \"Vanessa Paradis: Pourtant\", \"Vanessa Paradis: Que fait la vie?\", \"Shane MacGowand and the Popes: That Woman's Got Me Brinking\"], \"legendgroup\": \"type=video\", \"marker\": {\"color\": \"#EF553B\", \"size\": [173, 267, 325, 1026, 15, 15, 154, 74, 12, 3839, 40, 36, 28, 29, 155, 5, 7, 14, 54, 0, 11, 0, 0, 0, 120, 0, 0, 0, 0, 0, 0, 12, 38, 14, 11, 15, 14, 14, 23, 15, 5, 5, 383, 114, 14, 24, 27, 0, 0, 0, 6, 6, 5, 7, 363, 15, 20, 177, 46, 59, 37, 37, 59, 48, 59, 75, 0, 0, 0, 19, 137, 141, 67, 62, 19, 90, 227, 184, 93, 0, 159, 235, 187, 37, 0, 0, 0, 13, 41, 7, 5, 0, 15], \"sizemode\": \"area\", \"sizeref\": 271.5888888888889, \"symbol\": \"circle\"}, \"mode\": \"markers\", \"name\": \"type=video\", \"showlegend\": true, \"type\": \"scatter\", \"x\": [2018.0, 2017.0, 2015.0, 2012.0, 1994.0, 1993.0, 1991.0, 2018.0, 2017.0, 2010.0, 2002.0, 2002.0, 2000.0, 1996.0, 1995.0, 2017.0, 2016.0, 2016.0, 2014.0, 2014.0, 2014.0, 2014.0, 2013.0, 2013.0, 2013.0, 2011.0, 2011.0, 2011.0, 2011.0, 2011.0, 2011.0, 2010.0, 2010.0, 2009.0, 2009.0, 2009.0, 2009.0, 2009.0, 2009.0, 2009.0, 2007.0, 2007.0, 2007.0, 2006.0, 2006.0, 2006.0, 2006.0, 2006.0, 2006.0, 2006.0, 2006.0, 2006.0, 2006.0, 2006.0, 2006.0, 2006.0, 2006.0, 2006.0, 2005.0, 2005.0, 2005.0, 2005.0, 2005.0, 2005.0, 2005.0, 2005.0, 2004.0, 2004.0, 2004.0, 2004.0, 2004.0, 2004.0, 2004.0, 2004.0, 2003.0, 2003.0, 2003.0, 2003.0, 2003.0, 2002.0, 2001.0, 2000.0, 1999.0, 1998.0, 1997.0, 1995.0, 2017.0, 2012.0, 2008.0, 2008.0, 2001.0, 2001.0, 1994.0], \"xaxis\": \"x\", \"y\": [7.4, 7.3, 7.2, 8.1, 5.4, 4.9, 7.5, 9.2, 7.4, 8.7, 5.2, 7.2, 7.1, 7.6, 8.5, 7.0, 7.1, 6.4, 8.4, null, 6.4, null, null, null, 6.3, null, null, null, null, null, null, 7.2, 7.6, 7.6, 8.1, 7.9, 8.0, 8.1, 6.8, 7.4, 7.4, 7.2, 7.8, 7.9, 6.8, 6.9, 6.0, null, null, null, 8.2, 7.8, 8.0, 8.1, 8.0, 6.5, 5.9, 7.2, 8.3, 8.1, 7.4, 6.8, 7.2, 7.8, 7.3, 7.3, null, null, null, 6.8, 6.4, 6.4, 6.4, 5.9, 7.8, 8.4, 7.6, 7.5, 6.9, null, 7.3, 7.3, 6.1, 7.3, null, null, null, 7.8, 3.5, 6.1, 7.4, null, 5.4], \"yaxis\": \"y\"}, {\"hoverlabel\": {\"namelength\": 0}, \"hovertemplate\": \"<b>%{hovertext}</b><br><br>type=short<br>year=%{x}<br>rating=%{y}<br>rating_count=%{marker.size}\", \"hovertext\": [\"The Black Ghiandola\", \"Divine Rapture\", \"R.P.G. II\", \"R.P.G.\", \"Dummies\", \"Six Sides of Katharine Hepburn\", \"Pirates of the Caribbean: Tales of the Code: Wedlocked\", \"Marilyn Manson: Kill4Me\", \"CINEMAsuisse: Marc Forster\", \"Real Creatures of Dirt\", \"Unite for Japan\", \"Deep Sea\", \"Lowell Blues: The Words of Jack Kerouac\", \"The Making of 'Cry Baby'\", \"Before Breakfast\", \"Banter\", \"Every Cake, Neil\", \"Every Cake, Neil\"], \"legendgroup\": \"type=short\", \"marker\": {\"color\": \"#00cc96\", \"size\": [228, 26, 45, 53, 55, 0, 492, 33, 0, 0, 25, 1601, 20, 0, 39, 0, 0, 0], \"sizemode\": \"area\", \"sizeref\": 271.5888888888889, \"symbol\": \"circle\"}, \"mode\": \"markers\", \"name\": \"type=short\", \"showlegend\": true, \"type\": \"scatter\", \"x\": [2017.0, 1995.0, 1988.0, 1986.0, 1985.0, 2018.0, 2011.0, 2017.0, 2012.0, 2011.0, 2011.0, 2006.0, 2000.0, 1990.0, 2010.0, 1994.0, 1988.0, 1988.0], \"xaxis\": \"x\", \"y\": [5.2, 7.1, 7.1, 7.0, 7.3, null, 6.3, 7.6, null, null, 6.8, 7.6, 8.1, null, 6.7, null, null, null], \"yaxis\": \"y\"}, {\"hoverlabel\": {\"namelength\": 0}, \"hovertemplate\": \"<b>%{hovertext}</b><br><br>type=tvmovie<br>year=%{x}<br>rating=%{y}<br>rating_count=%{marker.size}\", \"hovertext\": [\"Donald Trump's The Art of the Deal: The Movie\", \"Slow Burn\", \"Johnny Depp - Das Jahr der Entscheidung\", \"The 90s: Ten Years That Changed the World\", \"Johnny Depp - Idol, Rebell und Superstar\", \"Gilles Jacob, l'arpenteur de la croisette\", \"Espa\\u00f1a, plat\\u00f3 de cine\", \"Oscar, que empiece el espect\\u00e1culo\", \"50 Greatest Comedy Catchphrases\", \"C\\u00f3mo conseguir un papel en Hollywood\", \"101 Sexiest Celebrity Bodies\", \"101 Most Starlicious Makeovers\", \"50 Steamiest Southern Stars\", \"50 Greatest Teen Idols\", \"David Blaine: Beyond Magic\", \"Tales of the Wild\", \"The American Cinematheque Tribute to Jerry Bruckheimer\", \"The Lone Ranger: Unmasked\", \"The Making of Life's Too Short\", \"Pirates of the Caribbean: At World's End Movie Special\", \"Brando\", \"Forbes Celebrity 100: Who Made Bank?\", \"Pirates of the Caribbean: Secrets of Dead Man's Chest\", \"The Wonderful World of Roald Dahl\", \"10 Most Excellent Things: Charlie and the Chocolate Factory\", \"Marc Forster - Von Davos nach Hollywood\", \"Just the Facts\", \"The Buried Secret of M. Night Shyamalan\", \"One Taste Is Never Enough... The Pleasures of 'Chocolat'\", \"Where It's At: The Rolling Stone State of the Union\", \"Help! War Child\", \"Idols\", \"In the Director's Chair: The Man Who Invented Edward Scissorhands\", \"Captain Jokes Parrot's Disaster of the Caribbean\", \"One Taste Is Never Enough... The Pleasures of 'Chocolat'\"], \"legendgroup\": \"type=tvmovie\", \"marker\": {\"color\": \"#ab63fa\", \"size\": [3580, 515, 0, 15, 0, 20, 5, 36, 22, 33, 104, 16, 25, 21, 279, 0, 0, 18, 27, 26, 568, 65, 192, 31, 28, 0, 8, 791, 25, 60, 0, 54, 25, 12, 25], \"sizemode\": \"area\", \"sizeref\": 271.5888888888889, \"symbol\": \"circle\"}, \"mode\": \"markers\", \"name\": \"type=tvmovie\", \"showlegend\": true, \"type\": \"scatter\", \"x\": [2016.0, 1986.0, 2016.0, 2015.0, 2012.0, 2010.0, 2009.0, 2008.0, 2008.0, 2007.0, 2005.0, 2005.0, 2005.0, 2003.0, 2016.0, 2016.0, 2013.0, 2013.0, 2011.0, 2007.0, 2007.0, 2006.0, 2006.0, 2005.0, 2005.0, 2005.0, 2004.0, 2004.0, 2000.0, 1998.0, 1995.0, 1991.0, 1990.0, 2017.0, 2000.0], \"xaxis\": \"x\", \"y\": [5.9, 5.0, null, 7.9, null, 5.5, 2.0, 6.8, 5.6, 6.9, 7.3, 6.3, 7.0, 5.7, 7.3, null, null, 6.7, 6.6, 7.3, 8.2, 4.2, 7.7, 7.7, 8.1, null, 7.4, 5.1, 7.7, 8.0, null, 5.8, 6.8, 4.7, 7.7], \"yaxis\": \"y\"}, {\"hoverlabel\": {\"namelength\": 0}, \"hovertemplate\": \"<b>%{hovertext}</b><br><br>type=tvseries<br>year=%{x}<br>rating=%{y}<br>rating_count=%{marker.size}\", \"hovertext\": [\"Family Guy\", \"Life's Too Short\", \"SpongeBob SquarePants\", \"King of the Hill\", \"The Fast Show\", \"The Vicar of Dibley\", \"21 Jump Street\", \"Hotel\", \"Lady Blue\", \"Entertainment Tonight\", \"Inside Edition\", \"Groeten uit 19XX\", \"Ok! TV\", \"The Graham Norton Show\", \"Extra\", \"Good Morning Britain\", \"ITV Lunchtime News\", \"The Insider\", \"Non mais t'as vu ce que t'\\u00e9coutes\", \"Unknown Movies\", \"The Drunken Peasants\", \"Welcome to the Basement\", \"The Wright Stuff\", \"Taff\", \"Tie Gang\", \"That's Life!! Kilorenzos Smith in Talks...\", \"The Nostalgia Critic\", \"Montreux Comedy\", \"Movie Guide\", \"Too Young to Die\", \"Today\", \"Cinemassacre's Monster Madness\", \"5 Second Movies\", \"Live from Studio Five\", \"Troldspejlet\", \"Gomorron\", \"Biography\", \"Los 10 magn\\u00edficos\", \"E! True Hollywood Story\", \"The O'Reilly Factor\", \"MythBusters\", \"Kr\\u00fcgers Woche\", \"Planet Voice\", \"20 heures le journal\", \"Coraz\\u00f3n de...\", \"Love Chain\", \"El Magacine\", \"Cinema mil\", \"Celebrities Uncensored\", \"The Directors\", \"Entertainment Tonight\", \"Ok! TV\", \"Good Morning Britain\", \"The Graham Norton Show\", \"Extra\", \"The Insider\", \"Ellen: The Ellen DeGeneres Show\", \"Jimmy Kimmel Live!\", \"Access Hollywood\", \"E! Live from the Red Carpet\", \"Overhaulin'\", \"Rock in Rio\", \"BBC News 8pm Summary\", \"Made in Hollywood\", \"Up Close with Carrie Keagan\", \"Late Show with David Letterman\", \"E! News\", \"Vivir de cine\", \"Taff\", \"Daybreak\", \"Celebrity Style Story\", \"Charlie Rose\", \"In Context\", \"Janela Indiscreta\", \"48 Hours: Hard Evidence\", \"20 heures le journal\", \"Le grand journal de Canal+\", \"Cinema 3\", \"Attack of the Show!\", \"Breakfast\", \"The Oprah Winfrey Show\", \"True Crime with Aphrodite Jones\", \"The 7PM Project\", \"ES.TV HD\", \"CMT Insider\", \"Close Up\", \"Go' aften Danmark\", \"GMTV\", \"Friday Night with Jonathan Ross\", \"Xpos\\u00e9\", \"Punkt 12\", \"HBO First Look\", \"20 to 1\", \"This American Life\", \"This Morning\", \"Ext\\u00e9rieur jour\", \"Broadway Beat\", \"HypaSpace\", \"Space Top 10 Countdown\", \"E! True Hollywood Story\", \"At the Movies\", \"Coraz\\u00f3n de...\", \"Planet Voice\", \"El Magacine\", \"Getaway\", \"Rove Live\", \"Ahora\", \"The Tonight Show with Jay Leno\", \"Phua Chu Kang\", \"Comme au cin\\u00e9ma\", \"Richard & Judy\", \"On-Air with Ryan Seacrest\", \"God kveld Norge\", \"4Pop\", \"The Brendan Leonard Show\", \"Cartaz Cultural\", \"Bravo Profiles\", \"Secrets of Superstar Fitness\", \"Inside the Actors Studio\", \"Star Boulevard\", \"+ de cin\\u00e9ma\", \"The Rosie O'Donnell Show\", \"Mundo VIP\", \"Club Disney\", \"Cin\\u00e96\", \"Gran premio internazionale della TV\", \"Showbiz Today\", \"The Maury Povich Show\", \"Troldspejlet\", \"CBS This Morning\", \"Top Secret\", \"That's Life!! Kilorenzos Smith in Talks...\", \"Norte a sur: Una ruta, 5 experiencias\", \"Everything Wrong with...\", \"The Nostalgia Critic\"], \"legendgroup\": \"type=tvseries\", \"marker\": {\"color\": \"#FFA15A\", \"size\": [289446, 13670, 76340, 42924, 3754, 10362, 10066, 1114, 213, 1786, 393, 0, 87, 9089, 522, 229, 38, 385, 6, 25, 281, 101, 274, 199, 0, 7, 8644, 0, 34, 183, 125, 1687, 151, 141, 317, 284, 1524, 6, 768, 3887, 49085, 30, 43, 37, 110, 8, 32, 62, 99, 166, 1786, 87, 229, 9089, 522, 385, 14108, 12897, 505, 95, 1276, 51, 11, 259, 145, 12214, 375, 21, 199, 165, 36, 850, 10, 157, 90, 37, 240, 134, 2157, 279, 4459, 393, 528, 30, 47, 39, 87, 231, 2380, 160, 45, 340, 267, 572, 442, 0, 8, 97, 46, 768, 201, 110, 43, 32, 70, 677, 7, 9774, 64, 27, 347, 109, 113, 42, 151, 75, 22, 14, 4701, 9, 22, 1163, 47, 26, 0, 29, 50, 1774, 317, 53, 21, 7, 0, 2305, 8644], \"sizemode\": \"area\", \"sizeref\": 271.5888888888889, \"symbol\": \"circle\"}, \"mode\": \"markers\", \"name\": \"type=tvseries\", \"showlegend\": true, \"type\": \"scatter\", \"x\": [1999.0, 2011.0, 1999.0, 1997.0, 1994.0, 1994.0, 1987.0, 1983.0, 1985.0, 1981.0, 1988.0, 2018.0, 2013.0, 2007.0, 1994.0, 2014.0, 1988.0, 2004.0, 2011.0, 2013.0, 2014.0, 2012.0, 2000.0, 1997.0, 2013.0, 2010.0, 2007.0, 2009.0, 2013.0, 2012.0, 1982.0, 2007.0, 2007.0, 2009.0, 1989.0, 1992.0, 1987.0, 2008.0, 1996.0, 1996.0, 2003.0, 2007.0, 2004.0, 1981.0, 1997.0, 2003.0, 1996.0, 2005.0, 2003.0, 1997.0, 1981.0, 2013.0, 2014.0, 2007.0, 1994.0, 2004.0, 2003.0, 2003.0, 1996.0, 1995.0, 2004.0, 1985.0, 2007.0, 2005.0, 2007.0, 1993.0, 1991.0, 2012.0, 1997.0, 2010.0, 2012.0, 1991.0, 2005.0, 2010.0, 2005.0, 1981.0, 2004.0, 1984.0, 2005.0, 2000.0, 1986.0, 2010.0, 2009.0, 2009.0, 2004.0, 2011.0, 2002.0, 1993.0, 2001.0, 2007.0, 1992.0, 1992.0, 2005.0, 2007.0, 1988.0, 2007.0, 1990.0, 2002.0, 2006.0, 1996.0, 2004.0, 1997.0, 2004.0, 1996.0, 1992.0, 2000.0, 2000.0, 1992.0, 1996.0, 1998.0, 2001.0, 2004.0, 1997.0, 2003.0, 2003.0, 2003.0, 1998.0, 2002.0, 1994.0, 2002.0, 2001.0, 1996.0, 1996.0, 1989.0, 1987.0, 1984.0, 1984.0, 1991.0, 1989.0, 1987.0, 1999.0, 2010.0, 2010.0, 2012.0, 2007.0], \"xaxis\": \"x\", \"y\": [8.1, 7.5, 8.1, 7.3, 8.1, 7.9, 7.2, 6.3, 6.3, 3.6, 3.9, null, 5.0, 8.4, 3.5, 3.5, 4.7, 2.6, 6.8, 6.9, 6.8, 8.2, 4.4, 2.6, null, 6.6, 7.8, null, 7.6, 7.1, 4.1, 8.9, 6.8, 2.6, 8.9, 4.2, 7.7, 8.8, 6.6, 3.5, 8.3, 4.0, 5.5, 5.1, 3.7, 6.2, 4.4, 7.2, 4.9, 7.3, 3.6, 5.0, 3.5, 8.4, 3.5, 2.6, 7.1, 6.7, 3.2, 4.2, 6.8, 7.5, 6.1, 4.3, 4.3, 6.8, 4.4, 4.9, 2.6, 3.1, 4.0, 7.5, 8.0, 5.8, 7.5, 5.1, 5.7, 5.9, 7.7, 5.3, 5.1, 6.7, 5.0, 3.0, 5.7, 7.2, 4.3, 3.9, 7.3, 3.0, 3.6, 6.0, 6.0, 8.3, 4.9, null, 5.8, 5.4, 4.5, 6.6, 8.0, 3.7, 5.5, 4.4, 6.0, 6.5, 6.6, 5.2, 7.7, 4.8, 4.0, 2.4, 3.5, 5.3, 8.2, 6.8, 6.4, 5.3, 8.6, 6.8, 6.6, 3.8, 4.0, 6.3, null, 6.6, 4.7, 4.2, 8.9, 5.0, 8.6, 6.6, null, 7.0, 7.8], \"yaxis\": \"y\"}, {\"hoverlabel\": {\"namelength\": 0}, \"hovertemplate\": \"<b>%{hovertext}</b><br><br>type=videogame<br>year=%{x}<br>rating=%{y}<br>rating_count=%{marker.size}\", \"hovertext\": [\"Lego Pirates of the Caribbean: The Video Game\", \"Pirates of the Caribbean: The Legend of Jack Sparrow\", \"Charlie and the Chocolate Factory\"], \"legendgroup\": \"type=videogame\", \"marker\": {\"color\": \"#19d3f3\", \"size\": [1214, 10479, 610], \"sizemode\": \"area\", \"sizeref\": 271.5888888888889, \"symbol\": \"circle\"}, \"mode\": \"markers\", \"name\": \"type=videogame\", \"showlegend\": true, \"type\": \"scatter\", \"x\": [2011.0, 2006.0, 2005.0], \"xaxis\": \"x\", \"y\": [7.7, 7.8, 6.5], \"yaxis\": \"y\"}, {\"hoverlabel\": {\"namelength\": 0}, \"hovertemplate\": \"<b>%{hovertext}</b><br><br>type=tvminiseries<br>year=%{x}<br>rating=%{y}<br>rating_count=%{marker.size}\", \"hovertext\": [\"L'IA et Mathieu\", \"Le Fossoyeur de Films\", \"101 Juiciest Hollywood Hookups\", \"The 100 Hottest Hotties\", \"Music Behind the Scenes\", \"Glastonbury 2017\", \"United States of Poetry\", \"Glastonbury 2017\"], \"legendgroup\": \"type=tvminiseries\", \"marker\": {\"color\": \"#FF6692\", \"size\": [0, 21, 27, 21, 25, 17, 31, 17], \"sizemode\": \"area\", \"sizeref\": 271.5888888888889, \"symbol\": \"circle\"}, \"mode\": \"markers\", \"name\": \"type=tvminiseries\", \"showlegend\": true, \"type\": \"scatter\", \"x\": [2015.0, 2012.0, 2005.0, 2005.0, 2001.0, 2017.0, 1995.0, 2017.0], \"xaxis\": \"x\", \"y\": [null, 8.2, 7.7, 8.2, 7.2, 7.4, 8.3, 7.4], \"yaxis\": \"y\"}, {\"hoverlabel\": {\"namelength\": 0}, \"hovertemplate\": \"<b>%{hovertext}</b><br><br>type=tvspecial<br>year=%{x}<br>rating=%{y}<br>rating_count=%{marker.size}\", \"hovertext\": [\"1st AACTA Awards\", \"Hor\\u00e2 wo 666 bai tanoshiku miru h\\u00f4'h\\u00f4\", \"Race to the Red Carpet\", \"101 Biggest Celebrity Oops\", \"Classic Rock Awards\", \"The 42nd Annual People's Choice Awards\", \"LiveXLive Presents Rock in Rio\", \"Hollywood Film Awards\", \"Don Rickles: One Night Only\", \"2014 MTV Movie Awards\", \"The Night That Changed America: A Grammy Salute to the Beatles\", \"71st Golden Globe Awards\", \"AMC Lone Ranger Q & A\", \"The 55th Annual Grammy Awards\", \"2012 MTV Movie Awards\", \"Golden Gods Awards\", \"Nickelodeon Kids' Choice Awards 2012\", \"The 69th Annual Golden Globe Awards\", \"Pirates of the Caribbean: On Stranger Tides 35mm 3D Special\", \"Nickelodeon's Kids Choice Awards 2011\", \"The 68th Annual Golden Globe Awards\", \"The 37th Annual People's Choice Awards\", \"Channel 4's Comedy Gala\", \"The 36th Annual People's Choice Awards\", \"Scream Awards 2009\", \"The 66th Annual Golden Globe Awards\", \"National Movie Awards\", \"2008 MTV Movie Awards\", \"The 80th Annual Academy Awards\", \"Golden Globes Announcement Special\", \"The 33rd Annual People's Choice Awards\", \"The Teen Choice Awards 2006\", \"The 63rd Annual Golden Globe Awards\", \"The 32nd Annual People's Choice Awards\", \"3rd Irish Film and Television Awards\", \"Nickelodeon Kids' Choice Awards '05\", \"The 77th Annual Academy Awards\", \"11th Annual Screen Actors Guild Awards\", \"The 62nd Annual Golden Globe Awards\", \"Tsunami Aid: A Concert of Hope\", \"The 31st Annual People's Choice Awards\", \"Happy Birthday, Peter Pan\", \"2004 MTV Movie Awards\", \"The 76th Annual Academy Awards\", \"10th Annual Screen Actors Guild Awards\", \"The 61st Annual Golden Globe Awards\", \"The 2002 World Music Awards\", \"In Bad Taste\", \"1999 MTV Video Music Awards\", \"Comic Relief: The Record Breaker\", \"Town Meeting with Diane Sawyer: Celebrities vs. the Press\", \"Sinatra: 80 Years My Way\", \"The 52nd Annual Golden Globe Awards\", \"The 66th Annual Academy Awards\", \"The 48th Annual Golden Globe Awards\", \"The 1990 Annual ShoWest Awards\", \"The 41st Annual Primetime Emmy Awards\", \"Doug Stanhope: The Comedians' Comedian's Comedians\", \"2012 MTV Movie Awards\"], \"legendgroup\": \"type=tvspecial\", \"marker\": {\"color\": \"#B6E880\", \"size\": [20, 0, 12, 363, 0, 30, 0, 51, 139, 283, 155, 861, 0, 184, 265, 6, 182, 618, 39, 111, 682, 52, 28, 60, 61, 1076, 6, 390, 1427, 0, 56, 139, 153, 123, 43, 99, 1083, 89, 351, 128, 331, 67, 360, 1173, 62, 284, 9, 115, 169, 30, 63, 84, 26, 300, 19, 0, 15, 55, 265], \"sizemode\": \"area\", \"sizeref\": 271.5888888888889, \"symbol\": \"circle\"}, \"mode\": \"markers\", \"name\": \"type=tvspecial\", \"showlegend\": true, \"type\": \"scatter\", \"x\": [2012.0, 2007.0, 2005.0, 2004.0, 2017.0, 2016.0, 2015.0, 2014.0, 2014.0, 2014.0, 2014.0, 2014.0, 2013.0, 2013.0, 2012.0, 2012.0, 2012.0, 2012.0, 2011.0, 2011.0, 2011.0, 2011.0, 2010.0, 2010.0, 2009.0, 2009.0, 2008.0, 2008.0, 2008.0, 2008.0, 2007.0, 2006.0, 2006.0, 2006.0, 2005.0, 2005.0, 2005.0, 2005.0, 2005.0, 2005.0, 2005.0, 2005.0, 2004.0, 2004.0, 2004.0, 2004.0, 2002.0, 2000.0, 1999.0, 1999.0, 1997.0, 1995.0, 1995.0, 1994.0, 1991.0, 1990.0, 1989.0, 2017.0, 2012.0], \"xaxis\": \"x\", \"y\": [7.7, null, 7.1, 4.1, null, 7.0, null, 4.6, 8.3, 5.7, 8.5, 7.2, null, 6.3, 4.8, 7.0, 7.1, 7.1, 7.7, 6.3, 7.4, 6.9, 6.1, 6.8, 6.4, 7.6, 5.8, 5.9, 6.9, null, 6.6, 3.0, 6.4, 4.8, 7.1, 5.3, 6.2, 6.3, 6.0, 6.3, 3.2, 8.1, 4.4, 6.8, 6.7, 6.2, 8.0, 7.5, 6.1, 6.4, 4.0, 7.8, 6.7, 6.2, 7.4, null, 6.0, 6.5, 4.8], \"yaxis\": \"y\"}, {\"hoverlabel\": {\"namelength\": 0}, \"hovertemplate\": \"<b>%{hovertext}</b><br><br>type=tvshort<br>year=%{x}<br>rating=%{y}<br>rating_count=%{marker.size}\", \"hovertext\": [\"Histoires de festival\", \"A Journey Behind the Scenes of 'Pirates of the Caribbean: At World's End'\", \"A View from Hell\", \"The Rooneys\", \"Stuff\"], \"legendgroup\": \"type=tvshort\", \"marker\": {\"color\": \"#FF97FF\", \"size\": [9, 124, 52, 15, 287], \"sizemode\": \"area\", \"sizeref\": 271.5888888888889, \"symbol\": \"circle\"}, \"mode\": \"markers\", \"name\": \"type=tvshort\", \"showlegend\": true, \"type\": \"scatter\", \"x\": [2002.0, 2007.0, 2001.0, 2010.0, 1993.0], \"xaxis\": \"x\", \"y\": [4.0, 7.9, 6.4, 7.6, 7.2], \"yaxis\": \"y\"}],\n",
       "                        {\"height\": 600, \"legend\": {\"itemsizing\": \"constant\", \"tracegroupgap\": 0}, \"template\": {\"data\": {\"bar\": [{\"error_x\": {\"color\": \"#2a3f5f\"}, \"error_y\": {\"color\": \"#2a3f5f\"}, \"marker\": {\"line\": {\"color\": \"#E5ECF6\", \"width\": 0.5}}, \"type\": \"bar\"}], \"barpolar\": [{\"marker\": {\"line\": {\"color\": \"#E5ECF6\", \"width\": 0.5}}, \"type\": \"barpolar\"}], \"carpet\": [{\"aaxis\": {\"endlinecolor\": \"#2a3f5f\", \"gridcolor\": \"white\", \"linecolor\": \"white\", \"minorgridcolor\": \"white\", \"startlinecolor\": \"#2a3f5f\"}, \"baxis\": {\"endlinecolor\": \"#2a3f5f\", \"gridcolor\": \"white\", \"linecolor\": \"white\", \"minorgridcolor\": \"white\", \"startlinecolor\": \"#2a3f5f\"}, \"type\": \"carpet\"}], \"choropleth\": [{\"colorbar\": {\"outlinewidth\": 0, \"ticks\": \"\"}, \"type\": \"choropleth\"}], \"contour\": [{\"colorbar\": {\"outlinewidth\": 0, \"ticks\": \"\"}, \"colorscale\": [[0.0, \"#0d0887\"], [0.1111111111111111, \"#46039f\"], [0.2222222222222222, \"#7201a8\"], [0.3333333333333333, \"#9c179e\"], [0.4444444444444444, \"#bd3786\"], [0.5555555555555556, \"#d8576b\"], [0.6666666666666666, \"#ed7953\"], [0.7777777777777778, \"#fb9f3a\"], [0.8888888888888888, \"#fdca26\"], [1.0, \"#f0f921\"]], \"type\": \"contour\"}], \"contourcarpet\": [{\"colorbar\": {\"outlinewidth\": 0, \"ticks\": \"\"}, \"type\": \"contourcarpet\"}], \"heatmap\": [{\"colorbar\": {\"outlinewidth\": 0, \"ticks\": \"\"}, \"colorscale\": [[0.0, \"#0d0887\"], [0.1111111111111111, \"#46039f\"], [0.2222222222222222, \"#7201a8\"], [0.3333333333333333, \"#9c179e\"], [0.4444444444444444, \"#bd3786\"], [0.5555555555555556, \"#d8576b\"], [0.6666666666666666, \"#ed7953\"], [0.7777777777777778, \"#fb9f3a\"], [0.8888888888888888, \"#fdca26\"], [1.0, \"#f0f921\"]], \"type\": \"heatmap\"}], \"heatmapgl\": [{\"colorbar\": {\"outlinewidth\": 0, \"ticks\": \"\"}, \"colorscale\": [[0.0, \"#0d0887\"], [0.1111111111111111, \"#46039f\"], [0.2222222222222222, \"#7201a8\"], [0.3333333333333333, \"#9c179e\"], [0.4444444444444444, \"#bd3786\"], [0.5555555555555556, \"#d8576b\"], [0.6666666666666666, \"#ed7953\"], [0.7777777777777778, \"#fb9f3a\"], [0.8888888888888888, \"#fdca26\"], [1.0, \"#f0f921\"]], \"type\": \"heatmapgl\"}], \"histogram\": [{\"marker\": {\"colorbar\": {\"outlinewidth\": 0, \"ticks\": \"\"}}, \"type\": \"histogram\"}], \"histogram2d\": [{\"colorbar\": {\"outlinewidth\": 0, \"ticks\": \"\"}, \"colorscale\": [[0.0, \"#0d0887\"], [0.1111111111111111, \"#46039f\"], [0.2222222222222222, \"#7201a8\"], [0.3333333333333333, \"#9c179e\"], [0.4444444444444444, \"#bd3786\"], [0.5555555555555556, \"#d8576b\"], [0.6666666666666666, \"#ed7953\"], [0.7777777777777778, \"#fb9f3a\"], [0.8888888888888888, \"#fdca26\"], [1.0, \"#f0f921\"]], \"type\": \"histogram2d\"}], \"histogram2dcontour\": [{\"colorbar\": {\"outlinewidth\": 0, \"ticks\": \"\"}, \"colorscale\": [[0.0, \"#0d0887\"], [0.1111111111111111, \"#46039f\"], [0.2222222222222222, \"#7201a8\"], [0.3333333333333333, \"#9c179e\"], [0.4444444444444444, \"#bd3786\"], [0.5555555555555556, \"#d8576b\"], [0.6666666666666666, \"#ed7953\"], [0.7777777777777778, \"#fb9f3a\"], [0.8888888888888888, \"#fdca26\"], [1.0, \"#f0f921\"]], \"type\": \"histogram2dcontour\"}], \"mesh3d\": [{\"colorbar\": {\"outlinewidth\": 0, \"ticks\": \"\"}, \"type\": \"mesh3d\"}], \"parcoords\": [{\"line\": {\"colorbar\": {\"outlinewidth\": 0, \"ticks\": \"\"}}, \"type\": \"parcoords\"}], \"pie\": [{\"automargin\": true, \"type\": \"pie\"}], \"scatter\": [{\"marker\": {\"colorbar\": {\"outlinewidth\": 0, \"ticks\": \"\"}}, \"type\": \"scatter\"}], \"scatter3d\": [{\"line\": {\"colorbar\": {\"outlinewidth\": 0, \"ticks\": \"\"}}, \"marker\": {\"colorbar\": {\"outlinewidth\": 0, \"ticks\": \"\"}}, \"type\": \"scatter3d\"}], \"scattercarpet\": [{\"marker\": {\"colorbar\": {\"outlinewidth\": 0, \"ticks\": \"\"}}, \"type\": \"scattercarpet\"}], \"scattergeo\": [{\"marker\": {\"colorbar\": {\"outlinewidth\": 0, \"ticks\": \"\"}}, \"type\": \"scattergeo\"}], \"scattergl\": [{\"marker\": {\"colorbar\": {\"outlinewidth\": 0, \"ticks\": \"\"}}, \"type\": \"scattergl\"}], \"scattermapbox\": [{\"marker\": {\"colorbar\": {\"outlinewidth\": 0, \"ticks\": \"\"}}, \"type\": \"scattermapbox\"}], \"scatterpolar\": [{\"marker\": {\"colorbar\": {\"outlinewidth\": 0, \"ticks\": \"\"}}, \"type\": \"scatterpolar\"}], \"scatterpolargl\": [{\"marker\": {\"colorbar\": {\"outlinewidth\": 0, \"ticks\": \"\"}}, \"type\": \"scatterpolargl\"}], \"scatterternary\": [{\"marker\": {\"colorbar\": {\"outlinewidth\": 0, \"ticks\": \"\"}}, \"type\": \"scatterternary\"}], \"surface\": [{\"colorbar\": {\"outlinewidth\": 0, \"ticks\": \"\"}, \"colorscale\": [[0.0, \"#0d0887\"], [0.1111111111111111, \"#46039f\"], [0.2222222222222222, \"#7201a8\"], [0.3333333333333333, \"#9c179e\"], [0.4444444444444444, \"#bd3786\"], [0.5555555555555556, \"#d8576b\"], [0.6666666666666666, \"#ed7953\"], [0.7777777777777778, \"#fb9f3a\"], [0.8888888888888888, \"#fdca26\"], [1.0, \"#f0f921\"]], \"type\": \"surface\"}], \"table\": [{\"cells\": {\"fill\": {\"color\": \"#EBF0F8\"}, \"line\": {\"color\": \"white\"}}, \"header\": {\"fill\": {\"color\": \"#C8D4E3\"}, \"line\": {\"color\": \"white\"}}, \"type\": \"table\"}]}, \"layout\": {\"annotationdefaults\": {\"arrowcolor\": \"#2a3f5f\", \"arrowhead\": 0, \"arrowwidth\": 1}, \"coloraxis\": {\"colorbar\": {\"outlinewidth\": 0, \"ticks\": \"\"}}, \"colorscale\": {\"diverging\": [[0, \"#8e0152\"], [0.1, \"#c51b7d\"], [0.2, \"#de77ae\"], [0.3, \"#f1b6da\"], [0.4, \"#fde0ef\"], [0.5, \"#f7f7f7\"], [0.6, \"#e6f5d0\"], [0.7, \"#b8e186\"], [0.8, \"#7fbc41\"], [0.9, \"#4d9221\"], [1, \"#276419\"]], \"sequential\": [[0.0, \"#0d0887\"], [0.1111111111111111, \"#46039f\"], [0.2222222222222222, \"#7201a8\"], [0.3333333333333333, \"#9c179e\"], [0.4444444444444444, \"#bd3786\"], [0.5555555555555556, \"#d8576b\"], [0.6666666666666666, \"#ed7953\"], [0.7777777777777778, \"#fb9f3a\"], [0.8888888888888888, \"#fdca26\"], [1.0, \"#f0f921\"]], \"sequentialminus\": [[0.0, \"#0d0887\"], [0.1111111111111111, \"#46039f\"], [0.2222222222222222, \"#7201a8\"], [0.3333333333333333, \"#9c179e\"], [0.4444444444444444, \"#bd3786\"], [0.5555555555555556, \"#d8576b\"], [0.6666666666666666, \"#ed7953\"], [0.7777777777777778, \"#fb9f3a\"], [0.8888888888888888, \"#fdca26\"], [1.0, \"#f0f921\"]]}, \"colorway\": [\"#636efa\", \"#EF553B\", \"#00cc96\", \"#ab63fa\", \"#FFA15A\", \"#19d3f3\", \"#FF6692\", \"#B6E880\", \"#FF97FF\", \"#FECB52\"], \"font\": {\"color\": \"#2a3f5f\"}, \"geo\": {\"bgcolor\": \"white\", \"lakecolor\": \"white\", \"landcolor\": \"#E5ECF6\", \"showlakes\": true, \"showland\": true, \"subunitcolor\": \"white\"}, \"hoverlabel\": {\"align\": \"left\"}, \"hovermode\": \"closest\", \"mapbox\": {\"style\": \"light\"}, \"paper_bgcolor\": \"white\", \"plot_bgcolor\": \"#E5ECF6\", \"polar\": {\"angularaxis\": {\"gridcolor\": \"white\", \"linecolor\": \"white\", \"ticks\": \"\"}, \"bgcolor\": \"#E5ECF6\", \"radialaxis\": {\"gridcolor\": \"white\", \"linecolor\": \"white\", \"ticks\": \"\"}}, \"scene\": {\"xaxis\": {\"backgroundcolor\": \"#E5ECF6\", \"gridcolor\": \"white\", \"gridwidth\": 2, \"linecolor\": \"white\", \"showbackground\": true, \"ticks\": \"\", \"zerolinecolor\": \"white\"}, \"yaxis\": {\"backgroundcolor\": \"#E5ECF6\", \"gridcolor\": \"white\", \"gridwidth\": 2, \"linecolor\": \"white\", \"showbackground\": true, \"ticks\": \"\", \"zerolinecolor\": \"white\"}, \"zaxis\": {\"backgroundcolor\": \"#E5ECF6\", \"gridcolor\": \"white\", \"gridwidth\": 2, \"linecolor\": \"white\", \"showbackground\": true, \"ticks\": \"\", \"zerolinecolor\": \"white\"}}, \"shapedefaults\": {\"line\": {\"color\": \"#2a3f5f\"}}, \"ternary\": {\"aaxis\": {\"gridcolor\": \"white\", \"linecolor\": \"white\", \"ticks\": \"\"}, \"baxis\": {\"gridcolor\": \"white\", \"linecolor\": \"white\", \"ticks\": \"\"}, \"bgcolor\": \"#E5ECF6\", \"caxis\": {\"gridcolor\": \"white\", \"linecolor\": \"white\", \"ticks\": \"\"}}, \"title\": {\"x\": 0.05}, \"xaxis\": {\"automargin\": true, \"gridcolor\": \"white\", \"linecolor\": \"white\", \"ticks\": \"\", \"title\": {\"standoff\": 15}, \"zerolinecolor\": \"white\", \"zerolinewidth\": 2}, \"yaxis\": {\"automargin\": true, \"gridcolor\": \"white\", \"linecolor\": \"white\", \"ticks\": \"\", \"title\": {\"standoff\": 15}, \"zerolinecolor\": \"white\", \"zerolinewidth\": 2}}}, \"title\": {\"text\": \"Timeline of Depp's Filmogrophy based on their rating\"}, \"xaxis\": {\"anchor\": \"y\", \"domain\": [0.0, 1.0], \"title\": {\"text\": \"year\"}, \"type\": \"log\"}, \"yaxis\": {\"anchor\": \"x\", \"domain\": [0.0, 1.0], \"title\": {\"text\": \"rating\"}}},\n",
       "                        {\"responsive\": true}\n",
       "                    ).then(function(){\n",
       "                            \n",
       "var gd = document.getElementById('52e003af-0f3e-4853-8d89-b57086d0851d');\n",
       "var x = new MutationObserver(function (mutations, observer) {{\n",
       "        var display = window.getComputedStyle(gd).display;\n",
       "        if (!display || display === 'none') {{\n",
       "            console.log([gd, 'removed!']);\n",
       "            Plotly.purge(gd);\n",
       "            observer.disconnect();\n",
       "        }}\n",
       "}});\n",
       "\n",
       "// Listen for the removal of the full notebook cells\n",
       "var notebookContainer = gd.closest('#notebook-container');\n",
       "if (notebookContainer) {{\n",
       "    x.observe(notebookContainer, {childList: true});\n",
       "}}\n",
       "\n",
       "// Listen for the clearing of the current output cell\n",
       "var outputEl = gd.closest('.output');\n",
       "if (outputEl) {{\n",
       "    x.observe(outputEl, {childList: true});\n",
       "}}\n",
       "\n",
       "                        })\n",
       "                };\n",
       "                });\n",
       "            </script>\n",
       "        </div>"
      ]
     },
     "metadata": {},
     "output_type": "display_data"
    }
   ],
   "source": [
    "fig = px.scatter(actor_df, x=\"year\", y=\"rating\", size=\"rating_count\", color=\"type\",\n",
    "           log_x=True,hover_name=\"title\", size_max=60,\n",
    "                title = \"Timeline of Depp's Filmogrophy based on their rating\")\n",
    "fig.show()"
   ]
  },
  {
   "cell_type": "code",
   "execution_count": 24,
   "metadata": {},
   "outputs": [
    {
     "data": {
      "text/plain": [
       "'https://plot.ly/~lmd003/7/'"
      ]
     },
     "execution_count": 24,
     "metadata": {},
     "output_type": "execute_result"
    }
   ],
   "source": [
    "#py.plot(fig, filename = 'Filmogrophy_timeline_by_rating', auto_open=True)"
   ]
  },
  {
   "cell_type": "code",
   "execution_count": 25,
   "metadata": {},
   "outputs": [
    {
     "data": {
      "application/vnd.plotly.v1+json": {
       "config": {
        "plotlyServerURL": "https://plot.ly"
       },
       "data": [
        {
         "coloraxis": "coloraxis",
         "hoverlabel": {
          "namelength": 0
         },
         "hovertemplate": "year=%{x}<br>rating=%{y}<br>count=%{z}",
         "name": "",
         "type": "histogram2d",
         "x": [
          2021,
          2020,
          2019,
          2018,
          2018,
          2018,
          2018,
          2018,
          2018,
          2017,
          2017,
          2017,
          2017,
          2016,
          2016,
          2016,
          2016,
          2015,
          2015,
          2015,
          2014,
          2014,
          2014,
          2013,
          2013,
          1999,
          2012,
          2012,
          2012,
          2011,
          2011,
          2011,
          2011,
          2011,
          2011,
          2010,
          2010,
          2009,
          2009,
          1999,
          2007,
          2007,
          2006,
          2006,
          2005,
          2005,
          2004,
          2004,
          2004,
          1997,
          2004,
          2003,
          2003,
          2001,
          2001,
          1994,
          2000,
          2000,
          2000,
          1999,
          1999,
          1999,
          1994,
          1998,
          1997,
          1997,
          1995,
          1995,
          1995,
          1994,
          1994,
          1994,
          1993,
          1993,
          1993,
          1993,
          1991,
          1991,
          1990,
          1987,
          1990,
          1988,
          1983,
          1986,
          1986,
          1986,
          1985,
          1985,
          1985,
          1984,
          1981,
          1988,
          2018,
          2018,
          2013,
          2007,
          2018,
          2017,
          1994,
          2017,
          2014,
          1988,
          2004,
          2011,
          2016,
          2013,
          2015,
          2014,
          2012,
          2015,
          2000,
          2015,
          1997,
          2013,
          2010,
          2007,
          2009,
          2012,
          2013,
          2012,
          2012,
          2012,
          2012,
          1982,
          2007,
          2011,
          2011,
          2011,
          2007,
          2010,
          2010,
          2009,
          1989,
          1992,
          2009,
          1987,
          2008,
          1996,
          2008,
          2008,
          1996,
          2008,
          2003,
          2007,
          2007,
          2007,
          2004,
          1981,
          2007,
          2006,
          1997,
          2003,
          2005,
          1996,
          2005,
          2005,
          2005,
          2005,
          2005,
          2005,
          2004,
          2003,
          2003,
          2003,
          2002,
          2002,
          2002,
          2001,
          2001,
          2000,
          1997,
          1996,
          1995,
          1981,
          2018,
          2017,
          2017,
          2013,
          2017,
          2014,
          2007,
          2017,
          2017,
          1994,
          2004,
          2003,
          2003,
          2016,
          2016,
          2016,
          1996,
          2016,
          2016,
          1995,
          2016,
          2004,
          1985,
          2015,
          2007,
          2014,
          2014,
          2014,
          2014,
          2014,
          2014,
          2014,
          2005,
          2007,
          2014,
          1993,
          1991,
          2014,
          2014,
          2013,
          2013,
          2013,
          2013,
          2012,
          1997,
          2010,
          2012,
          1991,
          2013,
          2013,
          2013,
          2013,
          2012,
          2012,
          2005,
          2012,
          2012,
          2010,
          2012,
          2012,
          2012,
          2005,
          2012,
          2012,
          2012,
          2011,
          1981,
          2004,
          2011,
          2011,
          2011,
          2011,
          1984,
          2005,
          2000,
          1986,
          2010,
          2011,
          2011,
          2011,
          2011,
          2011,
          2011,
          2009,
          2009,
          2004,
          2011,
          2011,
          2011,
          2010,
          2010,
          2010,
          2010,
          2002,
          1993,
          2001,
          2007,
          2010,
          2009,
          2009,
          2009,
          2009,
          2009,
          2009,
          2009,
          2009,
          1992,
          1992,
          2005,
          2009,
          2009,
          2008,
          2008,
          2008,
          2007,
          2008,
          2008,
          2008,
          1988,
          2008,
          2007,
          1990,
          2007,
          2007,
          2007,
          2007,
          2007,
          2002,
          2007,
          2007,
          2007,
          2007,
          2006,
          2006,
          2006,
          2006,
          2006,
          2006,
          2006,
          2006,
          2006,
          2006,
          2006,
          2006,
          2006,
          2006,
          2006,
          2006,
          2006,
          2006,
          2006,
          2006,
          2006,
          2006,
          2006,
          2006,
          2005,
          2005,
          1996,
          2004,
          1997,
          2005,
          2005,
          2004,
          1996,
          1992,
          2000,
          2005,
          2000,
          2005,
          1992,
          2005,
          2005,
          2005,
          2005,
          2005,
          2005,
          2005,
          2005,
          2005,
          2005,
          2005,
          2005,
          2005,
          2004,
          1996,
          2004,
          2004,
          2004,
          2004,
          2004,
          2004,
          2004,
          1998,
          2004,
          2001,
          2004,
          2004,
          2004,
          2004,
          2004,
          2004,
          2003,
          2003,
          2003,
          2003,
          1997,
          2003,
          2003,
          2003,
          2003,
          2003,
          2003,
          1998,
          2002,
          1994,
          2002,
          2002,
          2002,
          2002,
          2002,
          2001,
          2001,
          2001,
          2000,
          2000,
          2000,
          1996,
          2000,
          1996,
          1999,
          1999,
          1999,
          1999,
          1998,
          1989,
          1998,
          1998,
          1997,
          1997,
          1997,
          1987,
          1984,
          1995,
          1984,
          1995,
          1995,
          1991,
          1995,
          1995,
          1989,
          1994,
          1987,
          1991,
          1991,
          1990,
          1990,
          1990,
          1989,
          1999,
          2020,
          2017,
          2015,
          2014,
          2013,
          2012,
          2011,
          2011,
          2017,
          2017,
          2017,
          2010,
          2013,
          2012,
          2012,
          2011,
          2010,
          2010,
          2010,
          2009,
          2008,
          2005,
          2002,
          2000,
          1998,
          2017,
          2012,
          2014,
          2013,
          2012,
          2012,
          2012,
          2011,
          2007,
          2007,
          2003,
          2003,
          2000,
          2016,
          2009,
          2008,
          2001,
          2001,
          1997,
          1994,
          1994,
          1993,
          1988,
          2014,
          2009,
          1997,
          1988
         ],
         "xaxis": "x",
         "xbingroup": "x",
         "y": [
          null,
          null,
          6.3,
          6.3,
          6.6,
          6.7,
          4.3,
          7.4,
          5.1,
          6.5,
          7.3,
          6.6,
          5.2,
          7.3,
          6.2,
          5.9,
          4.3,
          6.9,
          7.2,
          5.5,
          5.9,
          5.3,
          6.3,
          6.1,
          6.4,
          8.1,
          8.1,
          6.2,
          7.2,
          7.5,
          3.3,
          6.2,
          7.7,
          6.6,
          7.2,
          6,
          6.4,
          7,
          6.8,
          8.1,
          7.3,
          7.1,
          7.3,
          7.8,
          7.3,
          6.6,
          6.3,
          7.7,
          6.5,
          7.3,
          6.6,
          6.4,
          8,
          6.8,
          7.6,
          8.1,
          7.2,
          7.2,
          6.2,
          7.3,
          5.4,
          6.7,
          7.9,
          7.6,
          6.3,
          7.7,
          7.1,
          6.3,
          7.6,
          5.4,
          6.7,
          7.8,
          7.8,
          7.2,
          4.9,
          7.4,
          4.9,
          7.5,
          7.9,
          7.2,
          6.5,
          7.1,
          6.3,
          7,
          8.1,
          5,
          7.3,
          6.3,
          5.3,
          7.5,
          3.6,
          3.9,
          null,
          9.2,
          5,
          8.4,
          null,
          7.4,
          3.5,
          6.4,
          3.5,
          4.7,
          2.6,
          6.8,
          null,
          6.9,
          null,
          6.8,
          8.2,
          7.9,
          4.4,
          5.8,
          2.6,
          null,
          6.6,
          7.8,
          null,
          8.2,
          7.6,
          null,
          7.1,
          8.1,
          7.7,
          4.1,
          8.9,
          6.3,
          8.1,
          8.3,
          6.8,
          5.5,
          8.7,
          2.6,
          8.9,
          4.2,
          2,
          7.7,
          8.8,
          6.6,
          5.8,
          6.8,
          3.5,
          5.6,
          8.3,
          4,
          null,
          null,
          5.5,
          5.1,
          6.9,
          7.3,
          3.7,
          6.2,
          7.3,
          4.4,
          7.2,
          6.3,
          7.7,
          8.2,
          7,
          7.1,
          4.1,
          5.7,
          7.2,
          4.9,
          5.2,
          7.2,
          4,
          7.2,
          7.4,
          7.1,
          7.3,
          7.6,
          8.5,
          3.6,
          7.2,
          null,
          7.6,
          5,
          7.4,
          3.5,
          8.4,
          7,
          7.4,
          3.5,
          2.6,
          7.1,
          6.7,
          7.3,
          null,
          null,
          3.2,
          7.1,
          6.4,
          4.2,
          7,
          6.8,
          7.5,
          null,
          6.1,
          8.4,
          7.8,
          4.6,
          null,
          6.4,
          null,
          8.3,
          4.3,
          4.3,
          5.7,
          6.8,
          4.4,
          8.5,
          7.2,
          null,
          null,
          null,
          6.3,
          4.9,
          2.6,
          3.1,
          4,
          7.5,
          6.7,
          7,
          null,
          6.3,
          7,
          6.1,
          8,
          null,
          4.8,
          5.8,
          6.9,
          7,
          7.1,
          7.5,
          6.8,
          7.9,
          7.1,
          7.7,
          5.1,
          5.7,
          6.6,
          null,
          null,
          null,
          5.9,
          7.7,
          5.3,
          5.1,
          6.7,
          6.8,
          6.3,
          null,
          null,
          null,
          null,
          5,
          3,
          5.7,
          7.4,
          6.9,
          7.2,
          6.6,
          7.2,
          7.6,
          6.1,
          4.3,
          3.9,
          7.3,
          3,
          6.8,
          7.6,
          8.1,
          7.9,
          8,
          8.1,
          6.8,
          7.4,
          6.4,
          3.6,
          6,
          6,
          7.7,
          7.6,
          7.7,
          5.8,
          5.9,
          8.3,
          8.7,
          6.9,
          7.7,
          4.9,
          null,
          null,
          5.8,
          7.4,
          7.2,
          7.8,
          7.3,
          8.6,
          5.4,
          7.9,
          8.2,
          7.6,
          6.6,
          7.9,
          6.8,
          6.9,
          6,
          null,
          null,
          null,
          8.2,
          7.8,
          8,
          8.1,
          8,
          7.3,
          4.5,
          3,
          4.2,
          7.7,
          6.5,
          7.7,
          7.6,
          5.9,
          7.2,
          6.4,
          4.8,
          8.3,
          8.1,
          6.6,
          8,
          3.7,
          7.4,
          7.1,
          5.5,
          4.4,
          6,
          6.5,
          7.7,
          6.6,
          6.8,
          5.2,
          8.1,
          7.2,
          5.3,
          7.8,
          7.3,
          7.3,
          6.2,
          null,
          6.3,
          6,
          6.3,
          3.2,
          8.1,
          7.4,
          7.7,
          null,
          null,
          null,
          6.8,
          6.4,
          6.4,
          5.1,
          4.8,
          4.4,
          4,
          2.4,
          6.8,
          6.7,
          6.2,
          6.4,
          5.9,
          7.8,
          8.4,
          7.6,
          7.5,
          3.5,
          8,
          5.3,
          8.2,
          7.7,
          6.9,
          6.8,
          6.4,
          5.3,
          8.6,
          6.5,
          null,
          6.8,
          8,
          7.4,
          7.3,
          6.4,
          6.6,
          7.7,
          7.3,
          7.5,
          3.8,
          8.1,
          4,
          6.1,
          6.1,
          6.4,
          7.4,
          7.3,
          6.3,
          6.2,
          8,
          null,
          4,
          5.2,
          null,
          6.6,
          7.8,
          4.7,
          null,
          null,
          4.2,
          8.3,
          6.7,
          8.9,
          6.2,
          5,
          5.8,
          7.4,
          6.8,
          null,
          null,
          6,
          8.6,
          null,
          6.5,
          5.5,
          7.8,
          6.4,
          6.2,
          6.2,
          7.5,
          null,
          null,
          4.7,
          6.6,
          7,
          7.8,
          6.1,
          8.1,
          null,
          6.7,
          7.6,
          5.2,
          3.5,
          6.5,
          7.4,
          7.7,
          6.2,
          7.4,
          7,
          5.9,
          6.4,
          4.8,
          6.2,
          7.9,
          6.2,
          7.8,
          7.3,
          6.4,
          8,
          7.2,
          5,
          6.1,
          6.1,
          7.4,
          null,
          6.3,
          5.4,
          null,
          7.2,
          null,
          7.8,
          6.1,
          6.3,
          null
         ],
         "yaxis": "y",
         "ybingroup": "y"
        },
        {
         "alignmentgroup": "True",
         "boxpoints": "all",
         "fillcolor": "rgba(255,255,255,0)",
         "hoverlabel": {
          "namelength": 0
         },
         "hoveron": "points",
         "hovertemplate": "<b>%{hovertext}</b><br><br>year=%{x}",
         "hovertext": [
          "Fantastic Beasts and Where to Find Them 3",
          "Minamata",
          "Waiting for the Barbarians",
          "City of Lies",
          "Fantastic Beasts: The Crimes of Grindelwald",
          "The Professor",
          "London Fields",
          "Dior: Sauvage - Legend of the Magic Hour",
          "Sherlock Gnomes",
          "Murder on the Orient Express",
          "Marilyn Manson: Say10",
          "Pirates of the Caribbean: Dead Men Tell No Tales",
          "The Black Ghiandola",
          "Fantastic Beasts and Where to Find Them",
          "Alice Through the Looking Glass",
          "Donald Trump's The Art of the Deal: The Movie",
          "Yoga Hosers",
          "Black Mass",
          "Dior: Sauvage",
          "Mortdecai",
          "Into the Woods",
          "Tusk",
          "Transcendence",
          "Lucky Them",
          "The Lone Ranger",
          "Family Guy",
          "Paul McCartney: My Valentine",
          "Dark Shadows",
          "21 Jump Street",
          "Life's Too Short",
          "Jack and Jill",
          "The Rum Diary",
          "Lego Pirates of the Caribbean: The Video Game",
          "Pirates of the Caribbean: On Stranger Tides",
          "Rango",
          "The Tourist",
          "Alice in Wonderland",
          "Public Enemies",
          "The Imaginarium of Doctor Parnassus",
          "SpongeBob SquarePants",
          "Sweeney Todd: The Demon Barber of Fleet Street",
          "Pirates of the Caribbean: At World's End",
          "Pirates of the Caribbean: Dead Man's Chest",
          "Pirates of the Caribbean: The Legend of Jack Sparrow",
          "Corpse Bride",
          "Charlie and the Chocolate Factory",
          "The Libertine",
          "Finding Neverland",
          "Ils se marièrent et eurent beaucoup d'enfants",
          "King of the Hill",
          "Secret Window",
          "Once Upon a Time in Mexico",
          "Pirates of the Caribbean: The Curse of the Black Pearl",
          "From Hell",
          "Blow",
          "The Fast Show",
          "Chocolat",
          "Before Night Falls",
          "The Man Who Cried",
          "Sleepy Hollow",
          "The Astronaut's Wife",
          "The Ninth Gate",
          "The Vicar of Dibley",
          "Fear and Loathing in Las Vegas",
          "The Brave",
          "Donnie Brasco",
          "Divine Rapture",
          "Nick of Time",
          "Dead Man",
          "Shane MacGowand and the Popes: That Woman's Got Me Brinking",
          "Don Juan DeMarco",
          "Ed Wood",
          "What's Eating Gilbert Grape",
          "Benny & Joon",
          "The Lemmonheads: It's a Shame About Ray",
          "Arizona Dream",
          "Freddy's Dead: The Final Nightmare",
          "Tom Petty and the Heartbreakers: Into the Great Wide Open",
          "Edward Scissorhands",
          "21 Jump Street",
          "Cry-Baby",
          "R.P.G. II",
          "Hotel",
          "R.P.G.",
          "Platoon",
          "Slow Burn",
          "Dummies",
          "Lady Blue",
          "Private Resort",
          "A Nightmare on Elm Street",
          "Entertainment Tonight",
          "Inside Edition",
          "Groeten uit 19XX",
          "D'Astrain No Cinema - Christmas Special",
          "Ok! TV",
          "The Graham Norton Show",
          "Six Sides of Katharine Hepburn",
          "Hell's Club Part 2. Another Night",
          "Extra",
          "Cashed Out Casino",
          "Good Morning Britain",
          "ITV Lunchtime News",
          "The Insider",
          "Non mais t'as vu ce que t'écoutes",
          "Johnny Depp - Das Jahr der Entscheidung",
          "Unknown Movies",
          "L'IA et Mathieu",
          "The Drunken Peasants",
          "Welcome to the Basement",
          "The 90s: Ten Years That Changed the World",
          "The Wright Stuff",
          "The Nightmare",
          "Taff",
          "Tie Gang",
          "That's Life!! Kilorenzos Smith in Talks...",
          "The Nostalgia Critic",
          "Montreux Comedy",
          "Le Fossoyeur de Films",
          "Movie Guide",
          "Johnny Depp - Idol, Rebell und Superstar",
          "Too Young to Die",
          "Final Cut: Hölgyeim és uraim",
          "1st AACTA Awards",
          "Today",
          "Cinemassacre's Monster Madness",
          "Pirates of the Caribbean: Tales of the Code: Wedlocked",
          "Paradise Lost 3: Purgatory",
          "Pearl Jam Twenty",
          "5 Second Movies",
          "Gilles Jacob, l'arpenteur de la croisette",
          "Never Sleep Again: The Elm Street Legacy",
          "Live from Studio Five",
          "Troldspejlet",
          "Gomorron",
          "España, plató de cine",
          "Biography",
          "Los 10 magníficos",
          "E! True Hollywood Story",
          "Spisok korabley",
          "Oscar, que empiece el espectáculo",
          "The O'Reilly Factor",
          "50 Greatest Comedy Catchphrases",
          "MythBusters",
          "Krügers Woche",
          "An Island's Legacy: Preparing for TT",
          "Horâ wo 666 bai tanoshiku miru hô'hô",
          "Planet Voice",
          "20 heures le journal",
          "Cómo conseguir un papel en Hollywood",
          "Going to Pieces: The Rise and Fall of the Slasher Film",
          "Corazón de...",
          "Love Chain",
          "101 Sexiest Celebrity Bodies",
          "El Magacine",
          "Cinema mil",
          "101 Most Starlicious Makeovers",
          "101 Juiciest Hollywood Hookups",
          "The 100 Hottest Hotties",
          "50 Steamiest Southern Stars",
          "Race to the Red Carpet",
          "101 Biggest Celebrity Oops",
          "50 Greatest Teen Idols",
          "Inventing Grace, Touching Glory",
          "Celebrities Uncensored",
          "Pie Plates Over Hollywood",
          "Making Bela",
          "Histoires de festival",
          "Music Behind the Scenes",
          "If I Should Fall from Grace: The Shane MacGowan Story",
          "Donnie Brasco: Out of the Shadows",
          "The Directors",
          "Neil Young: Dead Man",
          "Tom Petty and the Heartbreakers: Playback",
          "Entertainment Tonight",
          "Brothers in Arms",
          "Classic Rock Awards",
          "Marilyn Manson: Kill4Me",
          "Ok! TV",
          "Rolling Stone: Stories from the Edge",
          "Good Morning Britain",
          "The Graham Norton Show",
          "Dead Men Tell More Tales: The Making of a New Adventure",
          "Glastonbury 2017",
          "Extra",
          "The Insider",
          "Ellen: The Ellen DeGeneres Show",
          "Jimmy Kimmel Live!",
          "David Blaine: Beyond Magic",
          "Hope and Healing Award Concert",
          "Tales of the Wild",
          "Access Hollywood",
          "Johnny Depp: Becoming Whitey Bulger",
          "Black Mass: Deepest Cover, Darkest Crime",
          "E! Live from the Red Carpet",
          "The 42nd Annual People's Choice Awards",
          "Overhaulin'",
          "Rock in Rio",
          "LiveXLive Presents Rock in Rio",
          "BBC News 8pm Summary",
          "Paul McCartney: Early Days",
          "Lost Songs: The Basement Tapes Continued",
          "Hollywood Film Awards",
          "Transcendence: Guarding the Threat",
          "Transcendence: A Singular Vision",
          "What Is 'Transcendence'?",
          "Don Rickles: One Night Only",
          "Made in Hollywood",
          "Up Close with Carrie Keagan",
          "2014 MTV Movie Awards",
          "Late Show with David Letterman",
          "E! News",
          "The Night That Changed America: A Grammy Salute to the Beatles",
          "71st Golden Globe Awards",
          "The Lone Ranger: Becoming a Cowboy",
          "Riding the Rails of 'The Lone Ranger'",
          "The American Cinematheque Tribute to Jerry Bruckheimer",
          "Paul McCartney: Queenie Eye",
          "Vivir de cine",
          "Taff",
          "Daybreak",
          "Celebrity Style Story",
          "Charlie Rose",
          "The Lone Ranger: Unmasked",
          "Don't Say No Until I Finish Talking: The Story of Richard D. Zanuck",
          "AMC Lone Ranger Q & A",
          "The 55th Annual Grammy Awards",
          "For No Good Reason",
          "Close Up",
          "In Context",
          "CINEMAsuisse: Marc Forster",
          "2012 MTV Movie Awards",
          "Janela Indiscreta",
          "Radioman",
          "Golden Gods Awards",
          "Nickelodeon Kids' Choice Awards 2012",
          "48 Hours: Hard Evidence",
          "Sunset Strip",
          "West of Memphis",
          "The 69th Annual Golden Globe Awards",
          "Pirates of the Caribbean: On Stranger Tides 35mm 3D Special",
          "20 heures le journal",
          "Le grand journal de Canal+",
          "The Making of Life's Too Short",
          "Johnny Vs. Geoffrey",
          "Legends of on Stranger Tides",
          "Real Creatures of Dirt",
          "Cinema 3",
          "Attack of the Show!",
          "Breakfast",
          "The Oprah Winfrey Show",
          "True Crime with Aphrodite Jones",
          "Unite for Japan",
          "Nickelodeon's Kids Choice Awards 2011",
          "Tourist Destination: Travel the Canals of Venice",
          "The Tourist: Action in Venice",
          "The Tourist: A Gala Affair",
          "The Tourist: Canal Chats",
          "The 7PM Project",
          "ES.TV HD",
          "CMT Insider",
          "The 68th Annual Golden Globe Awards",
          "The 37th Annual People's Choice Awards",
          "Close Up",
          "In Search of Ted Demme",
          "Alice in Wonderland: Finding Alice",
          "Alice in Wonderland: The Mad Hatter",
          "Channel 4's Comedy Gala",
          "Go' aften Danmark",
          "GMTV",
          "Friday Night with Jonathan Ross",
          "Xposé",
          "The 36th Annual People's Choice Awards",
          "Public Enemies: Blu-ray Picture in Picture",
          "Public Enemies: Blu-ray Historical Interactive Timeline",
          "The Last of the Legendary Outlaws",
          "On Dillinger's Trail",
          "Michael Mann: Making 'Public Enemies'",
          "Larger Than Life Adversaries",
          "Criminal Technology",
          "Scream Awards 2009",
          "Punkt 12",
          "HBO First Look",
          "20 to 1",
          "The Doors: When You're Strange",
          "The 66th Annual Golden Globe Awards",
          "Marc Forster - Der Weg zu 007",
          "National Movie Awards",
          "2008 MTV Movie Awards",
          "This American Life",
          "Rock and a Hard Place: Another Night at the Agora",
          "The 80th Annual Academy Awards",
          "Gonzo: The Life and Work of Dr. Hunter S. Thompson",
          "This Morning",
          "Golden Globes Announcement Special",
          "Extérieur jour",
          "Broadway Beat",
          "The Tale of the Many Jacks",
          "Keith and the Captain: On Set with Johnny and the Rock Legend",
          "Bloopers of the Caribbean",
          "Pirates of the Caribbean: At World's End Movie Special",
          "Tom Petty and the Heartbreakers: Runnin' Down a Dream",
          "HypaSpace",
          "A Journey Behind the Scenes of 'Pirates of the Caribbean: At World's End'",
          "Brando",
          "Joe Strummer: The Future Is Unwritten",
          "The 33rd Annual People's Choice Awards",
          "Johnny Cash: God's Gonna Cut You Down",
          "Making Puppets Tick",
          "Voices from the Underworld",
          "Tim Burton: Dark vs. Light",
          "Inside Dead Man's Chest",
          "Pirates on Location: Cannibal Island & Tortuga Bar Brawl",
          "Fly on the Set: The Bone Cage",
          "Dead Man Tell New Tales: Re-Imagineering the Attraction",
          "Creating the Kraken",
          "Captain Jack: From Head to Toe",
          "According to Plan: The Making of 'Pirates of the Caribbean: Dead Man's Chest'",
          "Bloopers of the Caribbean",
          "Buy the Ticket, Take the Ride: Hunter S. Thompson on Film",
          "Space Top 10 Countdown",
          "The Teen Choice Awards 2006",
          "Forbes Celebrity 100: Who Made Bank?",
          "Pirates of the Caribbean: Secrets of Dead Man's Chest",
          "Capturing 'The Libertine'",
          "When the Road Bends... Tales of a Gypsy Caravan",
          "Deep Sea",
          "The Animators: The Breath of Life",
          "Inside the Two Worlds of 'The Corpse Bride'",
          "The 63rd Annual Golden Globe Awards",
          "The 32nd Annual People's Choice Awards",
          "Charlie and the Chocolate Factory: Different Faces, Different Flavors",
          "Charlie and the Chocolate Factory: Designer Chocolate",
          "E! True Hollywood Story",
          "At the Movies",
          "Corazón de...",
          "Attack of the Squirrels!",
          "3rd Irish Film and Television Awards",
          "Planet Voice",
          "El Magacine",
          "Getaway",
          "Rove Live",
          "The Wonderful World of Roald Dahl",
          "Ahora",
          "Becoming Oompa-Loompa",
          "The Tonight Show with Jay Leno",
          "10 Most Excellent Things: Charlie and the Chocolate Factory",
          "It Came from... Baltimore!!",
          "Nickelodeon Kids' Choice Awards '05",
          "'Finding Neverland': The Making of",
          "The Magic of 'Finding Neverland'",
          "Finding Neverland: On the Red Carpet",
          "The 77th Annual Academy Awards",
          "Marc Forster - Von Davos nach Hollywood",
          "11th Annual Screen Actors Guild Awards",
          "The 62nd Annual Golden Globe Awards",
          "Tsunami Aid: A Concert of Hope",
          "The 31st Annual People's Choice Awards",
          "Happy Birthday, Peter Pan",
          "Just the Facts",
          "Phua Chu Kang",
          "The Lost Disc: The Monkey's Name Is Jack",
          "The Lost Disc: Becoming Barbossa",
          "The Lost Disc: Becoming Captain Jack",
          "Spirit of the Ride",
          "Secret Window: From Book to Film",
          "Secret Window: A Look Through It",
          "The Buried Secret of M. Night Shyamalan",
          "Comme au cinéma",
          "2004 MTV Movie Awards",
          "Richard & Judy",
          "On-Air with Ryan Seacrest",
          "The 76th Annual Academy Awards",
          "10th Annual Screen Actors Guild Awards",
          "The 61st Annual Golden Globe Awards",
          "The Good, the Bad & the Bloody: Inside KNB EFX",
          "The Anti-Hero's Journey",
          "Diary of a Producer",
          "Diary of a Pirate",
          "An Epic at Sea: The Making of 'Pirates of the Caribbean: The Curse of the Black Pearl'",
          "Blooper Reel",
          "God kveld Norge",
          "Charlie: The Life and Art of Charles Chaplin",
          "4Pop",
          "The Brendan Leonard Show",
          "Breakfast with Hunter",
          "Hunter Goes to Hollywood",
          "Cartaz Cultural",
          "Bravo Profiles",
          "Secrets of Superstar Fitness",
          "Inside the Actors Studio",
          "All the Love You Cannes!",
          "Jack the Ripper: 6 Degrees of Separation",
          "Star Boulevard",
          "The 2002 World Music Awards",
          "Lost in La Mancha",
          "A Tour of the Inferno: Revisiting 'Platoon'",
          "A View from Hell",
          "+ de cinéma",
          "One Taste Is Never Enough... The Pleasures of 'Chocolat'",
          "Sleepy Hollow: Behind the Legend",
          "In Bad Taste",
          "The Rosie O'Donnell Show",
          "Lowell Blues: The Words of Jack Kerouac",
          "Mundo VIP",
          "The Stars of 'Star Wars': Interviews from the Cast",
          "1999 MTV Video Music Awards",
          "Comic Relief: The Record Breaker",
          "The Source: The Story of the Beats and the Beat Generation",
          "Spotlight on Location: Fear and Loathing in Las Vegas",
          "Club Disney",
          "L.A. Without a Map",
          "Where It's At: The Rolling Stone State of the Union",
          "The Making of 'Donnie Brasco'",
          "Town Meeting with Diane Sawyer: Celebrities vs. the Press",
          "Cannes Man",
          "Ciné6",
          "Gran premio internazionale della TV",
          "Sinatra: 80 Years My Way",
          "Showbiz Today",
          "Help! War Child",
          "The Smokin' Mojo Filters: Come Together",
          "The Maury Povich Show",
          "United States of Poetry",
          "The 52nd Annual Golden Globe Awards",
          "Troldspejlet",
          "The 66th Annual Academy Awards",
          "CBS This Morning",
          "Idols",
          "The 48th Annual Golden Globe Awards",
          "In the Director's Chair: The Man Who Invented Edward Scissorhands",
          "The Making of 'Cry Baby'",
          "The 1990 Annual ShoWest Awards",
          "The 41st Annual Primetime Emmy Awards",
          "Top Secret",
          "Minamata",
          "Doug Stanhope: The Comedians' Comedian's Comedians",
          "Mortdecai",
          "LaDonna Harris: Indian 101",
          "The Lone Ranger",
          "Dark Shadows",
          "The Rum Diary",
          "Hugo",
          "7 Days,7 Girls",
          "The Sunset Jam",
          "Captain Jokes Parrot's Disaster of the Caribbean",
          "That's Life!! Kilorenzos Smith in Talks...",
          "Don't Say No Until I Finish Talking: The Story of Richard D. Zanuck",
          "Funny Show Part Two: The Video - Movie",
          "On the Road",
          "Paradise Lost 3: Purgatory",
          "Norte a sur: Una ruta, 5 experiencias",
          "Before Breakfast",
          "The Rooneys",
          "Stuntmen",
          "Taste of Flesh",
          "Charlie and the Chocolate Factory",
          "Lost in La Mancha",
          "One Taste Is Never Enough... The Pleasures of 'Chocolat'",
          "L.A. Without a Map",
          "Glastonbury 2017",
          "Everything Wrong with...",
          "Into the Woods",
          "The Lone Ranger",
          "2012 MTV Movie Awards",
          "Dark Shadows",
          "West of Memphis",
          "The Rum Diary",
          "The Nostalgia Critic",
          "Sweeney Todd: The Demon Barber of Fleet Street",
          "Once Upon a Time in Mexico",
          "Pirates of the Caribbean: The Curse of the Black Pearl",
          "Chocolat",
          "Untitled Keith Richards Documentary",
          "Unloveable",
          "Vanessa Paradis: L'Incendie",
          "Vanessa Paradis: Pourtant",
          "Vanessa Paradis: Que fait la vie?",
          "The Brave",
          "Shane MacGowand and the Popes: That Woman's Got Me Brinking",
          "Banter",
          "Stuff",
          "Every Cake, Neil",
          "Lost Songs: The Basement Tapes Continued",
          "Unloveable",
          "The Brave",
          "Every Cake, Neil"
         ],
         "jitter": 0,
         "legendgroup": "",
         "line": {
          "color": "rgba(255,255,255,0)"
         },
         "marker": {
          "color": "#0d0887",
          "symbol": "line-ns-open"
         },
         "name": "",
         "offsetgroup": "",
         "showlegend": false,
         "type": "box",
         "x": [
          2021,
          2020,
          2019,
          2018,
          2018,
          2018,
          2018,
          2018,
          2018,
          2017,
          2017,
          2017,
          2017,
          2016,
          2016,
          2016,
          2016,
          2015,
          2015,
          2015,
          2014,
          2014,
          2014,
          2013,
          2013,
          1999,
          2012,
          2012,
          2012,
          2011,
          2011,
          2011,
          2011,
          2011,
          2011,
          2010,
          2010,
          2009,
          2009,
          1999,
          2007,
          2007,
          2006,
          2006,
          2005,
          2005,
          2004,
          2004,
          2004,
          1997,
          2004,
          2003,
          2003,
          2001,
          2001,
          1994,
          2000,
          2000,
          2000,
          1999,
          1999,
          1999,
          1994,
          1998,
          1997,
          1997,
          1995,
          1995,
          1995,
          1994,
          1994,
          1994,
          1993,
          1993,
          1993,
          1993,
          1991,
          1991,
          1990,
          1987,
          1990,
          1988,
          1983,
          1986,
          1986,
          1986,
          1985,
          1985,
          1985,
          1984,
          1981,
          1988,
          2018,
          2018,
          2013,
          2007,
          2018,
          2017,
          1994,
          2017,
          2014,
          1988,
          2004,
          2011,
          2016,
          2013,
          2015,
          2014,
          2012,
          2015,
          2000,
          2015,
          1997,
          2013,
          2010,
          2007,
          2009,
          2012,
          2013,
          2012,
          2012,
          2012,
          2012,
          1982,
          2007,
          2011,
          2011,
          2011,
          2007,
          2010,
          2010,
          2009,
          1989,
          1992,
          2009,
          1987,
          2008,
          1996,
          2008,
          2008,
          1996,
          2008,
          2003,
          2007,
          2007,
          2007,
          2004,
          1981,
          2007,
          2006,
          1997,
          2003,
          2005,
          1996,
          2005,
          2005,
          2005,
          2005,
          2005,
          2005,
          2004,
          2003,
          2003,
          2003,
          2002,
          2002,
          2002,
          2001,
          2001,
          2000,
          1997,
          1996,
          1995,
          1981,
          2018,
          2017,
          2017,
          2013,
          2017,
          2014,
          2007,
          2017,
          2017,
          1994,
          2004,
          2003,
          2003,
          2016,
          2016,
          2016,
          1996,
          2016,
          2016,
          1995,
          2016,
          2004,
          1985,
          2015,
          2007,
          2014,
          2014,
          2014,
          2014,
          2014,
          2014,
          2014,
          2005,
          2007,
          2014,
          1993,
          1991,
          2014,
          2014,
          2013,
          2013,
          2013,
          2013,
          2012,
          1997,
          2010,
          2012,
          1991,
          2013,
          2013,
          2013,
          2013,
          2012,
          2012,
          2005,
          2012,
          2012,
          2010,
          2012,
          2012,
          2012,
          2005,
          2012,
          2012,
          2012,
          2011,
          1981,
          2004,
          2011,
          2011,
          2011,
          2011,
          1984,
          2005,
          2000,
          1986,
          2010,
          2011,
          2011,
          2011,
          2011,
          2011,
          2011,
          2009,
          2009,
          2004,
          2011,
          2011,
          2011,
          2010,
          2010,
          2010,
          2010,
          2002,
          1993,
          2001,
          2007,
          2010,
          2009,
          2009,
          2009,
          2009,
          2009,
          2009,
          2009,
          2009,
          1992,
          1992,
          2005,
          2009,
          2009,
          2008,
          2008,
          2008,
          2007,
          2008,
          2008,
          2008,
          1988,
          2008,
          2007,
          1990,
          2007,
          2007,
          2007,
          2007,
          2007,
          2002,
          2007,
          2007,
          2007,
          2007,
          2006,
          2006,
          2006,
          2006,
          2006,
          2006,
          2006,
          2006,
          2006,
          2006,
          2006,
          2006,
          2006,
          2006,
          2006,
          2006,
          2006,
          2006,
          2006,
          2006,
          2006,
          2006,
          2006,
          2006,
          2005,
          2005,
          1996,
          2004,
          1997,
          2005,
          2005,
          2004,
          1996,
          1992,
          2000,
          2005,
          2000,
          2005,
          1992,
          2005,
          2005,
          2005,
          2005,
          2005,
          2005,
          2005,
          2005,
          2005,
          2005,
          2005,
          2005,
          2005,
          2004,
          1996,
          2004,
          2004,
          2004,
          2004,
          2004,
          2004,
          2004,
          1998,
          2004,
          2001,
          2004,
          2004,
          2004,
          2004,
          2004,
          2004,
          2003,
          2003,
          2003,
          2003,
          1997,
          2003,
          2003,
          2003,
          2003,
          2003,
          2003,
          1998,
          2002,
          1994,
          2002,
          2002,
          2002,
          2002,
          2002,
          2001,
          2001,
          2001,
          2000,
          2000,
          2000,
          1996,
          2000,
          1996,
          1999,
          1999,
          1999,
          1999,
          1998,
          1989,
          1998,
          1998,
          1997,
          1997,
          1997,
          1987,
          1984,
          1995,
          1984,
          1995,
          1995,
          1991,
          1995,
          1995,
          1989,
          1994,
          1987,
          1991,
          1991,
          1990,
          1990,
          1990,
          1989,
          1999,
          2020,
          2017,
          2015,
          2014,
          2013,
          2012,
          2011,
          2011,
          2017,
          2017,
          2017,
          2010,
          2013,
          2012,
          2012,
          2011,
          2010,
          2010,
          2010,
          2009,
          2008,
          2005,
          2002,
          2000,
          1998,
          2017,
          2012,
          2014,
          2013,
          2012,
          2012,
          2012,
          2011,
          2007,
          2007,
          2003,
          2003,
          2000,
          2016,
          2009,
          2008,
          2001,
          2001,
          1997,
          1994,
          1994,
          1993,
          1988,
          2014,
          2009,
          1997,
          1988
         ],
         "xaxis": "x3",
         "yaxis": "y3"
        },
        {
         "alignmentgroup": "True",
         "bingroup": "y",
         "hoverlabel": {
          "namelength": 0
         },
         "hovertemplate": "rating=%{y}<br>count=%{x}",
         "legendgroup": "",
         "marker": {
          "color": "#0d0887"
         },
         "name": "",
         "offsetgroup": "",
         "opacity": 0.5,
         "showlegend": false,
         "type": "histogram",
         "xaxis": "x2",
         "y": [
          null,
          null,
          6.3,
          6.3,
          6.6,
          6.7,
          4.3,
          7.4,
          5.1,
          6.5,
          7.3,
          6.6,
          5.2,
          7.3,
          6.2,
          5.9,
          4.3,
          6.9,
          7.2,
          5.5,
          5.9,
          5.3,
          6.3,
          6.1,
          6.4,
          8.1,
          8.1,
          6.2,
          7.2,
          7.5,
          3.3,
          6.2,
          7.7,
          6.6,
          7.2,
          6,
          6.4,
          7,
          6.8,
          8.1,
          7.3,
          7.1,
          7.3,
          7.8,
          7.3,
          6.6,
          6.3,
          7.7,
          6.5,
          7.3,
          6.6,
          6.4,
          8,
          6.8,
          7.6,
          8.1,
          7.2,
          7.2,
          6.2,
          7.3,
          5.4,
          6.7,
          7.9,
          7.6,
          6.3,
          7.7,
          7.1,
          6.3,
          7.6,
          5.4,
          6.7,
          7.8,
          7.8,
          7.2,
          4.9,
          7.4,
          4.9,
          7.5,
          7.9,
          7.2,
          6.5,
          7.1,
          6.3,
          7,
          8.1,
          5,
          7.3,
          6.3,
          5.3,
          7.5,
          3.6,
          3.9,
          null,
          9.2,
          5,
          8.4,
          null,
          7.4,
          3.5,
          6.4,
          3.5,
          4.7,
          2.6,
          6.8,
          null,
          6.9,
          null,
          6.8,
          8.2,
          7.9,
          4.4,
          5.8,
          2.6,
          null,
          6.6,
          7.8,
          null,
          8.2,
          7.6,
          null,
          7.1,
          8.1,
          7.7,
          4.1,
          8.9,
          6.3,
          8.1,
          8.3,
          6.8,
          5.5,
          8.7,
          2.6,
          8.9,
          4.2,
          2,
          7.7,
          8.8,
          6.6,
          5.8,
          6.8,
          3.5,
          5.6,
          8.3,
          4,
          null,
          null,
          5.5,
          5.1,
          6.9,
          7.3,
          3.7,
          6.2,
          7.3,
          4.4,
          7.2,
          6.3,
          7.7,
          8.2,
          7,
          7.1,
          4.1,
          5.7,
          7.2,
          4.9,
          5.2,
          7.2,
          4,
          7.2,
          7.4,
          7.1,
          7.3,
          7.6,
          8.5,
          3.6,
          7.2,
          null,
          7.6,
          5,
          7.4,
          3.5,
          8.4,
          7,
          7.4,
          3.5,
          2.6,
          7.1,
          6.7,
          7.3,
          null,
          null,
          3.2,
          7.1,
          6.4,
          4.2,
          7,
          6.8,
          7.5,
          null,
          6.1,
          8.4,
          7.8,
          4.6,
          null,
          6.4,
          null,
          8.3,
          4.3,
          4.3,
          5.7,
          6.8,
          4.4,
          8.5,
          7.2,
          null,
          null,
          null,
          6.3,
          4.9,
          2.6,
          3.1,
          4,
          7.5,
          6.7,
          7,
          null,
          6.3,
          7,
          6.1,
          8,
          null,
          4.8,
          5.8,
          6.9,
          7,
          7.1,
          7.5,
          6.8,
          7.9,
          7.1,
          7.7,
          5.1,
          5.7,
          6.6,
          null,
          null,
          null,
          5.9,
          7.7,
          5.3,
          5.1,
          6.7,
          6.8,
          6.3,
          null,
          null,
          null,
          null,
          5,
          3,
          5.7,
          7.4,
          6.9,
          7.2,
          6.6,
          7.2,
          7.6,
          6.1,
          4.3,
          3.9,
          7.3,
          3,
          6.8,
          7.6,
          8.1,
          7.9,
          8,
          8.1,
          6.8,
          7.4,
          6.4,
          3.6,
          6,
          6,
          7.7,
          7.6,
          7.7,
          5.8,
          5.9,
          8.3,
          8.7,
          6.9,
          7.7,
          4.9,
          null,
          null,
          5.8,
          7.4,
          7.2,
          7.8,
          7.3,
          8.6,
          5.4,
          7.9,
          8.2,
          7.6,
          6.6,
          7.9,
          6.8,
          6.9,
          6,
          null,
          null,
          null,
          8.2,
          7.8,
          8,
          8.1,
          8,
          7.3,
          4.5,
          3,
          4.2,
          7.7,
          6.5,
          7.7,
          7.6,
          5.9,
          7.2,
          6.4,
          4.8,
          8.3,
          8.1,
          6.6,
          8,
          3.7,
          7.4,
          7.1,
          5.5,
          4.4,
          6,
          6.5,
          7.7,
          6.6,
          6.8,
          5.2,
          8.1,
          7.2,
          5.3,
          7.8,
          7.3,
          7.3,
          6.2,
          null,
          6.3,
          6,
          6.3,
          3.2,
          8.1,
          7.4,
          7.7,
          null,
          null,
          null,
          6.8,
          6.4,
          6.4,
          5.1,
          4.8,
          4.4,
          4,
          2.4,
          6.8,
          6.7,
          6.2,
          6.4,
          5.9,
          7.8,
          8.4,
          7.6,
          7.5,
          3.5,
          8,
          5.3,
          8.2,
          7.7,
          6.9,
          6.8,
          6.4,
          5.3,
          8.6,
          6.5,
          null,
          6.8,
          8,
          7.4,
          7.3,
          6.4,
          6.6,
          7.7,
          7.3,
          7.5,
          3.8,
          8.1,
          4,
          6.1,
          6.1,
          6.4,
          7.4,
          7.3,
          6.3,
          6.2,
          8,
          null,
          4,
          5.2,
          null,
          6.6,
          7.8,
          4.7,
          null,
          null,
          4.2,
          8.3,
          6.7,
          8.9,
          6.2,
          5,
          5.8,
          7.4,
          6.8,
          null,
          null,
          6,
          8.6,
          null,
          6.5,
          5.5,
          7.8,
          6.4,
          6.2,
          6.2,
          7.5,
          null,
          null,
          4.7,
          6.6,
          7,
          7.8,
          6.1,
          8.1,
          null,
          6.7,
          7.6,
          5.2,
          3.5,
          6.5,
          7.4,
          7.7,
          6.2,
          7.4,
          7,
          5.9,
          6.4,
          4.8,
          6.2,
          7.9,
          6.2,
          7.8,
          7.3,
          6.4,
          8,
          7.2,
          5,
          6.1,
          6.1,
          7.4,
          null,
          6.3,
          5.4,
          null,
          7.2,
          null,
          7.8,
          6.1,
          6.3,
          null
         ],
         "yaxis": "y2"
        }
       ],
       "layout": {
        "barmode": "overlay",
        "coloraxis": {
         "colorbar": {
          "title": {
           "text": "count"
          }
         },
         "colorscale": [
          [
           0,
           "#0d0887"
          ],
          [
           0.1111111111111111,
           "#46039f"
          ],
          [
           0.2222222222222222,
           "#7201a8"
          ],
          [
           0.3333333333333333,
           "#9c179e"
          ],
          [
           0.4444444444444444,
           "#bd3786"
          ],
          [
           0.5555555555555556,
           "#d8576b"
          ],
          [
           0.6666666666666666,
           "#ed7953"
          ],
          [
           0.7777777777777778,
           "#fb9f3a"
          ],
          [
           0.8888888888888888,
           "#fdca26"
          ],
          [
           1,
           "#f0f921"
          ]
         ]
        },
        "height": 600,
        "legend": {
         "tracegroupgap": 0
        },
        "template": {
         "data": {
          "bar": [
           {
            "error_x": {
             "color": "#2a3f5f"
            },
            "error_y": {
             "color": "#2a3f5f"
            },
            "marker": {
             "line": {
              "color": "#E5ECF6",
              "width": 0.5
             }
            },
            "type": "bar"
           }
          ],
          "barpolar": [
           {
            "marker": {
             "line": {
              "color": "#E5ECF6",
              "width": 0.5
             }
            },
            "type": "barpolar"
           }
          ],
          "carpet": [
           {
            "aaxis": {
             "endlinecolor": "#2a3f5f",
             "gridcolor": "white",
             "linecolor": "white",
             "minorgridcolor": "white",
             "startlinecolor": "#2a3f5f"
            },
            "baxis": {
             "endlinecolor": "#2a3f5f",
             "gridcolor": "white",
             "linecolor": "white",
             "minorgridcolor": "white",
             "startlinecolor": "#2a3f5f"
            },
            "type": "carpet"
           }
          ],
          "choropleth": [
           {
            "colorbar": {
             "outlinewidth": 0,
             "ticks": ""
            },
            "type": "choropleth"
           }
          ],
          "contour": [
           {
            "colorbar": {
             "outlinewidth": 0,
             "ticks": ""
            },
            "colorscale": [
             [
              0,
              "#0d0887"
             ],
             [
              0.1111111111111111,
              "#46039f"
             ],
             [
              0.2222222222222222,
              "#7201a8"
             ],
             [
              0.3333333333333333,
              "#9c179e"
             ],
             [
              0.4444444444444444,
              "#bd3786"
             ],
             [
              0.5555555555555556,
              "#d8576b"
             ],
             [
              0.6666666666666666,
              "#ed7953"
             ],
             [
              0.7777777777777778,
              "#fb9f3a"
             ],
             [
              0.8888888888888888,
              "#fdca26"
             ],
             [
              1,
              "#f0f921"
             ]
            ],
            "type": "contour"
           }
          ],
          "contourcarpet": [
           {
            "colorbar": {
             "outlinewidth": 0,
             "ticks": ""
            },
            "type": "contourcarpet"
           }
          ],
          "heatmap": [
           {
            "colorbar": {
             "outlinewidth": 0,
             "ticks": ""
            },
            "colorscale": [
             [
              0,
              "#0d0887"
             ],
             [
              0.1111111111111111,
              "#46039f"
             ],
             [
              0.2222222222222222,
              "#7201a8"
             ],
             [
              0.3333333333333333,
              "#9c179e"
             ],
             [
              0.4444444444444444,
              "#bd3786"
             ],
             [
              0.5555555555555556,
              "#d8576b"
             ],
             [
              0.6666666666666666,
              "#ed7953"
             ],
             [
              0.7777777777777778,
              "#fb9f3a"
             ],
             [
              0.8888888888888888,
              "#fdca26"
             ],
             [
              1,
              "#f0f921"
             ]
            ],
            "type": "heatmap"
           }
          ],
          "heatmapgl": [
           {
            "colorbar": {
             "outlinewidth": 0,
             "ticks": ""
            },
            "colorscale": [
             [
              0,
              "#0d0887"
             ],
             [
              0.1111111111111111,
              "#46039f"
             ],
             [
              0.2222222222222222,
              "#7201a8"
             ],
             [
              0.3333333333333333,
              "#9c179e"
             ],
             [
              0.4444444444444444,
              "#bd3786"
             ],
             [
              0.5555555555555556,
              "#d8576b"
             ],
             [
              0.6666666666666666,
              "#ed7953"
             ],
             [
              0.7777777777777778,
              "#fb9f3a"
             ],
             [
              0.8888888888888888,
              "#fdca26"
             ],
             [
              1,
              "#f0f921"
             ]
            ],
            "type": "heatmapgl"
           }
          ],
          "histogram": [
           {
            "marker": {
             "colorbar": {
              "outlinewidth": 0,
              "ticks": ""
             }
            },
            "type": "histogram"
           }
          ],
          "histogram2d": [
           {
            "colorbar": {
             "outlinewidth": 0,
             "ticks": ""
            },
            "colorscale": [
             [
              0,
              "#0d0887"
             ],
             [
              0.1111111111111111,
              "#46039f"
             ],
             [
              0.2222222222222222,
              "#7201a8"
             ],
             [
              0.3333333333333333,
              "#9c179e"
             ],
             [
              0.4444444444444444,
              "#bd3786"
             ],
             [
              0.5555555555555556,
              "#d8576b"
             ],
             [
              0.6666666666666666,
              "#ed7953"
             ],
             [
              0.7777777777777778,
              "#fb9f3a"
             ],
             [
              0.8888888888888888,
              "#fdca26"
             ],
             [
              1,
              "#f0f921"
             ]
            ],
            "type": "histogram2d"
           }
          ],
          "histogram2dcontour": [
           {
            "colorbar": {
             "outlinewidth": 0,
             "ticks": ""
            },
            "colorscale": [
             [
              0,
              "#0d0887"
             ],
             [
              0.1111111111111111,
              "#46039f"
             ],
             [
              0.2222222222222222,
              "#7201a8"
             ],
             [
              0.3333333333333333,
              "#9c179e"
             ],
             [
              0.4444444444444444,
              "#bd3786"
             ],
             [
              0.5555555555555556,
              "#d8576b"
             ],
             [
              0.6666666666666666,
              "#ed7953"
             ],
             [
              0.7777777777777778,
              "#fb9f3a"
             ],
             [
              0.8888888888888888,
              "#fdca26"
             ],
             [
              1,
              "#f0f921"
             ]
            ],
            "type": "histogram2dcontour"
           }
          ],
          "mesh3d": [
           {
            "colorbar": {
             "outlinewidth": 0,
             "ticks": ""
            },
            "type": "mesh3d"
           }
          ],
          "parcoords": [
           {
            "line": {
             "colorbar": {
              "outlinewidth": 0,
              "ticks": ""
             }
            },
            "type": "parcoords"
           }
          ],
          "pie": [
           {
            "automargin": true,
            "type": "pie"
           }
          ],
          "scatter": [
           {
            "marker": {
             "colorbar": {
              "outlinewidth": 0,
              "ticks": ""
             }
            },
            "type": "scatter"
           }
          ],
          "scatter3d": [
           {
            "line": {
             "colorbar": {
              "outlinewidth": 0,
              "ticks": ""
             }
            },
            "marker": {
             "colorbar": {
              "outlinewidth": 0,
              "ticks": ""
             }
            },
            "type": "scatter3d"
           }
          ],
          "scattercarpet": [
           {
            "marker": {
             "colorbar": {
              "outlinewidth": 0,
              "ticks": ""
             }
            },
            "type": "scattercarpet"
           }
          ],
          "scattergeo": [
           {
            "marker": {
             "colorbar": {
              "outlinewidth": 0,
              "ticks": ""
             }
            },
            "type": "scattergeo"
           }
          ],
          "scattergl": [
           {
            "marker": {
             "colorbar": {
              "outlinewidth": 0,
              "ticks": ""
             }
            },
            "type": "scattergl"
           }
          ],
          "scattermapbox": [
           {
            "marker": {
             "colorbar": {
              "outlinewidth": 0,
              "ticks": ""
             }
            },
            "type": "scattermapbox"
           }
          ],
          "scatterpolar": [
           {
            "marker": {
             "colorbar": {
              "outlinewidth": 0,
              "ticks": ""
             }
            },
            "type": "scatterpolar"
           }
          ],
          "scatterpolargl": [
           {
            "marker": {
             "colorbar": {
              "outlinewidth": 0,
              "ticks": ""
             }
            },
            "type": "scatterpolargl"
           }
          ],
          "scatterternary": [
           {
            "marker": {
             "colorbar": {
              "outlinewidth": 0,
              "ticks": ""
             }
            },
            "type": "scatterternary"
           }
          ],
          "surface": [
           {
            "colorbar": {
             "outlinewidth": 0,
             "ticks": ""
            },
            "colorscale": [
             [
              0,
              "#0d0887"
             ],
             [
              0.1111111111111111,
              "#46039f"
             ],
             [
              0.2222222222222222,
              "#7201a8"
             ],
             [
              0.3333333333333333,
              "#9c179e"
             ],
             [
              0.4444444444444444,
              "#bd3786"
             ],
             [
              0.5555555555555556,
              "#d8576b"
             ],
             [
              0.6666666666666666,
              "#ed7953"
             ],
             [
              0.7777777777777778,
              "#fb9f3a"
             ],
             [
              0.8888888888888888,
              "#fdca26"
             ],
             [
              1,
              "#f0f921"
             ]
            ],
            "type": "surface"
           }
          ],
          "table": [
           {
            "cells": {
             "fill": {
              "color": "#EBF0F8"
             },
             "line": {
              "color": "white"
             }
            },
            "header": {
             "fill": {
              "color": "#C8D4E3"
             },
             "line": {
              "color": "white"
             }
            },
            "type": "table"
           }
          ]
         },
         "layout": {
          "annotationdefaults": {
           "arrowcolor": "#2a3f5f",
           "arrowhead": 0,
           "arrowwidth": 1
          },
          "coloraxis": {
           "colorbar": {
            "outlinewidth": 0,
            "ticks": ""
           }
          },
          "colorscale": {
           "diverging": [
            [
             0,
             "#8e0152"
            ],
            [
             0.1,
             "#c51b7d"
            ],
            [
             0.2,
             "#de77ae"
            ],
            [
             0.3,
             "#f1b6da"
            ],
            [
             0.4,
             "#fde0ef"
            ],
            [
             0.5,
             "#f7f7f7"
            ],
            [
             0.6,
             "#e6f5d0"
            ],
            [
             0.7,
             "#b8e186"
            ],
            [
             0.8,
             "#7fbc41"
            ],
            [
             0.9,
             "#4d9221"
            ],
            [
             1,
             "#276419"
            ]
           ],
           "sequential": [
            [
             0,
             "#0d0887"
            ],
            [
             0.1111111111111111,
             "#46039f"
            ],
            [
             0.2222222222222222,
             "#7201a8"
            ],
            [
             0.3333333333333333,
             "#9c179e"
            ],
            [
             0.4444444444444444,
             "#bd3786"
            ],
            [
             0.5555555555555556,
             "#d8576b"
            ],
            [
             0.6666666666666666,
             "#ed7953"
            ],
            [
             0.7777777777777778,
             "#fb9f3a"
            ],
            [
             0.8888888888888888,
             "#fdca26"
            ],
            [
             1,
             "#f0f921"
            ]
           ],
           "sequentialminus": [
            [
             0,
             "#0d0887"
            ],
            [
             0.1111111111111111,
             "#46039f"
            ],
            [
             0.2222222222222222,
             "#7201a8"
            ],
            [
             0.3333333333333333,
             "#9c179e"
            ],
            [
             0.4444444444444444,
             "#bd3786"
            ],
            [
             0.5555555555555556,
             "#d8576b"
            ],
            [
             0.6666666666666666,
             "#ed7953"
            ],
            [
             0.7777777777777778,
             "#fb9f3a"
            ],
            [
             0.8888888888888888,
             "#fdca26"
            ],
            [
             1,
             "#f0f921"
            ]
           ]
          },
          "colorway": [
           "#636efa",
           "#EF553B",
           "#00cc96",
           "#ab63fa",
           "#FFA15A",
           "#19d3f3",
           "#FF6692",
           "#B6E880",
           "#FF97FF",
           "#FECB52"
          ],
          "font": {
           "color": "#2a3f5f"
          },
          "geo": {
           "bgcolor": "white",
           "lakecolor": "white",
           "landcolor": "#E5ECF6",
           "showlakes": true,
           "showland": true,
           "subunitcolor": "white"
          },
          "hoverlabel": {
           "align": "left"
          },
          "hovermode": "closest",
          "mapbox": {
           "style": "light"
          },
          "paper_bgcolor": "white",
          "plot_bgcolor": "#E5ECF6",
          "polar": {
           "angularaxis": {
            "gridcolor": "white",
            "linecolor": "white",
            "ticks": ""
           },
           "bgcolor": "#E5ECF6",
           "radialaxis": {
            "gridcolor": "white",
            "linecolor": "white",
            "ticks": ""
           }
          },
          "scene": {
           "xaxis": {
            "backgroundcolor": "#E5ECF6",
            "gridcolor": "white",
            "gridwidth": 2,
            "linecolor": "white",
            "showbackground": true,
            "ticks": "",
            "zerolinecolor": "white"
           },
           "yaxis": {
            "backgroundcolor": "#E5ECF6",
            "gridcolor": "white",
            "gridwidth": 2,
            "linecolor": "white",
            "showbackground": true,
            "ticks": "",
            "zerolinecolor": "white"
           },
           "zaxis": {
            "backgroundcolor": "#E5ECF6",
            "gridcolor": "white",
            "gridwidth": 2,
            "linecolor": "white",
            "showbackground": true,
            "ticks": "",
            "zerolinecolor": "white"
           }
          },
          "shapedefaults": {
           "line": {
            "color": "#2a3f5f"
           }
          },
          "ternary": {
           "aaxis": {
            "gridcolor": "white",
            "linecolor": "white",
            "ticks": ""
           },
           "baxis": {
            "gridcolor": "white",
            "linecolor": "white",
            "ticks": ""
           },
           "bgcolor": "#E5ECF6",
           "caxis": {
            "gridcolor": "white",
            "linecolor": "white",
            "ticks": ""
           }
          },
          "title": {
           "x": 0.05
          },
          "xaxis": {
           "automargin": true,
           "gridcolor": "white",
           "linecolor": "white",
           "ticks": "",
           "title": {
            "standoff": 15
           },
           "zerolinecolor": "white",
           "zerolinewidth": 2
          },
          "yaxis": {
           "automargin": true,
           "gridcolor": "white",
           "linecolor": "white",
           "ticks": "",
           "title": {
            "standoff": 15
           },
           "zerolinecolor": "white",
           "zerolinewidth": 2
          }
         }
        },
        "title": {
         "text": "Depp's Filmogrophy Rating's by Year"
        },
        "xaxis": {
         "anchor": "y",
         "domain": [
          0,
          0.7363
         ],
         "title": {
          "text": "year"
         }
        },
        "xaxis2": {
         "anchor": "y2",
         "domain": [
          0.7413,
          1
         ],
         "matches": "x2",
         "showgrid": true,
         "showline": false,
         "showticklabels": false,
         "ticks": ""
        },
        "xaxis3": {
         "anchor": "y3",
         "domain": [
          0,
          0.7363
         ],
         "matches": "x",
         "showgrid": true,
         "showticklabels": false
        },
        "xaxis4": {
         "anchor": "y4",
         "domain": [
          0.7413,
          1
         ],
         "matches": "x2",
         "showgrid": true,
         "showline": false,
         "showticklabels": false,
         "ticks": ""
        },
        "yaxis": {
         "anchor": "x",
         "domain": [
          0,
          0.8316
         ],
         "title": {
          "text": "rating"
         }
        },
        "yaxis2": {
         "anchor": "x2",
         "domain": [
          0,
          0.8316
         ],
         "matches": "y",
         "showgrid": true,
         "showticklabels": false
        },
        "yaxis3": {
         "anchor": "x3",
         "domain": [
          0.8416,
          1
         ],
         "matches": "y3",
         "showgrid": false,
         "showline": false,
         "showticklabels": false,
         "ticks": ""
        },
        "yaxis4": {
         "anchor": "x4",
         "domain": [
          0.8416,
          1
         ],
         "matches": "y3",
         "showgrid": true,
         "showline": false,
         "showticklabels": false,
         "ticks": ""
        }
       }
      },
      "text/html": [
       "<div>\n",
       "        \n",
       "        \n",
       "            <div id=\"d0c6e4a7-5c3e-4387-83ff-1c1f8102904d\" class=\"plotly-graph-div\" style=\"height:600px; width:100%;\"></div>\n",
       "            <script type=\"text/javascript\">\n",
       "                require([\"plotly\"], function(Plotly) {\n",
       "                    window.PLOTLYENV=window.PLOTLYENV || {};\n",
       "                    \n",
       "                if (document.getElementById(\"d0c6e4a7-5c3e-4387-83ff-1c1f8102904d\")) {\n",
       "                    Plotly.newPlot(\n",
       "                        'd0c6e4a7-5c3e-4387-83ff-1c1f8102904d',\n",
       "                        [{\"coloraxis\": \"coloraxis\", \"hoverlabel\": {\"namelength\": 0}, \"hovertemplate\": \"year=%{x}<br>rating=%{y}<br>count=%{z}\", \"name\": \"\", \"type\": \"histogram2d\", \"x\": [2021.0, 2020.0, 2019.0, 2018.0, 2018.0, 2018.0, 2018.0, 2018.0, 2018.0, 2017.0, 2017.0, 2017.0, 2017.0, 2016.0, 2016.0, 2016.0, 2016.0, 2015.0, 2015.0, 2015.0, 2014.0, 2014.0, 2014.0, 2013.0, 2013.0, 1999.0, 2012.0, 2012.0, 2012.0, 2011.0, 2011.0, 2011.0, 2011.0, 2011.0, 2011.0, 2010.0, 2010.0, 2009.0, 2009.0, 1999.0, 2007.0, 2007.0, 2006.0, 2006.0, 2005.0, 2005.0, 2004.0, 2004.0, 2004.0, 1997.0, 2004.0, 2003.0, 2003.0, 2001.0, 2001.0, 1994.0, 2000.0, 2000.0, 2000.0, 1999.0, 1999.0, 1999.0, 1994.0, 1998.0, 1997.0, 1997.0, 1995.0, 1995.0, 1995.0, 1994.0, 1994.0, 1994.0, 1993.0, 1993.0, 1993.0, 1993.0, 1991.0, 1991.0, 1990.0, 1987.0, 1990.0, 1988.0, 1983.0, 1986.0, 1986.0, 1986.0, 1985.0, 1985.0, 1985.0, 1984.0, 1981.0, 1988.0, 2018.0, 2018.0, 2013.0, 2007.0, 2018.0, 2017.0, 1994.0, 2017.0, 2014.0, 1988.0, 2004.0, 2011.0, 2016.0, 2013.0, 2015.0, 2014.0, 2012.0, 2015.0, 2000.0, 2015.0, 1997.0, 2013.0, 2010.0, 2007.0, 2009.0, 2012.0, 2013.0, 2012.0, 2012.0, 2012.0, 2012.0, 1982.0, 2007.0, 2011.0, 2011.0, 2011.0, 2007.0, 2010.0, 2010.0, 2009.0, 1989.0, 1992.0, 2009.0, 1987.0, 2008.0, 1996.0, 2008.0, 2008.0, 1996.0, 2008.0, 2003.0, 2007.0, 2007.0, 2007.0, 2004.0, 1981.0, 2007.0, 2006.0, 1997.0, 2003.0, 2005.0, 1996.0, 2005.0, 2005.0, 2005.0, 2005.0, 2005.0, 2005.0, 2004.0, 2003.0, 2003.0, 2003.0, 2002.0, 2002.0, 2002.0, 2001.0, 2001.0, 2000.0, 1997.0, 1996.0, 1995.0, 1981.0, 2018.0, 2017.0, 2017.0, 2013.0, 2017.0, 2014.0, 2007.0, 2017.0, 2017.0, 1994.0, 2004.0, 2003.0, 2003.0, 2016.0, 2016.0, 2016.0, 1996.0, 2016.0, 2016.0, 1995.0, 2016.0, 2004.0, 1985.0, 2015.0, 2007.0, 2014.0, 2014.0, 2014.0, 2014.0, 2014.0, 2014.0, 2014.0, 2005.0, 2007.0, 2014.0, 1993.0, 1991.0, 2014.0, 2014.0, 2013.0, 2013.0, 2013.0, 2013.0, 2012.0, 1997.0, 2010.0, 2012.0, 1991.0, 2013.0, 2013.0, 2013.0, 2013.0, 2012.0, 2012.0, 2005.0, 2012.0, 2012.0, 2010.0, 2012.0, 2012.0, 2012.0, 2005.0, 2012.0, 2012.0, 2012.0, 2011.0, 1981.0, 2004.0, 2011.0, 2011.0, 2011.0, 2011.0, 1984.0, 2005.0, 2000.0, 1986.0, 2010.0, 2011.0, 2011.0, 2011.0, 2011.0, 2011.0, 2011.0, 2009.0, 2009.0, 2004.0, 2011.0, 2011.0, 2011.0, 2010.0, 2010.0, 2010.0, 2010.0, 2002.0, 1993.0, 2001.0, 2007.0, 2010.0, 2009.0, 2009.0, 2009.0, 2009.0, 2009.0, 2009.0, 2009.0, 2009.0, 1992.0, 1992.0, 2005.0, 2009.0, 2009.0, 2008.0, 2008.0, 2008.0, 2007.0, 2008.0, 2008.0, 2008.0, 1988.0, 2008.0, 2007.0, 1990.0, 2007.0, 2007.0, 2007.0, 2007.0, 2007.0, 2002.0, 2007.0, 2007.0, 2007.0, 2007.0, 2006.0, 2006.0, 2006.0, 2006.0, 2006.0, 2006.0, 2006.0, 2006.0, 2006.0, 2006.0, 2006.0, 2006.0, 2006.0, 2006.0, 2006.0, 2006.0, 2006.0, 2006.0, 2006.0, 2006.0, 2006.0, 2006.0, 2006.0, 2006.0, 2005.0, 2005.0, 1996.0, 2004.0, 1997.0, 2005.0, 2005.0, 2004.0, 1996.0, 1992.0, 2000.0, 2005.0, 2000.0, 2005.0, 1992.0, 2005.0, 2005.0, 2005.0, 2005.0, 2005.0, 2005.0, 2005.0, 2005.0, 2005.0, 2005.0, 2005.0, 2005.0, 2005.0, 2004.0, 1996.0, 2004.0, 2004.0, 2004.0, 2004.0, 2004.0, 2004.0, 2004.0, 1998.0, 2004.0, 2001.0, 2004.0, 2004.0, 2004.0, 2004.0, 2004.0, 2004.0, 2003.0, 2003.0, 2003.0, 2003.0, 1997.0, 2003.0, 2003.0, 2003.0, 2003.0, 2003.0, 2003.0, 1998.0, 2002.0, 1994.0, 2002.0, 2002.0, 2002.0, 2002.0, 2002.0, 2001.0, 2001.0, 2001.0, 2000.0, 2000.0, 2000.0, 1996.0, 2000.0, 1996.0, 1999.0, 1999.0, 1999.0, 1999.0, 1998.0, 1989.0, 1998.0, 1998.0, 1997.0, 1997.0, 1997.0, 1987.0, 1984.0, 1995.0, 1984.0, 1995.0, 1995.0, 1991.0, 1995.0, 1995.0, 1989.0, 1994.0, 1987.0, 1991.0, 1991.0, 1990.0, 1990.0, 1990.0, 1989.0, 1999.0, 2020.0, 2017.0, 2015.0, 2014.0, 2013.0, 2012.0, 2011.0, 2011.0, 2017.0, 2017.0, 2017.0, 2010.0, 2013.0, 2012.0, 2012.0, 2011.0, 2010.0, 2010.0, 2010.0, 2009.0, 2008.0, 2005.0, 2002.0, 2000.0, 1998.0, 2017.0, 2012.0, 2014.0, 2013.0, 2012.0, 2012.0, 2012.0, 2011.0, 2007.0, 2007.0, 2003.0, 2003.0, 2000.0, 2016.0, 2009.0, 2008.0, 2001.0, 2001.0, 1997.0, 1994.0, 1994.0, 1993.0, 1988.0, 2014.0, 2009.0, 1997.0, 1988.0], \"xaxis\": \"x\", \"xbingroup\": \"x\", \"y\": [null, null, 6.3, 6.3, 6.6, 6.7, 4.3, 7.4, 5.1, 6.5, 7.3, 6.6, 5.2, 7.3, 6.2, 5.9, 4.3, 6.9, 7.2, 5.5, 5.9, 5.3, 6.3, 6.1, 6.4, 8.1, 8.1, 6.2, 7.2, 7.5, 3.3, 6.2, 7.7, 6.6, 7.2, 6.0, 6.4, 7.0, 6.8, 8.1, 7.3, 7.1, 7.3, 7.8, 7.3, 6.6, 6.3, 7.7, 6.5, 7.3, 6.6, 6.4, 8.0, 6.8, 7.6, 8.1, 7.2, 7.2, 6.2, 7.3, 5.4, 6.7, 7.9, 7.6, 6.3, 7.7, 7.1, 6.3, 7.6, 5.4, 6.7, 7.8, 7.8, 7.2, 4.9, 7.4, 4.9, 7.5, 7.9, 7.2, 6.5, 7.1, 6.3, 7.0, 8.1, 5.0, 7.3, 6.3, 5.3, 7.5, 3.6, 3.9, null, 9.2, 5.0, 8.4, null, 7.4, 3.5, 6.4, 3.5, 4.7, 2.6, 6.8, null, 6.9, null, 6.8, 8.2, 7.9, 4.4, 5.8, 2.6, null, 6.6, 7.8, null, 8.2, 7.6, null, 7.1, 8.1, 7.7, 4.1, 8.9, 6.3, 8.1, 8.3, 6.8, 5.5, 8.7, 2.6, 8.9, 4.2, 2.0, 7.7, 8.8, 6.6, 5.8, 6.8, 3.5, 5.6, 8.3, 4.0, null, null, 5.5, 5.1, 6.9, 7.3, 3.7, 6.2, 7.3, 4.4, 7.2, 6.3, 7.7, 8.2, 7.0, 7.1, 4.1, 5.7, 7.2, 4.9, 5.2, 7.2, 4.0, 7.2, 7.4, 7.1, 7.3, 7.6, 8.5, 3.6, 7.2, null, 7.6, 5.0, 7.4, 3.5, 8.4, 7.0, 7.4, 3.5, 2.6, 7.1, 6.7, 7.3, null, null, 3.2, 7.1, 6.4, 4.2, 7.0, 6.8, 7.5, null, 6.1, 8.4, 7.8, 4.6, null, 6.4, null, 8.3, 4.3, 4.3, 5.7, 6.8, 4.4, 8.5, 7.2, null, null, null, 6.3, 4.9, 2.6, 3.1, 4.0, 7.5, 6.7, 7.0, null, 6.3, 7.0, 6.1, 8.0, null, 4.8, 5.8, 6.9, 7.0, 7.1, 7.5, 6.8, 7.9, 7.1, 7.7, 5.1, 5.7, 6.6, null, null, null, 5.9, 7.7, 5.3, 5.1, 6.7, 6.8, 6.3, null, null, null, null, 5.0, 3.0, 5.7, 7.4, 6.9, 7.2, 6.6, 7.2, 7.6, 6.1, 4.3, 3.9, 7.3, 3.0, 6.8, 7.6, 8.1, 7.9, 8.0, 8.1, 6.8, 7.4, 6.4, 3.6, 6.0, 6.0, 7.7, 7.6, 7.7, 5.8, 5.9, 8.3, 8.7, 6.9, 7.7, 4.9, null, null, 5.8, 7.4, 7.2, 7.8, 7.3, 8.6, 5.4, 7.9, 8.2, 7.6, 6.6, 7.9, 6.8, 6.9, 6.0, null, null, null, 8.2, 7.8, 8.0, 8.1, 8.0, 7.3, 4.5, 3.0, 4.2, 7.7, 6.5, 7.7, 7.6, 5.9, 7.2, 6.4, 4.8, 8.3, 8.1, 6.6, 8.0, 3.7, 7.4, 7.1, 5.5, 4.4, 6.0, 6.5, 7.7, 6.6, 6.8, 5.2, 8.1, 7.2, 5.3, 7.8, 7.3, 7.3, 6.2, null, 6.3, 6.0, 6.3, 3.2, 8.1, 7.4, 7.7, null, null, null, 6.8, 6.4, 6.4, 5.1, 4.8, 4.4, 4.0, 2.4, 6.8, 6.7, 6.2, 6.4, 5.9, 7.8, 8.4, 7.6, 7.5, 3.5, 8.0, 5.3, 8.2, 7.7, 6.9, 6.8, 6.4, 5.3, 8.6, 6.5, null, 6.8, 8.0, 7.4, 7.3, 6.4, 6.6, 7.7, 7.3, 7.5, 3.8, 8.1, 4.0, 6.1, 6.1, 6.4, 7.4, 7.3, 6.3, 6.2, 8.0, null, 4.0, 5.2, null, 6.6, 7.8, 4.7, null, null, 4.2, 8.3, 6.7, 8.9, 6.2, 5.0, 5.8, 7.4, 6.8, null, null, 6.0, 8.6, null, 6.5, 5.5, 7.8, 6.4, 6.2, 6.2, 7.5, null, null, 4.7, 6.6, 7.0, 7.8, 6.1, 8.1, null, 6.7, 7.6, 5.2, 3.5, 6.5, 7.4, 7.7, 6.2, 7.4, 7.0, 5.9, 6.4, 4.8, 6.2, 7.9, 6.2, 7.8, 7.3, 6.4, 8.0, 7.2, 5.0, 6.1, 6.1, 7.4, null, 6.3, 5.4, null, 7.2, null, 7.8, 6.1, 6.3, null], \"yaxis\": \"y\", \"ybingroup\": \"y\"}, {\"alignmentgroup\": \"True\", \"boxpoints\": \"all\", \"fillcolor\": \"rgba(255,255,255,0)\", \"hoverlabel\": {\"namelength\": 0}, \"hoveron\": \"points\", \"hovertemplate\": \"<b>%{hovertext}</b><br><br>year=%{x}\", \"hovertext\": [\"Fantastic Beasts and Where to Find Them 3\", \"Minamata\", \"Waiting for the Barbarians\", \"City of Lies\", \"Fantastic Beasts: The Crimes of Grindelwald\", \"The Professor\", \"London Fields\", \"Dior: Sauvage - Legend of the Magic Hour\", \"Sherlock Gnomes\", \"Murder on the Orient Express\", \"Marilyn Manson: Say10\", \"Pirates of the Caribbean: Dead Men Tell No Tales\", \"The Black Ghiandola\", \"Fantastic Beasts and Where to Find Them\", \"Alice Through the Looking Glass\", \"Donald Trump's The Art of the Deal: The Movie\", \"Yoga Hosers\", \"Black Mass\", \"Dior: Sauvage\", \"Mortdecai\", \"Into the Woods\", \"Tusk\", \"Transcendence\", \"Lucky Them\", \"The Lone Ranger\", \"Family Guy\", \"Paul McCartney: My Valentine\", \"Dark Shadows\", \"21 Jump Street\", \"Life's Too Short\", \"Jack and Jill\", \"The Rum Diary\", \"Lego Pirates of the Caribbean: The Video Game\", \"Pirates of the Caribbean: On Stranger Tides\", \"Rango\", \"The Tourist\", \"Alice in Wonderland\", \"Public Enemies\", \"The Imaginarium of Doctor Parnassus\", \"SpongeBob SquarePants\", \"Sweeney Todd: The Demon Barber of Fleet Street\", \"Pirates of the Caribbean: At World's End\", \"Pirates of the Caribbean: Dead Man's Chest\", \"Pirates of the Caribbean: The Legend of Jack Sparrow\", \"Corpse Bride\", \"Charlie and the Chocolate Factory\", \"The Libertine\", \"Finding Neverland\", \"Ils se mari\\u00e8rent et eurent beaucoup d'enfants\", \"King of the Hill\", \"Secret Window\", \"Once Upon a Time in Mexico\", \"Pirates of the Caribbean: The Curse of the Black Pearl\", \"From Hell\", \"Blow\", \"The Fast Show\", \"Chocolat\", \"Before Night Falls\", \"The Man Who Cried\", \"Sleepy Hollow\", \"The Astronaut's Wife\", \"The Ninth Gate\", \"The Vicar of Dibley\", \"Fear and Loathing in Las Vegas\", \"The Brave\", \"Donnie Brasco\", \"Divine Rapture\", \"Nick of Time\", \"Dead Man\", \"Shane MacGowand and the Popes: That Woman's Got Me Brinking\", \"Don Juan DeMarco\", \"Ed Wood\", \"What's Eating Gilbert Grape\", \"Benny & Joon\", \"The Lemmonheads: It's a Shame About Ray\", \"Arizona Dream\", \"Freddy's Dead: The Final Nightmare\", \"Tom Petty and the Heartbreakers: Into the Great Wide Open\", \"Edward Scissorhands\", \"21 Jump Street\", \"Cry-Baby\", \"R.P.G. II\", \"Hotel\", \"R.P.G.\", \"Platoon\", \"Slow Burn\", \"Dummies\", \"Lady Blue\", \"Private Resort\", \"A Nightmare on Elm Street\", \"Entertainment Tonight\", \"Inside Edition\", \"Groeten uit 19XX\", \"D'Astrain No Cinema - Christmas Special\", \"Ok! TV\", \"The Graham Norton Show\", \"Six Sides of Katharine Hepburn\", \"Hell's Club Part 2. Another Night\", \"Extra\", \"Cashed Out Casino\", \"Good Morning Britain\", \"ITV Lunchtime News\", \"The Insider\", \"Non mais t'as vu ce que t'\\u00e9coutes\", \"Johnny Depp - Das Jahr der Entscheidung\", \"Unknown Movies\", \"L'IA et Mathieu\", \"The Drunken Peasants\", \"Welcome to the Basement\", \"The 90s: Ten Years That Changed the World\", \"The Wright Stuff\", \"The Nightmare\", \"Taff\", \"Tie Gang\", \"That's Life!! Kilorenzos Smith in Talks...\", \"The Nostalgia Critic\", \"Montreux Comedy\", \"Le Fossoyeur de Films\", \"Movie Guide\", \"Johnny Depp - Idol, Rebell und Superstar\", \"Too Young to Die\", \"Final Cut: H\\u00f6lgyeim \\u00e9s uraim\", \"1st AACTA Awards\", \"Today\", \"Cinemassacre's Monster Madness\", \"Pirates of the Caribbean: Tales of the Code: Wedlocked\", \"Paradise Lost 3: Purgatory\", \"Pearl Jam Twenty\", \"5 Second Movies\", \"Gilles Jacob, l'arpenteur de la croisette\", \"Never Sleep Again: The Elm Street Legacy\", \"Live from Studio Five\", \"Troldspejlet\", \"Gomorron\", \"Espa\\u00f1a, plat\\u00f3 de cine\", \"Biography\", \"Los 10 magn\\u00edficos\", \"E! True Hollywood Story\", \"Spisok korabley\", \"Oscar, que empiece el espect\\u00e1culo\", \"The O'Reilly Factor\", \"50 Greatest Comedy Catchphrases\", \"MythBusters\", \"Kr\\u00fcgers Woche\", \"An Island's Legacy: Preparing for TT\", \"Hor\\u00e2 wo 666 bai tanoshiku miru h\\u00f4'h\\u00f4\", \"Planet Voice\", \"20 heures le journal\", \"C\\u00f3mo conseguir un papel en Hollywood\", \"Going to Pieces: The Rise and Fall of the Slasher Film\", \"Coraz\\u00f3n de...\", \"Love Chain\", \"101 Sexiest Celebrity Bodies\", \"El Magacine\", \"Cinema mil\", \"101 Most Starlicious Makeovers\", \"101 Juiciest Hollywood Hookups\", \"The 100 Hottest Hotties\", \"50 Steamiest Southern Stars\", \"Race to the Red Carpet\", \"101 Biggest Celebrity Oops\", \"50 Greatest Teen Idols\", \"Inventing Grace, Touching Glory\", \"Celebrities Uncensored\", \"Pie Plates Over Hollywood\", \"Making Bela\", \"Histoires de festival\", \"Music Behind the Scenes\", \"If I Should Fall from Grace: The Shane MacGowan Story\", \"Donnie Brasco: Out of the Shadows\", \"The Directors\", \"Neil Young: Dead Man\", \"Tom Petty and the Heartbreakers: Playback\", \"Entertainment Tonight\", \"Brothers in Arms\", \"Classic Rock Awards\", \"Marilyn Manson: Kill4Me\", \"Ok! TV\", \"Rolling Stone: Stories from the Edge\", \"Good Morning Britain\", \"The Graham Norton Show\", \"Dead Men Tell More Tales: The Making of a New Adventure\", \"Glastonbury 2017\", \"Extra\", \"The Insider\", \"Ellen: The Ellen DeGeneres Show\", \"Jimmy Kimmel Live!\", \"David Blaine: Beyond Magic\", \"Hope and Healing Award Concert\", \"Tales of the Wild\", \"Access Hollywood\", \"Johnny Depp: Becoming Whitey Bulger\", \"Black Mass: Deepest Cover, Darkest Crime\", \"E! Live from the Red Carpet\", \"The 42nd Annual People's Choice Awards\", \"Overhaulin'\", \"Rock in Rio\", \"LiveXLive Presents Rock in Rio\", \"BBC News 8pm Summary\", \"Paul McCartney: Early Days\", \"Lost Songs: The Basement Tapes Continued\", \"Hollywood Film Awards\", \"Transcendence: Guarding the Threat\", \"Transcendence: A Singular Vision\", \"What Is 'Transcendence'?\", \"Don Rickles: One Night Only\", \"Made in Hollywood\", \"Up Close with Carrie Keagan\", \"2014 MTV Movie Awards\", \"Late Show with David Letterman\", \"E! News\", \"The Night That Changed America: A Grammy Salute to the Beatles\", \"71st Golden Globe Awards\", \"The Lone Ranger: Becoming a Cowboy\", \"Riding the Rails of 'The Lone Ranger'\", \"The American Cinematheque Tribute to Jerry Bruckheimer\", \"Paul McCartney: Queenie Eye\", \"Vivir de cine\", \"Taff\", \"Daybreak\", \"Celebrity Style Story\", \"Charlie Rose\", \"The Lone Ranger: Unmasked\", \"Don't Say No Until I Finish Talking: The Story of Richard D. Zanuck\", \"AMC Lone Ranger Q & A\", \"The 55th Annual Grammy Awards\", \"For No Good Reason\", \"Close Up\", \"In Context\", \"CINEMAsuisse: Marc Forster\", \"2012 MTV Movie Awards\", \"Janela Indiscreta\", \"Radioman\", \"Golden Gods Awards\", \"Nickelodeon Kids' Choice Awards 2012\", \"48 Hours: Hard Evidence\", \"Sunset Strip\", \"West of Memphis\", \"The 69th Annual Golden Globe Awards\", \"Pirates of the Caribbean: On Stranger Tides 35mm 3D Special\", \"20 heures le journal\", \"Le grand journal de Canal+\", \"The Making of Life's Too Short\", \"Johnny Vs. Geoffrey\", \"Legends of on Stranger Tides\", \"Real Creatures of Dirt\", \"Cinema 3\", \"Attack of the Show!\", \"Breakfast\", \"The Oprah Winfrey Show\", \"True Crime with Aphrodite Jones\", \"Unite for Japan\", \"Nickelodeon's Kids Choice Awards 2011\", \"Tourist Destination: Travel the Canals of Venice\", \"The Tourist: Action in Venice\", \"The Tourist: A Gala Affair\", \"The Tourist: Canal Chats\", \"The 7PM Project\", \"ES.TV HD\", \"CMT Insider\", \"The 68th Annual Golden Globe Awards\", \"The 37th Annual People's Choice Awards\", \"Close Up\", \"In Search of Ted Demme\", \"Alice in Wonderland: Finding Alice\", \"Alice in Wonderland: The Mad Hatter\", \"Channel 4's Comedy Gala\", \"Go' aften Danmark\", \"GMTV\", \"Friday Night with Jonathan Ross\", \"Xpos\\u00e9\", \"The 36th Annual People's Choice Awards\", \"Public Enemies: Blu-ray Picture in Picture\", \"Public Enemies: Blu-ray Historical Interactive Timeline\", \"The Last of the Legendary Outlaws\", \"On Dillinger's Trail\", \"Michael Mann: Making 'Public Enemies'\", \"Larger Than Life Adversaries\", \"Criminal Technology\", \"Scream Awards 2009\", \"Punkt 12\", \"HBO First Look\", \"20 to 1\", \"The Doors: When You're Strange\", \"The 66th Annual Golden Globe Awards\", \"Marc Forster - Der Weg zu 007\", \"National Movie Awards\", \"2008 MTV Movie Awards\", \"This American Life\", \"Rock and a Hard Place: Another Night at the Agora\", \"The 80th Annual Academy Awards\", \"Gonzo: The Life and Work of Dr. Hunter S. Thompson\", \"This Morning\", \"Golden Globes Announcement Special\", \"Ext\\u00e9rieur jour\", \"Broadway Beat\", \"The Tale of the Many Jacks\", \"Keith and the Captain: On Set with Johnny and the Rock Legend\", \"Bloopers of the Caribbean\", \"Pirates of the Caribbean: At World's End Movie Special\", \"Tom Petty and the Heartbreakers: Runnin' Down a Dream\", \"HypaSpace\", \"A Journey Behind the Scenes of 'Pirates of the Caribbean: At World's End'\", \"Brando\", \"Joe Strummer: The Future Is Unwritten\", \"The 33rd Annual People's Choice Awards\", \"Johnny Cash: God's Gonna Cut You Down\", \"Making Puppets Tick\", \"Voices from the Underworld\", \"Tim Burton: Dark vs. Light\", \"Inside Dead Man's Chest\", \"Pirates on Location: Cannibal Island & Tortuga Bar Brawl\", \"Fly on the Set: The Bone Cage\", \"Dead Man Tell New Tales: Re-Imagineering the Attraction\", \"Creating the Kraken\", \"Captain Jack: From Head to Toe\", \"According to Plan: The Making of 'Pirates of the Caribbean: Dead Man's Chest'\", \"Bloopers of the Caribbean\", \"Buy the Ticket, Take the Ride: Hunter S. Thompson on Film\", \"Space Top 10 Countdown\", \"The Teen Choice Awards 2006\", \"Forbes Celebrity 100: Who Made Bank?\", \"Pirates of the Caribbean: Secrets of Dead Man's Chest\", \"Capturing 'The Libertine'\", \"When the Road Bends... Tales of a Gypsy Caravan\", \"Deep Sea\", \"The Animators: The Breath of Life\", \"Inside the Two Worlds of 'The Corpse Bride'\", \"The 63rd Annual Golden Globe Awards\", \"The 32nd Annual People's Choice Awards\", \"Charlie and the Chocolate Factory: Different Faces, Different Flavors\", \"Charlie and the Chocolate Factory: Designer Chocolate\", \"E! True Hollywood Story\", \"At the Movies\", \"Coraz\\u00f3n de...\", \"Attack of the Squirrels!\", \"3rd Irish Film and Television Awards\", \"Planet Voice\", \"El Magacine\", \"Getaway\", \"Rove Live\", \"The Wonderful World of Roald Dahl\", \"Ahora\", \"Becoming Oompa-Loompa\", \"The Tonight Show with Jay Leno\", \"10 Most Excellent Things: Charlie and the Chocolate Factory\", \"It Came from... Baltimore!!\", \"Nickelodeon Kids' Choice Awards '05\", \"'Finding Neverland': The Making of\", \"The Magic of 'Finding Neverland'\", \"Finding Neverland: On the Red Carpet\", \"The 77th Annual Academy Awards\", \"Marc Forster - Von Davos nach Hollywood\", \"11th Annual Screen Actors Guild Awards\", \"The 62nd Annual Golden Globe Awards\", \"Tsunami Aid: A Concert of Hope\", \"The 31st Annual People's Choice Awards\", \"Happy Birthday, Peter Pan\", \"Just the Facts\", \"Phua Chu Kang\", \"The Lost Disc: The Monkey's Name Is Jack\", \"The Lost Disc: Becoming Barbossa\", \"The Lost Disc: Becoming Captain Jack\", \"Spirit of the Ride\", \"Secret Window: From Book to Film\", \"Secret Window: A Look Through It\", \"The Buried Secret of M. Night Shyamalan\", \"Comme au cin\\u00e9ma\", \"2004 MTV Movie Awards\", \"Richard & Judy\", \"On-Air with Ryan Seacrest\", \"The 76th Annual Academy Awards\", \"10th Annual Screen Actors Guild Awards\", \"The 61st Annual Golden Globe Awards\", \"The Good, the Bad & the Bloody: Inside KNB EFX\", \"The Anti-Hero's Journey\", \"Diary of a Producer\", \"Diary of a Pirate\", \"An Epic at Sea: The Making of 'Pirates of the Caribbean: The Curse of the Black Pearl'\", \"Blooper Reel\", \"God kveld Norge\", \"Charlie: The Life and Art of Charles Chaplin\", \"4Pop\", \"The Brendan Leonard Show\", \"Breakfast with Hunter\", \"Hunter Goes to Hollywood\", \"Cartaz Cultural\", \"Bravo Profiles\", \"Secrets of Superstar Fitness\", \"Inside the Actors Studio\", \"All the Love You Cannes!\", \"Jack the Ripper: 6 Degrees of Separation\", \"Star Boulevard\", \"The 2002 World Music Awards\", \"Lost in La Mancha\", \"A Tour of the Inferno: Revisiting 'Platoon'\", \"A View from Hell\", \"+ de cin\\u00e9ma\", \"One Taste Is Never Enough... The Pleasures of 'Chocolat'\", \"Sleepy Hollow: Behind the Legend\", \"In Bad Taste\", \"The Rosie O'Donnell Show\", \"Lowell Blues: The Words of Jack Kerouac\", \"Mundo VIP\", \"The Stars of 'Star Wars': Interviews from the Cast\", \"1999 MTV Video Music Awards\", \"Comic Relief: The Record Breaker\", \"The Source: The Story of the Beats and the Beat Generation\", \"Spotlight on Location: Fear and Loathing in Las Vegas\", \"Club Disney\", \"L.A. Without a Map\", \"Where It's At: The Rolling Stone State of the Union\", \"The Making of 'Donnie Brasco'\", \"Town Meeting with Diane Sawyer: Celebrities vs. the Press\", \"Cannes Man\", \"Cin\\u00e96\", \"Gran premio internazionale della TV\", \"Sinatra: 80 Years My Way\", \"Showbiz Today\", \"Help! War Child\", \"The Smokin' Mojo Filters: Come Together\", \"The Maury Povich Show\", \"United States of Poetry\", \"The 52nd Annual Golden Globe Awards\", \"Troldspejlet\", \"The 66th Annual Academy Awards\", \"CBS This Morning\", \"Idols\", \"The 48th Annual Golden Globe Awards\", \"In the Director's Chair: The Man Who Invented Edward Scissorhands\", \"The Making of 'Cry Baby'\", \"The 1990 Annual ShoWest Awards\", \"The 41st Annual Primetime Emmy Awards\", \"Top Secret\", \"Minamata\", \"Doug Stanhope: The Comedians' Comedian's Comedians\", \"Mortdecai\", \"LaDonna Harris: Indian 101\", \"The Lone Ranger\", \"Dark Shadows\", \"The Rum Diary\", \"Hugo\", \"7 Days,7 Girls\", \"The Sunset Jam\", \"Captain Jokes Parrot's Disaster of the Caribbean\", \"That's Life!! Kilorenzos Smith in Talks...\", \"Don't Say No Until I Finish Talking: The Story of Richard D. Zanuck\", \"Funny Show Part Two: The Video - Movie\", \"On the Road\", \"Paradise Lost 3: Purgatory\", \"Norte a sur: Una ruta, 5 experiencias\", \"Before Breakfast\", \"The Rooneys\", \"Stuntmen\", \"Taste of Flesh\", \"Charlie and the Chocolate Factory\", \"Lost in La Mancha\", \"One Taste Is Never Enough... The Pleasures of 'Chocolat'\", \"L.A. Without a Map\", \"Glastonbury 2017\", \"Everything Wrong with...\", \"Into the Woods\", \"The Lone Ranger\", \"2012 MTV Movie Awards\", \"Dark Shadows\", \"West of Memphis\", \"The Rum Diary\", \"The Nostalgia Critic\", \"Sweeney Todd: The Demon Barber of Fleet Street\", \"Once Upon a Time in Mexico\", \"Pirates of the Caribbean: The Curse of the Black Pearl\", \"Chocolat\", \"Untitled Keith Richards Documentary\", \"Unloveable\", \"Vanessa Paradis: L'Incendie\", \"Vanessa Paradis: Pourtant\", \"Vanessa Paradis: Que fait la vie?\", \"The Brave\", \"Shane MacGowand and the Popes: That Woman's Got Me Brinking\", \"Banter\", \"Stuff\", \"Every Cake, Neil\", \"Lost Songs: The Basement Tapes Continued\", \"Unloveable\", \"The Brave\", \"Every Cake, Neil\"], \"jitter\": 0, \"legendgroup\": \"\", \"line\": {\"color\": \"rgba(255,255,255,0)\"}, \"marker\": {\"color\": \"#0d0887\", \"symbol\": \"line-ns-open\"}, \"name\": \"\", \"offsetgroup\": \"\", \"showlegend\": false, \"type\": \"box\", \"x\": [2021.0, 2020.0, 2019.0, 2018.0, 2018.0, 2018.0, 2018.0, 2018.0, 2018.0, 2017.0, 2017.0, 2017.0, 2017.0, 2016.0, 2016.0, 2016.0, 2016.0, 2015.0, 2015.0, 2015.0, 2014.0, 2014.0, 2014.0, 2013.0, 2013.0, 1999.0, 2012.0, 2012.0, 2012.0, 2011.0, 2011.0, 2011.0, 2011.0, 2011.0, 2011.0, 2010.0, 2010.0, 2009.0, 2009.0, 1999.0, 2007.0, 2007.0, 2006.0, 2006.0, 2005.0, 2005.0, 2004.0, 2004.0, 2004.0, 1997.0, 2004.0, 2003.0, 2003.0, 2001.0, 2001.0, 1994.0, 2000.0, 2000.0, 2000.0, 1999.0, 1999.0, 1999.0, 1994.0, 1998.0, 1997.0, 1997.0, 1995.0, 1995.0, 1995.0, 1994.0, 1994.0, 1994.0, 1993.0, 1993.0, 1993.0, 1993.0, 1991.0, 1991.0, 1990.0, 1987.0, 1990.0, 1988.0, 1983.0, 1986.0, 1986.0, 1986.0, 1985.0, 1985.0, 1985.0, 1984.0, 1981.0, 1988.0, 2018.0, 2018.0, 2013.0, 2007.0, 2018.0, 2017.0, 1994.0, 2017.0, 2014.0, 1988.0, 2004.0, 2011.0, 2016.0, 2013.0, 2015.0, 2014.0, 2012.0, 2015.0, 2000.0, 2015.0, 1997.0, 2013.0, 2010.0, 2007.0, 2009.0, 2012.0, 2013.0, 2012.0, 2012.0, 2012.0, 2012.0, 1982.0, 2007.0, 2011.0, 2011.0, 2011.0, 2007.0, 2010.0, 2010.0, 2009.0, 1989.0, 1992.0, 2009.0, 1987.0, 2008.0, 1996.0, 2008.0, 2008.0, 1996.0, 2008.0, 2003.0, 2007.0, 2007.0, 2007.0, 2004.0, 1981.0, 2007.0, 2006.0, 1997.0, 2003.0, 2005.0, 1996.0, 2005.0, 2005.0, 2005.0, 2005.0, 2005.0, 2005.0, 2004.0, 2003.0, 2003.0, 2003.0, 2002.0, 2002.0, 2002.0, 2001.0, 2001.0, 2000.0, 1997.0, 1996.0, 1995.0, 1981.0, 2018.0, 2017.0, 2017.0, 2013.0, 2017.0, 2014.0, 2007.0, 2017.0, 2017.0, 1994.0, 2004.0, 2003.0, 2003.0, 2016.0, 2016.0, 2016.0, 1996.0, 2016.0, 2016.0, 1995.0, 2016.0, 2004.0, 1985.0, 2015.0, 2007.0, 2014.0, 2014.0, 2014.0, 2014.0, 2014.0, 2014.0, 2014.0, 2005.0, 2007.0, 2014.0, 1993.0, 1991.0, 2014.0, 2014.0, 2013.0, 2013.0, 2013.0, 2013.0, 2012.0, 1997.0, 2010.0, 2012.0, 1991.0, 2013.0, 2013.0, 2013.0, 2013.0, 2012.0, 2012.0, 2005.0, 2012.0, 2012.0, 2010.0, 2012.0, 2012.0, 2012.0, 2005.0, 2012.0, 2012.0, 2012.0, 2011.0, 1981.0, 2004.0, 2011.0, 2011.0, 2011.0, 2011.0, 1984.0, 2005.0, 2000.0, 1986.0, 2010.0, 2011.0, 2011.0, 2011.0, 2011.0, 2011.0, 2011.0, 2009.0, 2009.0, 2004.0, 2011.0, 2011.0, 2011.0, 2010.0, 2010.0, 2010.0, 2010.0, 2002.0, 1993.0, 2001.0, 2007.0, 2010.0, 2009.0, 2009.0, 2009.0, 2009.0, 2009.0, 2009.0, 2009.0, 2009.0, 1992.0, 1992.0, 2005.0, 2009.0, 2009.0, 2008.0, 2008.0, 2008.0, 2007.0, 2008.0, 2008.0, 2008.0, 1988.0, 2008.0, 2007.0, 1990.0, 2007.0, 2007.0, 2007.0, 2007.0, 2007.0, 2002.0, 2007.0, 2007.0, 2007.0, 2007.0, 2006.0, 2006.0, 2006.0, 2006.0, 2006.0, 2006.0, 2006.0, 2006.0, 2006.0, 2006.0, 2006.0, 2006.0, 2006.0, 2006.0, 2006.0, 2006.0, 2006.0, 2006.0, 2006.0, 2006.0, 2006.0, 2006.0, 2006.0, 2006.0, 2005.0, 2005.0, 1996.0, 2004.0, 1997.0, 2005.0, 2005.0, 2004.0, 1996.0, 1992.0, 2000.0, 2005.0, 2000.0, 2005.0, 1992.0, 2005.0, 2005.0, 2005.0, 2005.0, 2005.0, 2005.0, 2005.0, 2005.0, 2005.0, 2005.0, 2005.0, 2005.0, 2005.0, 2004.0, 1996.0, 2004.0, 2004.0, 2004.0, 2004.0, 2004.0, 2004.0, 2004.0, 1998.0, 2004.0, 2001.0, 2004.0, 2004.0, 2004.0, 2004.0, 2004.0, 2004.0, 2003.0, 2003.0, 2003.0, 2003.0, 1997.0, 2003.0, 2003.0, 2003.0, 2003.0, 2003.0, 2003.0, 1998.0, 2002.0, 1994.0, 2002.0, 2002.0, 2002.0, 2002.0, 2002.0, 2001.0, 2001.0, 2001.0, 2000.0, 2000.0, 2000.0, 1996.0, 2000.0, 1996.0, 1999.0, 1999.0, 1999.0, 1999.0, 1998.0, 1989.0, 1998.0, 1998.0, 1997.0, 1997.0, 1997.0, 1987.0, 1984.0, 1995.0, 1984.0, 1995.0, 1995.0, 1991.0, 1995.0, 1995.0, 1989.0, 1994.0, 1987.0, 1991.0, 1991.0, 1990.0, 1990.0, 1990.0, 1989.0, 1999.0, 2020.0, 2017.0, 2015.0, 2014.0, 2013.0, 2012.0, 2011.0, 2011.0, 2017.0, 2017.0, 2017.0, 2010.0, 2013.0, 2012.0, 2012.0, 2011.0, 2010.0, 2010.0, 2010.0, 2009.0, 2008.0, 2005.0, 2002.0, 2000.0, 1998.0, 2017.0, 2012.0, 2014.0, 2013.0, 2012.0, 2012.0, 2012.0, 2011.0, 2007.0, 2007.0, 2003.0, 2003.0, 2000.0, 2016.0, 2009.0, 2008.0, 2001.0, 2001.0, 1997.0, 1994.0, 1994.0, 1993.0, 1988.0, 2014.0, 2009.0, 1997.0, 1988.0], \"xaxis\": \"x3\", \"yaxis\": \"y3\"}, {\"alignmentgroup\": \"True\", \"bingroup\": \"y\", \"hoverlabel\": {\"namelength\": 0}, \"hovertemplate\": \"rating=%{y}<br>count=%{x}\", \"legendgroup\": \"\", \"marker\": {\"color\": \"#0d0887\"}, \"name\": \"\", \"offsetgroup\": \"\", \"opacity\": 0.5, \"showlegend\": false, \"type\": \"histogram\", \"xaxis\": \"x2\", \"y\": [null, null, 6.3, 6.3, 6.6, 6.7, 4.3, 7.4, 5.1, 6.5, 7.3, 6.6, 5.2, 7.3, 6.2, 5.9, 4.3, 6.9, 7.2, 5.5, 5.9, 5.3, 6.3, 6.1, 6.4, 8.1, 8.1, 6.2, 7.2, 7.5, 3.3, 6.2, 7.7, 6.6, 7.2, 6.0, 6.4, 7.0, 6.8, 8.1, 7.3, 7.1, 7.3, 7.8, 7.3, 6.6, 6.3, 7.7, 6.5, 7.3, 6.6, 6.4, 8.0, 6.8, 7.6, 8.1, 7.2, 7.2, 6.2, 7.3, 5.4, 6.7, 7.9, 7.6, 6.3, 7.7, 7.1, 6.3, 7.6, 5.4, 6.7, 7.8, 7.8, 7.2, 4.9, 7.4, 4.9, 7.5, 7.9, 7.2, 6.5, 7.1, 6.3, 7.0, 8.1, 5.0, 7.3, 6.3, 5.3, 7.5, 3.6, 3.9, null, 9.2, 5.0, 8.4, null, 7.4, 3.5, 6.4, 3.5, 4.7, 2.6, 6.8, null, 6.9, null, 6.8, 8.2, 7.9, 4.4, 5.8, 2.6, null, 6.6, 7.8, null, 8.2, 7.6, null, 7.1, 8.1, 7.7, 4.1, 8.9, 6.3, 8.1, 8.3, 6.8, 5.5, 8.7, 2.6, 8.9, 4.2, 2.0, 7.7, 8.8, 6.6, 5.8, 6.8, 3.5, 5.6, 8.3, 4.0, null, null, 5.5, 5.1, 6.9, 7.3, 3.7, 6.2, 7.3, 4.4, 7.2, 6.3, 7.7, 8.2, 7.0, 7.1, 4.1, 5.7, 7.2, 4.9, 5.2, 7.2, 4.0, 7.2, 7.4, 7.1, 7.3, 7.6, 8.5, 3.6, 7.2, null, 7.6, 5.0, 7.4, 3.5, 8.4, 7.0, 7.4, 3.5, 2.6, 7.1, 6.7, 7.3, null, null, 3.2, 7.1, 6.4, 4.2, 7.0, 6.8, 7.5, null, 6.1, 8.4, 7.8, 4.6, null, 6.4, null, 8.3, 4.3, 4.3, 5.7, 6.8, 4.4, 8.5, 7.2, null, null, null, 6.3, 4.9, 2.6, 3.1, 4.0, 7.5, 6.7, 7.0, null, 6.3, 7.0, 6.1, 8.0, null, 4.8, 5.8, 6.9, 7.0, 7.1, 7.5, 6.8, 7.9, 7.1, 7.7, 5.1, 5.7, 6.6, null, null, null, 5.9, 7.7, 5.3, 5.1, 6.7, 6.8, 6.3, null, null, null, null, 5.0, 3.0, 5.7, 7.4, 6.9, 7.2, 6.6, 7.2, 7.6, 6.1, 4.3, 3.9, 7.3, 3.0, 6.8, 7.6, 8.1, 7.9, 8.0, 8.1, 6.8, 7.4, 6.4, 3.6, 6.0, 6.0, 7.7, 7.6, 7.7, 5.8, 5.9, 8.3, 8.7, 6.9, 7.7, 4.9, null, null, 5.8, 7.4, 7.2, 7.8, 7.3, 8.6, 5.4, 7.9, 8.2, 7.6, 6.6, 7.9, 6.8, 6.9, 6.0, null, null, null, 8.2, 7.8, 8.0, 8.1, 8.0, 7.3, 4.5, 3.0, 4.2, 7.7, 6.5, 7.7, 7.6, 5.9, 7.2, 6.4, 4.8, 8.3, 8.1, 6.6, 8.0, 3.7, 7.4, 7.1, 5.5, 4.4, 6.0, 6.5, 7.7, 6.6, 6.8, 5.2, 8.1, 7.2, 5.3, 7.8, 7.3, 7.3, 6.2, null, 6.3, 6.0, 6.3, 3.2, 8.1, 7.4, 7.7, null, null, null, 6.8, 6.4, 6.4, 5.1, 4.8, 4.4, 4.0, 2.4, 6.8, 6.7, 6.2, 6.4, 5.9, 7.8, 8.4, 7.6, 7.5, 3.5, 8.0, 5.3, 8.2, 7.7, 6.9, 6.8, 6.4, 5.3, 8.6, 6.5, null, 6.8, 8.0, 7.4, 7.3, 6.4, 6.6, 7.7, 7.3, 7.5, 3.8, 8.1, 4.0, 6.1, 6.1, 6.4, 7.4, 7.3, 6.3, 6.2, 8.0, null, 4.0, 5.2, null, 6.6, 7.8, 4.7, null, null, 4.2, 8.3, 6.7, 8.9, 6.2, 5.0, 5.8, 7.4, 6.8, null, null, 6.0, 8.6, null, 6.5, 5.5, 7.8, 6.4, 6.2, 6.2, 7.5, null, null, 4.7, 6.6, 7.0, 7.8, 6.1, 8.1, null, 6.7, 7.6, 5.2, 3.5, 6.5, 7.4, 7.7, 6.2, 7.4, 7.0, 5.9, 6.4, 4.8, 6.2, 7.9, 6.2, 7.8, 7.3, 6.4, 8.0, 7.2, 5.0, 6.1, 6.1, 7.4, null, 6.3, 5.4, null, 7.2, null, 7.8, 6.1, 6.3, null], \"yaxis\": \"y2\"}],\n",
       "                        {\"barmode\": \"overlay\", \"coloraxis\": {\"colorbar\": {\"title\": {\"text\": \"count\"}}, \"colorscale\": [[0.0, \"#0d0887\"], [0.1111111111111111, \"#46039f\"], [0.2222222222222222, \"#7201a8\"], [0.3333333333333333, \"#9c179e\"], [0.4444444444444444, \"#bd3786\"], [0.5555555555555556, \"#d8576b\"], [0.6666666666666666, \"#ed7953\"], [0.7777777777777778, \"#fb9f3a\"], [0.8888888888888888, \"#fdca26\"], [1.0, \"#f0f921\"]]}, \"height\": 600, \"legend\": {\"tracegroupgap\": 0}, \"template\": {\"data\": {\"bar\": [{\"error_x\": {\"color\": \"#2a3f5f\"}, \"error_y\": {\"color\": \"#2a3f5f\"}, \"marker\": {\"line\": {\"color\": \"#E5ECF6\", \"width\": 0.5}}, \"type\": \"bar\"}], \"barpolar\": [{\"marker\": {\"line\": {\"color\": \"#E5ECF6\", \"width\": 0.5}}, \"type\": \"barpolar\"}], \"carpet\": [{\"aaxis\": {\"endlinecolor\": \"#2a3f5f\", \"gridcolor\": \"white\", \"linecolor\": \"white\", \"minorgridcolor\": \"white\", \"startlinecolor\": \"#2a3f5f\"}, \"baxis\": {\"endlinecolor\": \"#2a3f5f\", \"gridcolor\": \"white\", \"linecolor\": \"white\", \"minorgridcolor\": \"white\", \"startlinecolor\": \"#2a3f5f\"}, \"type\": \"carpet\"}], \"choropleth\": [{\"colorbar\": {\"outlinewidth\": 0, \"ticks\": \"\"}, \"type\": \"choropleth\"}], \"contour\": [{\"colorbar\": {\"outlinewidth\": 0, \"ticks\": \"\"}, \"colorscale\": [[0.0, \"#0d0887\"], [0.1111111111111111, \"#46039f\"], [0.2222222222222222, \"#7201a8\"], [0.3333333333333333, \"#9c179e\"], [0.4444444444444444, \"#bd3786\"], [0.5555555555555556, \"#d8576b\"], [0.6666666666666666, \"#ed7953\"], [0.7777777777777778, \"#fb9f3a\"], [0.8888888888888888, \"#fdca26\"], [1.0, \"#f0f921\"]], \"type\": \"contour\"}], \"contourcarpet\": [{\"colorbar\": {\"outlinewidth\": 0, \"ticks\": \"\"}, \"type\": \"contourcarpet\"}], \"heatmap\": [{\"colorbar\": {\"outlinewidth\": 0, \"ticks\": \"\"}, \"colorscale\": [[0.0, \"#0d0887\"], [0.1111111111111111, \"#46039f\"], [0.2222222222222222, \"#7201a8\"], [0.3333333333333333, \"#9c179e\"], [0.4444444444444444, \"#bd3786\"], [0.5555555555555556, \"#d8576b\"], [0.6666666666666666, \"#ed7953\"], [0.7777777777777778, \"#fb9f3a\"], [0.8888888888888888, \"#fdca26\"], [1.0, \"#f0f921\"]], \"type\": \"heatmap\"}], \"heatmapgl\": [{\"colorbar\": {\"outlinewidth\": 0, \"ticks\": \"\"}, \"colorscale\": [[0.0, \"#0d0887\"], [0.1111111111111111, \"#46039f\"], [0.2222222222222222, \"#7201a8\"], [0.3333333333333333, \"#9c179e\"], [0.4444444444444444, \"#bd3786\"], [0.5555555555555556, \"#d8576b\"], [0.6666666666666666, \"#ed7953\"], [0.7777777777777778, \"#fb9f3a\"], [0.8888888888888888, \"#fdca26\"], [1.0, \"#f0f921\"]], \"type\": \"heatmapgl\"}], \"histogram\": [{\"marker\": {\"colorbar\": {\"outlinewidth\": 0, \"ticks\": \"\"}}, \"type\": \"histogram\"}], \"histogram2d\": [{\"colorbar\": {\"outlinewidth\": 0, \"ticks\": \"\"}, \"colorscale\": [[0.0, \"#0d0887\"], [0.1111111111111111, \"#46039f\"], [0.2222222222222222, \"#7201a8\"], [0.3333333333333333, \"#9c179e\"], [0.4444444444444444, \"#bd3786\"], [0.5555555555555556, \"#d8576b\"], [0.6666666666666666, \"#ed7953\"], [0.7777777777777778, \"#fb9f3a\"], [0.8888888888888888, \"#fdca26\"], [1.0, \"#f0f921\"]], \"type\": \"histogram2d\"}], \"histogram2dcontour\": [{\"colorbar\": {\"outlinewidth\": 0, \"ticks\": \"\"}, \"colorscale\": [[0.0, \"#0d0887\"], [0.1111111111111111, \"#46039f\"], [0.2222222222222222, \"#7201a8\"], [0.3333333333333333, \"#9c179e\"], [0.4444444444444444, \"#bd3786\"], [0.5555555555555556, \"#d8576b\"], [0.6666666666666666, \"#ed7953\"], [0.7777777777777778, \"#fb9f3a\"], [0.8888888888888888, \"#fdca26\"], [1.0, \"#f0f921\"]], \"type\": \"histogram2dcontour\"}], \"mesh3d\": [{\"colorbar\": {\"outlinewidth\": 0, \"ticks\": \"\"}, \"type\": \"mesh3d\"}], \"parcoords\": [{\"line\": {\"colorbar\": {\"outlinewidth\": 0, \"ticks\": \"\"}}, \"type\": \"parcoords\"}], \"pie\": [{\"automargin\": true, \"type\": \"pie\"}], \"scatter\": [{\"marker\": {\"colorbar\": {\"outlinewidth\": 0, \"ticks\": \"\"}}, \"type\": \"scatter\"}], \"scatter3d\": [{\"line\": {\"colorbar\": {\"outlinewidth\": 0, \"ticks\": \"\"}}, \"marker\": {\"colorbar\": {\"outlinewidth\": 0, \"ticks\": \"\"}}, \"type\": \"scatter3d\"}], \"scattercarpet\": [{\"marker\": {\"colorbar\": {\"outlinewidth\": 0, \"ticks\": \"\"}}, \"type\": \"scattercarpet\"}], \"scattergeo\": [{\"marker\": {\"colorbar\": {\"outlinewidth\": 0, \"ticks\": \"\"}}, \"type\": \"scattergeo\"}], \"scattergl\": [{\"marker\": {\"colorbar\": {\"outlinewidth\": 0, \"ticks\": \"\"}}, \"type\": \"scattergl\"}], \"scattermapbox\": [{\"marker\": {\"colorbar\": {\"outlinewidth\": 0, \"ticks\": \"\"}}, \"type\": \"scattermapbox\"}], \"scatterpolar\": [{\"marker\": {\"colorbar\": {\"outlinewidth\": 0, \"ticks\": \"\"}}, \"type\": \"scatterpolar\"}], \"scatterpolargl\": [{\"marker\": {\"colorbar\": {\"outlinewidth\": 0, \"ticks\": \"\"}}, \"type\": \"scatterpolargl\"}], \"scatterternary\": [{\"marker\": {\"colorbar\": {\"outlinewidth\": 0, \"ticks\": \"\"}}, \"type\": \"scatterternary\"}], \"surface\": [{\"colorbar\": {\"outlinewidth\": 0, \"ticks\": \"\"}, \"colorscale\": [[0.0, \"#0d0887\"], [0.1111111111111111, \"#46039f\"], [0.2222222222222222, \"#7201a8\"], [0.3333333333333333, \"#9c179e\"], [0.4444444444444444, \"#bd3786\"], [0.5555555555555556, \"#d8576b\"], [0.6666666666666666, \"#ed7953\"], [0.7777777777777778, \"#fb9f3a\"], [0.8888888888888888, \"#fdca26\"], [1.0, \"#f0f921\"]], \"type\": \"surface\"}], \"table\": [{\"cells\": {\"fill\": {\"color\": \"#EBF0F8\"}, \"line\": {\"color\": \"white\"}}, \"header\": {\"fill\": {\"color\": \"#C8D4E3\"}, \"line\": {\"color\": \"white\"}}, \"type\": \"table\"}]}, \"layout\": {\"annotationdefaults\": {\"arrowcolor\": \"#2a3f5f\", \"arrowhead\": 0, \"arrowwidth\": 1}, \"coloraxis\": {\"colorbar\": {\"outlinewidth\": 0, \"ticks\": \"\"}}, \"colorscale\": {\"diverging\": [[0, \"#8e0152\"], [0.1, \"#c51b7d\"], [0.2, \"#de77ae\"], [0.3, \"#f1b6da\"], [0.4, \"#fde0ef\"], [0.5, \"#f7f7f7\"], [0.6, \"#e6f5d0\"], [0.7, \"#b8e186\"], [0.8, \"#7fbc41\"], [0.9, \"#4d9221\"], [1, \"#276419\"]], \"sequential\": [[0.0, \"#0d0887\"], [0.1111111111111111, \"#46039f\"], [0.2222222222222222, \"#7201a8\"], [0.3333333333333333, \"#9c179e\"], [0.4444444444444444, \"#bd3786\"], [0.5555555555555556, \"#d8576b\"], [0.6666666666666666, \"#ed7953\"], [0.7777777777777778, \"#fb9f3a\"], [0.8888888888888888, \"#fdca26\"], [1.0, \"#f0f921\"]], \"sequentialminus\": [[0.0, \"#0d0887\"], [0.1111111111111111, \"#46039f\"], [0.2222222222222222, \"#7201a8\"], [0.3333333333333333, \"#9c179e\"], [0.4444444444444444, \"#bd3786\"], [0.5555555555555556, \"#d8576b\"], [0.6666666666666666, \"#ed7953\"], [0.7777777777777778, \"#fb9f3a\"], [0.8888888888888888, \"#fdca26\"], [1.0, \"#f0f921\"]]}, \"colorway\": [\"#636efa\", \"#EF553B\", \"#00cc96\", \"#ab63fa\", \"#FFA15A\", \"#19d3f3\", \"#FF6692\", \"#B6E880\", \"#FF97FF\", \"#FECB52\"], \"font\": {\"color\": \"#2a3f5f\"}, \"geo\": {\"bgcolor\": \"white\", \"lakecolor\": \"white\", \"landcolor\": \"#E5ECF6\", \"showlakes\": true, \"showland\": true, \"subunitcolor\": \"white\"}, \"hoverlabel\": {\"align\": \"left\"}, \"hovermode\": \"closest\", \"mapbox\": {\"style\": \"light\"}, \"paper_bgcolor\": \"white\", \"plot_bgcolor\": \"#E5ECF6\", \"polar\": {\"angularaxis\": {\"gridcolor\": \"white\", \"linecolor\": \"white\", \"ticks\": \"\"}, \"bgcolor\": \"#E5ECF6\", \"radialaxis\": {\"gridcolor\": \"white\", \"linecolor\": \"white\", \"ticks\": \"\"}}, \"scene\": {\"xaxis\": {\"backgroundcolor\": \"#E5ECF6\", \"gridcolor\": \"white\", \"gridwidth\": 2, \"linecolor\": \"white\", \"showbackground\": true, \"ticks\": \"\", \"zerolinecolor\": \"white\"}, \"yaxis\": {\"backgroundcolor\": \"#E5ECF6\", \"gridcolor\": \"white\", \"gridwidth\": 2, \"linecolor\": \"white\", \"showbackground\": true, \"ticks\": \"\", \"zerolinecolor\": \"white\"}, \"zaxis\": {\"backgroundcolor\": \"#E5ECF6\", \"gridcolor\": \"white\", \"gridwidth\": 2, \"linecolor\": \"white\", \"showbackground\": true, \"ticks\": \"\", \"zerolinecolor\": \"white\"}}, \"shapedefaults\": {\"line\": {\"color\": \"#2a3f5f\"}}, \"ternary\": {\"aaxis\": {\"gridcolor\": \"white\", \"linecolor\": \"white\", \"ticks\": \"\"}, \"baxis\": {\"gridcolor\": \"white\", \"linecolor\": \"white\", \"ticks\": \"\"}, \"bgcolor\": \"#E5ECF6\", \"caxis\": {\"gridcolor\": \"white\", \"linecolor\": \"white\", \"ticks\": \"\"}}, \"title\": {\"x\": 0.05}, \"xaxis\": {\"automargin\": true, \"gridcolor\": \"white\", \"linecolor\": \"white\", \"ticks\": \"\", \"title\": {\"standoff\": 15}, \"zerolinecolor\": \"white\", \"zerolinewidth\": 2}, \"yaxis\": {\"automargin\": true, \"gridcolor\": \"white\", \"linecolor\": \"white\", \"ticks\": \"\", \"title\": {\"standoff\": 15}, \"zerolinecolor\": \"white\", \"zerolinewidth\": 2}}}, \"title\": {\"text\": \"Depp's Filmogrophy Rating's by Year\"}, \"xaxis\": {\"anchor\": \"y\", \"domain\": [0.0, 0.7363], \"title\": {\"text\": \"year\"}}, \"xaxis2\": {\"anchor\": \"y2\", \"domain\": [0.7413, 1.0], \"matches\": \"x2\", \"showgrid\": true, \"showline\": false, \"showticklabels\": false, \"ticks\": \"\"}, \"xaxis3\": {\"anchor\": \"y3\", \"domain\": [0.0, 0.7363], \"matches\": \"x\", \"showgrid\": true, \"showticklabels\": false}, \"xaxis4\": {\"anchor\": \"y4\", \"domain\": [0.7413, 1.0], \"matches\": \"x2\", \"showgrid\": true, \"showline\": false, \"showticklabels\": false, \"ticks\": \"\"}, \"yaxis\": {\"anchor\": \"x\", \"domain\": [0.0, 0.8316], \"title\": {\"text\": \"rating\"}}, \"yaxis2\": {\"anchor\": \"x2\", \"domain\": [0.0, 0.8316], \"matches\": \"y\", \"showgrid\": true, \"showticklabels\": false}, \"yaxis3\": {\"anchor\": \"x3\", \"domain\": [0.8416, 1.0], \"matches\": \"y3\", \"showgrid\": false, \"showline\": false, \"showticklabels\": false, \"ticks\": \"\"}, \"yaxis4\": {\"anchor\": \"x4\", \"domain\": [0.8416, 1.0], \"matches\": \"y3\", \"showgrid\": true, \"showline\": false, \"showticklabels\": false, \"ticks\": \"\"}},\n",
       "                        {\"responsive\": true}\n",
       "                    ).then(function(){\n",
       "                            \n",
       "var gd = document.getElementById('d0c6e4a7-5c3e-4387-83ff-1c1f8102904d');\n",
       "var x = new MutationObserver(function (mutations, observer) {{\n",
       "        var display = window.getComputedStyle(gd).display;\n",
       "        if (!display || display === 'none') {{\n",
       "            console.log([gd, 'removed!']);\n",
       "            Plotly.purge(gd);\n",
       "            observer.disconnect();\n",
       "        }}\n",
       "}});\n",
       "\n",
       "// Listen for the removal of the full notebook cells\n",
       "var notebookContainer = gd.closest('#notebook-container');\n",
       "if (notebookContainer) {{\n",
       "    x.observe(notebookContainer, {childList: true});\n",
       "}}\n",
       "\n",
       "// Listen for the clearing of the current output cell\n",
       "var outputEl = gd.closest('.output');\n",
       "if (outputEl) {{\n",
       "    x.observe(outputEl, {childList: true});\n",
       "}}\n",
       "\n",
       "                        })\n",
       "                };\n",
       "                });\n",
       "            </script>\n",
       "        </div>"
      ]
     },
     "metadata": {},
     "output_type": "display_data"
    }
   ],
   "source": [
    "fig = px.density_heatmap(actor_df, x=\"year\", y=\"rating\", marginal_x=\"rug\", marginal_y=\"histogram\"\n",
    "                        ,hover_name=\"title\", title = \"Depp's Filmogrophy Rating's by Year\")\n",
    "fig.show()"
   ]
  },
  {
   "cell_type": "code",
   "execution_count": 28,
   "metadata": {},
   "outputs": [],
   "source": [
    "#py.plot(fig, filename = 'Filmogrophy_Ratings_by_Year', auto_open=True)"
   ]
  },
  {
   "cell_type": "markdown",
   "metadata": {},
   "source": [
    "## Other resources!"
   ]
  },
  {
   "cell_type": "markdown",
   "metadata": {},
   "source": [
    "This assignment doesn't have a restriction on where you can look for data.\n",
    "Further, we don't mind how you collect the data, or what data you collect.\n",
    "\n",
    "Here are some additional resources for this example, and you can customize it for your own!\n",
    "* Arnold Schwarzenegger Kill Count: https://www.youtube.com/watch?v=OE6jpTaOYMU\n",
    "* Arnold Schwarzenegger Top Quotes: https://www.youtube.com/watch?v=pDxn0Xfqkgw\n",
    "\n",
    "You could think about the IMDB network as a graph, with different actors connected through movies.\n",
    "\n",
    "Some other useful libraries/ databases:\n",
    "* IMDBPy\n",
    "* http://www.omdbapi.com/"
   ]
  }
 ],
 "metadata": {
  "kernelspec": {
   "display_name": "Python 3",
   "language": "python",
   "name": "python3"
  },
  "language_info": {
   "codemirror_mode": {
    "name": "ipython",
    "version": 3
   },
   "file_extension": ".py",
   "mimetype": "text/x-python",
   "name": "python",
   "nbconvert_exporter": "python",
   "pygments_lexer": "ipython3",
   "version": "3.6.7"
  }
 },
 "nbformat": 4,
 "nbformat_minor": 2
}
